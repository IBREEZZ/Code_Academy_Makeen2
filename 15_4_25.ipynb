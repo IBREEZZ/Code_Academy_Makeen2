{
  "nbformat": 4,
  "nbformat_minor": 0,
  "metadata": {
    "colab": {
      "provenance": [],
      "authorship_tag": "ABX9TyPp+0LFgdAOGDq7yOV69k8m",
      "include_colab_link": true
    },
    "kernelspec": {
      "name": "python3",
      "display_name": "Python 3"
    },
    "language_info": {
      "name": "python"
    }
  },
  "cells": [
    {
      "cell_type": "markdown",
      "metadata": {
        "id": "view-in-github",
        "colab_type": "text"
      },
      "source": [
        "<a href=\"https://colab.research.google.com/github/IBREEZZ/Problem_Solving/blob/main/15_4_25.ipynb\" target=\"_parent\"><img src=\"https://colab.research.google.com/assets/colab-badge.svg\" alt=\"Open In Colab\"/></a>"
      ]
    },
    {
      "cell_type": "markdown",
      "source": [
        "**print function**"
      ],
      "metadata": {
        "id": "TE_P588PMd9C"
      }
    },
    {
      "cell_type": "code",
      "execution_count": 2,
      "metadata": {
        "colab": {
          "base_uri": "https://localhost:8080/"
        },
        "id": "TXwnWKZWBcQO",
        "outputId": "1484a323-49fa-4476-8bd5-888a94fdbba3"
      },
      "outputs": [
        {
          "output_type": "stream",
          "name": "stdout",
          "text": [
            "Hello World \n"
          ]
        }
      ],
      "source": [
        "print('Hello World ')"
      ]
    },
    {
      "cell_type": "markdown",
      "source": [
        "**variable**\n",
        "- name storage loction in computer program"
      ],
      "metadata": {
        "id": "2IIsTKOyMh-l"
      }
    },
    {
      "cell_type": "code",
      "source": [
        "name = 'IBREEZ'\n",
        "print(name)"
      ],
      "metadata": {
        "colab": {
          "base_uri": "https://localhost:8080/"
        },
        "id": "6u9tvdiMMvyI",
        "outputId": "2fa2bd3a-8088-4736-f890-db4816979eca"
      },
      "execution_count": 3,
      "outputs": [
        {
          "output_type": "stream",
          "name": "stdout",
          "text": [
            "IBREEZ\n"
          ]
        }
      ]
    },
    {
      "cell_type": "markdown",
      "source": [
        "**Data Type:**\n",
        "  - integer\n",
        "  - float\n",
        "  - String (be between question mark)\n"
      ],
      "metadata": {
        "id": "nogJNXWiOBNd"
      }
    },
    {
      "cell_type": "markdown",
      "source": [
        "**Soda Deal**"
      ],
      "metadata": {
        "id": "GokbPOisRT1_"
      }
    },
    {
      "cell_type": "code",
      "source": [
        "cans= 0.355\n",
        "print(cans)\n",
        "\n",
        "x=6*0.355\n",
        "print(x)\n",
        "\n",
        "y=2\n",
        "print (y)\n",
        "\n",
        "# the cans because more litter with less price"
      ],
      "metadata": {
        "colab": {
          "base_uri": "https://localhost:8080/"
        },
        "id": "3pk-6mySQAUX",
        "outputId": "a5d42664-8be8-490b-addc-a71b12aee80c"
      },
      "execution_count": 7,
      "outputs": [
        {
          "output_type": "stream",
          "name": "stdout",
          "text": [
            "0.355\n",
            "2.13\n",
            "2\n"
          ]
        }
      ]
    },
    {
      "cell_type": "code",
      "source": [
        "canPerPack= 6 # \"=\" assignment statment"
      ],
      "metadata": {
        "id": "T5kviAapR_RW"
      },
      "execution_count": 8,
      "outputs": []
    },
    {
      "cell_type": "code",
      "source": [
        "count = 0\n",
        "count = count + 1\n",
        "#print(count)\n",
        "count = count + 1\n",
        "print(count)"
      ],
      "metadata": {
        "colab": {
          "base_uri": "https://localhost:8080/"
        },
        "id": "pAMhtRB7T66V",
        "outputId": "54f7bedb-aa5d-474f-e3c0-e323eab795a8"
      },
      "execution_count": 11,
      "outputs": [
        {
          "output_type": "stream",
          "name": "stdout",
          "text": [
            "2\n"
          ]
        }
      ]
    },
    {
      "cell_type": "markdown",
      "source": [
        "**Name the variable**\n",
        "- you can not start name with number\n",
        "- you can not use symbols\n",
        "- spaces is not allowed\n",
        "- _ is allowed\n",
        "- don't use reserved python word(list,print,imprt,let,.....)\n",
        "-- **use decriptiv name for the value**"
      ],
      "metadata": {
        "id": "gt4C97hTVvIW"
      }
    },
    {
      "cell_type": "code",
      "source": [
        "name=\"Qusey\"\n",
        "print(name)"
      ],
      "metadata": {
        "colab": {
          "base_uri": "https://localhost:8080/"
        },
        "id": "-vQkNXX2V30r",
        "outputId": "a5b7f753-23a3-4e24-a3b5-f4963f4492fc"
      },
      "execution_count": 12,
      "outputs": [
        {
          "output_type": "stream",
          "name": "stdout",
          "text": [
            "Qusey\n"
          ]
        }
      ]
    },
    {
      "cell_type": "code",
      "source": [
        "#you can not start name with number\n",
        "#01name=\"Ali\"\n",
        "#print(01name)"
      ],
      "metadata": {
        "id": "2lILGzjVWA0P"
      },
      "execution_count": 16,
      "outputs": []
    },
    {
      "cell_type": "code",
      "source": [
        "#you can not use symbols\n",
        "#name=\"Ahmed\"\n",
        "#print(name&)"
      ],
      "metadata": {
        "id": "-BxvhNqJWH6t"
      },
      "execution_count": 17,
      "outputs": []
    },
    {
      "cell_type": "code",
      "source": [
        "#canVolume1 # T\n",
        "#x # T\n",
        "#CanVolume # T (beter to start with small letter / if ther word sane start with small lettel will be diffrent value than this one)\n",
        "#6pack # F (start with number)\n",
        "#can volume # F (have space)\n",
        "#class # F (have symbols)\n",
        "#ltr/1.fz # F (have symbols)"
      ],
      "metadata": {
        "id": "KwJAXFzQX9qp"
      },
      "execution_count": 19,
      "outputs": []
    },
    {
      "cell_type": "markdown",
      "source": [
        "**Constants**\n",
        "- make it all word capter letter"
      ],
      "metadata": {
        "id": "-fSnqHH-aMwb"
      }
    },
    {
      "cell_type": "code",
      "source": [
        "PRICE = 5\n",
        "print(PRICE)"
      ],
      "metadata": {
        "colab": {
          "base_uri": "https://localhost:8080/"
        },
        "id": "YOsy2VM3aZKR",
        "outputId": "f8a23ab4-9139-4d45-8e8a-760a0af4aba8"
      },
      "execution_count": 20,
      "outputs": [
        {
          "output_type": "stream",
          "name": "stdout",
          "text": [
            "5\n"
          ]
        }
      ]
    },
    {
      "cell_type": "markdown",
      "source": [
        "**Comment**\n",
        "- it for explin\n",
        "- not print\n",
        "- use the #\n",
        "- in long text ''' ............ '''\n",
        "- use ctrl + / (to comment multiple line)"
      ],
      "metadata": {
        "id": "dKIiZVmUa40h"
      }
    },
    {
      "cell_type": "markdown",
      "source": [],
      "metadata": {
        "id": "QOvz-HQ1evmq"
      }
    },
    {
      "cell_type": "code",
      "source": [
        "pack = 6\n",
        "cans = 12\n",
        "bottle = 2\n",
        "fluid12 = 0.355 #this for 1 cans which 12\n",
        "\n",
        "numCanPerPack = pack * fluid12 #total litter for cans in 6 pack\n",
        "\n",
        "if numCanPerPack > bottle:\n",
        "  print(numCanPerPack)\n",
        "\n",
        "else:\n",
        "  print(bottle)"
      ],
      "metadata": {
        "colab": {
          "base_uri": "https://localhost:8080/"
        },
        "id": "910i043KcS5u",
        "outputId": "18fa98b1-6542-42e7-e761-273fb03cc7a8"
      },
      "execution_count": 26,
      "outputs": [
        {
          "output_type": "stream",
          "name": "stdout",
          "text": [
            "2.13\n"
          ]
        }
      ]
    },
    {
      "cell_type": "markdown",
      "source": [
        "Arithmetic Operations\n",
        "- Addition +\n",
        "- Subtraction -\n",
        "- Multiplication *\n",
        "- Division /\n",
        "- parthesis ()\n",
        "- Exponent power **\n",
        "- Remainder %\n",
        "- Assignment =\n",
        "-- any sum with float be float\n",
        "\n"
      ],
      "metadata": {
        "id": "7GyVAcRNs4ab"
      }
    },
    {
      "cell_type": "code",
      "source": [
        "b=2\n",
        "r=2\n",
        "n=4\n",
        "num= b*(1+r/100)**n\n",
        "print(num)"
      ],
      "metadata": {
        "colab": {
          "base_uri": "https://localhost:8080/"
        },
        "id": "Dl1Jawc2u22S",
        "outputId": "ecf396b0-d978-44d7-81db-a1b3b1d3c296"
      },
      "execution_count": 2,
      "outputs": [
        {
          "output_type": "stream",
          "name": "stdout",
          "text": [
            "2.16486432\n"
          ]
        }
      ]
    },
    {
      "cell_type": "markdown",
      "source": [
        "- with float /\n",
        "- befor point //\n",
        "- rmainder %"
      ],
      "metadata": {
        "id": "drSi8IMwx-lF"
      }
    },
    {
      "cell_type": "code",
      "source": [
        "n= 5\n",
        "m=4\n",
        "a1=n/m\n",
        "print(a1)\n",
        "a2=n//m\n",
        "print(a2)\n",
        "a3=n%m\n",
        "print(a3)"
      ],
      "metadata": {
        "colab": {
          "base_uri": "https://localhost:8080/"
        },
        "id": "soQBn0BeyblT",
        "outputId": "b8083f8a-7a2c-479a-f5ff-7aa5f757b83e"
      },
      "execution_count": 4,
      "outputs": [
        {
          "output_type": "stream",
          "name": "stdout",
          "text": [
            "1.25\n",
            "1\n",
            "1\n"
          ]
        }
      ]
    },
    {
      "cell_type": "markdown",
      "source": [
        "find me the even and  odd numbers between a & b a=6   b=13?"
      ],
      "metadata": {
        "id": "DXE6xPsd0ENH"
      }
    },
    {
      "cell_type": "markdown",
      "source": [
        "- begin\n",
        "- input a= 6\n",
        "- input b=13\n",
        "- If a % 2 == 0 yes → print \"a is even\"\n",
        "- Else No→ print \"a is odd\"\n",
        "\n",
        "- If b % 2 == 0 yes→ print \"b is even\"\n",
        "- Else No → print \"b is odd\"\n",
        "- End"
      ],
      "metadata": {
        "id": "7YfAVYDF0Pvg"
      }
    },
    {
      "cell_type": "code",
      "source": [
        "a=6\n",
        "b=13\n",
        "\n",
        "if a%2 ==0 :\n",
        "  print(\"a is even\")\n",
        "else:\n",
        "  print(\"a is odd\")\n",
        "\n",
        "if b%2 ==0 :\n",
        "  print(\"b is even\")\n",
        "else:\n",
        "  print(\"b is odd\")"
      ],
      "metadata": {
        "colab": {
          "base_uri": "https://localhost:8080/"
        },
        "id": "RzVA4nXC1MRD",
        "outputId": "8b340bae-d0c2-4949-8ed9-fd7c7916de79"
      },
      "execution_count": 5,
      "outputs": [
        {
          "output_type": "stream",
          "name": "stdout",
          "text": [
            "a is even\n",
            "b is odd\n"
          ]
        }
      ]
    },
    {
      "cell_type": "markdown",
      "source": [
        "**Function**\n",
        "- abs (make negive num to postive )\n"
      ],
      "metadata": {
        "id": "q70-k_lO3kaB"
      }
    },
    {
      "cell_type": "code",
      "source": [
        "a=-10\n",
        "\n",
        "if a<0:\n",
        "  # a= a*-1 #how abs is work\n",
        "  a=abs(a)\n",
        "  print(a)\n",
        "else:\n",
        "  print(a)"
      ],
      "metadata": {
        "colab": {
          "base_uri": "https://localhost:8080/"
        },
        "id": "9cvVOPOw1p-Z",
        "outputId": "d0005fe0-1664-4ce8-c12e-761f77a8df6a"
      },
      "execution_count": 11,
      "outputs": [
        {
          "output_type": "stream",
          "name": "stdout",
          "text": [
            "10\n"
          ]
        }
      ]
    }
  ]
}