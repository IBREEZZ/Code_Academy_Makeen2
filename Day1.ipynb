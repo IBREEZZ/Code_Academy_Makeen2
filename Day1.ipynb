{
  "nbformat": 4,
  "nbformat_minor": 0,
  "metadata": {
    "colab": {
      "provenance": [],
      "authorship_tag": "ABX9TyM0+5iF6wkCqUN4SVvxqpW5",
      "include_colab_link": true
    },
    "kernelspec": {
      "name": "python3",
      "display_name": "Python 3"
    },
    "language_info": {
      "name": "python"
    }
  },
  "cells": [
    {
      "cell_type": "markdown",
      "metadata": {
        "id": "view-in-github",
        "colab_type": "text"
      },
      "source": [
        "<a href=\"https://colab.research.google.com/github/IBREEZZ/Problem_Solving/blob/main/Day1.ipynb\" target=\"_parent\"><img src=\"https://colab.research.google.com/assets/colab-badge.svg\" alt=\"Open In Colab\"/></a>"
      ]
    },
    {
      "cell_type": "markdown",
      "source": [
        "\n",
        "#**Day 1**"
      ],
      "metadata": {
        "id": "NsWmE4FcwRTh"
      }
    },
    {
      "cell_type": "code",
      "execution_count": null,
      "metadata": {
        "id": "bxTNJNgPtamt"
      },
      "outputs": [],
      "source": [
        "#candles list\n",
        "candles=[4,1,4,3]\n"
      ]
    },
    {
      "cell_type": "code",
      "source": [
        "#find the tallest candles\n",
        "tallest=max(candles)\n",
        "print(tallest)"
      ],
      "metadata": {
        "colab": {
          "base_uri": "https://localhost:8080/"
        },
        "id": "0XkQMhFrtn3I",
        "outputId": "34d44515-8bac-467d-fe32-fa17f7653d78"
      },
      "execution_count": null,
      "outputs": [
        {
          "output_type": "stream",
          "name": "stdout",
          "text": [
            "4\n"
          ]
        }
      ]
    },
    {
      "cell_type": "code",
      "source": [
        "#count the total num of tallest candles\n",
        "num_tallest=candles.count(tallest)\n",
        "print(num_tallest)"
      ],
      "metadata": {
        "colab": {
          "base_uri": "https://localhost:8080/"
        },
        "id": "QDLA7L9tt29a",
        "outputId": "05b3f8bf-d7c5-4cf8-c805-274de20c4260"
      },
      "execution_count": null,
      "outputs": [
        {
          "output_type": "stream",
          "name": "stdout",
          "text": [
            "2\n"
          ]
        }
      ]
    },
    {
      "cell_type": "markdown",
      "source": [
        "# **With out Max and Count**"
      ],
      "metadata": {
        "id": "plRYIrTAu5Fc"
      }
    },
    {
      "cell_type": "code",
      "source": [
        "#candles list\n",
        "candles=[4,1,4,3]"
      ],
      "metadata": {
        "id": "A77bIN4wvBq2"
      },
      "execution_count": 1,
      "outputs": []
    },
    {
      "cell_type": "code",
      "source": [
        "#find max\n",
        "max_candle=candles[0]\n",
        "for candle in candles:\n",
        "  if candle>max_candle:\n",
        "    max_candle=candle\n",
        "print(max_candle)"
      ],
      "metadata": {
        "id": "-nReHP-qvL1R",
        "outputId": "ee0eeb60-7b6c-41ba-91e0-db49b75b6128",
        "colab": {
          "base_uri": "https://localhost:8080/"
        }
      },
      "execution_count": 2,
      "outputs": [
        {
          "output_type": "stream",
          "name": "stdout",
          "text": [
            "4\n"
          ]
        }
      ]
    },
    {
      "cell_type": "code",
      "source": [
        "#count max_candle\n",
        "count=0\n",
        "for candle in candles:\n",
        "  if candle==max_candle:\n",
        "    count=count+1\n",
        "print(count)"
      ],
      "metadata": {
        "id": "6xJ1LC1cv9E5",
        "outputId": "0fd2830f-0a5e-493a-9ace-e9c0a42efdb4",
        "colab": {
          "base_uri": "https://localhost:8080/"
        }
      },
      "execution_count": 3,
      "outputs": [
        {
          "output_type": "stream",
          "name": "stdout",
          "text": [
            "2\n"
          ]
        }
      ]
    }
  ]
}