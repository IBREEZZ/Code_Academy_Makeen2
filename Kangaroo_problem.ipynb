{
  "nbformat": 4,
  "nbformat_minor": 0,
  "metadata": {
    "colab": {
      "provenance": [],
      "authorship_tag": "ABX9TyOJdjUvNslW1BJ+j1uKG8y0",
      "include_colab_link": true
    },
    "kernelspec": {
      "name": "python3",
      "display_name": "Python 3"
    },
    "language_info": {
      "name": "python"
    }
  },
  "cells": [
    {
      "cell_type": "markdown",
      "metadata": {
        "id": "view-in-github",
        "colab_type": "text"
      },
      "source": [
        "<a href=\"https://colab.research.google.com/github/IBREEZZ/Code_Academy_Makeen2/blob/main/Kangaroo_problem.ipynb\" target=\"_parent\"><img src=\"https://colab.research.google.com/assets/colab-badge.svg\" alt=\"Open In Colab\"/></a>"
      ]
    },
    {
      "cell_type": "code",
      "execution_count": 2,
      "metadata": {
        "colab": {
          "base_uri": "https://localhost:8080/"
        },
        "id": "vAVsKxdCEwxq",
        "outputId": "a62eb83a-7192-4820-cb88-ac36b92ecdc8"
      },
      "outputs": [
        {
          "output_type": "stream",
          "name": "stdout",
          "text": [
            "YES\n",
            "YES\n",
            "NO\n"
          ]
        }
      ],
      "source": [
        "def kangaroo(x1, v1, x2, v2):\n",
        "    # Check if they can meet at the same location after the same number of jumps\n",
        "    if v1 == v2:\n",
        "        return \"YES\" if x1 == x2 else \"NO\"\n",
        "\n",
        "    if (x2 - x1) % (v1 - v2) == 0:\n",
        "        n = (x2 - x1) // (v1 - v2)\n",
        "        if n >= 0:\n",
        "            return \"YES\"\n",
        "\n",
        "    return \"NO\"\n",
        "\n",
        "\n",
        "print(kangaroo(2, 1, 1, 2))  # YES\n",
        "print(kangaroo(0, 3, 4, 2))  # YES\n",
        "print(kangaroo(0, 2, 5, 3))  # NO\n"
      ]
    }
  ]
}