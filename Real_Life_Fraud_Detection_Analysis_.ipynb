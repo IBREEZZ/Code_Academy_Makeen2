{
  "nbformat": 4,
  "nbformat_minor": 0,
  "metadata": {
    "colab": {
      "provenance": [],
      "authorship_tag": "ABX9TyMwqKzgcf4oF9Oo/OhmYLnT",
      "include_colab_link": true
    },
    "kernelspec": {
      "name": "python3",
      "display_name": "Python 3"
    },
    "language_info": {
      "name": "python"
    }
  },
  "cells": [
    {
      "cell_type": "markdown",
      "metadata": {
        "id": "view-in-github",
        "colab_type": "text"
      },
      "source": [
        "<a href=\"https://colab.research.google.com/github/IBREEZZ/Code_Academy_Makeen2/blob/main/Real_Life_Fraud_Detection_Analysis_.ipynb\" target=\"_parent\"><img src=\"https://colab.research.google.com/assets/colab-badge.svg\" alt=\"Open In Colab\"/></a>"
      ]
    },
    {
      "cell_type": "markdown",
      "source": [
        "# **Phase 1: Understanding the Dataset**"
      ],
      "metadata": {
        "id": "GHflyTm5C22p"
      }
    },
    {
      "cell_type": "markdown",
      "source": [
        "**` 1.Business Understanding`**"
      ],
      "metadata": {
        "id": "R4Wx1fN2DCRm"
      }
    },
    {
      "cell_type": "markdown",
      "source": [
        "The dataset includes different transaction types, customer information, and fraud indicators.\n",
        "\n",
        "- 📌 Key questions explored include:\n",
        "\n",
        "- Which transaction types are most prone to fraud?\n",
        "- Are there patterns in transaction amounts linked to fraud?\n",
        "- Do specific users repeatedly appear in flagged transactions?\n",
        "- How effective is the legal flagging system?"
      ],
      "metadata": {
        "id": "_q0C4BTtHBAY"
      }
    },
    {
      "cell_type": "markdown",
      "source": [
        "**` 2.Data Preparation`**"
      ],
      "metadata": {
        "id": "K7knA2muDGJu"
      }
    },
    {
      "cell_type": "code",
      "execution_count": null,
      "metadata": {
        "id": "Jn6mrBLKAkae"
      },
      "outputs": [],
      "source": [
        "import pandas as pd\n",
        "import numpy as np"
      ]
    },
    {
      "cell_type": "markdown",
      "source": [
        "Load the dataset into a pandas DataFrame."
      ],
      "metadata": {
        "id": "5VoeaPqBDZGd"
      }
    },
    {
      "cell_type": "code",
      "source": [
        "df = pd.read_csv('/content/Synthetic_Financial_datasets_log.csv')\n",
        "df"
      ],
      "metadata": {
        "colab": {
          "base_uri": "https://localhost:8080/",
          "height": 423
        },
        "id": "Eb2l2AAoAwtT",
        "outputId": "23036f9f-3b42-4ee8-a545-882bbbab1021"
      },
      "execution_count": null,
      "outputs": [
        {
          "output_type": "execute_result",
          "data": {
            "text/plain": [
              "         step      type     amount     nameOrig  oldbalanceOrg  \\\n",
              "0           1   PAYMENT    9839.64  C1231006815       170136.0   \n",
              "1           1   PAYMENT    1864.28  C1666544295        21249.0   \n",
              "2           1  TRANSFER     181.00  C1305486145          181.0   \n",
              "3           1  CASH_OUT     181.00   C840083671          181.0   \n",
              "4           1   PAYMENT   11668.14  C2048537720        41554.0   \n",
              "...       ...       ...        ...          ...            ...   \n",
              "2574227   207  TRANSFER   98607.00  C2096409335       113427.0   \n",
              "2574228   207  CASH_OUT   37217.98  C1011584424       107839.0   \n",
              "2574229   207  TRANSFER  444713.91   C540800531        12052.0   \n",
              "2574230   207   CASH_IN  414438.16  C1967740508        59918.0   \n",
              "2574231   207  CASH_OUT   45787.76   C741599504        18271.0   \n",
              "\n",
              "         newbalanceOrig     nameDest  oldbalanceDest  newbalanceDest  isFraud  \\\n",
              "0             160296.36  M1979787155            0.00            0.00        0   \n",
              "1              19384.72  M2044282225            0.00            0.00        0   \n",
              "2                  0.00   C553264065            0.00            0.00        1   \n",
              "3                  0.00    C38997010        21182.00            0.00        1   \n",
              "4              29885.86  M1230701703            0.00            0.00        0   \n",
              "...                 ...          ...             ...             ...      ...   \n",
              "2574227        14820.00  C1082121606        92367.96       190974.95        0   \n",
              "2574228        70621.02  C1637597176            0.00        37217.98        0   \n",
              "2574229            0.00   C742454193        99502.23       544216.14        0   \n",
              "2574230       474356.16  C1029607217            0.00            0.00        0   \n",
              "2574231            0.00    C31537059       871560.78       917348.54        0   \n",
              "\n",
              "         isFlaggedFraud  \n",
              "0                     0  \n",
              "1                     0  \n",
              "2                     0  \n",
              "3                     0  \n",
              "4                     0  \n",
              "...                 ...  \n",
              "2574227               0  \n",
              "2574228               0  \n",
              "2574229               0  \n",
              "2574230               0  \n",
              "2574231               0  \n",
              "\n",
              "[2574232 rows x 11 columns]"
            ],
            "text/html": [
              "\n",
              "  <div id=\"df-0683868d-1d77-4b77-bbf6-18a24d9dea97\" class=\"colab-df-container\">\n",
              "    <div>\n",
              "<style scoped>\n",
              "    .dataframe tbody tr th:only-of-type {\n",
              "        vertical-align: middle;\n",
              "    }\n",
              "\n",
              "    .dataframe tbody tr th {\n",
              "        vertical-align: top;\n",
              "    }\n",
              "\n",
              "    .dataframe thead th {\n",
              "        text-align: right;\n",
              "    }\n",
              "</style>\n",
              "<table border=\"1\" class=\"dataframe\">\n",
              "  <thead>\n",
              "    <tr style=\"text-align: right;\">\n",
              "      <th></th>\n",
              "      <th>step</th>\n",
              "      <th>type</th>\n",
              "      <th>amount</th>\n",
              "      <th>nameOrig</th>\n",
              "      <th>oldbalanceOrg</th>\n",
              "      <th>newbalanceOrig</th>\n",
              "      <th>nameDest</th>\n",
              "      <th>oldbalanceDest</th>\n",
              "      <th>newbalanceDest</th>\n",
              "      <th>isFraud</th>\n",
              "      <th>isFlaggedFraud</th>\n",
              "    </tr>\n",
              "  </thead>\n",
              "  <tbody>\n",
              "    <tr>\n",
              "      <th>0</th>\n",
              "      <td>1</td>\n",
              "      <td>PAYMENT</td>\n",
              "      <td>9839.64</td>\n",
              "      <td>C1231006815</td>\n",
              "      <td>170136.0</td>\n",
              "      <td>160296.36</td>\n",
              "      <td>M1979787155</td>\n",
              "      <td>0.00</td>\n",
              "      <td>0.00</td>\n",
              "      <td>0</td>\n",
              "      <td>0</td>\n",
              "    </tr>\n",
              "    <tr>\n",
              "      <th>1</th>\n",
              "      <td>1</td>\n",
              "      <td>PAYMENT</td>\n",
              "      <td>1864.28</td>\n",
              "      <td>C1666544295</td>\n",
              "      <td>21249.0</td>\n",
              "      <td>19384.72</td>\n",
              "      <td>M2044282225</td>\n",
              "      <td>0.00</td>\n",
              "      <td>0.00</td>\n",
              "      <td>0</td>\n",
              "      <td>0</td>\n",
              "    </tr>\n",
              "    <tr>\n",
              "      <th>2</th>\n",
              "      <td>1</td>\n",
              "      <td>TRANSFER</td>\n",
              "      <td>181.00</td>\n",
              "      <td>C1305486145</td>\n",
              "      <td>181.0</td>\n",
              "      <td>0.00</td>\n",
              "      <td>C553264065</td>\n",
              "      <td>0.00</td>\n",
              "      <td>0.00</td>\n",
              "      <td>1</td>\n",
              "      <td>0</td>\n",
              "    </tr>\n",
              "    <tr>\n",
              "      <th>3</th>\n",
              "      <td>1</td>\n",
              "      <td>CASH_OUT</td>\n",
              "      <td>181.00</td>\n",
              "      <td>C840083671</td>\n",
              "      <td>181.0</td>\n",
              "      <td>0.00</td>\n",
              "      <td>C38997010</td>\n",
              "      <td>21182.00</td>\n",
              "      <td>0.00</td>\n",
              "      <td>1</td>\n",
              "      <td>0</td>\n",
              "    </tr>\n",
              "    <tr>\n",
              "      <th>4</th>\n",
              "      <td>1</td>\n",
              "      <td>PAYMENT</td>\n",
              "      <td>11668.14</td>\n",
              "      <td>C2048537720</td>\n",
              "      <td>41554.0</td>\n",
              "      <td>29885.86</td>\n",
              "      <td>M1230701703</td>\n",
              "      <td>0.00</td>\n",
              "      <td>0.00</td>\n",
              "      <td>0</td>\n",
              "      <td>0</td>\n",
              "    </tr>\n",
              "    <tr>\n",
              "      <th>...</th>\n",
              "      <td>...</td>\n",
              "      <td>...</td>\n",
              "      <td>...</td>\n",
              "      <td>...</td>\n",
              "      <td>...</td>\n",
              "      <td>...</td>\n",
              "      <td>...</td>\n",
              "      <td>...</td>\n",
              "      <td>...</td>\n",
              "      <td>...</td>\n",
              "      <td>...</td>\n",
              "    </tr>\n",
              "    <tr>\n",
              "      <th>2574227</th>\n",
              "      <td>207</td>\n",
              "      <td>TRANSFER</td>\n",
              "      <td>98607.00</td>\n",
              "      <td>C2096409335</td>\n",
              "      <td>113427.0</td>\n",
              "      <td>14820.00</td>\n",
              "      <td>C1082121606</td>\n",
              "      <td>92367.96</td>\n",
              "      <td>190974.95</td>\n",
              "      <td>0</td>\n",
              "      <td>0</td>\n",
              "    </tr>\n",
              "    <tr>\n",
              "      <th>2574228</th>\n",
              "      <td>207</td>\n",
              "      <td>CASH_OUT</td>\n",
              "      <td>37217.98</td>\n",
              "      <td>C1011584424</td>\n",
              "      <td>107839.0</td>\n",
              "      <td>70621.02</td>\n",
              "      <td>C1637597176</td>\n",
              "      <td>0.00</td>\n",
              "      <td>37217.98</td>\n",
              "      <td>0</td>\n",
              "      <td>0</td>\n",
              "    </tr>\n",
              "    <tr>\n",
              "      <th>2574229</th>\n",
              "      <td>207</td>\n",
              "      <td>TRANSFER</td>\n",
              "      <td>444713.91</td>\n",
              "      <td>C540800531</td>\n",
              "      <td>12052.0</td>\n",
              "      <td>0.00</td>\n",
              "      <td>C742454193</td>\n",
              "      <td>99502.23</td>\n",
              "      <td>544216.14</td>\n",
              "      <td>0</td>\n",
              "      <td>0</td>\n",
              "    </tr>\n",
              "    <tr>\n",
              "      <th>2574230</th>\n",
              "      <td>207</td>\n",
              "      <td>CASH_IN</td>\n",
              "      <td>414438.16</td>\n",
              "      <td>C1967740508</td>\n",
              "      <td>59918.0</td>\n",
              "      <td>474356.16</td>\n",
              "      <td>C1029607217</td>\n",
              "      <td>0.00</td>\n",
              "      <td>0.00</td>\n",
              "      <td>0</td>\n",
              "      <td>0</td>\n",
              "    </tr>\n",
              "    <tr>\n",
              "      <th>2574231</th>\n",
              "      <td>207</td>\n",
              "      <td>CASH_OUT</td>\n",
              "      <td>45787.76</td>\n",
              "      <td>C741599504</td>\n",
              "      <td>18271.0</td>\n",
              "      <td>0.00</td>\n",
              "      <td>C31537059</td>\n",
              "      <td>871560.78</td>\n",
              "      <td>917348.54</td>\n",
              "      <td>0</td>\n",
              "      <td>0</td>\n",
              "    </tr>\n",
              "  </tbody>\n",
              "</table>\n",
              "<p>2574232 rows × 11 columns</p>\n",
              "</div>\n",
              "    <div class=\"colab-df-buttons\">\n",
              "\n",
              "  <div class=\"colab-df-container\">\n",
              "    <button class=\"colab-df-convert\" onclick=\"convertToInteractive('df-0683868d-1d77-4b77-bbf6-18a24d9dea97')\"\n",
              "            title=\"Convert this dataframe to an interactive table.\"\n",
              "            style=\"display:none;\">\n",
              "\n",
              "  <svg xmlns=\"http://www.w3.org/2000/svg\" height=\"24px\" viewBox=\"0 -960 960 960\">\n",
              "    <path d=\"M120-120v-720h720v720H120Zm60-500h600v-160H180v160Zm220 220h160v-160H400v160Zm0 220h160v-160H400v160ZM180-400h160v-160H180v160Zm440 0h160v-160H620v160ZM180-180h160v-160H180v160Zm440 0h160v-160H620v160Z\"/>\n",
              "  </svg>\n",
              "    </button>\n",
              "\n",
              "  <style>\n",
              "    .colab-df-container {\n",
              "      display:flex;\n",
              "      gap: 12px;\n",
              "    }\n",
              "\n",
              "    .colab-df-convert {\n",
              "      background-color: #E8F0FE;\n",
              "      border: none;\n",
              "      border-radius: 50%;\n",
              "      cursor: pointer;\n",
              "      display: none;\n",
              "      fill: #1967D2;\n",
              "      height: 32px;\n",
              "      padding: 0 0 0 0;\n",
              "      width: 32px;\n",
              "    }\n",
              "\n",
              "    .colab-df-convert:hover {\n",
              "      background-color: #E2EBFA;\n",
              "      box-shadow: 0px 1px 2px rgba(60, 64, 67, 0.3), 0px 1px 3px 1px rgba(60, 64, 67, 0.15);\n",
              "      fill: #174EA6;\n",
              "    }\n",
              "\n",
              "    .colab-df-buttons div {\n",
              "      margin-bottom: 4px;\n",
              "    }\n",
              "\n",
              "    [theme=dark] .colab-df-convert {\n",
              "      background-color: #3B4455;\n",
              "      fill: #D2E3FC;\n",
              "    }\n",
              "\n",
              "    [theme=dark] .colab-df-convert:hover {\n",
              "      background-color: #434B5C;\n",
              "      box-shadow: 0px 1px 3px 1px rgba(0, 0, 0, 0.15);\n",
              "      filter: drop-shadow(0px 1px 2px rgba(0, 0, 0, 0.3));\n",
              "      fill: #FFFFFF;\n",
              "    }\n",
              "  </style>\n",
              "\n",
              "    <script>\n",
              "      const buttonEl =\n",
              "        document.querySelector('#df-0683868d-1d77-4b77-bbf6-18a24d9dea97 button.colab-df-convert');\n",
              "      buttonEl.style.display =\n",
              "        google.colab.kernel.accessAllowed ? 'block' : 'none';\n",
              "\n",
              "      async function convertToInteractive(key) {\n",
              "        const element = document.querySelector('#df-0683868d-1d77-4b77-bbf6-18a24d9dea97');\n",
              "        const dataTable =\n",
              "          await google.colab.kernel.invokeFunction('convertToInteractive',\n",
              "                                                    [key], {});\n",
              "        if (!dataTable) return;\n",
              "\n",
              "        const docLinkHtml = 'Like what you see? Visit the ' +\n",
              "          '<a target=\"_blank\" href=https://colab.research.google.com/notebooks/data_table.ipynb>data table notebook</a>'\n",
              "          + ' to learn more about interactive tables.';\n",
              "        element.innerHTML = '';\n",
              "        dataTable['output_type'] = 'display_data';\n",
              "        await google.colab.output.renderOutput(dataTable, element);\n",
              "        const docLink = document.createElement('div');\n",
              "        docLink.innerHTML = docLinkHtml;\n",
              "        element.appendChild(docLink);\n",
              "      }\n",
              "    </script>\n",
              "  </div>\n",
              "\n",
              "\n",
              "    <div id=\"df-31541c56-bf34-46c9-82b7-45a705e77f82\">\n",
              "      <button class=\"colab-df-quickchart\" onclick=\"quickchart('df-31541c56-bf34-46c9-82b7-45a705e77f82')\"\n",
              "                title=\"Suggest charts\"\n",
              "                style=\"display:none;\">\n",
              "\n",
              "<svg xmlns=\"http://www.w3.org/2000/svg\" height=\"24px\"viewBox=\"0 0 24 24\"\n",
              "     width=\"24px\">\n",
              "    <g>\n",
              "        <path d=\"M19 3H5c-1.1 0-2 .9-2 2v14c0 1.1.9 2 2 2h14c1.1 0 2-.9 2-2V5c0-1.1-.9-2-2-2zM9 17H7v-7h2v7zm4 0h-2V7h2v10zm4 0h-2v-4h2v4z\"/>\n",
              "    </g>\n",
              "</svg>\n",
              "      </button>\n",
              "\n",
              "<style>\n",
              "  .colab-df-quickchart {\n",
              "      --bg-color: #E8F0FE;\n",
              "      --fill-color: #1967D2;\n",
              "      --hover-bg-color: #E2EBFA;\n",
              "      --hover-fill-color: #174EA6;\n",
              "      --disabled-fill-color: #AAA;\n",
              "      --disabled-bg-color: #DDD;\n",
              "  }\n",
              "\n",
              "  [theme=dark] .colab-df-quickchart {\n",
              "      --bg-color: #3B4455;\n",
              "      --fill-color: #D2E3FC;\n",
              "      --hover-bg-color: #434B5C;\n",
              "      --hover-fill-color: #FFFFFF;\n",
              "      --disabled-bg-color: #3B4455;\n",
              "      --disabled-fill-color: #666;\n",
              "  }\n",
              "\n",
              "  .colab-df-quickchart {\n",
              "    background-color: var(--bg-color);\n",
              "    border: none;\n",
              "    border-radius: 50%;\n",
              "    cursor: pointer;\n",
              "    display: none;\n",
              "    fill: var(--fill-color);\n",
              "    height: 32px;\n",
              "    padding: 0;\n",
              "    width: 32px;\n",
              "  }\n",
              "\n",
              "  .colab-df-quickchart:hover {\n",
              "    background-color: var(--hover-bg-color);\n",
              "    box-shadow: 0 1px 2px rgba(60, 64, 67, 0.3), 0 1px 3px 1px rgba(60, 64, 67, 0.15);\n",
              "    fill: var(--button-hover-fill-color);\n",
              "  }\n",
              "\n",
              "  .colab-df-quickchart-complete:disabled,\n",
              "  .colab-df-quickchart-complete:disabled:hover {\n",
              "    background-color: var(--disabled-bg-color);\n",
              "    fill: var(--disabled-fill-color);\n",
              "    box-shadow: none;\n",
              "  }\n",
              "\n",
              "  .colab-df-spinner {\n",
              "    border: 2px solid var(--fill-color);\n",
              "    border-color: transparent;\n",
              "    border-bottom-color: var(--fill-color);\n",
              "    animation:\n",
              "      spin 1s steps(1) infinite;\n",
              "  }\n",
              "\n",
              "  @keyframes spin {\n",
              "    0% {\n",
              "      border-color: transparent;\n",
              "      border-bottom-color: var(--fill-color);\n",
              "      border-left-color: var(--fill-color);\n",
              "    }\n",
              "    20% {\n",
              "      border-color: transparent;\n",
              "      border-left-color: var(--fill-color);\n",
              "      border-top-color: var(--fill-color);\n",
              "    }\n",
              "    30% {\n",
              "      border-color: transparent;\n",
              "      border-left-color: var(--fill-color);\n",
              "      border-top-color: var(--fill-color);\n",
              "      border-right-color: var(--fill-color);\n",
              "    }\n",
              "    40% {\n",
              "      border-color: transparent;\n",
              "      border-right-color: var(--fill-color);\n",
              "      border-top-color: var(--fill-color);\n",
              "    }\n",
              "    60% {\n",
              "      border-color: transparent;\n",
              "      border-right-color: var(--fill-color);\n",
              "    }\n",
              "    80% {\n",
              "      border-color: transparent;\n",
              "      border-right-color: var(--fill-color);\n",
              "      border-bottom-color: var(--fill-color);\n",
              "    }\n",
              "    90% {\n",
              "      border-color: transparent;\n",
              "      border-bottom-color: var(--fill-color);\n",
              "    }\n",
              "  }\n",
              "</style>\n",
              "\n",
              "      <script>\n",
              "        async function quickchart(key) {\n",
              "          const quickchartButtonEl =\n",
              "            document.querySelector('#' + key + ' button');\n",
              "          quickchartButtonEl.disabled = true;  // To prevent multiple clicks.\n",
              "          quickchartButtonEl.classList.add('colab-df-spinner');\n",
              "          try {\n",
              "            const charts = await google.colab.kernel.invokeFunction(\n",
              "                'suggestCharts', [key], {});\n",
              "          } catch (error) {\n",
              "            console.error('Error during call to suggestCharts:', error);\n",
              "          }\n",
              "          quickchartButtonEl.classList.remove('colab-df-spinner');\n",
              "          quickchartButtonEl.classList.add('colab-df-quickchart-complete');\n",
              "        }\n",
              "        (() => {\n",
              "          let quickchartButtonEl =\n",
              "            document.querySelector('#df-31541c56-bf34-46c9-82b7-45a705e77f82 button');\n",
              "          quickchartButtonEl.style.display =\n",
              "            google.colab.kernel.accessAllowed ? 'block' : 'none';\n",
              "        })();\n",
              "      </script>\n",
              "    </div>\n",
              "\n",
              "  <div id=\"id_60cd95e9-3e98-4bc6-a8f3-2bda78c67af4\">\n",
              "    <style>\n",
              "      .colab-df-generate {\n",
              "        background-color: #E8F0FE;\n",
              "        border: none;\n",
              "        border-radius: 50%;\n",
              "        cursor: pointer;\n",
              "        display: none;\n",
              "        fill: #1967D2;\n",
              "        height: 32px;\n",
              "        padding: 0 0 0 0;\n",
              "        width: 32px;\n",
              "      }\n",
              "\n",
              "      .colab-df-generate:hover {\n",
              "        background-color: #E2EBFA;\n",
              "        box-shadow: 0px 1px 2px rgba(60, 64, 67, 0.3), 0px 1px 3px 1px rgba(60, 64, 67, 0.15);\n",
              "        fill: #174EA6;\n",
              "      }\n",
              "\n",
              "      [theme=dark] .colab-df-generate {\n",
              "        background-color: #3B4455;\n",
              "        fill: #D2E3FC;\n",
              "      }\n",
              "\n",
              "      [theme=dark] .colab-df-generate:hover {\n",
              "        background-color: #434B5C;\n",
              "        box-shadow: 0px 1px 3px 1px rgba(0, 0, 0, 0.15);\n",
              "        filter: drop-shadow(0px 1px 2px rgba(0, 0, 0, 0.3));\n",
              "        fill: #FFFFFF;\n",
              "      }\n",
              "    </style>\n",
              "    <button class=\"colab-df-generate\" onclick=\"generateWithVariable('df')\"\n",
              "            title=\"Generate code using this dataframe.\"\n",
              "            style=\"display:none;\">\n",
              "\n",
              "  <svg xmlns=\"http://www.w3.org/2000/svg\" height=\"24px\"viewBox=\"0 0 24 24\"\n",
              "       width=\"24px\">\n",
              "    <path d=\"M7,19H8.4L18.45,9,17,7.55,7,17.6ZM5,21V16.75L18.45,3.32a2,2,0,0,1,2.83,0l1.4,1.43a1.91,1.91,0,0,1,.58,1.4,1.91,1.91,0,0,1-.58,1.4L9.25,21ZM18.45,9,17,7.55Zm-12,3A5.31,5.31,0,0,0,4.9,8.1,5.31,5.31,0,0,0,1,6.5,5.31,5.31,0,0,0,4.9,4.9,5.31,5.31,0,0,0,6.5,1,5.31,5.31,0,0,0,8.1,4.9,5.31,5.31,0,0,0,12,6.5,5.46,5.46,0,0,0,6.5,12Z\"/>\n",
              "  </svg>\n",
              "    </button>\n",
              "    <script>\n",
              "      (() => {\n",
              "      const buttonEl =\n",
              "        document.querySelector('#id_60cd95e9-3e98-4bc6-a8f3-2bda78c67af4 button.colab-df-generate');\n",
              "      buttonEl.style.display =\n",
              "        google.colab.kernel.accessAllowed ? 'block' : 'none';\n",
              "\n",
              "      buttonEl.onclick = () => {\n",
              "        google.colab.notebook.generateWithVariable('df');\n",
              "      }\n",
              "      })();\n",
              "    </script>\n",
              "  </div>\n",
              "\n",
              "    </div>\n",
              "  </div>\n"
            ],
            "application/vnd.google.colaboratory.intrinsic+json": {
              "type": "dataframe",
              "variable_name": "df"
            }
          },
          "metadata": {},
          "execution_count": 23
        }
      ]
    },
    {
      "cell_type": "markdown",
      "source": [
        "Display the first few rows to familiarize yourself with the structure\n",
        "and contents."
      ],
      "metadata": {
        "id": "Gbndz-qzDajY"
      }
    },
    {
      "cell_type": "code",
      "source": [
        "# first 5 rows\n",
        "df.head()"
      ],
      "metadata": {
        "colab": {
          "base_uri": "https://localhost:8080/",
          "height": 206
        },
        "id": "PlHjDJMOAwp6",
        "outputId": "3e51887a-558c-4f70-d4dc-31fc6af76fa0"
      },
      "execution_count": null,
      "outputs": [
        {
          "output_type": "execute_result",
          "data": {
            "text/plain": [
              "   step      type    amount     nameOrig  oldbalanceOrg  newbalanceOrig  \\\n",
              "0     1   PAYMENT   9839.64  C1231006815       170136.0       160296.36   \n",
              "1     1   PAYMENT   1864.28  C1666544295        21249.0        19384.72   \n",
              "2     1  TRANSFER    181.00  C1305486145          181.0            0.00   \n",
              "3     1  CASH_OUT    181.00   C840083671          181.0            0.00   \n",
              "4     1   PAYMENT  11668.14  C2048537720        41554.0        29885.86   \n",
              "\n",
              "      nameDest  oldbalanceDest  newbalanceDest  isFraud  isFlaggedFraud  \n",
              "0  M1979787155             0.0             0.0        0               0  \n",
              "1  M2044282225             0.0             0.0        0               0  \n",
              "2   C553264065             0.0             0.0        1               0  \n",
              "3    C38997010         21182.0             0.0        1               0  \n",
              "4  M1230701703             0.0             0.0        0               0  "
            ],
            "text/html": [
              "\n",
              "  <div id=\"df-0245e2c4-9eeb-41d4-980f-bc5bff36862d\" class=\"colab-df-container\">\n",
              "    <div>\n",
              "<style scoped>\n",
              "    .dataframe tbody tr th:only-of-type {\n",
              "        vertical-align: middle;\n",
              "    }\n",
              "\n",
              "    .dataframe tbody tr th {\n",
              "        vertical-align: top;\n",
              "    }\n",
              "\n",
              "    .dataframe thead th {\n",
              "        text-align: right;\n",
              "    }\n",
              "</style>\n",
              "<table border=\"1\" class=\"dataframe\">\n",
              "  <thead>\n",
              "    <tr style=\"text-align: right;\">\n",
              "      <th></th>\n",
              "      <th>step</th>\n",
              "      <th>type</th>\n",
              "      <th>amount</th>\n",
              "      <th>nameOrig</th>\n",
              "      <th>oldbalanceOrg</th>\n",
              "      <th>newbalanceOrig</th>\n",
              "      <th>nameDest</th>\n",
              "      <th>oldbalanceDest</th>\n",
              "      <th>newbalanceDest</th>\n",
              "      <th>isFraud</th>\n",
              "      <th>isFlaggedFraud</th>\n",
              "    </tr>\n",
              "  </thead>\n",
              "  <tbody>\n",
              "    <tr>\n",
              "      <th>0</th>\n",
              "      <td>1</td>\n",
              "      <td>PAYMENT</td>\n",
              "      <td>9839.64</td>\n",
              "      <td>C1231006815</td>\n",
              "      <td>170136.0</td>\n",
              "      <td>160296.36</td>\n",
              "      <td>M1979787155</td>\n",
              "      <td>0.0</td>\n",
              "      <td>0.0</td>\n",
              "      <td>0</td>\n",
              "      <td>0</td>\n",
              "    </tr>\n",
              "    <tr>\n",
              "      <th>1</th>\n",
              "      <td>1</td>\n",
              "      <td>PAYMENT</td>\n",
              "      <td>1864.28</td>\n",
              "      <td>C1666544295</td>\n",
              "      <td>21249.0</td>\n",
              "      <td>19384.72</td>\n",
              "      <td>M2044282225</td>\n",
              "      <td>0.0</td>\n",
              "      <td>0.0</td>\n",
              "      <td>0</td>\n",
              "      <td>0</td>\n",
              "    </tr>\n",
              "    <tr>\n",
              "      <th>2</th>\n",
              "      <td>1</td>\n",
              "      <td>TRANSFER</td>\n",
              "      <td>181.00</td>\n",
              "      <td>C1305486145</td>\n",
              "      <td>181.0</td>\n",
              "      <td>0.00</td>\n",
              "      <td>C553264065</td>\n",
              "      <td>0.0</td>\n",
              "      <td>0.0</td>\n",
              "      <td>1</td>\n",
              "      <td>0</td>\n",
              "    </tr>\n",
              "    <tr>\n",
              "      <th>3</th>\n",
              "      <td>1</td>\n",
              "      <td>CASH_OUT</td>\n",
              "      <td>181.00</td>\n",
              "      <td>C840083671</td>\n",
              "      <td>181.0</td>\n",
              "      <td>0.00</td>\n",
              "      <td>C38997010</td>\n",
              "      <td>21182.0</td>\n",
              "      <td>0.0</td>\n",
              "      <td>1</td>\n",
              "      <td>0</td>\n",
              "    </tr>\n",
              "    <tr>\n",
              "      <th>4</th>\n",
              "      <td>1</td>\n",
              "      <td>PAYMENT</td>\n",
              "      <td>11668.14</td>\n",
              "      <td>C2048537720</td>\n",
              "      <td>41554.0</td>\n",
              "      <td>29885.86</td>\n",
              "      <td>M1230701703</td>\n",
              "      <td>0.0</td>\n",
              "      <td>0.0</td>\n",
              "      <td>0</td>\n",
              "      <td>0</td>\n",
              "    </tr>\n",
              "  </tbody>\n",
              "</table>\n",
              "</div>\n",
              "    <div class=\"colab-df-buttons\">\n",
              "\n",
              "  <div class=\"colab-df-container\">\n",
              "    <button class=\"colab-df-convert\" onclick=\"convertToInteractive('df-0245e2c4-9eeb-41d4-980f-bc5bff36862d')\"\n",
              "            title=\"Convert this dataframe to an interactive table.\"\n",
              "            style=\"display:none;\">\n",
              "\n",
              "  <svg xmlns=\"http://www.w3.org/2000/svg\" height=\"24px\" viewBox=\"0 -960 960 960\">\n",
              "    <path d=\"M120-120v-720h720v720H120Zm60-500h600v-160H180v160Zm220 220h160v-160H400v160Zm0 220h160v-160H400v160ZM180-400h160v-160H180v160Zm440 0h160v-160H620v160ZM180-180h160v-160H180v160Zm440 0h160v-160H620v160Z\"/>\n",
              "  </svg>\n",
              "    </button>\n",
              "\n",
              "  <style>\n",
              "    .colab-df-container {\n",
              "      display:flex;\n",
              "      gap: 12px;\n",
              "    }\n",
              "\n",
              "    .colab-df-convert {\n",
              "      background-color: #E8F0FE;\n",
              "      border: none;\n",
              "      border-radius: 50%;\n",
              "      cursor: pointer;\n",
              "      display: none;\n",
              "      fill: #1967D2;\n",
              "      height: 32px;\n",
              "      padding: 0 0 0 0;\n",
              "      width: 32px;\n",
              "    }\n",
              "\n",
              "    .colab-df-convert:hover {\n",
              "      background-color: #E2EBFA;\n",
              "      box-shadow: 0px 1px 2px rgba(60, 64, 67, 0.3), 0px 1px 3px 1px rgba(60, 64, 67, 0.15);\n",
              "      fill: #174EA6;\n",
              "    }\n",
              "\n",
              "    .colab-df-buttons div {\n",
              "      margin-bottom: 4px;\n",
              "    }\n",
              "\n",
              "    [theme=dark] .colab-df-convert {\n",
              "      background-color: #3B4455;\n",
              "      fill: #D2E3FC;\n",
              "    }\n",
              "\n",
              "    [theme=dark] .colab-df-convert:hover {\n",
              "      background-color: #434B5C;\n",
              "      box-shadow: 0px 1px 3px 1px rgba(0, 0, 0, 0.15);\n",
              "      filter: drop-shadow(0px 1px 2px rgba(0, 0, 0, 0.3));\n",
              "      fill: #FFFFFF;\n",
              "    }\n",
              "  </style>\n",
              "\n",
              "    <script>\n",
              "      const buttonEl =\n",
              "        document.querySelector('#df-0245e2c4-9eeb-41d4-980f-bc5bff36862d button.colab-df-convert');\n",
              "      buttonEl.style.display =\n",
              "        google.colab.kernel.accessAllowed ? 'block' : 'none';\n",
              "\n",
              "      async function convertToInteractive(key) {\n",
              "        const element = document.querySelector('#df-0245e2c4-9eeb-41d4-980f-bc5bff36862d');\n",
              "        const dataTable =\n",
              "          await google.colab.kernel.invokeFunction('convertToInteractive',\n",
              "                                                    [key], {});\n",
              "        if (!dataTable) return;\n",
              "\n",
              "        const docLinkHtml = 'Like what you see? Visit the ' +\n",
              "          '<a target=\"_blank\" href=https://colab.research.google.com/notebooks/data_table.ipynb>data table notebook</a>'\n",
              "          + ' to learn more about interactive tables.';\n",
              "        element.innerHTML = '';\n",
              "        dataTable['output_type'] = 'display_data';\n",
              "        await google.colab.output.renderOutput(dataTable, element);\n",
              "        const docLink = document.createElement('div');\n",
              "        docLink.innerHTML = docLinkHtml;\n",
              "        element.appendChild(docLink);\n",
              "      }\n",
              "    </script>\n",
              "  </div>\n",
              "\n",
              "\n",
              "    <div id=\"df-20581830-6d57-492f-b43c-47ca63614d1f\">\n",
              "      <button class=\"colab-df-quickchart\" onclick=\"quickchart('df-20581830-6d57-492f-b43c-47ca63614d1f')\"\n",
              "                title=\"Suggest charts\"\n",
              "                style=\"display:none;\">\n",
              "\n",
              "<svg xmlns=\"http://www.w3.org/2000/svg\" height=\"24px\"viewBox=\"0 0 24 24\"\n",
              "     width=\"24px\">\n",
              "    <g>\n",
              "        <path d=\"M19 3H5c-1.1 0-2 .9-2 2v14c0 1.1.9 2 2 2h14c1.1 0 2-.9 2-2V5c0-1.1-.9-2-2-2zM9 17H7v-7h2v7zm4 0h-2V7h2v10zm4 0h-2v-4h2v4z\"/>\n",
              "    </g>\n",
              "</svg>\n",
              "      </button>\n",
              "\n",
              "<style>\n",
              "  .colab-df-quickchart {\n",
              "      --bg-color: #E8F0FE;\n",
              "      --fill-color: #1967D2;\n",
              "      --hover-bg-color: #E2EBFA;\n",
              "      --hover-fill-color: #174EA6;\n",
              "      --disabled-fill-color: #AAA;\n",
              "      --disabled-bg-color: #DDD;\n",
              "  }\n",
              "\n",
              "  [theme=dark] .colab-df-quickchart {\n",
              "      --bg-color: #3B4455;\n",
              "      --fill-color: #D2E3FC;\n",
              "      --hover-bg-color: #434B5C;\n",
              "      --hover-fill-color: #FFFFFF;\n",
              "      --disabled-bg-color: #3B4455;\n",
              "      --disabled-fill-color: #666;\n",
              "  }\n",
              "\n",
              "  .colab-df-quickchart {\n",
              "    background-color: var(--bg-color);\n",
              "    border: none;\n",
              "    border-radius: 50%;\n",
              "    cursor: pointer;\n",
              "    display: none;\n",
              "    fill: var(--fill-color);\n",
              "    height: 32px;\n",
              "    padding: 0;\n",
              "    width: 32px;\n",
              "  }\n",
              "\n",
              "  .colab-df-quickchart:hover {\n",
              "    background-color: var(--hover-bg-color);\n",
              "    box-shadow: 0 1px 2px rgba(60, 64, 67, 0.3), 0 1px 3px 1px rgba(60, 64, 67, 0.15);\n",
              "    fill: var(--button-hover-fill-color);\n",
              "  }\n",
              "\n",
              "  .colab-df-quickchart-complete:disabled,\n",
              "  .colab-df-quickchart-complete:disabled:hover {\n",
              "    background-color: var(--disabled-bg-color);\n",
              "    fill: var(--disabled-fill-color);\n",
              "    box-shadow: none;\n",
              "  }\n",
              "\n",
              "  .colab-df-spinner {\n",
              "    border: 2px solid var(--fill-color);\n",
              "    border-color: transparent;\n",
              "    border-bottom-color: var(--fill-color);\n",
              "    animation:\n",
              "      spin 1s steps(1) infinite;\n",
              "  }\n",
              "\n",
              "  @keyframes spin {\n",
              "    0% {\n",
              "      border-color: transparent;\n",
              "      border-bottom-color: var(--fill-color);\n",
              "      border-left-color: var(--fill-color);\n",
              "    }\n",
              "    20% {\n",
              "      border-color: transparent;\n",
              "      border-left-color: var(--fill-color);\n",
              "      border-top-color: var(--fill-color);\n",
              "    }\n",
              "    30% {\n",
              "      border-color: transparent;\n",
              "      border-left-color: var(--fill-color);\n",
              "      border-top-color: var(--fill-color);\n",
              "      border-right-color: var(--fill-color);\n",
              "    }\n",
              "    40% {\n",
              "      border-color: transparent;\n",
              "      border-right-color: var(--fill-color);\n",
              "      border-top-color: var(--fill-color);\n",
              "    }\n",
              "    60% {\n",
              "      border-color: transparent;\n",
              "      border-right-color: var(--fill-color);\n",
              "    }\n",
              "    80% {\n",
              "      border-color: transparent;\n",
              "      border-right-color: var(--fill-color);\n",
              "      border-bottom-color: var(--fill-color);\n",
              "    }\n",
              "    90% {\n",
              "      border-color: transparent;\n",
              "      border-bottom-color: var(--fill-color);\n",
              "    }\n",
              "  }\n",
              "</style>\n",
              "\n",
              "      <script>\n",
              "        async function quickchart(key) {\n",
              "          const quickchartButtonEl =\n",
              "            document.querySelector('#' + key + ' button');\n",
              "          quickchartButtonEl.disabled = true;  // To prevent multiple clicks.\n",
              "          quickchartButtonEl.classList.add('colab-df-spinner');\n",
              "          try {\n",
              "            const charts = await google.colab.kernel.invokeFunction(\n",
              "                'suggestCharts', [key], {});\n",
              "          } catch (error) {\n",
              "            console.error('Error during call to suggestCharts:', error);\n",
              "          }\n",
              "          quickchartButtonEl.classList.remove('colab-df-spinner');\n",
              "          quickchartButtonEl.classList.add('colab-df-quickchart-complete');\n",
              "        }\n",
              "        (() => {\n",
              "          let quickchartButtonEl =\n",
              "            document.querySelector('#df-20581830-6d57-492f-b43c-47ca63614d1f button');\n",
              "          quickchartButtonEl.style.display =\n",
              "            google.colab.kernel.accessAllowed ? 'block' : 'none';\n",
              "        })();\n",
              "      </script>\n",
              "    </div>\n",
              "\n",
              "    </div>\n",
              "  </div>\n"
            ],
            "application/vnd.google.colaboratory.intrinsic+json": {
              "type": "dataframe",
              "variable_name": "df"
            }
          },
          "metadata": {},
          "execution_count": 24
        }
      ]
    },
    {
      "cell_type": "markdown",
      "source": [
        "List the columns"
      ],
      "metadata": {
        "id": "H7ah_itSDgCZ"
      }
    },
    {
      "cell_type": "code",
      "source": [
        "# List all columns\n",
        "df.columns"
      ],
      "metadata": {
        "colab": {
          "base_uri": "https://localhost:8080/"
        },
        "id": "4kh1jRQXAwnS",
        "outputId": "5a86e705-61d8-492a-8f13-813972378e2d"
      },
      "execution_count": null,
      "outputs": [
        {
          "output_type": "execute_result",
          "data": {
            "text/plain": [
              "Index(['step', 'type', 'amount', 'nameOrig', 'oldbalanceOrg', 'newbalanceOrig',\n",
              "       'nameDest', 'oldbalanceDest', 'newbalanceDest', 'isFraud',\n",
              "       'isFlaggedFraud'],\n",
              "      dtype='object')"
            ]
          },
          "metadata": {},
          "execution_count": 25
        }
      ]
    },
    {
      "cell_type": "markdown",
      "source": [
        "![image.png](data:image/png;base64,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)"
      ],
      "metadata": {
        "id": "raLFax_7HRpY"
      }
    },
    {
      "cell_type": "markdown",
      "source": [
        "# **Phase 2: Data Cleaning and Exploration**"
      ],
      "metadata": {
        "id": "5zpXt3YMD1E8"
      }
    },
    {
      "cell_type": "markdown",
      "source": [
        "**` 1.Initial Review `**"
      ],
      "metadata": {
        "id": "yjNzhjcFHedi"
      }
    },
    {
      "cell_type": "markdown",
      "source": [
        "Check the num for missing values"
      ],
      "metadata": {
        "id": "Ft_yQpyzHj9j"
      }
    },
    {
      "cell_type": "code",
      "source": [
        "df.isnull().sum()"
      ],
      "metadata": {
        "colab": {
          "base_uri": "https://localhost:8080/",
          "height": 429
        },
        "id": "bMgC_zTeCj95",
        "outputId": "ff664cee-9203-48fc-b42c-f39e9397218b"
      },
      "execution_count": null,
      "outputs": [
        {
          "output_type": "execute_result",
          "data": {
            "text/plain": [
              "step              0\n",
              "type              0\n",
              "amount            0\n",
              "nameOrig          0\n",
              "oldbalanceOrg     0\n",
              "newbalanceOrig    0\n",
              "nameDest          0\n",
              "oldbalanceDest    0\n",
              "newbalanceDest    0\n",
              "isFraud           0\n",
              "isFlaggedFraud    0\n",
              "dtype: int64"
            ],
            "text/html": [
              "<div>\n",
              "<style scoped>\n",
              "    .dataframe tbody tr th:only-of-type {\n",
              "        vertical-align: middle;\n",
              "    }\n",
              "\n",
              "    .dataframe tbody tr th {\n",
              "        vertical-align: top;\n",
              "    }\n",
              "\n",
              "    .dataframe thead th {\n",
              "        text-align: right;\n",
              "    }\n",
              "</style>\n",
              "<table border=\"1\" class=\"dataframe\">\n",
              "  <thead>\n",
              "    <tr style=\"text-align: right;\">\n",
              "      <th></th>\n",
              "      <th>0</th>\n",
              "    </tr>\n",
              "  </thead>\n",
              "  <tbody>\n",
              "    <tr>\n",
              "      <th>step</th>\n",
              "      <td>0</td>\n",
              "    </tr>\n",
              "    <tr>\n",
              "      <th>type</th>\n",
              "      <td>0</td>\n",
              "    </tr>\n",
              "    <tr>\n",
              "      <th>amount</th>\n",
              "      <td>0</td>\n",
              "    </tr>\n",
              "    <tr>\n",
              "      <th>nameOrig</th>\n",
              "      <td>0</td>\n",
              "    </tr>\n",
              "    <tr>\n",
              "      <th>oldbalanceOrg</th>\n",
              "      <td>0</td>\n",
              "    </tr>\n",
              "    <tr>\n",
              "      <th>newbalanceOrig</th>\n",
              "      <td>0</td>\n",
              "    </tr>\n",
              "    <tr>\n",
              "      <th>nameDest</th>\n",
              "      <td>0</td>\n",
              "    </tr>\n",
              "    <tr>\n",
              "      <th>oldbalanceDest</th>\n",
              "      <td>0</td>\n",
              "    </tr>\n",
              "    <tr>\n",
              "      <th>newbalanceDest</th>\n",
              "      <td>0</td>\n",
              "    </tr>\n",
              "    <tr>\n",
              "      <th>isFraud</th>\n",
              "      <td>0</td>\n",
              "    </tr>\n",
              "    <tr>\n",
              "      <th>isFlaggedFraud</th>\n",
              "      <td>0</td>\n",
              "    </tr>\n",
              "  </tbody>\n",
              "</table>\n",
              "</div><br><label><b>dtype:</b> int64</label>"
            ]
          },
          "metadata": {},
          "execution_count": 26
        }
      ]
    },
    {
      "cell_type": "code",
      "source": [
        "#some information about the type of columne in the dataset\n",
        "df.info()"
      ],
      "metadata": {
        "colab": {
          "base_uri": "https://localhost:8080/"
        },
        "id": "6J4vYbNxCj6h",
        "outputId": "2f4e594b-80b5-473f-ea19-63875a4b0880"
      },
      "execution_count": null,
      "outputs": [
        {
          "output_type": "stream",
          "name": "stdout",
          "text": [
            "<class 'pandas.core.frame.DataFrame'>\n",
            "RangeIndex: 2574232 entries, 0 to 2574231\n",
            "Data columns (total 11 columns):\n",
            " #   Column          Dtype  \n",
            "---  ------          -----  \n",
            " 0   step            int64  \n",
            " 1   type            object \n",
            " 2   amount          float64\n",
            " 3   nameOrig        object \n",
            " 4   oldbalanceOrg   float64\n",
            " 5   newbalanceOrig  float64\n",
            " 6   nameDest        object \n",
            " 7   oldbalanceDest  float64\n",
            " 8   newbalanceDest  float64\n",
            " 9   isFraud         int64  \n",
            " 10  isFlaggedFraud  int64  \n",
            "dtypes: float64(5), int64(3), object(3)\n",
            "memory usage: 216.0+ MB\n"
          ]
        }
      ]
    },
    {
      "cell_type": "markdown",
      "source": [
        "**Remove or handle columns that are irrelevant for fraud detection.\n",
        "Justify your choice.**\n",
        "\n",
        "- After reviewing the dataset, I have decided not to remove any columns, as each one contributes valuable information for fraud detection."
      ],
      "metadata": {
        "id": "zfBN0hQ3GoSA"
      }
    },
    {
      "cell_type": "markdown",
      "source": [
        "**` 2.Exploratory Analysis `**"
      ],
      "metadata": {
        "id": "9OrCzoDfHpNd"
      }
    },
    {
      "cell_type": "markdown",
      "source": [
        "Calculate the total number of transactions"
      ],
      "metadata": {
        "id": "QufKlrKGH0JW"
      }
    },
    {
      "cell_type": "code",
      "source": [
        "total_transactions = len(df)\n",
        "print(\"Total transactions:\", total_transactions)"
      ],
      "metadata": {
        "colab": {
          "base_uri": "https://localhost:8080/"
        },
        "id": "NMhg85rfCj3v",
        "outputId": "70063b04-ba9e-40f9-97f8-6d876cbddc50"
      },
      "execution_count": null,
      "outputs": [
        {
          "output_type": "stream",
          "name": "stdout",
          "text": [
            "Total transactions: 2574232\n"
          ]
        }
      ]
    },
    {
      "cell_type": "markdown",
      "source": [
        "categorize them by\n",
        "type."
      ],
      "metadata": {
        "id": "d5ZY5B1ZIFuf"
      }
    },
    {
      "cell_type": "code",
      "source": [
        "df['type'].value_counts()"
      ],
      "metadata": {
        "colab": {
          "base_uri": "https://localhost:8080/",
          "height": 272
        },
        "id": "mDF-YFJtIJ4E",
        "outputId": "fa585bf3-9a52-4898-961e-9f1478089a18"
      },
      "execution_count": null,
      "outputs": [
        {
          "output_type": "execute_result",
          "data": {
            "text/plain": [
              "type\n",
              "CASH_OUT    917541\n",
              "PAYMENT     859536\n",
              "CASH_IN     567225\n",
              "TRANSFER    213434\n",
              "DEBIT        16496\n",
              "Name: count, dtype: int64"
            ],
            "text/html": [
              "<div>\n",
              "<style scoped>\n",
              "    .dataframe tbody tr th:only-of-type {\n",
              "        vertical-align: middle;\n",
              "    }\n",
              "\n",
              "    .dataframe tbody tr th {\n",
              "        vertical-align: top;\n",
              "    }\n",
              "\n",
              "    .dataframe thead th {\n",
              "        text-align: right;\n",
              "    }\n",
              "</style>\n",
              "<table border=\"1\" class=\"dataframe\">\n",
              "  <thead>\n",
              "    <tr style=\"text-align: right;\">\n",
              "      <th></th>\n",
              "      <th>count</th>\n",
              "    </tr>\n",
              "    <tr>\n",
              "      <th>type</th>\n",
              "      <th></th>\n",
              "    </tr>\n",
              "  </thead>\n",
              "  <tbody>\n",
              "    <tr>\n",
              "      <th>CASH_OUT</th>\n",
              "      <td>917541</td>\n",
              "    </tr>\n",
              "    <tr>\n",
              "      <th>PAYMENT</th>\n",
              "      <td>859536</td>\n",
              "    </tr>\n",
              "    <tr>\n",
              "      <th>CASH_IN</th>\n",
              "      <td>567225</td>\n",
              "    </tr>\n",
              "    <tr>\n",
              "      <th>TRANSFER</th>\n",
              "      <td>213434</td>\n",
              "    </tr>\n",
              "    <tr>\n",
              "      <th>DEBIT</th>\n",
              "      <td>16496</td>\n",
              "    </tr>\n",
              "  </tbody>\n",
              "</table>\n",
              "</div><br><label><b>dtype:</b> int64</label>"
            ]
          },
          "metadata": {},
          "execution_count": 29
        }
      ]
    },
    {
      "cell_type": "markdown",
      "source": [
        " Identify the percentage of fraudulent transactions"
      ],
      "metadata": {
        "id": "JsUM9XQlJFAM"
      }
    },
    {
      "cell_type": "code",
      "source": [
        "total_frauds = df[df['isFraud'] == 1]# the use of 1 is checks each row\n",
        "fraud_percent = (len(total_frauds) / total_transactions) * 100\n",
        "print(f\"Total fraudulent transactions: {len(total_frauds)} ({fraud_percent:.2f}%)\")"
      ],
      "metadata": {
        "colab": {
          "base_uri": "https://localhost:8080/"
        },
        "id": "658ETYYHIQbU",
        "outputId": "7d8b5495-594c-41d2-b81f-db980170268a"
      },
      "execution_count": null,
      "outputs": [
        {
          "output_type": "stream",
          "name": "stdout",
          "text": [
            "Total fraudulent transactions: 2308 (0.09%)\n"
          ]
        }
      ]
    },
    {
      "cell_type": "markdown",
      "source": [
        "compare\n",
        "them across transaction types."
      ],
      "metadata": {
        "id": "UYKXiCFkJSpC"
      }
    },
    {
      "cell_type": "code",
      "source": [
        "fraud_by_type = df.groupby('type')['isFraud'].mean() * 100\n",
        "print(\"Fraud rate by type:\\n\", fraud_by_type)"
      ],
      "metadata": {
        "colab": {
          "base_uri": "https://localhost:8080/"
        },
        "id": "M3FcoECFIQVE",
        "outputId": "fdc33721-3613-4841-f2ad-ea3f57464acd"
      },
      "execution_count": null,
      "outputs": [
        {
          "output_type": "stream",
          "name": "stdout",
          "text": [
            "Fraud rate by type:\n",
            " type\n",
            "CASH_IN     0.000000\n",
            "CASH_OUT    0.126643\n",
            "DEBIT       0.000000\n",
            "PAYMENT     0.000000\n",
            "TRANSFER    0.536934\n",
            "Name: isFraud, dtype: float64\n"
          ]
        }
      ]
    },
    {
      "cell_type": "markdown",
      "source": [
        "The highest fraud rate is found in CASH_OUT and TRANSFER"
      ],
      "metadata": {
        "id": "QCm32jae7qbc"
      }
    },
    {
      "cell_type": "code",
      "source": [
        "import seaborn as sns\n",
        "import matplotlib.pyplot as plt\n",
        "\n",
        "# Select only numeric columns\n",
        "numeric_cols = df.select_dtypes(include=['number'])\n",
        "\n",
        "# Create correlation matrix from numeric columns only\n",
        "corr_matrix = numeric_cols.corr()\n",
        "\n",
        "# Set up the figure size\n",
        "plt.figure(figsize=(10, 8))\n",
        "\n",
        "# Create the heatmap\n",
        "sns.heatmap(corr_matrix, annot=True, fmt=\".2f\", cmap='coolwarm', linewidths=0.5)\n",
        "\n",
        "# Add title\n",
        "plt.title('Correlation Matrix Heatmap')\n",
        "\n",
        "# Show plot\n",
        "plt.show()\n"
      ],
      "metadata": {
        "colab": {
          "base_uri": "https://localhost:8080/",
          "height": 800
        },
        "id": "fnMocogk2F7W",
        "outputId": "a6ff3921-48ba-44f1-d26b-162ab3dd429b"
      },
      "execution_count": null,
      "outputs": [
        {
          "output_type": "display_data",
          "data": {
            "text/plain": [
              "<Figure size 1000x800 with 2 Axes>"
            ],
            "image/png": "[encoded data removed]"
          },
          "metadata": {}
        }
      ]
    },
    {
      "cell_type": "markdown",
      "source": [
        "Examine the distribution of transaction amounts (mean, median,\n",
        "standard deviation) for both fraudulent and non-fraudulent\n",
        "transactions."
      ],
      "metadata": {
        "id": "0NBBBVxzJgx3"
      }
    },
    {
      "cell_type": "code",
      "source": [
        "# distribution for fraudulent transactions\n",
        "fraud_stats = df[df['isFraud'] == 1]['amount'].describe()\n",
        "print(\"Fraudulent transaction amount stats:\\n\", fraud_stats)"
      ],
      "metadata": {
        "colab": {
          "base_uri": "https://localhost:8080/"
        },
        "id": "VX4bVHfFIQRo",
        "outputId": "0884f503-abcd-403b-b19b-37c6f0b08ee1"
      },
      "execution_count": null,
      "outputs": [
        {
          "output_type": "stream",
          "name": "stdout",
          "text": [
            "Fraudulent transaction amount stats:\n",
            " count    2.308000e+03\n",
            "mean     1.279570e+06\n",
            "std      2.072847e+06\n",
            "min      1.190000e+02\n",
            "25%      1.155170e+05\n",
            "50%      4.114056e+05\n",
            "75%      1.462036e+06\n",
            "max      1.000000e+07\n",
            "Name: amount, dtype: float64\n"
          ]
        }
      ]
    },
    {
      "cell_type": "code",
      "source": [
        "# distribution for non-fraudulent transactions\n",
        "nonfraud_stats = df[df['isFraud'] == 0]['amount'].describe()\n",
        "print(\"Non-Fraudulent transaction amount stats:\\n\", nonfraud_stats)"
      ],
      "metadata": {
        "colab": {
          "base_uri": "https://localhost:8080/"
        },
        "id": "DGwkVLzMIQPS",
        "outputId": "33abeabd-837f-42ed-ed3a-e30ccb1ad1e5"
      },
      "execution_count": null,
      "outputs": [
        {
          "output_type": "stream",
          "name": "stdout",
          "text": [
            "Non-Fraudulent transaction amount stats:\n",
            " count    2.571924e+06\n",
            "mean     1.573917e+05\n",
            "std      2.549982e+05\n",
            "min      2.000000e-02\n",
            "25%      1.264365e+04\n",
            "50%      7.732054e+04\n",
            "75%      2.134947e+05\n",
            "max      7.719103e+06\n",
            "Name: amount, dtype: float64\n"
          ]
        }
      ]
    },
    {
      "cell_type": "markdown",
      "source": [
        "# **Phase 3: Real-Life Fraud Detection Analysis**"
      ],
      "metadata": {
        "id": "OuL2DPEbJ91y"
      }
    },
    {
      "cell_type": "markdown",
      "source": [
        "**` 1.Detecting Suspicious Patterns  `**"
      ],
      "metadata": {
        "id": "7Ig21HONKA36"
      }
    },
    {
      "cell_type": "markdown",
      "source": [
        "Identify and flag transactions exceeding the legal limit (amount >\n",
        "200,000) as potentially fraudulent (isFlaggedFraud)."
      ],
      "metadata": {
        "id": "HD0x-5A-Ksc6"
      }
    },
    {
      "cell_type": "code",
      "source": [
        "flagged_transactions = df[df['amount'] > 200000]\n",
        "flagged_transactions"
      ],
      "metadata": {
        "colab": {
          "base_uri": "https://localhost:8080/",
          "height": 423
        },
        "id": "kF2vJhVuKBl3",
        "outputId": "07667a9b-0f57-43b9-d45e-131082917742"
      },
      "execution_count": null,
      "outputs": [
        {
          "output_type": "execute_result",
          "data": {
            "text/plain": [
              "         step      type     amount     nameOrig  oldbalanceOrg  \\\n",
              "15          1  CASH_OUT  229133.94   C905080434        15325.0   \n",
              "19          1  TRANSFER  215310.30  C1670993182          705.0   \n",
              "24          1  TRANSFER  311685.89  C1984094095        10835.0   \n",
              "82          1  TRANSFER  224606.64   C873175411            0.0   \n",
              "84          1  TRANSFER  379856.23  C1449772539            0.0   \n",
              "...       ...       ...        ...          ...            ...   \n",
              "2574195   207  CASH_OUT  214867.82  C1461000082            0.0   \n",
              "2574211   207   CASH_IN  682877.39  C1456438422       210414.0   \n",
              "2574225   207  CASH_OUT  313306.82  C1598285718        31014.0   \n",
              "2574229   207  TRANSFER  444713.91   C540800531        12052.0   \n",
              "2574230   207   CASH_IN  414438.16  C1967740508        59918.0   \n",
              "\n",
              "         newbalanceOrig     nameDest  oldbalanceDest  newbalanceDest  isFraud  \\\n",
              "15                 0.00   C476402209         5083.00        51513.44        0   \n",
              "19                 0.00  C1100439041        22425.00            0.00        0   \n",
              "24                 0.00   C932583850         6267.00      2719172.89        0   \n",
              "82                 0.00   C766572210       354678.92            0.00        0   \n",
              "84                 0.00  C1590550415       900180.00     19169204.93        0   \n",
              "...                 ...          ...             ...             ...      ...   \n",
              "2574195            0.00   C229896296      6393468.74      6608336.56        0   \n",
              "2574211       893291.39  C1595471722        20074.69            0.00        0   \n",
              "2574225            0.00   C565718054       600000.99       913307.81        0   \n",
              "2574229            0.00   C742454193        99502.23       544216.14        0   \n",
              "2574230       474356.16  C1029607217            0.00            0.00        0   \n",
              "\n",
              "         isFlaggedFraud  \n",
              "15                    0  \n",
              "19                    0  \n",
              "24                    0  \n",
              "82                    0  \n",
              "84                    0  \n",
              "...                 ...  \n",
              "2574195               0  \n",
              "2574211               0  \n",
              "2574225               0  \n",
              "2574229               0  \n",
              "2574230               0  \n",
              "\n",
              "[696184 rows x 11 columns]"
            ],
            "text/html": [
              "\n",
              "  <div id=\"df-52ce02fb-51c1-4da0-986c-828d8ca093aa\" class=\"colab-df-container\">\n",
              "    <div>\n",
              "<style scoped>\n",
              "    .dataframe tbody tr th:only-of-type {\n",
              "        vertical-align: middle;\n",
              "    }\n",
              "\n",
              "    .dataframe tbody tr th {\n",
              "        vertical-align: top;\n",
              "    }\n",
              "\n",
              "    .dataframe thead th {\n",
              "        text-align: right;\n",
              "    }\n",
              "</style>\n",
              "<table border=\"1\" class=\"dataframe\">\n",
              "  <thead>\n",
              "    <tr style=\"text-align: right;\">\n",
              "      <th></th>\n",
              "      <th>step</th>\n",
              "      <th>type</th>\n",
              "      <th>amount</th>\n",
              "      <th>nameOrig</th>\n",
              "      <th>oldbalanceOrg</th>\n",
              "      <th>newbalanceOrig</th>\n",
              "      <th>nameDest</th>\n",
              "      <th>oldbalanceDest</th>\n",
              "      <th>newbalanceDest</th>\n",
              "      <th>isFraud</th>\n",
              "      <th>isFlaggedFraud</th>\n",
              "    </tr>\n",
              "  </thead>\n",
              "  <tbody>\n",
              "    <tr>\n",
              "      <th>15</th>\n",
              "      <td>1</td>\n",
              "      <td>CASH_OUT</td>\n",
              "      <td>229133.94</td>\n",
              "      <td>C905080434</td>\n",
              "      <td>15325.0</td>\n",
              "      <td>0.00</td>\n",
              "      <td>C476402209</td>\n",
              "      <td>5083.00</td>\n",
              "      <td>51513.44</td>\n",
              "      <td>0</td>\n",
              "      <td>0</td>\n",
              "    </tr>\n",
              "    <tr>\n",
              "      <th>19</th>\n",
              "      <td>1</td>\n",
              "      <td>TRANSFER</td>\n",
              "      <td>215310.30</td>\n",
              "      <td>C1670993182</td>\n",
              "      <td>705.0</td>\n",
              "      <td>0.00</td>\n",
              "      <td>C1100439041</td>\n",
              "      <td>22425.00</td>\n",
              "      <td>0.00</td>\n",
              "      <td>0</td>\n",
              "      <td>0</td>\n",
              "    </tr>\n",
              "    <tr>\n",
              "      <th>24</th>\n",
              "      <td>1</td>\n",
              "      <td>TRANSFER</td>\n",
              "      <td>311685.89</td>\n",
              "      <td>C1984094095</td>\n",
              "      <td>10835.0</td>\n",
              "      <td>0.00</td>\n",
              "      <td>C932583850</td>\n",
              "      <td>6267.00</td>\n",
              "      <td>2719172.89</td>\n",
              "      <td>0</td>\n",
              "      <td>0</td>\n",
              "    </tr>\n",
              "    <tr>\n",
              "      <th>82</th>\n",
              "      <td>1</td>\n",
              "      <td>TRANSFER</td>\n",
              "      <td>224606.64</td>\n",
              "      <td>C873175411</td>\n",
              "      <td>0.0</td>\n",
              "      <td>0.00</td>\n",
              "      <td>C766572210</td>\n",
              "      <td>354678.92</td>\n",
              "      <td>0.00</td>\n",
              "      <td>0</td>\n",
              "      <td>0</td>\n",
              "    </tr>\n",
              "    <tr>\n",
              "      <th>84</th>\n",
              "      <td>1</td>\n",
              "      <td>TRANSFER</td>\n",
              "      <td>379856.23</td>\n",
              "      <td>C1449772539</td>\n",
              "      <td>0.0</td>\n",
              "      <td>0.00</td>\n",
              "      <td>C1590550415</td>\n",
              "      <td>900180.00</td>\n",
              "      <td>19169204.93</td>\n",
              "      <td>0</td>\n",
              "      <td>0</td>\n",
              "    </tr>\n",
              "    <tr>\n",
              "      <th>...</th>\n",
              "      <td>...</td>\n",
              "      <td>...</td>\n",
              "      <td>...</td>\n",
              "      <td>...</td>\n",
              "      <td>...</td>\n",
              "      <td>...</td>\n",
              "      <td>...</td>\n",
              "      <td>...</td>\n",
              "      <td>...</td>\n",
              "      <td>...</td>\n",
              "      <td>...</td>\n",
              "    </tr>\n",
              "    <tr>\n",
              "      <th>2574195</th>\n",
              "      <td>207</td>\n",
              "      <td>CASH_OUT</td>\n",
              "      <td>214867.82</td>\n",
              "      <td>C1461000082</td>\n",
              "      <td>0.0</td>\n",
              "      <td>0.00</td>\n",
              "      <td>C229896296</td>\n",
              "      <td>6393468.74</td>\n",
              "      <td>6608336.56</td>\n",
              "      <td>0</td>\n",
              "      <td>0</td>\n",
              "    </tr>\n",
              "    <tr>\n",
              "      <th>2574211</th>\n",
              "      <td>207</td>\n",
              "      <td>CASH_IN</td>\n",
              "      <td>682877.39</td>\n",
              "      <td>C1456438422</td>\n",
              "      <td>210414.0</td>\n",
              "      <td>893291.39</td>\n",
              "      <td>C1595471722</td>\n",
              "      <td>20074.69</td>\n",
              "      <td>0.00</td>\n",
              "      <td>0</td>\n",
              "      <td>0</td>\n",
              "    </tr>\n",
              "    <tr>\n",
              "      <th>2574225</th>\n",
              "      <td>207</td>\n",
              "      <td>CASH_OUT</td>\n",
              "      <td>313306.82</td>\n",
              "      <td>C1598285718</td>\n",
              "      <td>31014.0</td>\n",
              "      <td>0.00</td>\n",
              "      <td>C565718054</td>\n",
              "      <td>600000.99</td>\n",
              "      <td>913307.81</td>\n",
              "      <td>0</td>\n",
              "      <td>0</td>\n",
              "    </tr>\n",
              "    <tr>\n",
              "      <th>2574229</th>\n",
              "      <td>207</td>\n",
              "      <td>TRANSFER</td>\n",
              "      <td>444713.91</td>\n",
              "      <td>C540800531</td>\n",
              "      <td>12052.0</td>\n",
              "      <td>0.00</td>\n",
              "      <td>C742454193</td>\n",
              "      <td>99502.23</td>\n",
              "      <td>544216.14</td>\n",
              "      <td>0</td>\n",
              "      <td>0</td>\n",
              "    </tr>\n",
              "    <tr>\n",
              "      <th>2574230</th>\n",
              "      <td>207</td>\n",
              "      <td>CASH_IN</td>\n",
              "      <td>414438.16</td>\n",
              "      <td>C1967740508</td>\n",
              "      <td>59918.0</td>\n",
              "      <td>474356.16</td>\n",
              "      <td>C1029607217</td>\n",
              "      <td>0.00</td>\n",
              "      <td>0.00</td>\n",
              "      <td>0</td>\n",
              "      <td>0</td>\n",
              "    </tr>\n",
              "  </tbody>\n",
              "</table>\n",
              "<p>696184 rows × 11 columns</p>\n",
              "</div>\n",
              "    <div class=\"colab-df-buttons\">\n",
              "\n",
              "  <div class=\"colab-df-container\">\n",
              "    <button class=\"colab-df-convert\" onclick=\"convertToInteractive('df-52ce02fb-51c1-4da0-986c-828d8ca093aa')\"\n",
              "            title=\"Convert this dataframe to an interactive table.\"\n",
              "            style=\"display:none;\">\n",
              "\n",
              "  <svg xmlns=\"http://www.w3.org/2000/svg\" height=\"24px\" viewBox=\"0 -960 960 960\">\n",
              "    <path d=\"M120-120v-720h720v720H120Zm60-500h600v-160H180v160Zm220 220h160v-160H400v160Zm0 220h160v-160H400v160ZM180-400h160v-160H180v160Zm440 0h160v-160H620v160ZM180-180h160v-160H180v160Zm440 0h160v-160H620v160Z\"/>\n",
              "  </svg>\n",
              "    </button>\n",
              "\n",
              "  <style>\n",
              "    .colab-df-container {\n",
              "      display:flex;\n",
              "      gap: 12px;\n",
              "    }\n",
              "\n",
              "    .colab-df-convert {\n",
              "      background-color: #E8F0FE;\n",
              "      border: none;\n",
              "      border-radius: 50%;\n",
              "      cursor: pointer;\n",
              "      display: none;\n",
              "      fill: #1967D2;\n",
              "      height: 32px;\n",
              "      padding: 0 0 0 0;\n",
              "      width: 32px;\n",
              "    }\n",
              "\n",
              "    .colab-df-convert:hover {\n",
              "      background-color: #E2EBFA;\n",
              "      box-shadow: 0px 1px 2px rgba(60, 64, 67, 0.3), 0px 1px 3px 1px rgba(60, 64, 67, 0.15);\n",
              "      fill: #174EA6;\n",
              "    }\n",
              "\n",
              "    .colab-df-buttons div {\n",
              "      margin-bottom: 4px;\n",
              "    }\n",
              "\n",
              "    [theme=dark] .colab-df-convert {\n",
              "      background-color: #3B4455;\n",
              "      fill: #D2E3FC;\n",
              "    }\n",
              "\n",
              "    [theme=dark] .colab-df-convert:hover {\n",
              "      background-color: #434B5C;\n",
              "      box-shadow: 0px 1px 3px 1px rgba(0, 0, 0, 0.15);\n",
              "      filter: drop-shadow(0px 1px 2px rgba(0, 0, 0, 0.3));\n",
              "      fill: #FFFFFF;\n",
              "    }\n",
              "  </style>\n",
              "\n",
              "    <script>\n",
              "      const buttonEl =\n",
              "        document.querySelector('#df-52ce02fb-51c1-4da0-986c-828d8ca093aa button.colab-df-convert');\n",
              "      buttonEl.style.display =\n",
              "        google.colab.kernel.accessAllowed ? 'block' : 'none';\n",
              "\n",
              "      async function convertToInteractive(key) {\n",
              "        const element = document.querySelector('#df-52ce02fb-51c1-4da0-986c-828d8ca093aa');\n",
              "        const dataTable =\n",
              "          await google.colab.kernel.invokeFunction('convertToInteractive',\n",
              "                                                    [key], {});\n",
              "        if (!dataTable) return;\n",
              "\n",
              "        const docLinkHtml = 'Like what you see? Visit the ' +\n",
              "          '<a target=\"_blank\" href=https://colab.research.google.com/notebooks/data_table.ipynb>data table notebook</a>'\n",
              "          + ' to learn more about interactive tables.';\n",
              "        element.innerHTML = '';\n",
              "        dataTable['output_type'] = 'display_data';\n",
              "        await google.colab.output.renderOutput(dataTable, element);\n",
              "        const docLink = document.createElement('div');\n",
              "        docLink.innerHTML = docLinkHtml;\n",
              "        element.appendChild(docLink);\n",
              "      }\n",
              "    </script>\n",
              "  </div>\n",
              "\n",
              "\n",
              "    <div id=\"df-e57ca150-7830-4e7a-9325-815c44673977\">\n",
              "      <button class=\"colab-df-quickchart\" onclick=\"quickchart('df-e57ca150-7830-4e7a-9325-815c44673977')\"\n",
              "                title=\"Suggest charts\"\n",
              "                style=\"display:none;\">\n",
              "\n",
              "<svg xmlns=\"http://www.w3.org/2000/svg\" height=\"24px\"viewBox=\"0 0 24 24\"\n",
              "     width=\"24px\">\n",
              "    <g>\n",
              "        <path d=\"M19 3H5c-1.1 0-2 .9-2 2v14c0 1.1.9 2 2 2h14c1.1 0 2-.9 2-2V5c0-1.1-.9-2-2-2zM9 17H7v-7h2v7zm4 0h-2V7h2v10zm4 0h-2v-4h2v4z\"/>\n",
              "    </g>\n",
              "</svg>\n",
              "      </button>\n",
              "\n",
              "<style>\n",
              "  .colab-df-quickchart {\n",
              "      --bg-color: #E8F0FE;\n",
              "      --fill-color: #1967D2;\n",
              "      --hover-bg-color: #E2EBFA;\n",
              "      --hover-fill-color: #174EA6;\n",
              "      --disabled-fill-color: #AAA;\n",
              "      --disabled-bg-color: #DDD;\n",
              "  }\n",
              "\n",
              "  [theme=dark] .colab-df-quickchart {\n",
              "      --bg-color: #3B4455;\n",
              "      --fill-color: #D2E3FC;\n",
              "      --hover-bg-color: #434B5C;\n",
              "      --hover-fill-color: #FFFFFF;\n",
              "      --disabled-bg-color: #3B4455;\n",
              "      --disabled-fill-color: #666;\n",
              "  }\n",
              "\n",
              "  .colab-df-quickchart {\n",
              "    background-color: var(--bg-color);\n",
              "    border: none;\n",
              "    border-radius: 50%;\n",
              "    cursor: pointer;\n",
              "    display: none;\n",
              "    fill: var(--fill-color);\n",
              "    height: 32px;\n",
              "    padding: 0;\n",
              "    width: 32px;\n",
              "  }\n",
              "\n",
              "  .colab-df-quickchart:hover {\n",
              "    background-color: var(--hover-bg-color);\n",
              "    box-shadow: 0 1px 2px rgba(60, 64, 67, 0.3), 0 1px 3px 1px rgba(60, 64, 67, 0.15);\n",
              "    fill: var(--button-hover-fill-color);\n",
              "  }\n",
              "\n",
              "  .colab-df-quickchart-complete:disabled,\n",
              "  .colab-df-quickchart-complete:disabled:hover {\n",
              "    background-color: var(--disabled-bg-color);\n",
              "    fill: var(--disabled-fill-color);\n",
              "    box-shadow: none;\n",
              "  }\n",
              "\n",
              "  .colab-df-spinner {\n",
              "    border: 2px solid var(--fill-color);\n",
              "    border-color: transparent;\n",
              "    border-bottom-color: var(--fill-color);\n",
              "    animation:\n",
              "      spin 1s steps(1) infinite;\n",
              "  }\n",
              "\n",
              "  @keyframes spin {\n",
              "    0% {\n",
              "      border-color: transparent;\n",
              "      border-bottom-color: var(--fill-color);\n",
              "      border-left-color: var(--fill-color);\n",
              "    }\n",
              "    20% {\n",
              "      border-color: transparent;\n",
              "      border-left-color: var(--fill-color);\n",
              "      border-top-color: var(--fill-color);\n",
              "    }\n",
              "    30% {\n",
              "      border-color: transparent;\n",
              "      border-left-color: var(--fill-color);\n",
              "      border-top-color: var(--fill-color);\n",
              "      border-right-color: var(--fill-color);\n",
              "    }\n",
              "    40% {\n",
              "      border-color: transparent;\n",
              "      border-right-color: var(--fill-color);\n",
              "      border-top-color: var(--fill-color);\n",
              "    }\n",
              "    60% {\n",
              "      border-color: transparent;\n",
              "      border-right-color: var(--fill-color);\n",
              "    }\n",
              "    80% {\n",
              "      border-color: transparent;\n",
              "      border-right-color: var(--fill-color);\n",
              "      border-bottom-color: var(--fill-color);\n",
              "    }\n",
              "    90% {\n",
              "      border-color: transparent;\n",
              "      border-bottom-color: var(--fill-color);\n",
              "    }\n",
              "  }\n",
              "</style>\n",
              "\n",
              "      <script>\n",
              "        async function quickchart(key) {\n",
              "          const quickchartButtonEl =\n",
              "            document.querySelector('#' + key + ' button');\n",
              "          quickchartButtonEl.disabled = true;  // To prevent multiple clicks.\n",
              "          quickchartButtonEl.classList.add('colab-df-spinner');\n",
              "          try {\n",
              "            const charts = await google.colab.kernel.invokeFunction(\n",
              "                'suggestCharts', [key], {});\n",
              "          } catch (error) {\n",
              "            console.error('Error during call to suggestCharts:', error);\n",
              "          }\n",
              "          quickchartButtonEl.classList.remove('colab-df-spinner');\n",
              "          quickchartButtonEl.classList.add('colab-df-quickchart-complete');\n",
              "        }\n",
              "        (() => {\n",
              "          let quickchartButtonEl =\n",
              "            document.querySelector('#df-e57ca150-7830-4e7a-9325-815c44673977 button');\n",
              "          quickchartButtonEl.style.display =\n",
              "            google.colab.kernel.accessAllowed ? 'block' : 'none';\n",
              "        })();\n",
              "      </script>\n",
              "    </div>\n",
              "\n",
              "  <div id=\"id_11d599bf-ccfa-418c-b03b-d6ca7644b7d5\">\n",
              "    <style>\n",
              "      .colab-df-generate {\n",
              "        background-color: #E8F0FE;\n",
              "        border: none;\n",
              "        border-radius: 50%;\n",
              "        cursor: pointer;\n",
              "        display: none;\n",
              "        fill: #1967D2;\n",
              "        height: 32px;\n",
              "        padding: 0 0 0 0;\n",
              "        width: 32px;\n",
              "      }\n",
              "\n",
              "      .colab-df-generate:hover {\n",
              "        background-color: #E2EBFA;\n",
              "        box-shadow: 0px 1px 2px rgba(60, 64, 67, 0.3), 0px 1px 3px 1px rgba(60, 64, 67, 0.15);\n",
              "        fill: #174EA6;\n",
              "      }\n",
              "\n",
              "      [theme=dark] .colab-df-generate {\n",
              "        background-color: #3B4455;\n",
              "        fill: #D2E3FC;\n",
              "      }\n",
              "\n",
              "      [theme=dark] .colab-df-generate:hover {\n",
              "        background-color: #434B5C;\n",
              "        box-shadow: 0px 1px 3px 1px rgba(0, 0, 0, 0.15);\n",
              "        filter: drop-shadow(0px 1px 2px rgba(0, 0, 0, 0.3));\n",
              "        fill: #FFFFFF;\n",
              "      }\n",
              "    </style>\n",
              "    <button class=\"colab-df-generate\" onclick=\"generateWithVariable('flagged_transactions')\"\n",
              "            title=\"Generate code using this dataframe.\"\n",
              "            style=\"display:none;\">\n",
              "\n",
              "  <svg xmlns=\"http://www.w3.org/2000/svg\" height=\"24px\"viewBox=\"0 0 24 24\"\n",
              "       width=\"24px\">\n",
              "    <path d=\"M7,19H8.4L18.45,9,17,7.55,7,17.6ZM5,21V16.75L18.45,3.32a2,2,0,0,1,2.83,0l1.4,1.43a1.91,1.91,0,0,1,.58,1.4,1.91,1.91,0,0,1-.58,1.4L9.25,21ZM18.45,9,17,7.55Zm-12,3A5.31,5.31,0,0,0,4.9,8.1,5.31,5.31,0,0,0,1,6.5,5.31,5.31,0,0,0,4.9,4.9,5.31,5.31,0,0,0,6.5,1,5.31,5.31,0,0,0,8.1,4.9,5.31,5.31,0,0,0,12,6.5,5.46,5.46,0,0,0,6.5,12Z\"/>\n",
              "  </svg>\n",
              "    </button>\n",
              "    <script>\n",
              "      (() => {\n",
              "      const buttonEl =\n",
              "        document.querySelector('#id_11d599bf-ccfa-418c-b03b-d6ca7644b7d5 button.colab-df-generate');\n",
              "      buttonEl.style.display =\n",
              "        google.colab.kernel.accessAllowed ? 'block' : 'none';\n",
              "\n",
              "      buttonEl.onclick = () => {\n",
              "        google.colab.notebook.generateWithVariable('flagged_transactions');\n",
              "      }\n",
              "      })();\n",
              "    </script>\n",
              "  </div>\n",
              "\n",
              "    </div>\n",
              "  </div>\n"
            ],
            "application/vnd.google.colaboratory.intrinsic+json": {
              "type": "dataframe",
              "variable_name": "flagged_transactions"
            }
          },
          "metadata": {},
          "execution_count": 35
        }
      ]
    },
    {
      "cell_type": "code",
      "source": [
        "# the number of  flagged_transactions >200,000\n",
        "print(\"Transactions over 200,000:\", len(flagged_transactions))"
      ],
      "metadata": {
        "colab": {
          "base_uri": "https://localhost:8080/"
        },
        "id": "VWCEccCCLCR7",
        "outputId": "efff1468-d998-4f53-e12f-4ec2b8dd2ee0"
      },
      "execution_count": null,
      "outputs": [
        {
          "output_type": "stream",
          "name": "stdout",
          "text": [
            "Transactions over 200,000: 696184\n"
          ]
        }
      ]
    },
    {
      "cell_type": "markdown",
      "source": [
        "how the flagged potentially  by the system"
      ],
      "metadata": {
        "id": "ayQt8RrkLbZV"
      }
    },
    {
      "cell_type": "code",
      "source": [
        "print(\"Flagged by system (isFlaggedFraud = 1):\", df['isFlaggedFraud'].sum())"
      ],
      "metadata": {
        "colab": {
          "base_uri": "https://localhost:8080/"
        },
        "id": "FAJZXckGLCOV",
        "outputId": "54e2147f-87b8-42bd-b97e-2e9ecb766da6"
      },
      "execution_count": null,
      "outputs": [
        {
          "output_type": "stream",
          "name": "stdout",
          "text": [
            "Flagged by system (isFlaggedFraud = 1): 0\n"
          ]
        }
      ]
    },
    {
      "cell_type": "markdown",
      "source": [
        "Find patterns in fraud-related transactions, such as the\n",
        "- time step,\n",
        "- type,\n",
        "-  transaction amount."
      ],
      "metadata": {
        "id": "4jQ-Kp4cLwj0"
      }
    },
    {
      "cell_type": "code",
      "source": [
        "# Fraud transactions over time (by step)\n",
        "fraud_step_distribution = df[df['isFraud'] == 1]['step'].value_counts().sort_index()\n",
        "print(\"Fraud distribution by step:\")\n",
        "print(fraud_step_distribution.head())"
      ],
      "metadata": {
        "colab": {
          "base_uri": "https://localhost:8080/"
        },
        "id": "vdowIbshMAZf",
        "outputId": "b3485aec-e771-433e-d837-0e3e9889c340"
      },
      "execution_count": null,
      "outputs": [
        {
          "output_type": "stream",
          "name": "stdout",
          "text": [
            "Fraud distribution by step:\n",
            "step\n",
            "1    16\n",
            "2     8\n",
            "3     4\n",
            "4    10\n",
            "5     6\n",
            "Name: count, dtype: int64\n"
          ]
        }
      ]
    },
    {
      "cell_type": "code",
      "source": [
        "# Fraudulent transactions by type\n",
        "print(\"Fraud count by type:\")\n",
        "print(df[df['isFraud'] == 1]['type'].value_counts())"
      ],
      "metadata": {
        "colab": {
          "base_uri": "https://localhost:8080/"
        },
        "id": "nh0F0nCVLCLz",
        "outputId": "4d6f1273-aed2-4ee0-9d44-01af9a050cfe"
      },
      "execution_count": null,
      "outputs": [
        {
          "output_type": "stream",
          "name": "stdout",
          "text": [
            "Fraud count by type:\n",
            "type\n",
            "CASH_OUT    1162\n",
            "TRANSFER    1146\n",
            "Name: count, dtype: int64\n"
          ]
        }
      ]
    },
    {
      "cell_type": "code",
      "source": [
        "# Average fraud by transaction amount\n",
        "print(\"Average fraud amount by type:\")\n",
        "print(df[df['isFraud'] == 1].groupby('type')['amount'].mean())"
      ],
      "metadata": {
        "colab": {
          "base_uri": "https://localhost:8080/"
        },
        "id": "cTek72DBLCEm",
        "outputId": "b87280a1-2efc-48f7-cbf2-7d0fa667f226"
      },
      "execution_count": null,
      "outputs": [
        {
          "output_type": "stream",
          "name": "stdout",
          "text": [
            "Average fraud amount by type:\n",
            "type\n",
            "CASH_OUT    1.270480e+06\n",
            "TRANSFER    1.288787e+06\n",
            "Name: amount, dtype: float64\n"
          ]
        }
      ]
    },
    {
      "cell_type": "markdown",
      "source": [
        "**` 2.Group Analysis`**"
      ],
      "metadata": {
        "id": "TqtmybatMGLx"
      }
    },
    {
      "cell_type": "code",
      "source": [
        "grouped = df.groupby('type').agg({\n",
        "    'amount': ['sum', 'count']\n",
        "})\n",
        "print(grouped)"
      ],
      "metadata": {
        "colab": {
          "base_uri": "https://localhost:8080/"
        },
        "id": "waI4uiXEPwqd",
        "outputId": "bde62949-a7e3-45d6-9703-9567954751cc"
      },
      "execution_count": null,
      "outputs": [
        {
          "output_type": "stream",
          "name": "stdout",
          "text": [
            "                amount        \n",
            "                   sum   count\n",
            "type                          \n",
            "CASH_IN   9.607568e+10  567225\n",
            "CASH_OUT  1.669464e+11  917541\n",
            "DEBIT     8.828353e+07   16496\n",
            "PAYMENT   9.930441e+09  859536\n",
            "TRANSFER  1.347118e+11  213434\n"
          ]
        }
      ]
    },
    {
      "cell_type": "code",
      "source": [
        "fraud = df[df['isFraud'] == 1]"
      ],
      "metadata": {
        "id": "iiH1vMCWHgAm"
      },
      "execution_count": null,
      "outputs": []
    },
    {
      "cell_type": "code",
      "source": [
        "# (nameOrig)\n",
        "repeat_orig = fraud['nameOrig'].value_counts().head(10)\n",
        "print(\"Top suspicious senders:\\n\", repeat_orig)\n",
        "\n",
        "#  (nameDest)\n",
        "repeat_dest = fraud['nameDest'].value_counts().head(10)\n",
        "print(\"Top suspicious recipients:\\n\", repeat_dest)\n"
      ],
      "metadata": {
        "colab": {
          "base_uri": "https://localhost:8080/"
        },
        "id": "lTHDqCmgRgV8",
        "outputId": "2df38261-b05b-4d8a-c09a-39cdacbf8d65"
      },
      "execution_count": null,
      "outputs": [
        {
          "output_type": "stream",
          "name": "stdout",
          "text": [
            "Top suspicious senders:\n",
            " nameOrig\n",
            "C1854965389    1\n",
            "C1305486145    1\n",
            "C840083671     1\n",
            "C1420196421    1\n",
            "C1976399024    1\n",
            "C1018357975    1\n",
            "C1615152184    1\n",
            "C468833365     1\n",
            "C1482534686    1\n",
            "C1863683348    1\n",
            "Name: count, dtype: int64\n",
            "Top suspicious recipients:\n",
            " nameDest\n",
            "C1013511446    2\n",
            "C104038589     2\n",
            "C935310781     2\n",
            "C1981613973    2\n",
            "C52390890      2\n",
            "C904300960     2\n",
            "C200064275     2\n",
            "C410033330     2\n",
            "C1827219533    2\n",
            "C185805228     2\n",
            "Name: count, dtype: int64\n"
          ]
        }
      ]
    },
    {
      "cell_type": "code",
      "source": [
        "import matplotlib.pyplot as plt\n",
        "\n",
        "# Count of fraud and non-fraud\n",
        "fraud_counts = df['isFraud'].value_counts()\n",
        "\n",
        "# Pie chart\n",
        "labels = ['Non-Fraud', 'Fraud']\n",
        "colors = ['#66b3ff', '#ff6666']\n",
        "plt.figure(figsize=(6, 6))\n",
        "plt.pie(fraud_counts, labels=labels, autopct='%1.1f%%', startangle=140, colors=colors, explode=(0, 0.1))\n",
        "plt.title('Fraud vs. Non-Fraud Transactions')\n",
        "plt.show()\n"
      ],
      "metadata": {
        "colab": {
          "base_uri": "https://localhost:8080/",
          "height": 521
        },
        "id": "s7C2Nq4vOiKe",
        "outputId": "3207e5cd-a005-4c05-e10d-57f61bd294cc"
      },
      "execution_count": null,
      "outputs": [
        {
          "output_type": "display_data",
          "data": {
            "text/plain": [
              "<Figure size 600x600 with 1 Axes>"
            ],
            "image/png": "[encoded data removed]"
          },
          "metadata": {}
        }
      ]
    },
    {
      "cell_type": "code",
      "source": [
        "import seaborn as sns\n",
        "\n",
        "# Fraud count by type\n",
        "fraud_by_type = df[df['isFraud'] == 1]['type'].value_counts()\n",
        "\n",
        "# Bar plot\n",
        "plt.figure(figsize=(8, 5))\n",
        "sns.barplot(x=fraud_by_type.index, y=fraud_by_type.values, palette='rocket')\n",
        "plt.title('Number of Fraudulent Transactions by Type')\n",
        "plt.xlabel('Transaction Type')\n",
        "plt.ylabel('Fraud Count')\n",
        "plt.show()\n"
      ],
      "metadata": {
        "colab": {
          "base_uri": "https://localhost:8080/",
          "height": 577
        },
        "id": "Q8M-OIliOl6D",
        "outputId": "5ea9477c-6607-4f84-fa1e-b2736d48f84b"
      },
      "execution_count": null,
      "outputs": [
        {
          "output_type": "stream",
          "name": "stderr",
          "text": [
            "<ipython-input-45-81bf4c1b599d>:8: FutureWarning: \n",
            "\n",
            "Passing `palette` without assigning `hue` is deprecated and will be removed in v0.14.0. Assign the `x` variable to `hue` and set `legend=False` for the same effect.\n",
            "\n",
            "  sns.barplot(x=fraud_by_type.index, y=fraud_by_type.values, palette='rocket')\n"
          ]
        },
        {
          "output_type": "display_data",
          "data": {
            "text/plain": [
              "<Figure size 800x500 with 1 Axes>"
            ],
            "image/png": "[encoded data removed]"
          },
          "metadata": {}
        }
      ]
    },
    {
      "cell_type": "markdown",
      "source": [
        "**` 3.Critical Thinking Task `**"
      ],
      "metadata": {
        "id": "janyhjxGHxL8"
      }
    },
    {
      "cell_type": "markdown",
      "source": [
        "One scenario is a large corporate payment exceeding 200,000 that is legitimate (e.g., payroll disbursement). Such transactions may be flagged incorrectly as fraudulent. To reduce false positives, the company should incorporate customer profiles, distinguishing regular high-value customers from irregular high-value fraud attempts, using historical behavior patterns and customer segmentation."
      ],
      "metadata": {
        "id": "2A8gZNwLJVKo"
      }
    },
    {
      "cell_type": "markdown",
      "source": [
        "#**Phase 4: Insights and Recommendations**"
      ],
      "metadata": {
        "id": "09B0qACNJjWx"
      }
    },
    {
      "cell_type": "markdown",
      "source": [
        "**` 1.Actionable Insights  `**"
      ],
      "metadata": {
        "id": "C1BOHFwEJuUA"
      }
    },
    {
      "cell_type": "markdown",
      "source": [
        "We found that most fraud cases occur in two transaction types, TRANSFER and CASH_OUT, which together make up the majority of fraud cases. In contrast, DEBIT and PAYMENT transactions show minimal fraud, indicating that fraudsters prefer channels that allow quick fund transfers and withdrawals. Moreover, fraudulent transactions are typically much larger than legitimate ones, indicating a quick-gain strategy.\n"
      ],
      "metadata": {
        "id": "H4ykOESNLN_6"
      }
    },
    {
      "cell_type": "markdown",
      "source": [
        "\n",
        "A small group of customers are repeated perpetrators of fraud, suggesting patterns of organized fraud or compromised accounts. Despite the system's rule to flag transactions above 200,000 for possible fraud, many flagged transactions turned out to be legitimate, indicating the need for more precise detection. For improved fraud detection, we should focus on high-risk transaction types and amounts, while incorporating deeper behavioral profiling to reduce false positives."
      ],
      "metadata": {
        "id": "8gHcw__iLZNN"
      }
    },
    {
      "cell_type": "markdown",
      "source": [
        "**` 2.Recommendations   `**"
      ],
      "metadata": {
        "id": "EB3hVTQVJzPn"
      }
    },
    {
      "cell_type": "markdown",
      "source": [
        "- Monitoring should be prioritized for TRANSFER and CASH_OUT transactions, particularly if they exceed a certain amount.\n",
        "\n",
        "\n",
        "\n",
        "\n",
        "- Reduce false positives for high-value customers by implementing dynamic risk scoring.\n",
        "\n",
        "\n",
        "\n",
        "\n",
        "- Add real-time alerts for repeated large transactions and for accounts showing suspicious behavior."
      ],
      "metadata": {
        "id": "zHfBM9hQKmAG"
      }
    }
  ]
}