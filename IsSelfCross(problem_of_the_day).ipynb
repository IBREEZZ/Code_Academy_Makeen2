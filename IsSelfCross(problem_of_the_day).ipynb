{
  "nbformat": 4,
  "nbformat_minor": 0,
  "metadata": {
    "colab": {
      "provenance": [],
      "authorship_tag": "ABX9TyO0P2ggqb5vWiMIJp62YEGa",
      "include_colab_link": true
    },
    "kernelspec": {
      "name": "python3",
      "display_name": "Python 3"
    },
    "language_info": {
      "name": "python"
    }
  },
  "cells": [
    {
      "cell_type": "markdown",
      "metadata": {
        "id": "view-in-github",
        "colab_type": "text"
      },
      "source": [
        "<a href=\"https://colab.research.google.com/github/IBREEZZ/Code_Academy_Makeen2/blob/main/IsSelfCross(problem_of_the_day).ipynb\" target=\"_parent\"><img src=\"https://colab.research.google.com/assets/colab-badge.svg\" alt=\"Open In Colab\"/></a>"
      ]
    },
    {
      "cell_type": "code",
      "execution_count": 7,
      "metadata": {
        "colab": {
          "base_uri": "https://localhost:8080/"
        },
        "id": "6jSf5ZjAjh6C",
        "outputId": "9e0a24c0-abe7-4639-bebd-cc81499980da"
      },
      "outputs": [
        {
          "output_type": "stream",
          "name": "stdout",
          "text": [
            "True\n"
          ]
        }
      ],
      "source": [
        "def isSelfCrossing(distances):\n",
        "    visited = set()\n",
        "    x = y = 0\n",
        "    visited.add((x, y))\n",
        "\n",
        "   #north ,west ,south ,east\n",
        "    directions = [(0,1), (-1,0), (0,-1), (1,0)]\n",
        "    dir_idx = 0\n",
        "\n",
        "    for d in distances:\n",
        "        dx, dy = directions[dir_idx]\n",
        "        for s in range(d):\n",
        "            x += dx\n",
        "            y += dy\n",
        "            if (x, y) in visited:\n",
        "                return True\n",
        "            visited.add((x, y))\n",
        "        dir_idx = (dir_idx + 1) % 4\n",
        "\n",
        "    return False\n",
        "\n",
        "\n",
        "\n",
        "print(isSelfCrossing([2,1,1,2]))  #  True\n"
      ]
    }
  ]
}