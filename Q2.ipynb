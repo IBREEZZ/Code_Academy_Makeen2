{
  "nbformat": 4,
  "nbformat_minor": 0,
  "metadata": {
    "colab": {
      "provenance": [],
      "authorship_tag": "ABX9TyN5lG8HLerkqBtsAJcdRGXS",
      "include_colab_link": true
    },
    "kernelspec": {
      "name": "python3",
      "display_name": "Python 3"
    },
    "language_info": {
      "name": "python"
    }
  },
  "cells": [
    {
      "cell_type": "markdown",
      "metadata": {
        "id": "view-in-github",
        "colab_type": "text"
      },
      "source": [
        "<a href=\"https://colab.research.google.com/github/IBREEZZ/Code_Academy_Makeen2/blob/main/Q2.ipynb\" target=\"_parent\"><img src=\"https://colab.research.google.com/assets/colab-badge.svg\" alt=\"Open In Colab\"/></a>"
      ]
    },
    {
      "cell_type": "code",
      "execution_count": null,
      "metadata": {
        "colab": {
          "base_uri": "https://localhost:8080/"
        },
        "id": "5THIpxfC8YK6",
        "outputId": "e10a0883-6b00-437f-aec6-33eee55dd5c4"
      },
      "outputs": [
        {
          "output_type": "stream",
          "name": "stdout",
          "text": [
            "Student :Ali ID :1 age :20  added to the directory.\n",
            "Student :Said ID :2 age :21  added to the directory.\n",
            "Student :Ahmad ID :3 age :22  added to the directory.\n",
            "Student ID 2  removed to directory.\n",
            "Student Directory:\n",
            "Student: 1,{'name': 'Ali', 'age': '20'}\n",
            "Student: 3,{'name': 'Ahmad', 'age': '22'}\n"
          ]
        }
      ],
      "source": [
        "#1\n",
        "student_directory ={}\n",
        "#2\n",
        "def add_student(directory, student_id, name, age):\n",
        "  directory[student_id] = {\"name\": name, \"age\": age}\n",
        "  print(f\"Student :{name} ID :{student_id} age :{age}  added to the directory.\")\n",
        "#3\n",
        "def remove_student(directory, student_id) :\n",
        "  if student_id in directory:\n",
        "    directory.pop(student_id)\n",
        "    print(f\"Student ID :{student_id}  removed to directory.\")\n",
        "  else:\n",
        "    print(f\"StudentID :{student_id} not found in the directory.\")\n",
        "#4\n",
        "def display_students(directory):\n",
        "  if not directory:\n",
        "    print(\"The directory is empty.\")\n",
        "  else:\n",
        "    print(\"Student Directory:\")\n",
        "    for item in directory.items():\n",
        "      print(f\"Student: {item[0]},{item[1]}\")\n",
        "\n",
        "#5\n",
        "add_student(student_directory,\"1\",\"Ali\",\"20\")\n",
        "add_student(student_directory,\"2\",\"Said\",\"21\")\n",
        "add_student(student_directory,\"3\",\"Ahmad\",\"22\")\n",
        "\n",
        "remove_student(student_directory,\"2\")\n",
        "\n",
        "display_students(student_directory)\n"
      ]
    },
    {
      "cell_type": "code",
      "source": [],
      "metadata": {
        "id": "9g1vS-u8_5eT"
      },
      "execution_count": null,
      "outputs": []
    }
  ]
}