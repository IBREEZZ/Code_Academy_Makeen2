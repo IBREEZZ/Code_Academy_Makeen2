{
  "nbformat": 4,
  "nbformat_minor": 0,
  "metadata": {
    "colab": {
      "provenance": [],
      "authorship_tag": "ABX9TyNRK5WhfruF6yBLuxCoUjPI",
      "include_colab_link": true
    },
    "kernelspec": {
      "name": "python3",
      "display_name": "Python 3"
    },
    "language_info": {
      "name": "python"
    }
  },
  "cells": [
    {
      "cell_type": "markdown",
      "metadata": {
        "id": "view-in-github",
        "colab_type": "text"
      },
      "source": [
        "<a href=\"https://colab.research.google.com/github/IBREEZZ/Code_Academy_Makeen2/blob/main/Absolute_Difference.ipynb\" target=\"_parent\"><img src=\"https://colab.research.google.com/assets/colab-badge.svg\" alt=\"Open In Colab\"/></a>"
      ]
    },
    {
      "cell_type": "code",
      "execution_count": 5,
      "metadata": {
        "colab": {
          "base_uri": "https://localhost:8080/"
        },
        "id": "XiDNLTuX1OTZ",
        "outputId": "2fecb661-0260-461a-dff9-e23b38d657a7"
      },
      "outputs": [
        {
          "output_type": "stream",
          "name": "stdout",
          "text": [
            "Output 1: 2\n",
            "Output 2: 15\n"
          ]
        }
      ],
      "source": [
        "def diagonal_difference(matrix):\n",
        "    n = len(matrix)\n",
        "    primary_sum = 0\n",
        "    secondary_sum = 0\n",
        "\n",
        "    for i in range(n):\n",
        "        primary_sum += matrix[i][i]\n",
        "        secondary_sum += matrix[i][n - 1 - i]\n",
        "\n",
        "    return abs(primary_sum - secondary_sum)\n",
        "\n",
        "# Example 1\n",
        "matrix1 = [\n",
        "    [1, 2, 3],\n",
        "    [4, 5, 6],\n",
        "    [9, 8, 9]\n",
        "]\n",
        "\n",
        "# Example 2\n",
        "matrix2 = [\n",
        "    [11, 2, 4],\n",
        "    [4, 5, 6],\n",
        "    [10, 8, -12]\n",
        "]\n",
        "\n",
        "print(\"Output 1:\", diagonal_difference(matrix1))  # Output: 2\n",
        "print(\"Output 2:\", diagonal_difference(matrix2))  # Output: 15"
      ]
    }
  ]
}