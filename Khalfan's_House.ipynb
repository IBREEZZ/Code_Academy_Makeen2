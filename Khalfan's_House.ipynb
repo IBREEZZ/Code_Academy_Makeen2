{
  "nbformat": 4,
  "nbformat_minor": 0,
  "metadata": {
    "colab": {
      "provenance": [],
      "authorship_tag": "ABX9TyOumrlAUDqT1fsctjSpLSFg",
      "include_colab_link": true
    },
    "kernelspec": {
      "name": "python3",
      "display_name": "Python 3"
    },
    "language_info": {
      "name": "python"
    }
  },
  "cells": [
    {
      "cell_type": "markdown",
      "metadata": {
        "id": "view-in-github",
        "colab_type": "text"
      },
      "source": [
        "<a href=\"https://colab.research.google.com/github/IBREEZZ/Code_Academy_Makeen2/blob/main/Khalfan's_House.ipynb\" target=\"_parent\"><img src=\"https://colab.research.google.com/assets/colab-badge.svg\" alt=\"Open In Colab\"/></a>"
      ]
    },
    {
      "cell_type": "code",
      "execution_count": null,
      "metadata": {
        "colab": {
          "base_uri": "https://localhost:8080/"
        },
        "id": "PQpzazu57HM0",
        "outputId": "03c8e566-262f-4ed6-f39b-e7e095a27d55"
      },
      "outputs": [
        {
          "output_type": "stream",
          "name": "stdout",
          "text": [
            "apple in lands:  1\n",
            "orange in lands:  2\n"
          ]
        }
      ],
      "source": [
        "s=7\n",
        "t=10\n",
        "a=4\n",
        "b=12\n",
        "apple=[2,3,-4]\n",
        "orange=[3,-2,-4]\n",
        "apple_num=0\n",
        "orange_um=0\n",
        "\n",
        "for d in apple:\n",
        "  if s<=(d+a)<=t:\n",
        "    apple_num+=1\n",
        "for d in orange:\n",
        "  if s<=(d+b)<=t:\n",
        "    orange_um+=1\n",
        "print(\"apple in lands: \" ,apple_num)\n",
        "print(\"orange in lands: \" ,orange_um)\n"
      ]
    },
    {
      "cell_type": "code",
      "source": [
        "#using function\n",
        "def frute(s,t,a,b,apple,orange):\n",
        "  apple_num=0\n",
        "  orange_um=0\n",
        "\n",
        "\n",
        "  for d in apple:\n",
        "    if s<=(d+a)<=t:\n",
        "      apple_num+=1\n",
        "  for d in orange:\n",
        "    if s<=(d+b)<=t:\n",
        "      orange_um+=1\n",
        "\n",
        "  print(\"apple in lands: \" ,apple_num)\n",
        "  print(\"orange in lands: \" ,orange_um)\n",
        "\n",
        "frute(7,10,4,12,[2,3,-4],[3,-2,-4])\n",
        "frute(7,11,5,15,[-2,2,1],[5,-6])"
      ],
      "metadata": {
        "colab": {
          "base_uri": "https://localhost:8080/"
        },
        "id": "4SLSdhTt8nqx",
        "outputId": "62e83781-b652-4ff7-8341-62bf43091eda"
      },
      "execution_count": null,
      "outputs": [
        {
          "output_type": "stream",
          "name": "stdout",
          "text": [
            "apple in lands:  1\n",
            "orange in lands:  2\n",
            "apple in lands:  1\n",
            "orange in lands:  1\n"
          ]
        }
      ]
    }
  ]
}