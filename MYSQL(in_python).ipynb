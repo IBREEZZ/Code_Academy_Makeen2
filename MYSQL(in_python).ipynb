{
  "nbformat": 4,
  "nbformat_minor": 0,
  "metadata": {
    "colab": {
      "provenance": [],
      "authorship_tag": "ABX9TyNnxu5Ly+MQK19yTvYEMYzN",
      "include_colab_link": true
    },
    "kernelspec": {
      "name": "python3",
      "display_name": "Python 3"
    },
    "language_info": {
      "name": "python"
    }
  },
  "cells": [
    {
      "cell_type": "markdown",
      "metadata": {
        "id": "view-in-github",
        "colab_type": "text"
      },
      "source": [
        "<a href=\"https://colab.research.google.com/github/IBREEZZ/Code_Academy_Makeen2/blob/main/MYSQL(in_python).ipynb\" target=\"_parent\"><img src=\"https://colab.research.google.com/assets/colab-badge.svg\" alt=\"Open In Colab\"/></a>"
      ]
    },
    {
      "cell_type": "code",
      "execution_count": null,
      "metadata": {
        "colab": {
          "base_uri": "https://localhost:8080/"
        },
        "id": "jyqL3esaSC-_",
        "outputId": "c83e6f38-26c2-4618-f83f-3af19fbb04a8"
      },
      "outputs": [
        {
          "output_type": "stream",
          "name": "stdout",
          "text": [
            "Requirement already satisfied: pymysql in /usr/local/lib/python3.11/dist-packages (1.1.1)\n",
            "Requirement already satisfied: pandas in /usr/local/lib/python3.11/dist-packages (2.2.2)\n",
            "Requirement already satisfied: numpy>=1.23.2 in /usr/local/lib/python3.11/dist-packages (from pandas) (2.0.2)\n",
            "Requirement already satisfied: python-dateutil>=2.8.2 in /usr/local/lib/python3.11/dist-packages (from pandas) (2.9.0.post0)\n",
            "Requirement already satisfied: pytz>=2020.1 in /usr/local/lib/python3.11/dist-packages (from pandas) (2025.2)\n",
            "Requirement already satisfied: tzdata>=2022.7 in /usr/local/lib/python3.11/dist-packages (from pandas) (2025.2)\n",
            "Requirement already satisfied: six>=1.5 in /usr/local/lib/python3.11/dist-packages (from python-dateutil>=2.8.2->pandas) (1.17.0)\n"
          ]
        }
      ],
      "source": [
        "pip install pymysql pandas"
      ]
    },
    {
      "cell_type": "code",
      "source": [
        "# Step 1: Install MySQL Server\n",
        "!apt-get update\n",
        "!apt-get install -y mysql-server\n",
        "\n",
        "# Step 2: Start the MySQL service\n",
        "!service mysql start\n",
        "\n",
        "# Step 3: Set up a sample MySQL database and user\n",
        "!mysql -e \"CREATE DATABASE colab_db;\"  # Create a new database named 'colab_db'\n",
        "!mysql -e \"CREATE USER 'colab_user'@'localhost' IDENTIFIED BY 'password';\"  # Create a new user\n",
        "!mysql -e \"GRANT ALL PRIVILEGES ON colab_db.* TO 'colab_user'@'localhost';\"  # Grant all privileges to the user\n",
        "!mysql -e \"FLUSH PRIVILEGES;\"  # Refresh privileges\n"
      ],
      "metadata": {
        "colab": {
          "base_uri": "https://localhost:8080/"
        },
        "id": "eIfYtt5DXZxi",
        "outputId": "58500d77-1d93-4b58-ea88-5aaffa19579b"
      },
      "execution_count": null,
      "outputs": [
        {
          "output_type": "stream",
          "name": "stdout",
          "text": [
            "\r0% [Working]\r            \rHit:1 https://developer.download.nvidia.com/compute/cuda/repos/ubuntu2204/x86_64  InRelease\n",
            "\r0% [Waiting for headers] [Waiting for headers] [Waiting for headers] [Connected\r                                                                               \rHit:2 https://cloud.r-project.org/bin/linux/ubuntu jammy-cran40/ InRelease\n",
            "\r0% [Waiting for headers] [Waiting for headers] [Connected to r2u.stat.illinois.\r                                                                               \rHit:3 http://security.ubuntu.com/ubuntu jammy-security InRelease\n",
            "Hit:4 http://archive.ubuntu.com/ubuntu jammy InRelease\n",
            "Hit:5 http://archive.ubuntu.com/ubuntu jammy-updates InRelease\n",
            "Hit:6 https://r2u.stat.illinois.edu/ubuntu jammy InRelease\n",
            "Hit:7 http://archive.ubuntu.com/ubuntu jammy-backports InRelease\n",
            "Hit:8 https://ppa.launchpadcontent.net/deadsnakes/ppa/ubuntu jammy InRelease\n",
            "Hit:9 https://ppa.launchpadcontent.net/graphics-drivers/ppa/ubuntu jammy InRelease\n",
            "Hit:10 https://ppa.launchpadcontent.net/ubuntugis/ppa/ubuntu jammy InRelease\n",
            "Reading package lists... Done\n",
            "W: Skipping acquire of configured file 'main/source/Sources' as repository 'https://r2u.stat.illinois.edu/ubuntu jammy InRelease' does not seem to provide it (sources.list entry misspelt?)\n",
            "Reading package lists... Done\n",
            "Building dependency tree... Done\n",
            "Reading state information... Done\n",
            "mysql-server is already the newest version (8.0.42-0ubuntu0.22.04.1).\n",
            "0 upgraded, 0 newly installed, 0 to remove and 91 not upgraded.\n",
            " * Starting MySQL database server mysqld\n",
            "   ...done.\n",
            "ERROR 1007 (HY000) at line 1: Can't create database 'colab_db'; database exists\n",
            "ERROR 1396 (HY000) at line 1: Operation CREATE USER failed for 'colab_user'@'localhost'\n"
          ]
        }
      ]
    },
    {
      "cell_type": "code",
      "source": [
        "# Step 4: Python code to connect to the MySQL server\n",
        "import pymysql\n",
        "\n",
        "try:\n",
        "    # Connect to the MySQL server running in Colab\n",
        "    connection = pymysql.connect(\n",
        "        host='127.0.0.1',\n",
        "        port=3306,\n",
        "        user='colab_user',  # User created earlier\n",
        "        password='password',  # Password created earlier\n",
        "        database='colab_db'  # Database created earlier\n",
        "    )\n",
        "    print(\"Connected to the database!\")\n",
        "\n",
        "    # Step 5: Create a cursor to execute queries\n",
        "    cursor = connection.cursor()\n",
        "\n",
        "    # Example: Create a table\n",
        "    cursor.execute(\"CREATE TABLE IF NOT EXISTS users (id INT, name VARCHAR(255))\")\n",
        "    print(\"Table created or already exists.\")\n",
        "\n",
        "    # Create products table\n",
        "    cursor.execute(\"CREATE TABLE IF NOT EXISTS products (product_id INT PRIMARY KEY,product_name VARCHAR(255),price DECIMAL(10, 2));\")\n",
        "\n",
        "    # Create categories table\n",
        "    cursor.execute(\"CREATE TABLE IF NOT EXISTS categories (category_id INT PRIMARY KEY,category_name VARCHAR(255));\")\n",
        "\n",
        "    # Create product_categories table\n",
        "    cursor.execute(\"CREATE TABLE IF NOT EXISTS product_categories (product_id INT,category_id INT,PRIMARY KEY (product_id, category_id),FOREIGN KEY (product_id) REFERENCES products(product_id),FOREIGN KEY (category_id) REFERENCES categories(category_id));\")\n",
        "\n",
        "    print(\"products,categories,product_categories  inserted  !\")\n",
        "    # Example: Insert data into the table\n",
        "    cursor.execute(\"INSERT INTO users (id, name) VALUES (1, 'John Doe')\")\n",
        "    cursor.execute(\"INSERT INTO users (id, name) VALUES (2, 'alica')\")\n",
        "    connection.commit()\n",
        "    print(\"Data inserted!\")\n",
        "\n",
        "    # Example: Query data from the table\n",
        "    cursor.execute(\"SELECT * FROM users\")\n",
        "    results = cursor.fetchall()\n",
        "    print(\"Query Results:\", results)\n",
        "\n",
        "except pymysql.MySQLError as e:\n",
        "    print(\"Error:\", e)\n",
        "\n",
        "finally:\n",
        "    if connection:\n",
        "        connection.close()\n",
        "        print(\"Connection closed.\")"
      ],
      "metadata": {
        "colab": {
          "base_uri": "https://localhost:8080/"
        },
        "id": "dxpC6FdNT-Nl",
        "outputId": "fab846b9-8206-4641-c4e3-b01aa7c40e14"
      },
      "execution_count": null,
      "outputs": [
        {
          "output_type": "stream",
          "name": "stdout",
          "text": [
            "Connected to the database!\n",
            "Table created or already exists.\n",
            "products,categories,product_categories  inserted  !\n",
            "Data inserted!\n",
            "Query Results: ((1, 'John Doe'), (1, 'John Doe'), (2, 'alica'), (1, 'John Doe'), (2, 'alica'), (1, 'John Doe'), (2, 'alica'), (1, 'John Doe'), (2, 'alica'), (1, 'John Doe'), (2, 'alica'))\n",
            "Connection closed.\n"
          ]
        }
      ]
    },
    {
      "cell_type": "markdown",
      "source": [
        "# **Exercise**"
      ],
      "metadata": {
        "id": "OLAt4CyBQOq6"
      }
    },
    {
      "cell_type": "code",
      "source": [
        "import sqlite3\n",
        "\n",
        "# Connect to the database (or create it)\n",
        "conn = sqlite3.connect('shop.db')\n",
        "cursor = conn.cursor()\n"
      ],
      "metadata": {
        "id": "bdxQugBQT-KJ"
      },
      "execution_count": 1,
      "outputs": []
    },
    {
      "cell_type": "markdown",
      "source": [
        "# **1**"
      ],
      "metadata": {
        "id": "eLK4WNx7RGDI"
      }
    },
    {
      "cell_type": "code",
      "source": [
        "# Create 'products' table\n",
        "cursor.execute(\"\"\"\n",
        "CREATE TABLE IF NOT EXISTS products (\n",
        "    product_id INTEGER PRIMARY KEY,\n",
        "    product_name TEXT NOT NULL,\n",
        "    price DECIMAL(10, 2)\n",
        ")\n",
        "\"\"\")\n",
        "\n",
        "# Create 'categories' table\n",
        "cursor.execute(\"\"\"\n",
        "CREATE TABLE IF NOT EXISTS categories (\n",
        "    category_id INTEGER PRIMARY KEY,\n",
        "    category_name TEXT NOT NULL\n",
        ")\n",
        "\"\"\")\n",
        "\n",
        "# Create 'product_categories' (many-to-many relationship)\n",
        "cursor.execute(\"\"\"\n",
        "CREATE TABLE IF NOT EXISTS product_categories (\n",
        "    product_id INTEGER,\n",
        "    category_id INTEGER,\n",
        "    FOREIGN KEY (product_id) REFERENCES products(product_id) ON DELETE CASCADE,\n",
        "    FOREIGN KEY (category_id) REFERENCES categories(category_id) ON DELETE CASCADE\n",
        ")\n",
        "\"\"\")\n",
        "\n",
        "conn.commit()\n",
        "print(\"tables created\")\n"
      ],
      "metadata": {
        "id": "aqrGL3e3T-H9",
        "colab": {
          "base_uri": "https://localhost:8080/"
        },
        "outputId": "029b4eb3-6009-4060-ebd4-00f66616bb0c"
      },
      "execution_count": 3,
      "outputs": [
        {
          "output_type": "stream",
          "name": "stdout",
          "text": [
            "tables created\n"
          ]
        }
      ]
    },
    {
      "cell_type": "markdown",
      "source": [
        "# **2**"
      ],
      "metadata": {
        "id": "fDDx0NRDRK91"
      }
    },
    {
      "cell_type": "code",
      "source": [
        "# Insert products\n",
        "products = [\n",
        "    (1, 'Laptop', 1200.00),\n",
        "    (2, 'Smartphone', 800.00),\n",
        "    (3, 'Tablet', 300.00),\n",
        "    (4, 'Headphones', 150.00),\n",
        "    (5, 'Smartwatch', 200.00)\n",
        "]\n",
        "cursor.executemany(\"INSERT INTO products VALUES (?, ?, ?)\", products)\n",
        "\n",
        "# Insert categories\n",
        "categories = [\n",
        "    (1, 'Electronics'),\n",
        "    (2, 'Wearables'),\n",
        "    (3, 'Audio')\n",
        "]\n",
        "cursor.executemany(\"INSERT INTO categories VALUES (?, ?)\", categories)\n",
        "\n",
        "# Associate products with categories\n",
        "product_categories = [\n",
        "    (1, 1),  # Laptop -> Electronics\n",
        "    (2, 1),  # Smartphone -> Electronics\n",
        "    (3, 1),  # Tablet -> Electronics\n",
        "    (4, 3),  # Headphones -> Audio\n",
        "    (5, 2),  # Smartwatch -> Wearables\n",
        "    (5, 1)   # Smartwatch -> Electronics\n",
        "]\n",
        "cursor.executemany(\"INSERT INTO product_categories VALUES (?, ?)\", product_categories)\n",
        "\n",
        "conn.commit()\n"
      ],
      "metadata": {
        "id": "maWEx5WJQc5O"
      },
      "execution_count": 4,
      "outputs": []
    },
    {
      "cell_type": "markdown",
      "source": [
        "# **3**"
      ],
      "metadata": {
        "id": "CuswakDWROl0"
      }
    },
    {
      "cell_type": "code",
      "source": [
        "cursor.execute(\"SELECT product_name, price FROM products\")\n",
        "print(cursor.fetchall())\n"
      ],
      "metadata": {
        "colab": {
          "base_uri": "https://localhost:8080/"
        },
        "id": "7YWjIePMQh47",
        "outputId": "3980947b-3a35-47d7-cce4-3bbc7d23eece"
      },
      "execution_count": 5,
      "outputs": [
        {
          "output_type": "stream",
          "name": "stdout",
          "text": [
            "[('Laptop', 1200), ('Smartphone', 800), ('Tablet', 300), ('Headphones', 150), ('Smartwatch', 200)]\n"
          ]
        }
      ]
    },
    {
      "cell_type": "code",
      "source": [
        "cursor.execute(\"\"\"\n",
        "SELECT c.category_name, p.product_name\n",
        "FROM categories c\n",
        "LEFT JOIN product_categories pc ON c.category_id = pc.category_id\n",
        "LEFT JOIN products p ON pc.product_id = p.product_id\n",
        "\"\"\")\n",
        "print(cursor.fetchall())\n"
      ],
      "metadata": {
        "colab": {
          "base_uri": "https://localhost:8080/"
        },
        "id": "lTHJ3100QhrK",
        "outputId": "2d35c248-3019-448c-ee14-bcaeba7132a2"
      },
      "execution_count": 6,
      "outputs": [
        {
          "output_type": "stream",
          "name": "stdout",
          "text": [
            "[('Electronics', 'Laptop'), ('Electronics', 'Smartphone'), ('Electronics', 'Tablet'), ('Electronics', 'Smartwatch'), ('Wearables', 'Smartwatch'), ('Audio', 'Headphones')]\n"
          ]
        }
      ]
    },
    {
      "cell_type": "code",
      "source": [
        "cursor.execute(\"\"\"\n",
        "SELECT c.category_name, p.product_name, MAX(p.price)\n",
        "FROM categories c\n",
        "JOIN product_categories pc ON c.category_id = pc.category_id\n",
        "JOIN products p ON pc.product_id = p.product_id\n",
        "GROUP BY c.category_id\n",
        "\"\"\")\n",
        "print(cursor.fetchall())\n"
      ],
      "metadata": {
        "colab": {
          "base_uri": "https://localhost:8080/"
        },
        "id": "bWeYP0IXQpjB",
        "outputId": "9cf51f7d-9850-423f-a7e4-2ec183acd649"
      },
      "execution_count": 7,
      "outputs": [
        {
          "output_type": "stream",
          "name": "stdout",
          "text": [
            "[('Electronics', 'Laptop', 1200), ('Wearables', 'Smartwatch', 200), ('Audio', 'Headphones', 150)]\n"
          ]
        }
      ]
    },
    {
      "cell_type": "code",
      "source": [
        "cursor.execute(\"\"\"\n",
        "SELECT c.category_name, COUNT(pc.product_id) AS total_products\n",
        "FROM categories c\n",
        "LEFT JOIN product_categories pc ON c.category_id = pc.category_id\n",
        "GROUP BY c.category_id\n",
        "\"\"\")\n",
        "print(cursor.fetchall())\n"
      ],
      "metadata": {
        "colab": {
          "base_uri": "https://localhost:8080/"
        },
        "id": "h5jcJ9LLQpfv",
        "outputId": "72b0483a-13d6-4792-e34b-cea98c8c42f5"
      },
      "execution_count": 8,
      "outputs": [
        {
          "output_type": "stream",
          "name": "stdout",
          "text": [
            "[('Electronics', 4), ('Wearables', 1), ('Audio', 1)]\n"
          ]
        }
      ]
    },
    {
      "cell_type": "code",
      "source": [
        "cursor.execute(\"\"\"\n",
        "SELECT c.category_name\n",
        "FROM categories c\n",
        "LEFT JOIN product_categories pc ON c.category_id = pc.category_id\n",
        "WHERE pc.product_id IS NULL\n",
        "\"\"\")\n",
        "print(cursor.fetchall())\n"
      ],
      "metadata": {
        "colab": {
          "base_uri": "https://localhost:8080/"
        },
        "id": "xR-BNBLCQpcT",
        "outputId": "546b865f-6281-456a-b57f-27dff796bc91"
      },
      "execution_count": 9,
      "outputs": [
        {
          "output_type": "stream",
          "name": "stdout",
          "text": [
            "[]\n"
          ]
        }
      ]
    },
    {
      "cell_type": "markdown",
      "source": [
        "# **4**"
      ],
      "metadata": {
        "id": "koIMo528RTxi"
      }
    },
    {
      "cell_type": "code",
      "source": [
        "cursor.execute(\"UPDATE products SET price = 1300.00 WHERE product_id = 1\")\n",
        "conn.commit()\n"
      ],
      "metadata": {
        "id": "Ihj34YdbQzad"
      },
      "execution_count": 10,
      "outputs": []
    },
    {
      "cell_type": "code",
      "source": [
        "cursor.execute(\"DELETE FROM products WHERE product_id = 3\")\n",
        "conn.commit()\n"
      ],
      "metadata": {
        "id": "T1uaDRYcQzW7"
      },
      "execution_count": 11,
      "outputs": []
    },
    {
      "cell_type": "markdown",
      "source": [
        "# **5**"
      ],
      "metadata": {
        "id": "JgrxvxoJRiqC"
      }
    },
    {
      "cell_type": "code",
      "source": [
        "cursor.execute(\"\"\"\n",
        "SELECT product_name, price\n",
        "FROM products\n",
        "ORDER BY price DESC\n",
        "LIMIT 3\n",
        "\"\"\")\n",
        "print(cursor.fetchall())\n"
      ],
      "metadata": {
        "colab": {
          "base_uri": "https://localhost:8080/"
        },
        "id": "muF7uZ4HQ3QU",
        "outputId": "98a22173-9fe5-4bbc-8257-cc843c975927"
      },
      "execution_count": 12,
      "outputs": [
        {
          "output_type": "stream",
          "name": "stdout",
          "text": [
            "[('Laptop', 1300), ('Smartphone', 800), ('Smartwatch', 200)]\n"
          ]
        }
      ]
    },
    {
      "cell_type": "code",
      "source": [
        "cursor.execute(\"\"\"\n",
        "SELECT product_name, price\n",
        "FROM products\n",
        "WHERE price > (SELECT AVG(price) FROM products)\n",
        "\"\"\")\n",
        "print(cursor.fetchall())\n"
      ],
      "metadata": {
        "colab": {
          "base_uri": "https://localhost:8080/"
        },
        "id": "dDixrB83Q3NX",
        "outputId": "6f846b4f-f77d-4027-c072-5ff384cbd55f"
      },
      "execution_count": 13,
      "outputs": [
        {
          "output_type": "stream",
          "name": "stdout",
          "text": [
            "[('Laptop', 1300), ('Smartphone', 800)]\n"
          ]
        }
      ]
    },
    {
      "cell_type": "code",
      "source": [
        "def add_product_with_categories(product_id, name, price, category_ids):\n",
        "    cursor.execute(\"INSERT INTO products VALUES (?, ?, ?)\", (product_id, name, price))\n",
        "    for category_id in category_ids:\n",
        "        cursor.execute(\"INSERT INTO product_categories VALUES (?, ?)\", (product_id, category_id))\n",
        "    conn.commit()\n",
        "\n",
        "# Example usage:\n",
        "add_product_with_categories(6, 'Bluetooth Speaker', 100.00, [1, 3])\n"
      ],
      "metadata": {
        "id": "SB0kjAlzQ3KB"
      },
      "execution_count": 14,
      "outputs": []
    },
    {
      "cell_type": "code",
      "source": [
        "conn.close()\n"
      ],
      "metadata": {
        "id": "LllKVP6nRCHk"
      },
      "execution_count": 15,
      "outputs": []
    }
  ]
}