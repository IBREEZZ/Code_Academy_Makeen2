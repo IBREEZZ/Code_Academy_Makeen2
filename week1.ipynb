{
  "nbformat": 4,
  "nbformat_minor": 0,
  "metadata": {
    "colab": {
      "provenance": [],
      "collapsed_sections": [
        "lmacnj79ACcs"
      ],
      "authorship_tag": "ABX9TyNJF8E9aRyytlrJYpsVqkp7",
      "include_colab_link": true
    },
    "kernelspec": {
      "name": "python3",
      "display_name": "Python 3"
    },
    "language_info": {
      "name": "python"
    }
  },
  "cells": [
    {
      "cell_type": "markdown",
      "metadata": {
        "id": "view-in-github",
        "colab_type": "text"
      },
      "source": [
        "<a href=\"https://colab.research.google.com/github/IBREEZZ/Problem_Solving/blob/main/week1.ipynb\" target=\"_parent\"><img src=\"https://colab.research.google.com/assets/colab-badge.svg\" alt=\"Open In Colab\"/></a>"
      ]
    },
    {
      "cell_type": "markdown",
      "source": [
        "## **Chapter 1**"
      ],
      "metadata": {
        "id": "yg0-vHTRJI-H"
      }
    },
    {
      "cell_type": "markdown",
      "source": [
        "**print function**"
      ],
      "metadata": {
        "id": "TE_P588PMd9C"
      }
    },
    {
      "cell_type": "code",
      "execution_count": null,
      "metadata": {
        "colab": {
          "base_uri": "https://localhost:8080/"
        },
        "id": "TXwnWKZWBcQO",
        "outputId": "1484a323-49fa-4476-8bd5-888a94fdbba3"
      },
      "outputs": [
        {
          "output_type": "stream",
          "name": "stdout",
          "text": [
            "Hello World \n"
          ]
        }
      ],
      "source": [
        "print('Hello World ')"
      ]
    },
    {
      "cell_type": "markdown",
      "source": [
        "**variable**\n",
        "- name storage loction in computer program"
      ],
      "metadata": {
        "id": "2IIsTKOyMh-l"
      }
    },
    {
      "cell_type": "code",
      "source": [
        "name = 'IBREEZ'\n",
        "print(name)"
      ],
      "metadata": {
        "colab": {
          "base_uri": "https://localhost:8080/"
        },
        "id": "6u9tvdiMMvyI",
        "outputId": "2fa2bd3a-8088-4736-f890-db4816979eca"
      },
      "execution_count": null,
      "outputs": [
        {
          "output_type": "stream",
          "name": "stdout",
          "text": [
            "IBREEZ\n"
          ]
        }
      ]
    },
    {
      "cell_type": "markdown",
      "source": [
        "**Data Type:**\n",
        "  - integer\n",
        "  - float\n",
        "  - String (be between question mark)\n"
      ],
      "metadata": {
        "id": "nogJNXWiOBNd"
      }
    },
    {
      "cell_type": "markdown",
      "source": [
        "**Soda Deal**"
      ],
      "metadata": {
        "id": "GokbPOisRT1_"
      }
    },
    {
      "cell_type": "code",
      "source": [
        "cans= 0.355\n",
        "print(cans)\n",
        "\n",
        "x=6*0.355\n",
        "print(x)\n",
        "\n",
        "y=2\n",
        "print (y)\n",
        "\n",
        "# the cans because more litter with less price"
      ],
      "metadata": {
        "colab": {
          "base_uri": "https://localhost:8080/"
        },
        "id": "3pk-6mySQAUX",
        "outputId": "a5d42664-8be8-490b-addc-a71b12aee80c"
      },
      "execution_count": null,
      "outputs": [
        {
          "output_type": "stream",
          "name": "stdout",
          "text": [
            "0.355\n",
            "2.13\n",
            "2\n"
          ]
        }
      ]
    },
    {
      "cell_type": "code",
      "source": [
        "canPerPack= 6 # \"=\" assignment statment"
      ],
      "metadata": {
        "id": "T5kviAapR_RW"
      },
      "execution_count": null,
      "outputs": []
    },
    {
      "cell_type": "code",
      "source": [
        "count = 0\n",
        "count = count + 1\n",
        "#print(count)\n",
        "count = count + 1\n",
        "print(count)"
      ],
      "metadata": {
        "colab": {
          "base_uri": "https://localhost:8080/"
        },
        "id": "pAMhtRB7T66V",
        "outputId": "54f7bedb-aa5d-474f-e3c0-e323eab795a8"
      },
      "execution_count": null,
      "outputs": [
        {
          "output_type": "stream",
          "name": "stdout",
          "text": [
            "2\n"
          ]
        }
      ]
    },
    {
      "cell_type": "markdown",
      "source": [
        "**Name the variable**\n",
        "- you can not start name with number\n",
        "- you can not use symbols\n",
        "- spaces is not allowed\n",
        "- _ is allowed\n",
        "- don't use reserved python word(list,print,imprt,let,.....)\n",
        "-- **use decriptiv name for the value**"
      ],
      "metadata": {
        "id": "gt4C97hTVvIW"
      }
    },
    {
      "cell_type": "code",
      "source": [
        "name=\"Qusey\"\n",
        "print(name)"
      ],
      "metadata": {
        "colab": {
          "base_uri": "https://localhost:8080/"
        },
        "id": "-vQkNXX2V30r",
        "outputId": "a5b7f753-23a3-4e24-a3b5-f4963f4492fc"
      },
      "execution_count": null,
      "outputs": [
        {
          "output_type": "stream",
          "name": "stdout",
          "text": [
            "Qusey\n"
          ]
        }
      ]
    },
    {
      "cell_type": "code",
      "source": [
        "#you can not start name with number\n",
        "#01name=\"Ali\"\n",
        "#print(01name)"
      ],
      "metadata": {
        "id": "2lILGzjVWA0P"
      },
      "execution_count": null,
      "outputs": []
    },
    {
      "cell_type": "code",
      "source": [
        "#you can not use symbols\n",
        "#name=\"Ahmed\"\n",
        "#print(name&)"
      ],
      "metadata": {
        "id": "-BxvhNqJWH6t"
      },
      "execution_count": null,
      "outputs": []
    },
    {
      "cell_type": "code",
      "source": [
        "#canVolume1 # T\n",
        "#x # T\n",
        "#CanVolume # T (beter to start with small letter / if ther word sane start with small lettel will be diffrent value than this one)\n",
        "#6pack # F (start with number)\n",
        "#can volume # F (have space)\n",
        "#class # F (have symbols)\n",
        "#ltr/1.fz # F (have symbols)"
      ],
      "metadata": {
        "id": "KwJAXFzQX9qp"
      },
      "execution_count": null,
      "outputs": []
    },
    {
      "cell_type": "markdown",
      "source": [
        "**Constants**\n",
        "- make it all word capter letter"
      ],
      "metadata": {
        "id": "-fSnqHH-aMwb"
      }
    },
    {
      "cell_type": "code",
      "source": [
        "PRICE = 5\n",
        "print(PRICE)"
      ],
      "metadata": {
        "colab": {
          "base_uri": "https://localhost:8080/"
        },
        "id": "YOsy2VM3aZKR",
        "outputId": "f8a23ab4-9139-4d45-8e8a-760a0af4aba8"
      },
      "execution_count": null,
      "outputs": [
        {
          "output_type": "stream",
          "name": "stdout",
          "text": [
            "5\n"
          ]
        }
      ]
    },
    {
      "cell_type": "markdown",
      "source": [
        "**Comment**\n",
        "- it for explin\n",
        "- not print\n",
        "- use the #\n",
        "- in long text ''' ............ '''\n",
        "- use ctrl + / (to comment multiple line)"
      ],
      "metadata": {
        "id": "dKIiZVmUa40h"
      }
    },
    {
      "cell_type": "markdown",
      "source": [],
      "metadata": {
        "id": "QOvz-HQ1evmq"
      }
    },
    {
      "cell_type": "code",
      "source": [
        "pack = 6\n",
        "cans = 12\n",
        "bottle = 2\n",
        "fluid12 = 0.355 #this for 1 cans which 12\n",
        "\n",
        "numCanPerPack = pack * fluid12 #total litter for cans in 6 pack\n",
        "\n",
        "if numCanPerPack > bottle:\n",
        "  print(numCanPerPack)\n",
        "\n",
        "else:\n",
        "  print(bottle)"
      ],
      "metadata": {
        "colab": {
          "base_uri": "https://localhost:8080/"
        },
        "id": "910i043KcS5u",
        "outputId": "18fa98b1-6542-42e7-e761-273fb03cc7a8"
      },
      "execution_count": null,
      "outputs": [
        {
          "output_type": "stream",
          "name": "stdout",
          "text": [
            "2.13\n"
          ]
        }
      ]
    },
    {
      "cell_type": "markdown",
      "source": [
        "Arithmetic Operations\n",
        "- Addition +\n",
        "- Subtraction -\n",
        "- Multiplication *\n",
        "- Division /\n",
        "- parthesis ()\n",
        "- Exponent power **\n",
        "- Remainder %\n",
        "- Assignment =\n",
        "-- any sum with float be float\n",
        "\n"
      ],
      "metadata": {
        "id": "7GyVAcRNs4ab"
      }
    },
    {
      "cell_type": "code",
      "source": [
        "b=2\n",
        "r=2\n",
        "n=4\n",
        "num= b*(1+r/100)**n\n",
        "print(num)"
      ],
      "metadata": {
        "colab": {
          "base_uri": "https://localhost:8080/"
        },
        "id": "Dl1Jawc2u22S",
        "outputId": "ecf396b0-d978-44d7-81db-a1b3b1d3c296"
      },
      "execution_count": null,
      "outputs": [
        {
          "output_type": "stream",
          "name": "stdout",
          "text": [
            "2.16486432\n"
          ]
        }
      ]
    },
    {
      "cell_type": "markdown",
      "source": [
        "- with float /\n",
        "- befor point //\n",
        "- rmainder %"
      ],
      "metadata": {
        "id": "drSi8IMwx-lF"
      }
    },
    {
      "cell_type": "code",
      "source": [
        "n= 5\n",
        "m=4\n",
        "a1=n/m\n",
        "print(a1)\n",
        "a2=n//m\n",
        "print(a2)\n",
        "a3=n%m\n",
        "print(a3)"
      ],
      "metadata": {
        "colab": {
          "base_uri": "https://localhost:8080/"
        },
        "id": "soQBn0BeyblT",
        "outputId": "b8083f8a-7a2c-479a-f5ff-7aa5f757b83e"
      },
      "execution_count": null,
      "outputs": [
        {
          "output_type": "stream",
          "name": "stdout",
          "text": [
            "1.25\n",
            "1\n",
            "1\n"
          ]
        }
      ]
    },
    {
      "cell_type": "markdown",
      "source": [
        "find me the even and  odd numbers between a & b a=6   b=13?"
      ],
      "metadata": {
        "id": "DXE6xPsd0ENH"
      }
    },
    {
      "cell_type": "markdown",
      "source": [
        "- begin\n",
        "- input a= 6\n",
        "- input b=13\n",
        "- If a % 2 == 0 yes → print \"a is even\"\n",
        "- Else No→ print \"a is odd\"\n",
        "\n",
        "- If b % 2 == 0 yes→ print \"b is even\"\n",
        "- Else No → print \"b is odd\"\n",
        "- End"
      ],
      "metadata": {
        "id": "7YfAVYDF0Pvg"
      }
    },
    {
      "cell_type": "code",
      "source": [
        "a=6\n",
        "b=13\n",
        "\n",
        "if a%2 ==0 :\n",
        "  print(\"a is even\")\n",
        "else:\n",
        "  print(\"a is odd\")\n",
        "\n",
        "if b%2 ==0 :\n",
        "  print(\"b is even\")\n",
        "else:\n",
        "  print(\"b is odd\")"
      ],
      "metadata": {
        "colab": {
          "base_uri": "https://localhost:8080/"
        },
        "id": "RzVA4nXC1MRD",
        "outputId": "8b340bae-d0c2-4949-8ed9-fd7c7916de79"
      },
      "execution_count": null,
      "outputs": [
        {
          "output_type": "stream",
          "name": "stdout",
          "text": [
            "a is even\n",
            "b is odd\n"
          ]
        }
      ]
    },
    {
      "cell_type": "markdown",
      "source": [
        "**Function**\n",
        "- 2 type (void and return)\n",
        "- abs (make negive num to postive )\n"
      ],
      "metadata": {
        "id": "q70-k_lO3kaB"
      }
    },
    {
      "cell_type": "code",
      "source": [
        "a=-10\n",
        "\n",
        "if a<0:\n",
        "  # a= a*-1 #how abs is work\n",
        "  a=abs(a)\n",
        "  print(a)\n",
        "else:\n",
        "  print(a)"
      ],
      "metadata": {
        "colab": {
          "base_uri": "https://localhost:8080/"
        },
        "id": "9cvVOPOw1p-Z",
        "outputId": "d0005fe0-1664-4ce8-c12e-761f77a8df6a"
      },
      "execution_count": null,
      "outputs": [
        {
          "output_type": "stream",
          "name": "stdout",
          "text": [
            "10\n"
          ]
        }
      ]
    },
    {
      "cell_type": "markdown",
      "source": [
        "**Argument**\n",
        "- any thing we pass it in parthesis"
      ],
      "metadata": {
        "id": "_rUoebqH6JIx"
      }
    },
    {
      "cell_type": "code",
      "source": [
        "x=45.55\n",
        "roundx=round(x)\n",
        "print(roundx)"
      ],
      "metadata": {
        "colab": {
          "base_uri": "https://localhost:8080/"
        },
        "id": "BdGlTQwI7mKc",
        "outputId": "aeb1a119-7a86-4a66-d8d8-7d20eb941f3a"
      },
      "execution_count": null,
      "outputs": [
        {
          "output_type": "stream",
          "name": "stdout",
          "text": [
            "46\n"
          ]
        }
      ]
    },
    {
      "cell_type": "code",
      "source": [
        "x=45.347\n",
        "roundx=round(x,1)\n",
        "print(roundx)"
      ],
      "metadata": {
        "colab": {
          "base_uri": "https://localhost:8080/"
        },
        "id": "i1tQI4Rt7a59",
        "outputId": "1970cca1-882f-4411-e43c-c6aba04b089a"
      },
      "execution_count": null,
      "outputs": [
        {
          "output_type": "stream",
          "name": "stdout",
          "text": [
            "45.3\n"
          ]
        }
      ]
    },
    {
      "cell_type": "code",
      "source": [
        "x=45.347\n",
        "roundx=round(x,2)\n",
        "print(roundx)"
      ],
      "metadata": {
        "colab": {
          "base_uri": "https://localhost:8080/"
        },
        "id": "x32F6KLz75Wq",
        "outputId": "fe69a0fa-0600-4b30-8e1c-a14d8cba5127"
      },
      "execution_count": null,
      "outputs": [
        {
          "output_type": "stream",
          "name": "stdout",
          "text": [
            "45.35\n"
          ]
        }
      ]
    },
    {
      "cell_type": "code",
      "source": [
        "min1=min(1,2,3,4,5)\n",
        "print(min1)"
      ],
      "metadata": {
        "colab": {
          "base_uri": "https://localhost:8080/"
        },
        "id": "DzuHdTT7899s",
        "outputId": "2109307b-8649-4753-b7a0-be8f9ee4b39c"
      },
      "execution_count": null,
      "outputs": [
        {
          "output_type": "stream",
          "name": "stdout",
          "text": [
            "1\n"
          ]
        }
      ]
    },
    {
      "cell_type": "code",
      "source": [
        "max(1,2,3,4,5)"
      ],
      "metadata": {
        "colab": {
          "base_uri": "https://localhost:8080/"
        },
        "id": "pKJgFlyM9Kx8",
        "outputId": "ae4ccbe7-b4b6-413c-fe28-4e96ccadcf24"
      },
      "execution_count": null,
      "outputs": [
        {
          "output_type": "execute_result",
          "data": {
            "text/plain": [
              "5"
            ]
          },
          "metadata": {},
          "execution_count": 18
        }
      ]
    },
    {
      "cell_type": "markdown",
      "source": [
        "**using function from the Math Moduls**\n",
        "- import math\n",
        "-- math.sqrt\n",
        "- from math import sqrt\n",
        "-- sqrt()"
      ],
      "metadata": {
        "id": "1Jj2Ttwu-FBk"
      }
    },
    {
      "cell_type": "code",
      "source": [
        "import math\n",
        "x=math.sqrt(16)\n",
        "print(x)"
      ],
      "metadata": {
        "colab": {
          "base_uri": "https://localhost:8080/"
        },
        "id": "AzY5BUJl-v3b",
        "outputId": "ffb3adec-e8af-437f-ceb5-79e7770d03c3"
      },
      "execution_count": null,
      "outputs": [
        {
          "output_type": "stream",
          "name": "stdout",
          "text": [
            "4.0\n"
          ]
        }
      ]
    },
    {
      "cell_type": "code",
      "source": [
        "from math import sqrt\n",
        "x=sqrt(16)\n",
        "print(x)\n"
      ],
      "metadata": {
        "id": "2DQkY0gu-2pN",
        "outputId": "688a931a-b9ed-461c-d9ee-a4aabff61b60",
        "colab": {
          "base_uri": "https://localhost:8080/"
        }
      },
      "execution_count": null,
      "outputs": [
        {
          "output_type": "stream",
          "name": "stdout",
          "text": [
            "4.0\n"
          ]
        }
      ]
    },
    {
      "cell_type": "markdown",
      "source": [
        "**floating to integer** **or integer to float**"
      ],
      "metadata": {
        "id": "6iSpqZf__Cap"
      }
    },
    {
      "cell_type": "code",
      "source": [
        "age=2.5\n",
        "#convert to int\n",
        "age=int(age)\n",
        "print(age)"
      ],
      "metadata": {
        "colab": {
          "base_uri": "https://localhost:8080/"
        },
        "id": "Ho4dtNwo_HDv",
        "outputId": "770e6f38-3823-4abe-c014-e21cd6d7259c"
      },
      "execution_count": null,
      "outputs": [
        {
          "output_type": "stream",
          "name": "stdout",
          "text": [
            "2\n"
          ]
        }
      ]
    },
    {
      "cell_type": "code",
      "source": [
        "age=1\n",
        "#convert to float\n",
        "age=float(age)\n",
        "print(age)"
      ],
      "metadata": {
        "colab": {
          "base_uri": "https://localhost:8080/"
        },
        "id": "a2JJKrky_VCB",
        "outputId": "0b34e0c9-9c7d-40a9-cbb5-9e44d88413ce"
      },
      "execution_count": null,
      "outputs": [
        {
          "output_type": "stream",
          "name": "stdout",
          "text": [
            "1.0\n"
          ]
        }
      ]
    },
    {
      "cell_type": "markdown",
      "source": [
        "# **using sqrt**"
      ],
      "metadata": {
        "id": "lmacnj79ACcs"
      }
    },
    {
      "cell_type": "code",
      "source": [
        "from math import sqrt\n",
        "a=2\n",
        "b=2\n",
        "print(sqrt(a**2+b**2))"
      ],
      "metadata": {
        "colab": {
          "base_uri": "https://localhost:8080/"
        },
        "id": "P_RgFF_EAHHv",
        "outputId": "d88dd5c6-e39d-45b2-e0cd-7639a523a3bd"
      },
      "execution_count": null,
      "outputs": [
        {
          "output_type": "stream",
          "name": "stdout",
          "text": [
            "2.8284271247461903\n"
          ]
        }
      ]
    },
    {
      "cell_type": "code",
      "source": [
        "from math import sqrt,cos\n",
        "a=2\n",
        "b=2\n",
        "t=2\n",
        "sqrt(a**2+b**2-2*a*b*cos(t))"
      ],
      "metadata": {
        "colab": {
          "base_uri": "https://localhost:8080/"
        },
        "id": "GNeoRvz4Fad2",
        "outputId": "6fc53bc2-6a1d-4b5a-9742-40f167456814"
      },
      "execution_count": null,
      "outputs": [
        {
          "output_type": "execute_result",
          "data": {
            "text/plain": [
              "3.365883939231586"
            ]
          },
          "metadata": {},
          "execution_count": 10
        }
      ]
    },
    {
      "cell_type": "markdown",
      "source": [
        "from math import *\n",
        "-  this import all what include in the math no need to minthion it"
      ],
      "metadata": {
        "id": "e5zu1JjuG0Et"
      }
    },
    {
      "cell_type": "code",
      "source": [
        "from math import *\n",
        "sqrt(16)"
      ],
      "metadata": {
        "colab": {
          "base_uri": "https://localhost:8080/"
        },
        "id": "cjB10wH3HBZJ",
        "outputId": "fa36ced2-0d09-40a5-a11e-53ab233984bd"
      },
      "execution_count": null,
      "outputs": [
        {
          "output_type": "execute_result",
          "data": {
            "text/plain": [
              "4.0"
            ]
          },
          "metadata": {},
          "execution_count": 12
        }
      ]
    },
    {
      "cell_type": "markdown",
      "source": [
        "**Combining Assignment And Arithmetic**\n",
        "- ShourtCut"
      ],
      "metadata": {
        "id": "EcE9kAtMHf8d"
      }
    },
    {
      "cell_type": "code",
      "source": [
        "count=0\n",
        "count = count + 1\n",
        "print(count)\n",
        "\n",
        "countt=0\n",
        "countt += 1 # this is shourtcut\n",
        "print(countt)"
      ],
      "metadata": {
        "colab": {
          "base_uri": "https://localhost:8080/"
        },
        "id": "lozfEluwHpPX",
        "outputId": "36be9b9e-7d49-403d-e715-8ba2128be9a6"
      },
      "execution_count": null,
      "outputs": [
        {
          "output_type": "stream",
          "name": "stdout",
          "text": [
            "1\n",
            "1\n"
          ]
        }
      ]
    },
    {
      "cell_type": "markdown",
      "source": [
        "# **Chapter 2**"
      ],
      "metadata": {
        "id": "fo2AyX0aJXiN"
      }
    },
    {
      "cell_type": "markdown",
      "source": [
        "**User Input**"
      ],
      "metadata": {
        "id": "VR8-gmiEJf--"
      }
    },
    {
      "cell_type": "code",
      "source": [
        "name = input(\"plase enter your name : \")"
      ],
      "metadata": {
        "colab": {
          "base_uri": "https://localhost:8080/"
        },
        "id": "HHaw8X1hJa5E",
        "outputId": "1d5bd80f-8c3e-495b-d571-77efee9e9bfc"
      },
      "execution_count": null,
      "outputs": [
        {
          "name": "stdout",
          "output_type": "stream",
          "text": [
            "plase enter your name : IBREEZ\n"
          ]
        }
      ]
    },
    {
      "cell_type": "code",
      "source": [
        "message = \"enter your name : \"\n",
        "name = input(message)"
      ],
      "metadata": {
        "colab": {
          "base_uri": "https://localhost:8080/"
        },
        "id": "M8wakLG2KhfP",
        "outputId": "240bbc07-dfa3-4398-aab2-bcc4c067c87b"
      },
      "execution_count": null,
      "outputs": [
        {
          "name": "stdout",
          "output_type": "stream",
          "text": [
            "enter your name : Ibreez\n"
          ]
        }
      ]
    },
    {
      "cell_type": "code",
      "source": [
        "num=int(input(\"enter your number :\"))"
      ],
      "metadata": {
        "colab": {
          "base_uri": "https://localhost:8080/"
        },
        "id": "tBLVnEhHLijb",
        "outputId": "e346e35f-9646-479d-8f3c-405453b103e7"
      },
      "execution_count": null,
      "outputs": [
        {
          "name": "stdout",
          "output_type": "stream",
          "text": [
            "enter your number :5\n"
          ]
        }
      ]
    },
    {
      "cell_type": "markdown",
      "source": [
        "**Formatted Output**\n",
        "- format specifier"
      ],
      "metadata": {
        "id": "vG0wDKaVUA-i"
      }
    },
    {
      "cell_type": "code",
      "source": [
        "#using % f,s,d\n",
        "price = 1.21996\n",
        "print ( \"print price per litter %.2f\" %(price))\n",
        "print ( \"print price per litter %10.2f\" %(price))"
      ],
      "metadata": {
        "colab": {
          "base_uri": "https://localhost:8080/"
        },
        "id": "earFsFdfUER6",
        "outputId": "0956e7ad-e97c-4812-ba2f-a38097632ec4"
      },
      "execution_count": null,
      "outputs": [
        {
          "output_type": "stream",
          "name": "stdout",
          "text": [
            "print price per litter 1.22\n",
            "print price per litter       1.22\n"
          ]
        }
      ]
    },
    {
      "cell_type": "code",
      "source": [
        "##number of space\n",
        "name = \"IBREEZ\"\n",
        "age = 23\n",
        "\n",
        "#to left\n",
        "\n",
        "print ( \" My Name is %8s\" %name)\n",
        "print ( \" My Age is %8d\" %age)\n",
        "\n",
        "print (\"My Name is : %5s & My Age is : %1d  \" %(name , age) )\n",
        "\n",
        "#to right\n",
        "\n",
        "print ( \" My Name is %-8s\" %name)\n",
        "print ( \" My Age is %-8d\" %age)\n",
        "\n",
        "print (\"My Name is : %-5s & My Age is : %-1d  \" %(name , age) )"
      ],
      "metadata": {
        "colab": {
          "base_uri": "https://localhost:8080/"
        },
        "id": "L0_fcUpiYx7o",
        "outputId": "17272d99-264b-4a56-b143-7a95e401c8ec"
      },
      "execution_count": null,
      "outputs": [
        {
          "output_type": "stream",
          "name": "stdout",
          "text": [
            " My Name is   IBREEZ\n",
            " My Age is       23\n",
            "My Name is : IBREEZ & My Age is : 23  \n",
            " My Name is IBREEZ  \n",
            " My Age is 23      \n",
            "My Name is : IBREEZ & My Age is : 23  \n"
          ]
        }
      ]
    },
    {
      "cell_type": "code",
      "source": [
        "price = 1.21996\n",
        "print(\"%-10s\" %(\"Total:\"))\n",
        "print(\"%10.2f\" %(price))\n",
        "print(\"%-10s%10.2f\" %(\"Total: \" , price))"
      ],
      "metadata": {
        "colab": {
          "base_uri": "https://localhost:8080/"
        },
        "id": "Th2gDqpNdr4O",
        "outputId": "cc23a9a7-46cf-4396-8e42-a363e76aa83e"
      },
      "execution_count": null,
      "outputs": [
        {
          "output_type": "stream",
          "name": "stdout",
          "text": [
            "Total:    \n",
            "      1.22\n",
            "Total:          1.22\n"
          ]
        }
      ]
    },
    {
      "cell_type": "code",
      "source": [
        "canPaket = int(input(\"enter the number of paket : \"))\n",
        "canNumInPaket = int(input(f\"enter the number of {canPaket} paket : \"))\n",
        "canLetter = float(input(f\"enter the letter  : \"))\n",
        "bottelLetter= int(input(f\"enter the letter of bottel : \"))\n",
        "\n",
        "canLetterPaket = canPaket *canLetter # total letter\n",
        "\n",
        "if canLetterPaket > bottelLetter:\n",
        "  print(f\"cans less price: {canLetterPaket}\")\n",
        "\n",
        "else:\n",
        "  print(f\" bottel  less price :{bottelLetter}\")"
      ],
      "metadata": {
        "colab": {
          "base_uri": "https://localhost:8080/"
        },
        "id": "7aG5g4BOhEUF",
        "outputId": "9c0d895a-670e-43f2-85f9-85ed0620903a"
      },
      "execution_count": null,
      "outputs": [
        {
          "output_type": "stream",
          "name": "stdout",
          "text": [
            "enter the number of paket : 6\n",
            "enter the number of 6 paket : 12\n",
            "enter the letter  : 2\n",
            "enter the letter of bottel : 2\n",
            "cans less price: 12.0\n"
          ]
        }
      ]
    },
    {
      "cell_type": "markdown",
      "source": [
        "**Strings**"
      ],
      "metadata": {
        "id": "oxK8nzkllM4f"
      }
    },
    {
      "cell_type": "code",
      "source": [
        "message = \"He said 'Hello' \"\n",
        "print (message)"
      ],
      "metadata": {
        "colab": {
          "base_uri": "https://localhost:8080/"
        },
        "id": "O8_VtZh8lPuv",
        "outputId": "4e9aba3b-a53f-4d96-e73a-7cf1fa56d4c8"
      },
      "execution_count": null,
      "outputs": [
        {
          "output_type": "stream",
          "name": "stdout",
          "text": [
            "He said 'Hello' \n"
          ]
        }
      ]
    },
    {
      "cell_type": "code",
      "source": [
        "message = 'He said \"Hello\" '\n",
        "print (message)"
      ],
      "metadata": {
        "colab": {
          "base_uri": "https://localhost:8080/"
        },
        "id": "Zbqxj0t_nEJV",
        "outputId": "a3b046d1-b066-4a9e-ddb8-9be0198707f0"
      },
      "execution_count": null,
      "outputs": [
        {
          "output_type": "stream",
          "name": "stdout",
          "text": [
            "He said \"Hello\" \n"
          ]
        }
      ]
    },
    {
      "cell_type": "markdown",
      "source": [
        "**Length**\n",
        "- len"
      ],
      "metadata": {
        "id": "Xe3SX1lV2VI2"
      }
    },
    {
      "cell_type": "code",
      "source": [
        "length = len(\"IBREEZ\")\n",
        "print(length)"
      ],
      "metadata": {
        "colab": {
          "base_uri": "https://localhost:8080/"
        },
        "id": "5W9uHoi42bGL",
        "outputId": "ccaf4460-0cc4-40db-8849-ac8702ae1895"
      },
      "execution_count": 2,
      "outputs": [
        {
          "output_type": "stream",
          "name": "stdout",
          "text": [
            "6\n"
          ]
        }
      ]
    },
    {
      "cell_type": "markdown",
      "source": [
        "**String Concatenation**"
      ],
      "metadata": {
        "id": "zj3u6FH43PxP"
      }
    },
    {
      "cell_type": "code",
      "source": [
        "fristName = str(input(\"Enter your frist name :\"))\n",
        "lastName = str(input(\"Enter your last name :\"))\n",
        "fullName = fristName + \" \" + lastName\n",
        "print(fullName)"
      ],
      "metadata": {
        "colab": {
          "base_uri": "https://localhost:8080/"
        },
        "id": "c5z_nEyq3US5",
        "outputId": "a13e5567-a5c3-4f34-e226-96f039c3880b"
      },
      "execution_count": 7,
      "outputs": [
        {
          "output_type": "stream",
          "name": "stdout",
          "text": [
            "Enter your frist name :IBREEZ\n",
            "Enter your last name :AL-AUFI\n",
            "IBREEZ AL-AUFI\n"
          ]
        }
      ]
    },
    {
      "cell_type": "code",
      "source": [
        "fristName = str(input(\"Enter your frist name :\"))\n",
        "lastName = int(input(\"Enter your last name :\"))\n",
        "lastName = str(lastName)\n",
        "fullName = fristName + \" \" + lastName\n",
        "print(fullName)"
      ],
      "metadata": {
        "colab": {
          "base_uri": "https://localhost:8080/"
        },
        "id": "aAkh6SRK44Ig",
        "outputId": "49da4640-ca87-4405-875e-b4788d4df5fc"
      },
      "execution_count": 8,
      "outputs": [
        {
          "output_type": "stream",
          "name": "stdout",
          "text": [
            "Enter your frist name :ibreez\n",
            "Enter your last name :7\n",
            "ibreez 7\n"
          ]
        }
      ]
    },
    {
      "cell_type": "markdown",
      "source": [
        "**String repetition**"
      ],
      "metadata": {
        "id": "d-WKBa5B5aon"
      }
    },
    {
      "cell_type": "code",
      "source": [
        "print(\"-\" * 59)"
      ],
      "metadata": {
        "colab": {
          "base_uri": "https://localhost:8080/"
        },
        "id": "L-kBGsC35EaW",
        "outputId": "98bcd0d2-36bc-479a-da9b-11987fdea394"
      },
      "execution_count": 11,
      "outputs": [
        {
          "output_type": "stream",
          "name": "stdout",
          "text": [
            "-----------------------------------------------------------\n"
          ]
        }
      ]
    },
    {
      "cell_type": "markdown",
      "source": [
        "Overloaded\n",
        "-   String Concatenation +\n",
        "-   String repetition *"
      ],
      "metadata": {
        "id": "lbdTKhGX53NB"
      }
    },
    {
      "cell_type": "markdown",
      "source": [
        "[ ]  bracet -> for the index"
      ],
      "metadata": {
        "id": "lJXE1wIu6vhw"
      }
    },
    {
      "cell_type": "code",
      "source": [
        "name = 'IBREEZ'\n",
        "print (name[0])\n",
        "print(name[-1])\n",
        "print(name[1:])#from 1 to end\n",
        "print(name[0:3])# before 3 one\n",
        "print(name[-1:])\n",
        "print(name[-4:-1])\n",
        "print(name[::2])#every time move 2"
      ],
      "metadata": {
        "colab": {
          "base_uri": "https://localhost:8080/"
        },
        "id": "ia7HHOyg6Qef",
        "outputId": "d6051313-0ce0-4d82-faa7-a307b1a1fa0c"
      },
      "execution_count": 28,
      "outputs": [
        {
          "output_type": "stream",
          "name": "stdout",
          "text": [
            "I\n",
            "Z\n",
            "BREEZ\n",
            "IBR\n",
            "Z\n",
            "REE\n",
            "IRE\n",
            "I\n"
          ]
        }
      ]
    },
    {
      "cell_type": "markdown",
      "source": [
        "**String Escape Sequences**"
      ],
      "metadata": {
        "id": "ptPiZ6VH9DoF"
      }
    },
    {
      "cell_type": "code",
      "source": [
        "print (\"Hi I am \\\"IBREEZ\\\"\")"
      ],
      "metadata": {
        "colab": {
          "base_uri": "https://localhost:8080/"
        },
        "id": "rNGXjZgO8vGO",
        "outputId": "3ec82ea8-7887-4cfa-9aea-46ccbced7803"
      },
      "execution_count": 31,
      "outputs": [
        {
          "output_type": "stream",
          "name": "stdout",
          "text": [
            "Hi I am \"IBREEZ\"\n"
          ]
        }
      ]
    },
    {
      "cell_type": "code",
      "source": [
        "print(\"Hi I am \\\\IBREEZ\\\\\")"
      ],
      "metadata": {
        "colab": {
          "base_uri": "https://localhost:8080/"
        },
        "id": "tYXMknDJ98SB",
        "outputId": "4a44234d-ed74-4e6e-c626-bcc6a3132fcb"
      },
      "execution_count": 32,
      "outputs": [
        {
          "output_type": "stream",
          "name": "stdout",
          "text": [
            "Hi I am \\IBREEZ\\\n"
          ]
        }
      ]
    },
    {
      "cell_type": "code",
      "source": [
        "print(\"Hi\\nI am \\nIBREEZ\")"
      ],
      "metadata": {
        "colab": {
          "base_uri": "https://localhost:8080/"
        },
        "id": "u3vtloyt-F3t",
        "outputId": "576d2f76-b673-4f2e-df36-4ed6107813d7"
      },
      "execution_count": 34,
      "outputs": [
        {
          "output_type": "stream",
          "name": "stdout",
          "text": [
            "Hi\n",
            "I am \n",
            "IBREEZ\n"
          ]
        }
      ]
    },
    {
      "cell_type": "code",
      "source": [
        "print(\"*\\n**\\n***\\n****\")"
      ],
      "metadata": {
        "colab": {
          "base_uri": "https://localhost:8080/"
        },
        "id": "RKMcioqn-OXP",
        "outputId": "240b8d06-53ec-4d2d-85c0-d9882bbeefea"
      },
      "execution_count": 35,
      "outputs": [
        {
          "output_type": "stream",
          "name": "stdout",
          "text": [
            "*\n",
            "**\n",
            "***\n",
            "****\n"
          ]
        }
      ]
    },
    {
      "cell_type": "markdown",
      "source": [
        "**IF STATMENT**"
      ],
      "metadata": {
        "id": "DJ6AhzfK_gJX"
      }
    },
    {
      "cell_type": "code",
      "source": [
        "floor=int(input(\"enter the number of floor: \"))\n",
        "if floor > 13 :\n",
        "  acutualfloor = floor - 1\n",
        "  print(\"acutual floor is : \", acutualfloor)\n",
        "else:\n",
        "  print(\"acutual floor is : \" ,floor)"
      ],
      "metadata": {
        "colab": {
          "base_uri": "https://localhost:8080/"
        },
        "id": "EylsSqQG_fGf",
        "outputId": "6fc73f4b-2db6-4045-934c-b6667f62991a"
      },
      "execution_count": 37,
      "outputs": [
        {
          "output_type": "stream",
          "name": "stdout",
          "text": [
            "enter the number of floor: 14\n",
            "acutual floor is :  13\n"
          ]
        }
      ]
    }
  ]
}