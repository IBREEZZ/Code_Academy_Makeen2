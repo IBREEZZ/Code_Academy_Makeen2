{
  "nbformat": 4,
  "nbformat_minor": 0,
  "metadata": {
    "colab": {
      "provenance": [],
      "authorship_tag": "ABX9TyM77Lj4A4rJQjU8w5iGXAYM",
      "include_colab_link": true
    },
    "kernelspec": {
      "name": "python3",
      "display_name": "Python 3"
    },
    "language_info": {
      "name": "python"
    }
  },
  "cells": [
    {
      "cell_type": "markdown",
      "metadata": {
        "id": "view-in-github",
        "colab_type": "text"
      },
      "source": [
        "<a href=\"https://colab.research.google.com/github/IBREEZZ/Code_Academy_Makeen2/blob/main/week3.ipynb\" target=\"_parent\"><img src=\"https://colab.research.google.com/assets/colab-badge.svg\" alt=\"Open In Colab\"/></a>"
      ]
    },
    {
      "cell_type": "markdown",
      "source": [
        "# **Numpy**"
      ],
      "metadata": {
        "id": "Rnan0XbCulyu"
      }
    },
    {
      "cell_type": "code",
      "execution_count": null,
      "metadata": {
        "id": "xm9rsZor-cu1"
      },
      "outputs": [],
      "source": [
        "import numpy as np"
      ]
    },
    {
      "cell_type": "code",
      "source": [
        "l1=[1,2,3,4]\n",
        "print(l1)"
      ],
      "metadata": {
        "colab": {
          "base_uri": "https://localhost:8080/"
        },
        "id": "S1qQTgNn_AwO",
        "outputId": "8472c24d-364b-429e-c214-1dda4c93c756"
      },
      "execution_count": null,
      "outputs": [
        {
          "output_type": "stream",
          "name": "stdout",
          "text": [
            "[1, 2, 3, 4]\n"
          ]
        }
      ]
    },
    {
      "cell_type": "code",
      "source": [
        "arry1=np.array(l1)\n",
        "print(arry1)\n",
        "arry1.dtype\n"
      ],
      "metadata": {
        "colab": {
          "base_uri": "https://localhost:8080/"
        },
        "id": "2RI2gDqkAUkp",
        "outputId": "95f292cf-cf9c-4bbf-dab8-d9af0693ff72"
      },
      "execution_count": null,
      "outputs": [
        {
          "output_type": "stream",
          "name": "stdout",
          "text": [
            "[1 2 3 4]\n"
          ]
        },
        {
          "output_type": "execute_result",
          "data": {
            "text/plain": [
              "dtype('int64')"
            ]
          },
          "metadata": {},
          "execution_count": 29
        }
      ]
    },
    {
      "cell_type": "code",
      "source": [
        "l2=[11,22,23,44]\n",
        "l2"
      ],
      "metadata": {
        "colab": {
          "base_uri": "https://localhost:8080/"
        },
        "id": "PSxFjNlyAUhW",
        "outputId": "1a739c6e-f480-4cf1-a3c8-97c03dd517fc"
      },
      "execution_count": null,
      "outputs": [
        {
          "output_type": "execute_result",
          "data": {
            "text/plain": [
              "[11, 22, 23, 44]"
            ]
          },
          "metadata": {},
          "execution_count": 30
        }
      ]
    },
    {
      "cell_type": "code",
      "source": [
        "l=[l1,l2]\n",
        "l"
      ],
      "metadata": {
        "colab": {
          "base_uri": "https://localhost:8080/"
        },
        "id": "FyE3vdhkAUeX",
        "outputId": "451e0b60-362c-4443-d06b-7c4b01ef3c48"
      },
      "execution_count": null,
      "outputs": [
        {
          "output_type": "execute_result",
          "data": {
            "text/plain": [
              "[[1, 2, 3, 4], [11, 22, 23, 44]]"
            ]
          },
          "metadata": {},
          "execution_count": 31
        }
      ]
    },
    {
      "cell_type": "code",
      "source": [
        "array_2D=np.array(l)\n",
        "print(array_2D)"
      ],
      "metadata": {
        "colab": {
          "base_uri": "https://localhost:8080/"
        },
        "id": "VImzkgKCAUbc",
        "outputId": "3b890c8e-4e95-4099-82b4-ee144517dfd4"
      },
      "execution_count": null,
      "outputs": [
        {
          "output_type": "stream",
          "name": "stdout",
          "text": [
            "[[ 1  2  3  4]\n",
            " [11 22 23 44]]\n"
          ]
        }
      ]
    },
    {
      "cell_type": "code",
      "source": [
        "array_2D.shape"
      ],
      "metadata": {
        "colab": {
          "base_uri": "https://localhost:8080/"
        },
        "id": "ev-Mmtm4AUHJ",
        "outputId": "97b7c4ee-96d0-4c79-a9f1-92ed0d90cc1e"
      },
      "execution_count": null,
      "outputs": [
        {
          "output_type": "execute_result",
          "data": {
            "text/plain": [
              "(2, 4)"
            ]
          },
          "metadata": {},
          "execution_count": 33
        }
      ]
    },
    {
      "cell_type": "code",
      "source": [
        "np.zeros(3,'int')"
      ],
      "metadata": {
        "colab": {
          "base_uri": "https://localhost:8080/"
        },
        "id": "oXgyjbr9CPRo",
        "outputId": "90f031b1-6363-427f-a192-e04028b47f2f"
      },
      "execution_count": null,
      "outputs": [
        {
          "output_type": "execute_result",
          "data": {
            "text/plain": [
              "array([0, 0, 0])"
            ]
          },
          "metadata": {},
          "execution_count": 34
        }
      ]
    },
    {
      "cell_type": "code",
      "source": [
        "np.zeros(3)"
      ],
      "metadata": {
        "colab": {
          "base_uri": "https://localhost:8080/"
        },
        "id": "oJKgBwQxDvDk",
        "outputId": "b23f84fc-db26-4f81-b2e0-fe2f18de9882"
      },
      "execution_count": null,
      "outputs": [
        {
          "output_type": "execute_result",
          "data": {
            "text/plain": [
              "array([0., 0., 0.])"
            ]
          },
          "metadata": {},
          "execution_count": 35
        }
      ]
    },
    {
      "cell_type": "code",
      "source": [
        "np.zeros([3,2],'int')"
      ],
      "metadata": {
        "colab": {
          "base_uri": "https://localhost:8080/"
        },
        "id": "ANqkAwD8FDrz",
        "outputId": "b8e3edc4-aedd-4d37-c080-a08680020ab0"
      },
      "execution_count": null,
      "outputs": [
        {
          "output_type": "execute_result",
          "data": {
            "text/plain": [
              "array([[0, 0],\n",
              "       [0, 0],\n",
              "       [0, 0]])"
            ]
          },
          "metadata": {},
          "execution_count": 36
        }
      ]
    },
    {
      "cell_type": "code",
      "source": [
        "np.ones(3)"
      ],
      "metadata": {
        "colab": {
          "base_uri": "https://localhost:8080/"
        },
        "id": "zBVSsAKNCPOP",
        "outputId": "143f80cf-88a5-4f98-f889-8f20e1b62310"
      },
      "execution_count": null,
      "outputs": [
        {
          "output_type": "execute_result",
          "data": {
            "text/plain": [
              "array([1., 1., 1.])"
            ]
          },
          "metadata": {},
          "execution_count": 37
        }
      ]
    },
    {
      "cell_type": "code",
      "source": [
        "np.ones(3,'int')"
      ],
      "metadata": {
        "colab": {
          "base_uri": "https://localhost:8080/"
        },
        "id": "ncLTrJq6DfpX",
        "outputId": "400d153e-ca8d-4603-adb8-9e48d6885688"
      },
      "execution_count": null,
      "outputs": [
        {
          "output_type": "execute_result",
          "data": {
            "text/plain": [
              "array([1, 1, 1])"
            ]
          },
          "metadata": {},
          "execution_count": 38
        }
      ]
    },
    {
      "cell_type": "code",
      "source": [
        "np.ones([3,3])"
      ],
      "metadata": {
        "colab": {
          "base_uri": "https://localhost:8080/"
        },
        "id": "VqVojqjoCPL1",
        "outputId": "b0616832-98db-4aaf-c5e7-06f8bd452c5f"
      },
      "execution_count": null,
      "outputs": [
        {
          "output_type": "execute_result",
          "data": {
            "text/plain": [
              "array([[1., 1., 1.],\n",
              "       [1., 1., 1.],\n",
              "       [1., 1., 1.]])"
            ]
          },
          "metadata": {},
          "execution_count": 39
        }
      ]
    },
    {
      "cell_type": "code",
      "source": [
        "np.empty(2)"
      ],
      "metadata": {
        "colab": {
          "base_uri": "https://localhost:8080/"
        },
        "id": "vP8rVRhiCPJM",
        "outputId": "9da451f9-ebc9-4c47-a4bf-7b855ab48ad6"
      },
      "execution_count": null,
      "outputs": [
        {
          "output_type": "execute_result",
          "data": {
            "text/plain": [
              "array([4.94065646e-324, 6.95257087e-310])"
            ]
          },
          "metadata": {},
          "execution_count": 40
        }
      ]
    },
    {
      "cell_type": "code",
      "source": [
        "np.empty(5)"
      ],
      "metadata": {
        "colab": {
          "base_uri": "https://localhost:8080/"
        },
        "id": "fOmIHGYXEZRJ",
        "outputId": "b173b78c-da4a-402b-ce7a-417e556b0214"
      },
      "execution_count": null,
      "outputs": [
        {
          "output_type": "execute_result",
          "data": {
            "text/plain": [
              "array([1., 1., 1., 1., 1.])"
            ]
          },
          "metadata": {},
          "execution_count": 41
        }
      ]
    },
    {
      "cell_type": "code",
      "source": [
        "np.empty(9)"
      ],
      "metadata": {
        "colab": {
          "base_uri": "https://localhost:8080/"
        },
        "id": "ACDU7aGvEe4K",
        "outputId": "fc464d93-b649-4216-ef75-c05fa671c4ed"
      },
      "execution_count": null,
      "outputs": [
        {
          "output_type": "execute_result",
          "data": {
            "text/plain": [
              "array([1., 1., 1., 1., 1., 1., 1., 1., 1.])"
            ]
          },
          "metadata": {},
          "execution_count": 42
        }
      ]
    },
    {
      "cell_type": "code",
      "source": [
        "np.eye(5)"
      ],
      "metadata": {
        "colab": {
          "base_uri": "https://localhost:8080/"
        },
        "id": "3uK1qZ16CPGu",
        "outputId": "27cd649d-236e-40ef-8b2f-cdd09050d61e"
      },
      "execution_count": null,
      "outputs": [
        {
          "output_type": "execute_result",
          "data": {
            "text/plain": [
              "array([[1., 0., 0., 0., 0.],\n",
              "       [0., 1., 0., 0., 0.],\n",
              "       [0., 0., 1., 0., 0.],\n",
              "       [0., 0., 0., 1., 0.],\n",
              "       [0., 0., 0., 0., 1.]])"
            ]
          },
          "metadata": {},
          "execution_count": 43
        }
      ]
    },
    {
      "cell_type": "code",
      "source": [
        "np.arange(10)"
      ],
      "metadata": {
        "colab": {
          "base_uri": "https://localhost:8080/"
        },
        "id": "K6Sv4yFQEIvZ",
        "outputId": "53a57146-aad9-468b-a490-1b7811637b79"
      },
      "execution_count": null,
      "outputs": [
        {
          "output_type": "execute_result",
          "data": {
            "text/plain": [
              "array([0, 1, 2, 3, 4, 5, 6, 7, 8, 9])"
            ]
          },
          "metadata": {},
          "execution_count": 44
        }
      ]
    },
    {
      "cell_type": "code",
      "source": [
        "np.arange(0,50,2)"
      ],
      "metadata": {
        "colab": {
          "base_uri": "https://localhost:8080/"
        },
        "id": "rTed0BmNESaT",
        "outputId": "691bbb86-3eeb-4643-d74f-fbe6a82badcb"
      },
      "execution_count": null,
      "outputs": [
        {
          "output_type": "execute_result",
          "data": {
            "text/plain": [
              "array([ 0,  2,  4,  6,  8, 10, 12, 14, 16, 18, 20, 22, 24, 26, 28, 30, 32,\n",
              "       34, 36, 38, 40, 42, 44, 46, 48])"
            ]
          },
          "metadata": {},
          "execution_count": 45
        }
      ]
    },
    {
      "cell_type": "code",
      "source": [
        "arr1=np.array([[1,2,3,4],[8,9,10,11]])\n",
        "print(arr1)"
      ],
      "metadata": {
        "colab": {
          "base_uri": "https://localhost:8080/"
        },
        "id": "BIyP0CclEIsE",
        "outputId": "36ba7859-f890-4e9e-a053-7aaffeb02c89"
      },
      "execution_count": null,
      "outputs": [
        {
          "output_type": "stream",
          "name": "stdout",
          "text": [
            "[[ 1  2  3  4]\n",
            " [ 8  9 10 11]]\n"
          ]
        }
      ]
    },
    {
      "cell_type": "code",
      "source": [
        "arr1*arr1"
      ],
      "metadata": {
        "colab": {
          "base_uri": "https://localhost:8080/"
        },
        "id": "WephXl1LJEOs",
        "outputId": "e0f07a75-27f3-4ec5-d269-a3a22914e9c6"
      },
      "execution_count": null,
      "outputs": [
        {
          "output_type": "execute_result",
          "data": {
            "text/plain": [
              "array([[  1,   4,   9,  16],\n",
              "       [ 64,  81, 100, 121]])"
            ]
          },
          "metadata": {},
          "execution_count": 47
        }
      ]
    },
    {
      "cell_type": "code",
      "source": [
        "arr2=np.array([[1,2,3],[4,5,6]])\n",
        "print(arr2)"
      ],
      "metadata": {
        "colab": {
          "base_uri": "https://localhost:8080/"
        },
        "id": "R-swChh7JELT",
        "outputId": "54538105-4fd8-4b00-b788-cdf0d162f5af"
      },
      "execution_count": null,
      "outputs": [
        {
          "output_type": "stream",
          "name": "stdout",
          "text": [
            "[[1 2 3]\n",
            " [4 5 6]]\n"
          ]
        }
      ]
    },
    {
      "cell_type": "code",
      "source": [
        "arr3=np.array([[1,2,3,4],[5,6,7,8]])\n",
        "print(arr3)"
      ],
      "metadata": {
        "colab": {
          "base_uri": "https://localhost:8080/"
        },
        "id": "mjEE1P8NJEI9",
        "outputId": "ca7ae02e-3505-436c-b325-2099d5377f60"
      },
      "execution_count": null,
      "outputs": [
        {
          "output_type": "stream",
          "name": "stdout",
          "text": [
            "[[1 2 3 4]\n",
            " [5 6 7 8]]\n"
          ]
        }
      ]
    },
    {
      "cell_type": "code",
      "source": [
        "#error becuse should be same data size (same  shape)\n",
        "# arr2*arr3"
      ],
      "metadata": {
        "id": "-R-KhuhTJEGO"
      },
      "execution_count": null,
      "outputs": []
    },
    {
      "cell_type": "code",
      "source": [
        "arr1-2"
      ],
      "metadata": {
        "colab": {
          "base_uri": "https://localhost:8080/"
        },
        "id": "3Y1eaoxsJEDE",
        "outputId": "be398762-2994-49bb-beab-05bd5d25e011"
      },
      "execution_count": null,
      "outputs": [
        {
          "output_type": "execute_result",
          "data": {
            "text/plain": [
              "array([[-1,  0,  1,  2],\n",
              "       [ 6,  7,  8,  9]])"
            ]
          },
          "metadata": {},
          "execution_count": 51
        }
      ]
    },
    {
      "cell_type": "code",
      "source": [
        "arr1**3"
      ],
      "metadata": {
        "colab": {
          "base_uri": "https://localhost:8080/"
        },
        "id": "gKsLGWfgJEAh",
        "outputId": "b1cb5e59-c459-4964-c419-4bb0c561e8f1"
      },
      "execution_count": null,
      "outputs": [
        {
          "output_type": "execute_result",
          "data": {
            "text/plain": [
              "array([[   1,    8,   27,   64],\n",
              "       [ 512,  729, 1000, 1331]])"
            ]
          },
          "metadata": {},
          "execution_count": 52
        }
      ]
    },
    {
      "cell_type": "code",
      "source": [
        "arr1.T"
      ],
      "metadata": {
        "colab": {
          "base_uri": "https://localhost:8080/"
        },
        "id": "ldovtGRqEIo2",
        "outputId": "d8bc5631-b896-401d-f3f0-99008b4fe3cf"
      },
      "execution_count": null,
      "outputs": [
        {
          "output_type": "execute_result",
          "data": {
            "text/plain": [
              "array([[ 1,  8],\n",
              "       [ 2,  9],\n",
              "       [ 3, 10],\n",
              "       [ 4, 11]])"
            ]
          },
          "metadata": {},
          "execution_count": 53
        }
      ]
    },
    {
      "cell_type": "code",
      "source": [
        "A=np.array([[1,2,3],[4,5,6]])\n",
        "print(A)\n",
        "print('\\n')\n",
        "B=np.array([[7,8],[9,10],[11,12]])\n",
        "print(B)\n",
        "print('\\n')\n",
        "np.dot(A,B)"
      ],
      "metadata": {
        "colab": {
          "base_uri": "https://localhost:8080/"
        },
        "id": "DBA8y46-Ml5S",
        "outputId": "cb8ff748-6793-40dc-d029-ec3a75c4f25e"
      },
      "execution_count": null,
      "outputs": [
        {
          "output_type": "stream",
          "name": "stdout",
          "text": [
            "[[1 2 3]\n",
            " [4 5 6]]\n",
            "\n",
            "\n",
            "[[ 7  8]\n",
            " [ 9 10]\n",
            " [11 12]]\n",
            "\n",
            "\n"
          ]
        },
        {
          "output_type": "execute_result",
          "data": {
            "text/plain": [
              "array([[ 58,  64],\n",
              "       [139, 154]])"
            ]
          },
          "metadata": {},
          "execution_count": 54
        }
      ]
    },
    {
      "cell_type": "code",
      "source": [
        "a1=np.array([1,3,5])\n",
        "print(a1)\n",
        "\n",
        "a2=np.array([2,4,6])\n",
        "print(a2)\n",
        "\n",
        "print(\"add\",a1+a2)\n",
        "print(\"sub\",a1-a2)\n",
        "print(\"mul\",a1*a2)\n",
        "print(\"div\",a1/a2)"
      ],
      "metadata": {
        "colab": {
          "base_uri": "https://localhost:8080/"
        },
        "id": "J333Q6diNOPN",
        "outputId": "2cb8d1fd-55df-4449-cfbf-2d2ee97056ef"
      },
      "execution_count": null,
      "outputs": [
        {
          "output_type": "stream",
          "name": "stdout",
          "text": [
            "[1 3 5]\n",
            "[2 4 6]\n",
            "add [ 3  7 11]\n",
            "sub [-1 -1 -1]\n",
            "mul [ 2 12 30]\n",
            "div [0.5        0.75       0.83333333]\n"
          ]
        }
      ]
    },
    {
      "cell_type": "code",
      "source": [
        "arr=np.arange(0,11)\n",
        "print(arr)"
      ],
      "metadata": {
        "colab": {
          "base_uri": "https://localhost:8080/"
        },
        "id": "IWAG7KefOwZi",
        "outputId": "64dc02c4-d2f4-4f57-aecf-f87425c70126"
      },
      "execution_count": null,
      "outputs": [
        {
          "output_type": "stream",
          "name": "stdout",
          "text": [
            "[ 0  1  2  3  4  5  6  7  8  9 10]\n"
          ]
        }
      ]
    },
    {
      "cell_type": "code",
      "source": [
        "arr.shape"
      ],
      "metadata": {
        "colab": {
          "base_uri": "https://localhost:8080/"
        },
        "id": "X9R0L8AiOwWG",
        "outputId": "0c936cd4-495d-447b-95cf-afb571300808"
      },
      "execution_count": null,
      "outputs": [
        {
          "output_type": "execute_result",
          "data": {
            "text/plain": [
              "(11,)"
            ]
          },
          "metadata": {},
          "execution_count": 57
        }
      ]
    },
    {
      "cell_type": "code",
      "source": [
        "arr[9]"
      ],
      "metadata": {
        "colab": {
          "base_uri": "https://localhost:8080/"
        },
        "id": "PG19jKkNOwTt",
        "outputId": "b0794ab2-7158-4777-e73b-79a4a7557414"
      },
      "execution_count": null,
      "outputs": [
        {
          "output_type": "execute_result",
          "data": {
            "text/plain": [
              "np.int64(9)"
            ]
          },
          "metadata": {},
          "execution_count": 58
        }
      ]
    },
    {
      "cell_type": "code",
      "source": [
        "arr[1:5]"
      ],
      "metadata": {
        "colab": {
          "base_uri": "https://localhost:8080/"
        },
        "id": "dSx5RjUxOwRS",
        "outputId": "7dc9f00d-b4e5-4070-ed2e-ad60f8a85e8e"
      },
      "execution_count": null,
      "outputs": [
        {
          "output_type": "execute_result",
          "data": {
            "text/plain": [
              "array([1, 2, 3, 4])"
            ]
          },
          "metadata": {},
          "execution_count": 59
        }
      ]
    },
    {
      "cell_type": "code",
      "source": [
        "arr[0:5]"
      ],
      "metadata": {
        "colab": {
          "base_uri": "https://localhost:8080/"
        },
        "id": "tk7wyndWOwOn",
        "outputId": "d4084975-23f4-46a2-c3f5-7c02cf303229"
      },
      "execution_count": null,
      "outputs": [
        {
          "output_type": "execute_result",
          "data": {
            "text/plain": [
              "array([0, 1, 2, 3, 4])"
            ]
          },
          "metadata": {},
          "execution_count": 60
        }
      ]
    },
    {
      "cell_type": "code",
      "source": [
        "arr[0:5]=100\n",
        "arr"
      ],
      "metadata": {
        "colab": {
          "base_uri": "https://localhost:8080/"
        },
        "id": "6rlZVRpFPvVg",
        "outputId": "70f5adb7-0b80-4bcd-ba84-eb1f5f2a6035"
      },
      "execution_count": null,
      "outputs": [
        {
          "output_type": "execute_result",
          "data": {
            "text/plain": [
              "array([100, 100, 100, 100, 100,   5,   6,   7,   8,   9,  10])"
            ]
          },
          "metadata": {},
          "execution_count": 61
        }
      ]
    },
    {
      "cell_type": "code",
      "source": [
        "slice_of_arr=arr[0:5]\n",
        "slice_of_arr"
      ],
      "metadata": {
        "colab": {
          "base_uri": "https://localhost:8080/"
        },
        "id": "iA3BT5JNP00e",
        "outputId": "e18dc39a-1a9e-43da-9b7b-ccee40e44543"
      },
      "execution_count": null,
      "outputs": [
        {
          "output_type": "execute_result",
          "data": {
            "text/plain": [
              "array([100, 100, 100, 100, 100])"
            ]
          },
          "metadata": {},
          "execution_count": 62
        }
      ]
    },
    {
      "cell_type": "code",
      "source": [
        "slice_of_arr[:]=99\n",
        "slice_of_arr"
      ],
      "metadata": {
        "colab": {
          "base_uri": "https://localhost:8080/"
        },
        "id": "oF_gbv1MP8UE",
        "outputId": "e8b88863-753a-4f23-a1db-f53f11415471"
      },
      "execution_count": null,
      "outputs": [
        {
          "output_type": "execute_result",
          "data": {
            "text/plain": [
              "array([99, 99, 99, 99, 99])"
            ]
          },
          "metadata": {},
          "execution_count": 63
        }
      ]
    },
    {
      "cell_type": "code",
      "source": [
        "arr"
      ],
      "metadata": {
        "colab": {
          "base_uri": "https://localhost:8080/"
        },
        "id": "X3G_YkSpP8Qv",
        "outputId": "c21d2aa2-e45f-4b2f-9380-287eb93ed3c2"
      },
      "execution_count": null,
      "outputs": [
        {
          "output_type": "execute_result",
          "data": {
            "text/plain": [
              "array([99, 99, 99, 99, 99,  5,  6,  7,  8,  9, 10])"
            ]
          },
          "metadata": {},
          "execution_count": 64
        }
      ]
    },
    {
      "cell_type": "code",
      "source": [
        "arr_copy =arr[6:9].copy()\n",
        "arr_copy"
      ],
      "metadata": {
        "colab": {
          "base_uri": "https://localhost:8080/"
        },
        "id": "qzPNp_uHP8N5",
        "outputId": "44263552-d285-4c6d-d77b-6a853991e631"
      },
      "execution_count": null,
      "outputs": [
        {
          "output_type": "execute_result",
          "data": {
            "text/plain": [
              "array([6, 7, 8])"
            ]
          },
          "metadata": {},
          "execution_count": 65
        }
      ]
    },
    {
      "cell_type": "code",
      "source": [
        "arr_copy[:]=0\n",
        "arr_copy"
      ],
      "metadata": {
        "colab": {
          "base_uri": "https://localhost:8080/"
        },
        "id": "0b1bcfGXP8LT",
        "outputId": "23d8db22-1c94-479e-82e4-1e110c8ea6a6"
      },
      "execution_count": null,
      "outputs": [
        {
          "output_type": "execute_result",
          "data": {
            "text/plain": [
              "array([0, 0, 0])"
            ]
          },
          "metadata": {},
          "execution_count": 66
        }
      ]
    },
    {
      "cell_type": "code",
      "source": [
        "arr"
      ],
      "metadata": {
        "colab": {
          "base_uri": "https://localhost:8080/"
        },
        "id": "DCYi8JpPQouI",
        "outputId": "a05d6100-36f3-4596-bed3-a8ceaf7a767a"
      },
      "execution_count": null,
      "outputs": [
        {
          "output_type": "execute_result",
          "data": {
            "text/plain": [
              "array([99, 99, 99, 99, 99,  5,  6,  7,  8,  9, 10])"
            ]
          },
          "metadata": {},
          "execution_count": 67
        }
      ]
    },
    {
      "cell_type": "code",
      "source": [
        "arr_2d=np.array([[5,10,15],[20,25,30],[35,40,45]])\n",
        "arr_2d"
      ],
      "metadata": {
        "colab": {
          "base_uri": "https://localhost:8080/"
        },
        "id": "EHAnf6w3Qtr5",
        "outputId": "2286ca84-b29b-4d1f-f6c6-20621e4240cd"
      },
      "execution_count": null,
      "outputs": [
        {
          "output_type": "execute_result",
          "data": {
            "text/plain": [
              "array([[ 5, 10, 15],\n",
              "       [20, 25, 30],\n",
              "       [35, 40, 45]])"
            ]
          },
          "metadata": {},
          "execution_count": 68
        }
      ]
    },
    {
      "cell_type": "code",
      "source": [
        "arr_2d[1]"
      ],
      "metadata": {
        "colab": {
          "base_uri": "https://localhost:8080/"
        },
        "id": "F9c6MZQTQtoX",
        "outputId": "0ec4b1b8-222c-40a7-962c-13761e6bdd7d"
      },
      "execution_count": null,
      "outputs": [
        {
          "output_type": "execute_result",
          "data": {
            "text/plain": [
              "array([20, 25, 30])"
            ]
          },
          "metadata": {},
          "execution_count": 69
        }
      ]
    },
    {
      "cell_type": "code",
      "source": [
        "arr_2d[:,1]"
      ],
      "metadata": {
        "colab": {
          "base_uri": "https://localhost:8080/"
        },
        "id": "MaRqEiymQtlp",
        "outputId": "e5d64a3c-ea5d-4502-8a71-503a3b27afde"
      },
      "execution_count": null,
      "outputs": [
        {
          "output_type": "execute_result",
          "data": {
            "text/plain": [
              "array([10, 25, 40])"
            ]
          },
          "metadata": {},
          "execution_count": 70
        }
      ]
    },
    {
      "cell_type": "code",
      "source": [
        "print(arr_2d[1][2])"
      ],
      "metadata": {
        "colab": {
          "base_uri": "https://localhost:8080/"
        },
        "id": "JQB6_Nd3Qtii",
        "outputId": "a016e6e7-6cf5-4d39-b0b4-d9f7613c7286"
      },
      "execution_count": null,
      "outputs": [
        {
          "output_type": "stream",
          "name": "stdout",
          "text": [
            "30\n"
          ]
        }
      ]
    },
    {
      "cell_type": "code",
      "source": [
        "arr_2d"
      ],
      "metadata": {
        "colab": {
          "base_uri": "https://localhost:8080/"
        },
        "id": "l6Sdrm-5g1-N",
        "outputId": "be83cf03-ef70-4cce-9a72-644b73abe6e0"
      },
      "execution_count": null,
      "outputs": [
        {
          "output_type": "execute_result",
          "data": {
            "text/plain": [
              "array([[ 5, 10, 15],\n",
              "       [20, 25, 30],\n",
              "       [35, 40, 45]])"
            ]
          },
          "metadata": {},
          "execution_count": 72
        }
      ]
    },
    {
      "cell_type": "code",
      "source": [
        "arr_2d[:3,1:]"
      ],
      "metadata": {
        "colab": {
          "base_uri": "https://localhost:8080/"
        },
        "id": "_HwTKf3Rg16v",
        "outputId": "ad7b5f16-28f8-4294-9ad3-69d2563093f9"
      },
      "execution_count": null,
      "outputs": [
        {
          "output_type": "execute_result",
          "data": {
            "text/plain": [
              "array([[10, 15],\n",
              "       [25, 30],\n",
              "       [40, 45]])"
            ]
          },
          "metadata": {},
          "execution_count": 73
        }
      ]
    },
    {
      "cell_type": "code",
      "source": [
        "arr_2d"
      ],
      "metadata": {
        "colab": {
          "base_uri": "https://localhost:8080/"
        },
        "id": "5EnKJvbbg14V",
        "outputId": "e22a2903-7f1f-476a-bcd8-a012faa67a83"
      },
      "execution_count": null,
      "outputs": [
        {
          "output_type": "execute_result",
          "data": {
            "text/plain": [
              "array([[ 5, 10, 15],\n",
              "       [20, 25, 30],\n",
              "       [35, 40, 45]])"
            ]
          },
          "metadata": {},
          "execution_count": 74
        }
      ]
    },
    {
      "cell_type": "code",
      "source": [
        "arr_2d[:3, ::2]"
      ],
      "metadata": {
        "colab": {
          "base_uri": "https://localhost:8080/"
        },
        "id": "xJBin73rg1gt",
        "outputId": "03f925ae-eb39-42d9-ae5a-c63da6095620"
      },
      "execution_count": null,
      "outputs": [
        {
          "output_type": "execute_result",
          "data": {
            "text/plain": [
              "array([[ 5, 15],\n",
              "       [20, 30],\n",
              "       [35, 45]])"
            ]
          },
          "metadata": {},
          "execution_count": 75
        }
      ]
    },
    {
      "cell_type": "code",
      "source": [
        "arr_2d[:3, 2::]"
      ],
      "metadata": {
        "colab": {
          "base_uri": "https://localhost:8080/"
        },
        "id": "bkIithmhnlLA",
        "outputId": "4c8c8e7c-69b1-4def-cbeb-953863477812"
      },
      "execution_count": null,
      "outputs": [
        {
          "output_type": "execute_result",
          "data": {
            "text/plain": [
              "array([[15],\n",
              "       [30],\n",
              "       [45]])"
            ]
          },
          "metadata": {},
          "execution_count": 84
        }
      ]
    },
    {
      "cell_type": "code",
      "source": [
        "grid = np.arange(1,13).reshape(3,4)\n",
        "grid"
      ],
      "metadata": {
        "colab": {
          "base_uri": "https://localhost:8080/"
        },
        "id": "crVTU47Uiep_",
        "outputId": "7d5e1f5e-022d-40e9-8582-537a0ab22b24"
      },
      "execution_count": null,
      "outputs": [
        {
          "output_type": "execute_result",
          "data": {
            "text/plain": [
              "array([[ 1,  2,  3,  4],\n",
              "       [ 5,  6,  7,  8],\n",
              "       [ 9, 10, 11, 12]])"
            ]
          },
          "metadata": {},
          "execution_count": 76
        }
      ]
    },
    {
      "cell_type": "code",
      "source": [
        "grid=grid.reshape(4,3)\n",
        "grid"
      ],
      "metadata": {
        "colab": {
          "base_uri": "https://localhost:8080/"
        },
        "id": "7N2JKW_VipCM",
        "outputId": "9f5fa738-6cc1-473e-de38-b9ba77268d0d"
      },
      "execution_count": null,
      "outputs": [
        {
          "output_type": "execute_result",
          "data": {
            "text/plain": [
              "array([[ 1,  2,  3],\n",
              "       [ 4,  5,  6],\n",
              "       [ 7,  8,  9],\n",
              "       [10, 11, 12]])"
            ]
          },
          "metadata": {},
          "execution_count": 77
        }
      ]
    },
    {
      "cell_type": "code",
      "source": [
        "grid=grid.reshape(2,6)\n",
        "grid"
      ],
      "metadata": {
        "colab": {
          "base_uri": "https://localhost:8080/"
        },
        "id": "_uVzasjtio-7",
        "outputId": "86f7c0fe-aa15-4050-d22f-7d7d8450bc70"
      },
      "execution_count": null,
      "outputs": [
        {
          "output_type": "execute_result",
          "data": {
            "text/plain": [
              "array([[ 1,  2,  3,  4,  5,  6],\n",
              "       [ 7,  8,  9, 10, 11, 12]])"
            ]
          },
          "metadata": {},
          "execution_count": 78
        }
      ]
    },
    {
      "cell_type": "code",
      "source": [
        "x=np.array([1,2,3])\n",
        "y=np.array([3,2,1])\n",
        "np.concatenate([x,y])"
      ],
      "metadata": {
        "colab": {
          "base_uri": "https://localhost:8080/"
        },
        "id": "7tguYHa7io8H",
        "outputId": "9e16313b-b5ed-4dc6-8c1f-e6780d1660c9"
      },
      "execution_count": null,
      "outputs": [
        {
          "output_type": "execute_result",
          "data": {
            "text/plain": [
              "array([1, 2, 3, 3, 2, 1])"
            ]
          },
          "metadata": {},
          "execution_count": 81
        }
      ]
    },
    {
      "cell_type": "code",
      "source": [
        "#row axis=0 (vertical)\n",
        "np.concatenate([grid,grid])"
      ],
      "metadata": {
        "colab": {
          "base_uri": "https://localhost:8080/"
        },
        "id": "R-4Udk09io46",
        "outputId": "0c81d564-be5f-44bc-baac-87c513f78bed"
      },
      "execution_count": null,
      "outputs": [
        {
          "output_type": "execute_result",
          "data": {
            "text/plain": [
              "array([[ 1,  2,  3,  4,  5,  6],\n",
              "       [ 7,  8,  9, 10, 11, 12],\n",
              "       [ 1,  2,  3,  4,  5,  6],\n",
              "       [ 7,  8,  9, 10, 11, 12]])"
            ]
          },
          "metadata": {},
          "execution_count": 82
        }
      ]
    },
    {
      "cell_type": "code",
      "source": [
        "#colome axis=1 (horizontal)\n",
        "np.concatenate([grid,grid],axis=1)"
      ],
      "metadata": {
        "colab": {
          "base_uri": "https://localhost:8080/"
        },
        "id": "FQG4SxSjio1P",
        "outputId": "3acdee41-1ade-49bc-9857-702bd2c7b450"
      },
      "execution_count": null,
      "outputs": [
        {
          "output_type": "execute_result",
          "data": {
            "text/plain": [
              "array([[ 1,  2,  3,  4,  5,  6,  1,  2,  3,  4,  5,  6],\n",
              "       [ 7,  8,  9, 10, 11, 12,  7,  8,  9, 10, 11, 12]])"
            ]
          },
          "metadata": {},
          "execution_count": 83
        }
      ]
    },
    {
      "cell_type": "code",
      "source": [
        "#First split until index 3\n",
        "#then split from 3 to 5 (3,4)\n",
        "# other be in x3\n",
        "x=[1,2,3,99,99,3,2,1]\n",
        "x1,x2,x3=np.split(x,[3,5])\n",
        "print(x1,x2,x3)"
      ],
      "metadata": {
        "colab": {
          "base_uri": "https://localhost:8080/"
        },
        "id": "s04mwvlIiox6",
        "outputId": "a30449b6-488c-4079-efba-0d6de41939fa"
      },
      "execution_count": null,
      "outputs": [
        {
          "output_type": "stream",
          "name": "stdout",
          "text": [
            "[1 2 3] [99 99] [3 2 1]\n"
          ]
        }
      ]
    },
    {
      "cell_type": "code",
      "source": [
        "grid = np.arange(16).reshape((4, 4))\n",
        "print(grid)\n",
        "print(\"\\n\")\n",
        "#vsplit -> vertical split (aross row) men 2 row only  for two list upper ,lower\n",
        "upper, lower = np.vsplit(grid, [2])\n",
        "print(upper)\n",
        "print(\"\\n\")\n",
        "print(lower)"
      ],
      "metadata": {
        "colab": {
          "base_uri": "https://localhost:8080/"
        },
        "id": "4lOdOQN9qA8c",
        "outputId": "11f2eca2-8dd7-40a1-8587-13d1aa5d0959"
      },
      "execution_count": null,
      "outputs": [
        {
          "output_type": "stream",
          "name": "stdout",
          "text": [
            "[[ 0  1  2  3]\n",
            " [ 4  5  6  7]\n",
            " [ 8  9 10 11]\n",
            " [12 13 14 15]]\n",
            "\n",
            "\n",
            "[[0 1 2 3]\n",
            " [4 5 6 7]]\n",
            "\n",
            "\n",
            "[[ 8  9 10 11]\n",
            " [12 13 14 15]]\n"
          ]
        }
      ]
    },
    {
      "cell_type": "code",
      "source": [
        "grid = np.arange(16).reshape((4, 4))\n",
        "print(grid)\n",
        "print(\"\\n\")\n",
        "#vsplit -> horzental split (aross colunm) mean 2 colunm only  for two left,right\n",
        "left, right = np.hsplit(grid, [2])\n",
        "print(left)\n",
        "print(\"\\n\")\n",
        "print(right)"
      ],
      "metadata": {
        "colab": {
          "base_uri": "https://localhost:8080/"
        },
        "id": "YXt-mq6mqA45",
        "outputId": "995e1603-b5df-4211-9bda-1329a4e7dfc8"
      },
      "execution_count": null,
      "outputs": [
        {
          "output_type": "stream",
          "name": "stdout",
          "text": [
            "[[ 0  1  2  3]\n",
            " [ 4  5  6  7]\n",
            " [ 8  9 10 11]\n",
            " [12 13 14 15]]\n",
            "\n",
            "\n",
            "[[ 0  1]\n",
            " [ 4  5]\n",
            " [ 8  9]\n",
            " [12 13]]\n",
            "\n",
            "\n",
            "[[ 2  3]\n",
            " [ 6  7]\n",
            " [10 11]\n",
            " [14 15]]\n"
          ]
        }
      ]
    },
    {
      "cell_type": "code",
      "source": [
        "grades = np.array([\n",
        "   [55, 72, 39],\n",
        "   [90, 56, 80]\n",
        "])\n",
        "\n",
        "#avg or we can use mean eather than this way\n",
        "student_sums = np.sum(grades, axis=1)\n",
        "print(\"the sum of each student\",student_sums)\n",
        "student_averages = student_sums / grades.shape[1] #shape[1] mean num of colunm\n",
        "print(\"the avg of each student\",student_averages)\n",
        "\n",
        "#highest grade\n",
        "subject_highest = np.max(grades, axis=0)\n",
        "print(\"the max in Math,Science,English\", subject_highest)\n",
        "\n",
        "#overall avg\n",
        "total_sum = np.sum(grades)\n",
        "print(\"the sum of all student is \" ,total_sum)\n",
        "total_elem = grades.size\n",
        "print(\"the num of all student is \" ,total_elem)\n",
        "overall_avg = total_sum / total_elem\n",
        "print(\"the over all of all student is \" ,overall_avg)"
      ],
      "metadata": {
        "colab": {
          "base_uri": "https://localhost:8080/"
        },
        "id": "mhqWkZjbqA1Q",
        "outputId": "83c8f1f5-7bb1-4366-b2a1-03b0dc27d06a"
      },
      "execution_count": null,
      "outputs": [
        {
          "output_type": "stream",
          "name": "stdout",
          "text": [
            "the sum of each student [166 226]\n",
            "the avg of each student [55.33333333 75.33333333]\n",
            "the max in Math,Science,English [90 72 80]\n",
            "the sum of all student is  392\n",
            "the num of all student is  6\n",
            "the over all of all student is  65.33333333333333\n"
          ]
        }
      ]
    },
    {
      "cell_type": "markdown",
      "source": [
        "**using where**"
      ],
      "metadata": {
        "id": "AHQgH0qiwcZM"
      }
    },
    {
      "cell_type": "code",
      "source": [
        "A=np.array([1,2,3,4])\n",
        "B=np.array([100,200,300,400])\n",
        "\n",
        "condition = np.array([False,True,False,False])\n",
        "\n",
        "answer = np.where(condition,A,B)\n",
        "\n",
        "print(answer)"
      ],
      "metadata": {
        "id": "SqHTjBTmqAx0",
        "colab": {
          "base_uri": "https://localhost:8080/"
        },
        "outputId": "b4275ffc-edc9-4aa7-942d-2cf99030ac4d"
      },
      "execution_count": null,
      "outputs": [
        {
          "output_type": "stream",
          "name": "stdout",
          "text": [
            "[100   2 300 400]\n"
          ]
        }
      ]
    },
    {
      "cell_type": "code",
      "source": [
        "from numpy.random import randn"
      ],
      "metadata": {
        "id": "jda8VzhbvGTR"
      },
      "execution_count": null,
      "outputs": []
    },
    {
      "cell_type": "code",
      "source": [
        "#give us random number(row,colunm)\n",
        "arr = randn(2,3)\n",
        "arr"
      ],
      "metadata": {
        "colab": {
          "base_uri": "https://localhost:8080/"
        },
        "id": "seuc9WPuvGPp",
        "outputId": "c54528af-de80-4dc6-fd15-eebc6cee6af5"
      },
      "execution_count": null,
      "outputs": [
        {
          "output_type": "execute_result",
          "data": {
            "text/plain": [
              "array([[-1.1463192 , -0.74291435, -0.42883988],\n",
              "       [-0.424851  ,  0.41397395,  1.44699689]])"
            ]
          },
          "metadata": {},
          "execution_count": 11
        }
      ]
    },
    {
      "cell_type": "code",
      "source": [
        "#if less than 0 change the value or make it as it\n",
        "\n",
        "np.where(arr<0,9,arr)"
      ],
      "metadata": {
        "colab": {
          "base_uri": "https://localhost:8080/"
        },
        "id": "A4WrVbr7vGNC",
        "outputId": "8a5e610f-c4e8-4966-e051-be2c3a88771c"
      },
      "execution_count": null,
      "outputs": [
        {
          "output_type": "execute_result",
          "data": {
            "text/plain": [
              "array([[9.        , 9.        , 9.        ],\n",
              "       [9.        , 0.41397395, 1.44699689]])"
            ]
          },
          "metadata": {},
          "execution_count": 15
        }
      ]
    },
    {
      "cell_type": "code",
      "source": [
        "np.where(arr<0,\"s\",arr)"
      ],
      "metadata": {
        "colab": {
          "base_uri": "https://localhost:8080/"
        },
        "id": "5Ttz4DTNyqB-",
        "outputId": "921aceb8-8593-456b-8ef1-92c3a0a9cbb9"
      },
      "execution_count": null,
      "outputs": [
        {
          "output_type": "execute_result",
          "data": {
            "text/plain": [
              "array([['s', 's', 's'],\n",
              "       ['s', '0.4139739456177241', '1.4469968942488363']], dtype='<U32')"
            ]
          },
          "metadata": {},
          "execution_count": 16
        }
      ]
    },
    {
      "cell_type": "code",
      "source": [
        "arr =np.array([[1,2,3],[4,5,6],[7,8,9]])\n",
        "arr"
      ],
      "metadata": {
        "colab": {
          "base_uri": "https://localhost:8080/"
        },
        "id": "bZpCbinEvGKJ",
        "outputId": "5a798cbd-4fc5-4268-a472-6da1ff14b5ae"
      },
      "execution_count": null,
      "outputs": [
        {
          "output_type": "execute_result",
          "data": {
            "text/plain": [
              "array([[1, 2, 3],\n",
              "       [4, 5, 6],\n",
              "       [7, 8, 9]])"
            ]
          },
          "metadata": {},
          "execution_count": 17
        }
      ]
    },
    {
      "cell_type": "code",
      "source": [
        "arr.sum()"
      ],
      "metadata": {
        "colab": {
          "base_uri": "https://localhost:8080/"
        },
        "id": "Mltby1LDyPYx",
        "outputId": "3018e5b8-fe50-40d6-f761-f661cad2774b"
      },
      "execution_count": null,
      "outputs": [
        {
          "output_type": "execute_result",
          "data": {
            "text/plain": [
              "np.int64(45)"
            ]
          },
          "metadata": {},
          "execution_count": 18
        }
      ]
    },
    {
      "cell_type": "code",
      "source": [
        "print(arr.sum(0)) #for row\n",
        "\n",
        "print(arr.sum(1)) #for colunm\n",
        "\n"
      ],
      "metadata": {
        "colab": {
          "base_uri": "https://localhost:8080/"
        },
        "id": "33WuMHV6yPVH",
        "outputId": "0634e937-7b5f-4a7c-ae9b-bf10eb860d53"
      },
      "execution_count": null,
      "outputs": [
        {
          "output_type": "stream",
          "name": "stdout",
          "text": [
            "[12 15 18]\n",
            "[ 6 15 24]\n"
          ]
        }
      ]
    },
    {
      "cell_type": "code",
      "source": [
        "arr.mean()"
      ],
      "metadata": {
        "colab": {
          "base_uri": "https://localhost:8080/"
        },
        "id": "S7WYtdnxyPSh",
        "outputId": "2da6165f-6a4c-4b37-c135-96711b9bfb0c"
      },
      "execution_count": null,
      "outputs": [
        {
          "output_type": "execute_result",
          "data": {
            "text/plain": [
              "np.float64(5.0)"
            ]
          },
          "metadata": {},
          "execution_count": 23
        }
      ]
    },
    {
      "cell_type": "code",
      "source": [
        "arr.std()"
      ],
      "metadata": {
        "colab": {
          "base_uri": "https://localhost:8080/"
        },
        "id": "TfAZKG_Z1bWR",
        "outputId": "25aa1530-9af5-46cd-fa3d-0fb077ea62c9"
      },
      "execution_count": null,
      "outputs": [
        {
          "output_type": "execute_result",
          "data": {
            "text/plain": [
              "np.float64(2.581988897471611)"
            ]
          },
          "metadata": {},
          "execution_count": 24
        }
      ]
    },
    {
      "cell_type": "code",
      "source": [
        "arr.var()"
      ],
      "metadata": {
        "colab": {
          "base_uri": "https://localhost:8080/"
        },
        "id": "WEFVkknM1bSt",
        "outputId": "7a733837-b5d7-46e3-b711-29b2c9ca2cb9"
      },
      "execution_count": null,
      "outputs": [
        {
          "output_type": "execute_result",
          "data": {
            "text/plain": [
              "np.float64(6.666666666666667)"
            ]
          },
          "metadata": {},
          "execution_count": 25
        }
      ]
    },
    {
      "cell_type": "code",
      "source": [
        "bool_arr=np.array([True,False,True])"
      ],
      "metadata": {
        "id": "X3JT_ZEO1bQC"
      },
      "execution_count": null,
      "outputs": []
    },
    {
      "cell_type": "code",
      "source": [
        "bool_arr.any() #if there is true value"
      ],
      "metadata": {
        "colab": {
          "base_uri": "https://localhost:8080/"
        },
        "id": "NyazMtB91bM8",
        "outputId": "d2c9f4c3-23ef-4134-e313-b696687d8956"
      },
      "execution_count": null,
      "outputs": [
        {
          "output_type": "execute_result",
          "data": {
            "text/plain": [
              "np.True_"
            ]
          },
          "metadata": {},
          "execution_count": 27
        }
      ]
    },
    {
      "cell_type": "code",
      "source": [
        "bool_arr.all()  # if all value id true"
      ],
      "metadata": {
        "colab": {
          "base_uri": "https://localhost:8080/"
        },
        "id": "bd9Yj6591bKR",
        "outputId": "8d8fb580-88eb-47a8-e8bd-ab0ac8fb0387"
      },
      "execution_count": null,
      "outputs": [
        {
          "output_type": "execute_result",
          "data": {
            "text/plain": [
              "np.False_"
            ]
          },
          "metadata": {},
          "execution_count": 28
        }
      ]
    },
    {
      "cell_type": "code",
      "source": [
        "A=np.array([-2,5,4,-8,0])\n",
        "A"
      ],
      "metadata": {
        "colab": {
          "base_uri": "https://localhost:8080/"
        },
        "id": "y6Cnn_ejvGHJ",
        "outputId": "06570745-a51d-4e39-fb84-213fec106e99"
      },
      "execution_count": null,
      "outputs": [
        {
          "output_type": "execute_result",
          "data": {
            "text/plain": [
              "array([-2,  5,  4, -8,  0])"
            ]
          },
          "metadata": {},
          "execution_count": 29
        }
      ]
    },
    {
      "cell_type": "code",
      "source": [
        "print(np.sort(A)) #small to big ascending\n",
        "print(-np.sort(-A)) #big to small  descending"
      ],
      "metadata": {
        "colab": {
          "base_uri": "https://localhost:8080/"
        },
        "id": "EY0KwVIP1_6u",
        "outputId": "cc2dd29a-f720-4287-d9ad-689ed45654e0"
      },
      "execution_count": null,
      "outputs": [
        {
          "output_type": "stream",
          "name": "stdout",
          "text": [
            "[-8 -2  0  4  5]\n",
            "[ 5  4  0 -2 -8]\n"
          ]
        }
      ]
    },
    {
      "cell_type": "code",
      "source": [
        "#unique\n",
        "countries = np.array([\"France\", \"Germany\", \"USA\", \"Russia\", \"USA\", \"Mexico\", \"Germany\"])\n",
        "np.unique(countries)  #unique is remove the reption"
      ],
      "metadata": {
        "colab": {
          "base_uri": "https://localhost:8080/"
        },
        "id": "eQDiOsu61_3T",
        "outputId": "b38d125e-ee9b-47af-a329-faf6a9658c32"
      },
      "execution_count": null,
      "outputs": [
        {
          "output_type": "execute_result",
          "data": {
            "text/plain": [
              "array(['France', 'Germany', 'Mexico', 'Russia', 'USA'], dtype='<U7')"
            ]
          },
          "metadata": {},
          "execution_count": 39
        }
      ]
    },
    {
      "cell_type": "code",
      "source": [
        "#in1d -> test if the value in the array\n",
        "np.in1d([\"France\",\"USA\",\"Sweden\"],countries) #check the value"
      ],
      "metadata": {
        "colab": {
          "base_uri": "https://localhost:8080/"
        },
        "id": "ILgilup61_07",
        "outputId": "33ba4c4f-8645-4c86-da59-f97dc50185b1"
      },
      "execution_count": null,
      "outputs": [
        {
          "output_type": "stream",
          "name": "stderr",
          "text": [
            "<ipython-input-42-2b62ec377273>:1: DeprecationWarning: `in1d` is deprecated. Use `np.isin` instead.\n",
            "  np.in1d([\"France\",\"USA\",\"Sweden\"],countries) #check the value\n"
          ]
        },
        {
          "output_type": "execute_result",
          "data": {
            "text/plain": [
              "array([ True,  True, False])"
            ]
          },
          "metadata": {},
          "execution_count": 42
        }
      ]
    },
    {
      "cell_type": "code",
      "source": [
        "arr"
      ],
      "metadata": {
        "colab": {
          "base_uri": "https://localhost:8080/"
        },
        "id": "0iTsR1OO1_yT",
        "outputId": "8eabe7c3-a16b-4a63-b306-471629945633"
      },
      "execution_count": null,
      "outputs": [
        {
          "output_type": "execute_result",
          "data": {
            "text/plain": [
              "array([[1, 2, 3],\n",
              "       [4, 5, 6],\n",
              "       [7, 8, 9]])"
            ]
          },
          "metadata": {},
          "execution_count": 43
        }
      ]
    },
    {
      "cell_type": "code",
      "source": [
        "#save the array in a file .npy\n",
        "np.save(\"my_array\",arr)"
      ],
      "metadata": {
        "id": "PekvQ5Tk1_vi"
      },
      "execution_count": null,
      "outputs": []
    },
    {
      "cell_type": "code",
      "source": [
        "#to see the array that we save it using load\n",
        "np.load(\"my_array.npy\")\n"
      ],
      "metadata": {
        "colab": {
          "base_uri": "https://localhost:8080/"
        },
        "id": "6uXuiHT35SdJ",
        "outputId": "0ff9ab31-6bd0-48bb-cede-064036e9ea14"
      },
      "execution_count": null,
      "outputs": [
        {
          "output_type": "execute_result",
          "data": {
            "text/plain": [
              "array([[1, 2, 3],\n",
              "       [4, 5, 6],\n",
              "       [7, 8, 9]])"
            ]
          },
          "metadata": {},
          "execution_count": 45
        }
      ]
    },
    {
      "cell_type": "code",
      "source": [
        "#if we want to save it as text file use savetext\n",
        "np.savetxt(\"my_array_text.txt\",arr,delimiter=\",\")"
      ],
      "metadata": {
        "id": "JweOyTVv5SZo"
      },
      "execution_count": null,
      "outputs": []
    },
    {
      "cell_type": "code",
      "source": [
        "#to load the it using the loadtxt\n",
        "np.loadtxt(\"my_array_text.txt\",delimiter=\",\")"
      ],
      "metadata": {
        "colab": {
          "base_uri": "https://localhost:8080/"
        },
        "id": "aBR0KhfC5SXY",
        "outputId": "81d0aa11-976c-468f-9424-ce3ba5ead80d"
      },
      "execution_count": null,
      "outputs": [
        {
          "output_type": "execute_result",
          "data": {
            "text/plain": [
              "array([[1., 2., 3.],\n",
              "       [4., 5., 6.],\n",
              "       [7., 8., 9.]])"
            ]
          },
          "metadata": {},
          "execution_count": 47
        }
      ]
    },
    {
      "cell_type": "markdown",
      "source": [
        "# **Pandas**"
      ],
      "metadata": {
        "id": "V9Y-2D-X6ZNa"
      }
    },
    {
      "cell_type": "code",
      "source": [
        "import pandas as pd"
      ],
      "metadata": {
        "id": "ob9O1ude5SUY"
      },
      "execution_count": null,
      "outputs": []
    },
    {
      "cell_type": "markdown",
      "source": [
        "**From list**"
      ],
      "metadata": {
        "id": "236YEJin9Gg_"
      }
    },
    {
      "cell_type": "code",
      "source": [
        "series = pd.Series([10,20,30],index=['Apple','Banana','Mango'])\n",
        "print(series)"
      ],
      "metadata": {
        "colab": {
          "base_uri": "https://localhost:8080/"
        },
        "id": "S51HPPsi5SR6",
        "outputId": "6bd2d77a-2225-443b-878a-f644009846b7"
      },
      "execution_count": null,
      "outputs": [
        {
          "output_type": "stream",
          "name": "stdout",
          "text": [
            "Apple     10\n",
            "Banana    20\n",
            "Mango     30\n",
            "dtype: int64\n"
          ]
        }
      ]
    },
    {
      "cell_type": "markdown",
      "source": [
        "**From dictionary**"
      ],
      "metadata": {
        "id": "vdAvk8ty9KW7"
      }
    },
    {
      "cell_type": "code",
      "source": [
        "s=pd.Series({\n",
        "    'Apple':10,\n",
        "    'Banana':20,\n",
        "    'Mango':30\n",
        "    })\n",
        "print(s)"
      ],
      "metadata": {
        "colab": {
          "base_uri": "https://localhost:8080/"
        },
        "id": "whTdA00w9I7_",
        "outputId": "eb7d373b-65f7-4ff8-f2b5-f4aabf6918c6"
      },
      "execution_count": null,
      "outputs": [
        {
          "output_type": "stream",
          "name": "stdout",
          "text": [
            "Apple     10\n",
            "Banana    20\n",
            "Mango     30\n",
            "dtype: int64\n"
          ]
        }
      ]
    },
    {
      "cell_type": "markdown",
      "source": [
        "**Accessing Element**"
      ],
      "metadata": {
        "id": "FFEs08LW-JcF"
      }
    },
    {
      "cell_type": "code",
      "source": [
        "#by index label\n",
        "print(series['Apple'])\n",
        "#by index number\n",
        "print(series[0])\n"
      ],
      "metadata": {
        "colab": {
          "base_uri": "https://localhost:8080/"
        },
        "id": "BNrkqgBZ-KBM",
        "outputId": "790abf88-908c-4582-d0ff-d769a00cdefc"
      },
      "execution_count": null,
      "outputs": [
        {
          "output_type": "stream",
          "name": "stdout",
          "text": [
            "10\n",
            "10\n"
          ]
        },
        {
          "output_type": "stream",
          "name": "stderr",
          "text": [
            "<ipython-input-60-00ac358ec1b8>:4: FutureWarning: Series.__getitem__ treating keys as positions is deprecated. In a future version, integer keys will always be treated as labels (consistent with DataFrame behavior). To access a value by position, use `ser.iloc[pos]`\n",
            "  print(series[0])\n"
          ]
        }
      ]
    },
    {
      "cell_type": "code",
      "source": [
        "print(series[series>10])"
      ],
      "metadata": {
        "colab": {
          "base_uri": "https://localhost:8080/"
        },
        "id": "x6WuDB4C-KJ6",
        "outputId": "6c598376-f756-4e34-b9c5-3b9d191a9be5"
      },
      "execution_count": null,
      "outputs": [
        {
          "output_type": "stream",
          "name": "stdout",
          "text": [
            "Banana    20\n",
            "Mango     30\n",
            "dtype: int64\n"
          ]
        }
      ]
    },
    {
      "cell_type": "markdown",
      "source": [
        "![image.png](data:image/png;base64,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)"
      ],
      "metadata": {
        "id": "87LbutKoIzFd"
      }
    },
    {
      "cell_type": "code",
      "source": [
        "#Create a Series\n",
        "\n",
        "d={'Milk': 120, 'Bread': 80, 'Eggs': 200, 'Cheese': 150, 'Butter': 90}\n",
        "dic_seriea = pd.Series(d)\n",
        "print(dic_seriea)\n",
        "\n",
        "#Find total sales.\n",
        "total_sales = dic_seriea.sum()\n",
        "print(\"Total Sales:\", total_sales)\n",
        "\n",
        "#Find which product sold the most\n",
        "most_sold_value = dic_seriea.max()\n",
        "print(\"Most Sold Value:\", most_sold_value)\n",
        "\n",
        "print(\"prodect: \",dic_seriea[dic_seriea == most_sold_value])\n",
        "\n",
        "most_sold_product = dic_seriea.idxmax()\n",
        "print(\"Most Sold Product:\", most_sold_product)"
      ],
      "metadata": {
        "colab": {
          "base_uri": "https://localhost:8080/"
        },
        "id": "AMkDJM7S-KGd",
        "outputId": "dad50cb6-cde6-40be-a6ad-e44a2815046a"
      },
      "execution_count": null,
      "outputs": [
        {
          "output_type": "stream",
          "name": "stdout",
          "text": [
            "Milk      120\n",
            "Bread      80\n",
            "Eggs      200\n",
            "Cheese    150\n",
            "Butter     90\n",
            "dtype: int64\n",
            "Total Sales: 640\n",
            "Most Sold Value: 200\n",
            "prodect:  Eggs    200\n",
            "dtype: int64\n",
            "Most Sold Product: Eggs\n"
          ]
        }
      ]
    },
    {
      "cell_type": "code",
      "source": [
        "# from google.colab import files\n",
        "\n",
        "# uploaded = files.upload()\n",
        "\n"
      ],
      "metadata": {
        "id": "cJoO7ZYE-JGe"
      },
      "execution_count": null,
      "outputs": []
    },
    {
      "cell_type": "code",
      "source": [
        "data=pd.read_csv(\"/content/sales_data.csv\")\n",
        "\n",
        "dataAsSeries = pd.Series(data['Sales'].values ,index=data['Month'],name=\"Sales\")\n",
        "print(dataAsSeries)"
      ],
      "metadata": {
        "colab": {
          "base_uri": "https://localhost:8080/"
        },
        "id": "O7Uf5UKTKKiS",
        "outputId": "0dee7a69-d492-4fa0-f571-e572c11ae399"
      },
      "execution_count": null,
      "outputs": [
        {
          "output_type": "stream",
          "name": "stdout",
          "text": [
            "Month\n",
            "January     1200\n",
            "February    1500\n",
            "March        800\n",
            "April        950\n",
            "Name: Sales, dtype: int64\n"
          ]
        }
      ]
    },
    {
      "cell_type": "code",
      "source": [
        "\n",
        "# Load the CSV file\n",
        "data = pd.read_csv(\"/content/fruits_prices.csv\")\n",
        "\n",
        "# Convert to Series\n",
        "dataAsSeries = pd.Series(data['Fruit Price'].values, index = data['Fruit Name'])\n",
        "print(dataAsSeries)\n",
        "print()\n",
        "\n",
        "#find price of mango\n",
        "mango_price = dataAsSeries['Mango']\n",
        "print(f\"Price of Mango: {mango_price}\")\n",
        "print()\n",
        "\n",
        "# Add a new fruit \"Pineapple\" with price 3.5\n",
        "dataAsSeries[\"Pineapple\"] = 3.5\n",
        "print( dataAsSeries)\n",
        "print()\n",
        "\n",
        "# Apply a 10% price increase\n",
        "updatedSeries = dataAsSeries * 1.1\n",
        "print( updatedSeries)\n"
      ],
      "metadata": {
        "colab": {
          "base_uri": "https://localhost:8080/"
        },
        "id": "xHgM-BAeQ5K-",
        "outputId": "4d5e4971-c29f-4223-f1e8-e042f8a7294c"
      },
      "execution_count": null,
      "outputs": [
        {
          "output_type": "stream",
          "name": "stdout",
          "text": [
            "Fruit Name\n",
            "Apple         1.5\n",
            "Banana        0.3\n",
            "Orange        0.8\n",
            "Grapes        2.0\n",
            "Mango         1.2\n",
            "Strawberry    2.5\n",
            "Peach         1.4\n",
            "Cherry        3.0\n",
            "Watermelon    0.7\n",
            "dtype: float64\n",
            "\n",
            "Price of Mango: 1.2\n",
            "\n",
            "Fruit Name\n",
            "Apple         1.5\n",
            "Banana        0.3\n",
            "Orange        0.8\n",
            "Grapes        2.0\n",
            "Mango         1.2\n",
            "Strawberry    2.5\n",
            "Peach         1.4\n",
            "Cherry        3.0\n",
            "Watermelon    0.7\n",
            "Pineapple     3.5\n",
            "dtype: float64\n",
            "\n",
            "Fruit Name\n",
            "Apple         1.65\n",
            "Banana        0.33\n",
            "Orange        0.88\n",
            "Grapes        2.20\n",
            "Mango         1.32\n",
            "Strawberry    2.75\n",
            "Peach         1.54\n",
            "Cherry        3.30\n",
            "Watermelon    0.77\n",
            "Pineapple     3.85\n",
            "dtype: float64\n"
          ]
        }
      ]
    },
    {
      "cell_type": "code",
      "source": [
        "# Find the price of Mango directly using Series\n",
        "mango_price = data['Price'][data['Fruit'] == 'Mango'].values[0]\n",
        "\n",
        "# Add Pineapple with a price of 3.5\n",
        "data = data.append({'Fruit': 'Pineapple', 'Price': 3.5}, ignore_index=True)\n",
        "\n",
        "# Increase the prices by 10%\n",
        "data['Price'] = data['Price'] * 1.10"
      ],
      "metadata": {
        "id": "8ZQ9TEspQ5Hk"
      },
      "execution_count": null,
      "outputs": []
    },
    {
      "cell_type": "code",
      "source": [
        "import pandas as pd"
      ],
      "metadata": {
        "id": "2MPywwkSQ5EE"
      },
      "execution_count": null,
      "outputs": []
    },
    {
      "cell_type": "markdown",
      "source": [
        "**(DataFrame)**\n"
      ],
      "metadata": {
        "id": "-Q2y2qMmq3r8"
      }
    },
    {
      "cell_type": "code",
      "source": [
        "df =pd.read_csv('/content/employees.csv')\n",
        "print(df)"
      ],
      "metadata": {
        "id": "VslmwjB0Q5BW",
        "colab": {
          "base_uri": "https://localhost:8080/"
        },
        "outputId": "1555044a-7026-4407-d2ee-abe41e0233e6"
      },
      "execution_count": null,
      "outputs": [
        {
          "output_type": "stream",
          "name": "stdout",
          "text": [
            "      Name  Age      City  Salary\n",
            "0    Alice   25  New York   70000\n",
            "1      Bob   30   Chicago   80000\n",
            "2  Charlie   28    Boston   75000\n"
          ]
        }
      ]
    },
    {
      "cell_type": "markdown",
      "source": [
        "![image.png](data:image/png;base64,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)"
      ],
      "metadata": {
        "id": "-Zf81prMsKOG"
      }
    },
    {
      "cell_type": "code",
      "source": [
        "print(df.head())"
      ],
      "metadata": {
        "colab": {
          "base_uri": "https://localhost:8080/"
        },
        "id": "bL7r9UUdq1ru",
        "outputId": "40b6adc9-0482-4d1a-ab54-543fe30be7fc"
      },
      "execution_count": null,
      "outputs": [
        {
          "output_type": "stream",
          "name": "stdout",
          "text": [
            "      Name  Age      City  Salary\n",
            "0    Alice   25  New York   70000\n",
            "1      Bob   30   Chicago   80000\n",
            "2  Charlie   28    Boston   75000\n"
          ]
        }
      ]
    },
    {
      "cell_type": "code",
      "source": [
        "print(df.tail())"
      ],
      "metadata": {
        "colab": {
          "base_uri": "https://localhost:8080/"
        },
        "id": "NrOd6LPytrN_",
        "outputId": "dab8a7d8-0a10-4908-bdce-4a9585f38fa0"
      },
      "execution_count": null,
      "outputs": [
        {
          "output_type": "stream",
          "name": "stdout",
          "text": [
            "      Name  Age      City  Salary\n",
            "0    Alice   25  New York   70000\n",
            "1      Bob   30   Chicago   80000\n",
            "2  Charlie   28    Boston   75000\n"
          ]
        }
      ]
    },
    {
      "cell_type": "code",
      "source": [
        "print(df.describe())"
      ],
      "metadata": {
        "colab": {
          "base_uri": "https://localhost:8080/"
        },
        "id": "jy6piCjRq1oV",
        "outputId": "8a571938-8989-4768-9c9b-583e4c954ad8"
      },
      "execution_count": null,
      "outputs": [
        {
          "output_type": "stream",
          "name": "stdout",
          "text": [
            "             Age   Salary\n",
            "count   3.000000      3.0\n",
            "mean   27.666667  75000.0\n",
            "std     2.516611   5000.0\n",
            "min    25.000000  70000.0\n",
            "25%    26.500000  72500.0\n",
            "50%    28.000000  75000.0\n",
            "75%    29.000000  77500.0\n",
            "max    30.000000  80000.0\n"
          ]
        }
      ]
    },
    {
      "cell_type": "markdown",
      "source": [
        "![image.png](data:image/png;base64,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)"
      ],
      "metadata": {
        "id": "fGkAkeaJt5n_"
      }
    },
    {
      "cell_type": "code",
      "source": [
        "print(df['Name'])"
      ],
      "metadata": {
        "colab": {
          "base_uri": "https://localhost:8080/"
        },
        "id": "HKS6YDTIq1lq",
        "outputId": "f945829c-80d9-469a-e3ac-18d99748eec9"
      },
      "execution_count": null,
      "outputs": [
        {
          "output_type": "stream",
          "name": "stdout",
          "text": [
            "0      Alice\n",
            "1        Bob\n",
            "2    Charlie\n",
            "Name: Name, dtype: object\n"
          ]
        }
      ]
    },
    {
      "cell_type": "code",
      "source": [
        "print(df[['Name','City']])"
      ],
      "metadata": {
        "colab": {
          "base_uri": "https://localhost:8080/"
        },
        "id": "YTKMpei8q1i9",
        "outputId": "aaf25551-f10a-481b-a865-146be4d251cd"
      },
      "execution_count": null,
      "outputs": [
        {
          "output_type": "stream",
          "name": "stdout",
          "text": [
            "      Name      City\n",
            "0    Alice  New York\n",
            "1      Bob   Chicago\n",
            "2  Charlie    Boston\n"
          ]
        }
      ]
    },
    {
      "cell_type": "code",
      "source": [
        "print([df[df['Salary']>75000]])"
      ],
      "metadata": {
        "colab": {
          "base_uri": "https://localhost:8080/"
        },
        "id": "EvFC9ud-q1gL",
        "outputId": "db7b684f-75db-45c1-c236-679c0e489cf9"
      },
      "execution_count": null,
      "outputs": [
        {
          "output_type": "stream",
          "name": "stdout",
          "text": [
            "[  Name  Age     City  Salary\n",
            "1  Bob   30  Chicago   80000]\n"
          ]
        }
      ]
    },
    {
      "cell_type": "code",
      "source": [
        "print(df.iloc[0])"
      ],
      "metadata": {
        "colab": {
          "base_uri": "https://localhost:8080/"
        },
        "id": "ywxzhBn6vCGd",
        "outputId": "5e479009-3e55-432e-e25b-bc816a0d63d6"
      },
      "execution_count": null,
      "outputs": [
        {
          "output_type": "stream",
          "name": "stdout",
          "text": [
            "Name         Alice\n",
            "Age             25\n",
            "City      New York\n",
            "Salary       70000\n",
            "Name: 0, dtype: object\n"
          ]
        }
      ]
    },
    {
      "cell_type": "code",
      "source": [
        "print(df.iloc[2])"
      ],
      "metadata": {
        "colab": {
          "base_uri": "https://localhost:8080/"
        },
        "id": "sx_YLd_OvIgU",
        "outputId": "c4f16ddc-babf-430f-e9b0-f38925343a03"
      },
      "execution_count": null,
      "outputs": [
        {
          "output_type": "stream",
          "name": "stdout",
          "text": [
            "Name      Charlie\n",
            "Age            28\n",
            "City       Boston\n",
            "Salary      75000\n",
            "Name: 2, dtype: object\n"
          ]
        }
      ]
    },
    {
      "cell_type": "code",
      "source": [
        "print(df.loc[0])"
      ],
      "metadata": {
        "colab": {
          "base_uri": "https://localhost:8080/"
        },
        "id": "bVgthVEMvRAP",
        "outputId": "54a6f41d-4d94-4016-9532-70fcfac83902"
      },
      "execution_count": null,
      "outputs": [
        {
          "output_type": "stream",
          "name": "stdout",
          "text": [
            "Name         Alice\n",
            "Age             25\n",
            "City      New York\n",
            "Salary       70000\n",
            "Name: 0, dtype: object\n"
          ]
        }
      ]
    },
    {
      "cell_type": "code",
      "source": [
        "import pandas as pd\n",
        "from IPython.display import display  # for cleaner tables\n",
        "\n",
        "# Load the data\n",
        "df = pd.read_csv('/content/student_habits_performance.csv')\n",
        "\n",
        "# Show the first few rows\n",
        "display(df.head(10))  # shows the first 5 rows  table\n"
      ],
      "metadata": {
        "colab": {
          "base_uri": "https://localhost:8080/",
          "height": 382
        },
        "id": "5dq6J4Ygwrdm",
        "outputId": "f84946e7-9dfe-4ad8-fb6b-ace46dbd3128"
      },
      "execution_count": null,
      "outputs": [
        {
          "output_type": "display_data",
          "data": {
            "text/plain": [
              "  student_id  age  gender  study_hours_per_day  social_media_hours  \\\n",
              "0      S1000   23  Female                  0.0                 1.2   \n",
              "1      S1001   20  Female                  6.9                 2.8   \n",
              "2      S1002   21    Male                  1.4                 3.1   \n",
              "3      S1003   23  Female                  1.0                 3.9   \n",
              "4      S1004   19  Female                  5.0                 4.4   \n",
              "5      S1005   24    Male                  7.2                 1.3   \n",
              "6      S1006   21  Female                  5.6                 1.5   \n",
              "7      S1007   21  Female                  4.3                 1.0   \n",
              "8      S1008   23  Female                  4.4                 2.2   \n",
              "9      S1009   18  Female                  4.8                 3.1   \n",
              "\n",
              "   netflix_hours part_time_job  attendance_percentage  sleep_hours  \\\n",
              "0            1.1            No                   85.0          8.0   \n",
              "1            2.3            No                   97.3          4.6   \n",
              "2            1.3            No                   94.8          8.0   \n",
              "3            1.0            No                   71.0          9.2   \n",
              "4            0.5            No                   90.9          4.9   \n",
              "5            0.0            No                   82.9          7.4   \n",
              "6            1.4           Yes                   85.8          6.5   \n",
              "7            2.0           Yes                   77.7          4.6   \n",
              "8            1.7            No                  100.0          7.1   \n",
              "9            1.3            No                   95.4          7.5   \n",
              "\n",
              "  diet_quality  exercise_frequency parental_education_level internet_quality  \\\n",
              "0         Fair                   6                   Master          Average   \n",
              "1         Good                   6              High School          Average   \n",
              "2         Poor                   1              High School             Poor   \n",
              "3         Poor                   4                   Master             Good   \n",
              "4         Fair                   3                   Master             Good   \n",
              "5         Fair                   1                   Master          Average   \n",
              "6         Good                   2                   Master             Poor   \n",
              "7         Fair                   0                 Bachelor          Average   \n",
              "8         Good                   3                 Bachelor             Good   \n",
              "9         Good                   5                 Bachelor             Good   \n",
              "\n",
              "   mental_health_rating extracurricular_participation  exam_score  \n",
              "0                     8                           Yes        56.2  \n",
              "1                     8                            No       100.0  \n",
              "2                     1                            No        34.3  \n",
              "3                     1                           Yes        26.8  \n",
              "4                     1                            No        66.4  \n",
              "5                     4                            No       100.0  \n",
              "6                     4                            No        89.8  \n",
              "7                     8                            No        72.6  \n",
              "8                     1                            No        78.9  \n",
              "9                    10                           Yes       100.0  "
            ],
            "text/html": [
              "\n",
              "  <div id=\"df-0870e1a5-b6a7-4498-9a4e-70317f336a43\" class=\"colab-df-container\">\n",
              "    <div>\n",
              "<style scoped>\n",
              "    .dataframe tbody tr th:only-of-type {\n",
              "        vertical-align: middle;\n",
              "    }\n",
              "\n",
              "    .dataframe tbody tr th {\n",
              "        vertical-align: top;\n",
              "    }\n",
              "\n",
              "    .dataframe thead th {\n",
              "        text-align: right;\n",
              "    }\n",
              "</style>\n",
              "<table border=\"1\" class=\"dataframe\">\n",
              "  <thead>\n",
              "    <tr style=\"text-align: right;\">\n",
              "      <th></th>\n",
              "      <th>student_id</th>\n",
              "      <th>age</th>\n",
              "      <th>gender</th>\n",
              "      <th>study_hours_per_day</th>\n",
              "      <th>social_media_hours</th>\n",
              "      <th>netflix_hours</th>\n",
              "      <th>part_time_job</th>\n",
              "      <th>attendance_percentage</th>\n",
              "      <th>sleep_hours</th>\n",
              "      <th>diet_quality</th>\n",
              "      <th>exercise_frequency</th>\n",
              "      <th>parental_education_level</th>\n",
              "      <th>internet_quality</th>\n",
              "      <th>mental_health_rating</th>\n",
              "      <th>extracurricular_participation</th>\n",
              "      <th>exam_score</th>\n",
              "    </tr>\n",
              "  </thead>\n",
              "  <tbody>\n",
              "    <tr>\n",
              "      <th>0</th>\n",
              "      <td>S1000</td>\n",
              "      <td>23</td>\n",
              "      <td>Female</td>\n",
              "      <td>0.0</td>\n",
              "      <td>1.2</td>\n",
              "      <td>1.1</td>\n",
              "      <td>No</td>\n",
              "      <td>85.0</td>\n",
              "      <td>8.0</td>\n",
              "      <td>Fair</td>\n",
              "      <td>6</td>\n",
              "      <td>Master</td>\n",
              "      <td>Average</td>\n",
              "      <td>8</td>\n",
              "      <td>Yes</td>\n",
              "      <td>56.2</td>\n",
              "    </tr>\n",
              "    <tr>\n",
              "      <th>1</th>\n",
              "      <td>S1001</td>\n",
              "      <td>20</td>\n",
              "      <td>Female</td>\n",
              "      <td>6.9</td>\n",
              "      <td>2.8</td>\n",
              "      <td>2.3</td>\n",
              "      <td>No</td>\n",
              "      <td>97.3</td>\n",
              "      <td>4.6</td>\n",
              "      <td>Good</td>\n",
              "      <td>6</td>\n",
              "      <td>High School</td>\n",
              "      <td>Average</td>\n",
              "      <td>8</td>\n",
              "      <td>No</td>\n",
              "      <td>100.0</td>\n",
              "    </tr>\n",
              "    <tr>\n",
              "      <th>2</th>\n",
              "      <td>S1002</td>\n",
              "      <td>21</td>\n",
              "      <td>Male</td>\n",
              "      <td>1.4</td>\n",
              "      <td>3.1</td>\n",
              "      <td>1.3</td>\n",
              "      <td>No</td>\n",
              "      <td>94.8</td>\n",
              "      <td>8.0</td>\n",
              "      <td>Poor</td>\n",
              "      <td>1</td>\n",
              "      <td>High School</td>\n",
              "      <td>Poor</td>\n",
              "      <td>1</td>\n",
              "      <td>No</td>\n",
              "      <td>34.3</td>\n",
              "    </tr>\n",
              "    <tr>\n",
              "      <th>3</th>\n",
              "      <td>S1003</td>\n",
              "      <td>23</td>\n",
              "      <td>Female</td>\n",
              "      <td>1.0</td>\n",
              "      <td>3.9</td>\n",
              "      <td>1.0</td>\n",
              "      <td>No</td>\n",
              "      <td>71.0</td>\n",
              "      <td>9.2</td>\n",
              "      <td>Poor</td>\n",
              "      <td>4</td>\n",
              "      <td>Master</td>\n",
              "      <td>Good</td>\n",
              "      <td>1</td>\n",
              "      <td>Yes</td>\n",
              "      <td>26.8</td>\n",
              "    </tr>\n",
              "    <tr>\n",
              "      <th>4</th>\n",
              "      <td>S1004</td>\n",
              "      <td>19</td>\n",
              "      <td>Female</td>\n",
              "      <td>5.0</td>\n",
              "      <td>4.4</td>\n",
              "      <td>0.5</td>\n",
              "      <td>No</td>\n",
              "      <td>90.9</td>\n",
              "      <td>4.9</td>\n",
              "      <td>Fair</td>\n",
              "      <td>3</td>\n",
              "      <td>Master</td>\n",
              "      <td>Good</td>\n",
              "      <td>1</td>\n",
              "      <td>No</td>\n",
              "      <td>66.4</td>\n",
              "    </tr>\n",
              "    <tr>\n",
              "      <th>5</th>\n",
              "      <td>S1005</td>\n",
              "      <td>24</td>\n",
              "      <td>Male</td>\n",
              "      <td>7.2</td>\n",
              "      <td>1.3</td>\n",
              "      <td>0.0</td>\n",
              "      <td>No</td>\n",
              "      <td>82.9</td>\n",
              "      <td>7.4</td>\n",
              "      <td>Fair</td>\n",
              "      <td>1</td>\n",
              "      <td>Master</td>\n",
              "      <td>Average</td>\n",
              "      <td>4</td>\n",
              "      <td>No</td>\n",
              "      <td>100.0</td>\n",
              "    </tr>\n",
              "    <tr>\n",
              "      <th>6</th>\n",
              "      <td>S1006</td>\n",
              "      <td>21</td>\n",
              "      <td>Female</td>\n",
              "      <td>5.6</td>\n",
              "      <td>1.5</td>\n",
              "      <td>1.4</td>\n",
              "      <td>Yes</td>\n",
              "      <td>85.8</td>\n",
              "      <td>6.5</td>\n",
              "      <td>Good</td>\n",
              "      <td>2</td>\n",
              "      <td>Master</td>\n",
              "      <td>Poor</td>\n",
              "      <td>4</td>\n",
              "      <td>No</td>\n",
              "      <td>89.8</td>\n",
              "    </tr>\n",
              "    <tr>\n",
              "      <th>7</th>\n",
              "      <td>S1007</td>\n",
              "      <td>21</td>\n",
              "      <td>Female</td>\n",
              "      <td>4.3</td>\n",
              "      <td>1.0</td>\n",
              "      <td>2.0</td>\n",
              "      <td>Yes</td>\n",
              "      <td>77.7</td>\n",
              "      <td>4.6</td>\n",
              "      <td>Fair</td>\n",
              "      <td>0</td>\n",
              "      <td>Bachelor</td>\n",
              "      <td>Average</td>\n",
              "      <td>8</td>\n",
              "      <td>No</td>\n",
              "      <td>72.6</td>\n",
              "    </tr>\n",
              "    <tr>\n",
              "      <th>8</th>\n",
              "      <td>S1008</td>\n",
              "      <td>23</td>\n",
              "      <td>Female</td>\n",
              "      <td>4.4</td>\n",
              "      <td>2.2</td>\n",
              "      <td>1.7</td>\n",
              "      <td>No</td>\n",
              "      <td>100.0</td>\n",
              "      <td>7.1</td>\n",
              "      <td>Good</td>\n",
              "      <td>3</td>\n",
              "      <td>Bachelor</td>\n",
              "      <td>Good</td>\n",
              "      <td>1</td>\n",
              "      <td>No</td>\n",
              "      <td>78.9</td>\n",
              "    </tr>\n",
              "    <tr>\n",
              "      <th>9</th>\n",
              "      <td>S1009</td>\n",
              "      <td>18</td>\n",
              "      <td>Female</td>\n",
              "      <td>4.8</td>\n",
              "      <td>3.1</td>\n",
              "      <td>1.3</td>\n",
              "      <td>No</td>\n",
              "      <td>95.4</td>\n",
              "      <td>7.5</td>\n",
              "      <td>Good</td>\n",
              "      <td>5</td>\n",
              "      <td>Bachelor</td>\n",
              "      <td>Good</td>\n",
              "      <td>10</td>\n",
              "      <td>Yes</td>\n",
              "      <td>100.0</td>\n",
              "    </tr>\n",
              "  </tbody>\n",
              "</table>\n",
              "</div>\n",
              "    <div class=\"colab-df-buttons\">\n",
              "\n",
              "  <div class=\"colab-df-container\">\n",
              "    <button class=\"colab-df-convert\" onclick=\"convertToInteractive('df-0870e1a5-b6a7-4498-9a4e-70317f336a43')\"\n",
              "            title=\"Convert this dataframe to an interactive table.\"\n",
              "            style=\"display:none;\">\n",
              "\n",
              "  <svg xmlns=\"http://www.w3.org/2000/svg\" height=\"24px\" viewBox=\"0 -960 960 960\">\n",
              "    <path d=\"M120-120v-720h720v720H120Zm60-500h600v-160H180v160Zm220 220h160v-160H400v160Zm0 220h160v-160H400v160ZM180-400h160v-160H180v160Zm440 0h160v-160H620v160ZM180-180h160v-160H180v160Zm440 0h160v-160H620v160Z\"/>\n",
              "  </svg>\n",
              "    </button>\n",
              "\n",
              "  <style>\n",
              "    .colab-df-container {\n",
              "      display:flex;\n",
              "      gap: 12px;\n",
              "    }\n",
              "\n",
              "    .colab-df-convert {\n",
              "      background-color: #E8F0FE;\n",
              "      border: none;\n",
              "      border-radius: 50%;\n",
              "      cursor: pointer;\n",
              "      display: none;\n",
              "      fill: #1967D2;\n",
              "      height: 32px;\n",
              "      padding: 0 0 0 0;\n",
              "      width: 32px;\n",
              "    }\n",
              "\n",
              "    .colab-df-convert:hover {\n",
              "      background-color: #E2EBFA;\n",
              "      box-shadow: 0px 1px 2px rgba(60, 64, 67, 0.3), 0px 1px 3px 1px rgba(60, 64, 67, 0.15);\n",
              "      fill: #174EA6;\n",
              "    }\n",
              "\n",
              "    .colab-df-buttons div {\n",
              "      margin-bottom: 4px;\n",
              "    }\n",
              "\n",
              "    [theme=dark] .colab-df-convert {\n",
              "      background-color: #3B4455;\n",
              "      fill: #D2E3FC;\n",
              "    }\n",
              "\n",
              "    [theme=dark] .colab-df-convert:hover {\n",
              "      background-color: #434B5C;\n",
              "      box-shadow: 0px 1px 3px 1px rgba(0, 0, 0, 0.15);\n",
              "      filter: drop-shadow(0px 1px 2px rgba(0, 0, 0, 0.3));\n",
              "      fill: #FFFFFF;\n",
              "    }\n",
              "  </style>\n",
              "\n",
              "    <script>\n",
              "      const buttonEl =\n",
              "        document.querySelector('#df-0870e1a5-b6a7-4498-9a4e-70317f336a43 button.colab-df-convert');\n",
              "      buttonEl.style.display =\n",
              "        google.colab.kernel.accessAllowed ? 'block' : 'none';\n",
              "\n",
              "      async function convertToInteractive(key) {\n",
              "        const element = document.querySelector('#df-0870e1a5-b6a7-4498-9a4e-70317f336a43');\n",
              "        const dataTable =\n",
              "          await google.colab.kernel.invokeFunction('convertToInteractive',\n",
              "                                                    [key], {});\n",
              "        if (!dataTable) return;\n",
              "\n",
              "        const docLinkHtml = 'Like what you see? Visit the ' +\n",
              "          '<a target=\"_blank\" href=https://colab.research.google.com/notebooks/data_table.ipynb>data table notebook</a>'\n",
              "          + ' to learn more about interactive tables.';\n",
              "        element.innerHTML = '';\n",
              "        dataTable['output_type'] = 'display_data';\n",
              "        await google.colab.output.renderOutput(dataTable, element);\n",
              "        const docLink = document.createElement('div');\n",
              "        docLink.innerHTML = docLinkHtml;\n",
              "        element.appendChild(docLink);\n",
              "      }\n",
              "    </script>\n",
              "  </div>\n",
              "\n",
              "\n",
              "<div id=\"df-22091059-b47a-4208-b74a-a41fc600d952\">\n",
              "  <button class=\"colab-df-quickchart\" onclick=\"quickchart('df-22091059-b47a-4208-b74a-a41fc600d952')\"\n",
              "            title=\"Suggest charts\"\n",
              "            style=\"display:none;\">\n",
              "\n",
              "<svg xmlns=\"http://www.w3.org/2000/svg\" height=\"24px\"viewBox=\"0 0 24 24\"\n",
              "     width=\"24px\">\n",
              "    <g>\n",
              "        <path d=\"M19 3H5c-1.1 0-2 .9-2 2v14c0 1.1.9 2 2 2h14c1.1 0 2-.9 2-2V5c0-1.1-.9-2-2-2zM9 17H7v-7h2v7zm4 0h-2V7h2v10zm4 0h-2v-4h2v4z\"/>\n",
              "    </g>\n",
              "</svg>\n",
              "  </button>\n",
              "\n",
              "<style>\n",
              "  .colab-df-quickchart {\n",
              "      --bg-color: #E8F0FE;\n",
              "      --fill-color: #1967D2;\n",
              "      --hover-bg-color: #E2EBFA;\n",
              "      --hover-fill-color: #174EA6;\n",
              "      --disabled-fill-color: #AAA;\n",
              "      --disabled-bg-color: #DDD;\n",
              "  }\n",
              "\n",
              "  [theme=dark] .colab-df-quickchart {\n",
              "      --bg-color: #3B4455;\n",
              "      --fill-color: #D2E3FC;\n",
              "      --hover-bg-color: #434B5C;\n",
              "      --hover-fill-color: #FFFFFF;\n",
              "      --disabled-bg-color: #3B4455;\n",
              "      --disabled-fill-color: #666;\n",
              "  }\n",
              "\n",
              "  .colab-df-quickchart {\n",
              "    background-color: var(--bg-color);\n",
              "    border: none;\n",
              "    border-radius: 50%;\n",
              "    cursor: pointer;\n",
              "    display: none;\n",
              "    fill: var(--fill-color);\n",
              "    height: 32px;\n",
              "    padding: 0;\n",
              "    width: 32px;\n",
              "  }\n",
              "\n",
              "  .colab-df-quickchart:hover {\n",
              "    background-color: var(--hover-bg-color);\n",
              "    box-shadow: 0 1px 2px rgba(60, 64, 67, 0.3), 0 1px 3px 1px rgba(60, 64, 67, 0.15);\n",
              "    fill: var(--button-hover-fill-color);\n",
              "  }\n",
              "\n",
              "  .colab-df-quickchart-complete:disabled,\n",
              "  .colab-df-quickchart-complete:disabled:hover {\n",
              "    background-color: var(--disabled-bg-color);\n",
              "    fill: var(--disabled-fill-color);\n",
              "    box-shadow: none;\n",
              "  }\n",
              "\n",
              "  .colab-df-spinner {\n",
              "    border: 2px solid var(--fill-color);\n",
              "    border-color: transparent;\n",
              "    border-bottom-color: var(--fill-color);\n",
              "    animation:\n",
              "      spin 1s steps(1) infinite;\n",
              "  }\n",
              "\n",
              "  @keyframes spin {\n",
              "    0% {\n",
              "      border-color: transparent;\n",
              "      border-bottom-color: var(--fill-color);\n",
              "      border-left-color: var(--fill-color);\n",
              "    }\n",
              "    20% {\n",
              "      border-color: transparent;\n",
              "      border-left-color: var(--fill-color);\n",
              "      border-top-color: var(--fill-color);\n",
              "    }\n",
              "    30% {\n",
              "      border-color: transparent;\n",
              "      border-left-color: var(--fill-color);\n",
              "      border-top-color: var(--fill-color);\n",
              "      border-right-color: var(--fill-color);\n",
              "    }\n",
              "    40% {\n",
              "      border-color: transparent;\n",
              "      border-right-color: var(--fill-color);\n",
              "      border-top-color: var(--fill-color);\n",
              "    }\n",
              "    60% {\n",
              "      border-color: transparent;\n",
              "      border-right-color: var(--fill-color);\n",
              "    }\n",
              "    80% {\n",
              "      border-color: transparent;\n",
              "      border-right-color: var(--fill-color);\n",
              "      border-bottom-color: var(--fill-color);\n",
              "    }\n",
              "    90% {\n",
              "      border-color: transparent;\n",
              "      border-bottom-color: var(--fill-color);\n",
              "    }\n",
              "  }\n",
              "</style>\n",
              "\n",
              "  <script>\n",
              "    async function quickchart(key) {\n",
              "      const quickchartButtonEl =\n",
              "        document.querySelector('#' + key + ' button');\n",
              "      quickchartButtonEl.disabled = true;  // To prevent multiple clicks.\n",
              "      quickchartButtonEl.classList.add('colab-df-spinner');\n",
              "      try {\n",
              "        const charts = await google.colab.kernel.invokeFunction(\n",
              "            'suggestCharts', [key], {});\n",
              "      } catch (error) {\n",
              "        console.error('Error during call to suggestCharts:', error);\n",
              "      }\n",
              "      quickchartButtonEl.classList.remove('colab-df-spinner');\n",
              "      quickchartButtonEl.classList.add('colab-df-quickchart-complete');\n",
              "    }\n",
              "    (() => {\n",
              "      let quickchartButtonEl =\n",
              "        document.querySelector('#df-22091059-b47a-4208-b74a-a41fc600d952 button');\n",
              "      quickchartButtonEl.style.display =\n",
              "        google.colab.kernel.accessAllowed ? 'block' : 'none';\n",
              "    })();\n",
              "  </script>\n",
              "</div>\n",
              "\n",
              "    </div>\n",
              "  </div>\n"
            ],
            "application/vnd.google.colaboratory.intrinsic+json": {
              "type": "dataframe",
              "summary": "{\n  \"name\": \"display(df\",\n  \"rows\": 10,\n  \"fields\": [\n    {\n      \"column\": \"student_id\",\n      \"properties\": {\n        \"dtype\": \"string\",\n        \"num_unique_values\": 10,\n        \"samples\": [\n          \"S1008\",\n          \"S1001\",\n          \"S1005\"\n        ],\n        \"semantic_type\": \"\",\n        \"description\": \"\"\n      }\n    },\n    {\n      \"column\": \"age\",\n      \"properties\": {\n        \"dtype\": \"number\",\n        \"std\": 1,\n        \"min\": 18,\n        \"max\": 24,\n        \"num_unique_values\": 6,\n        \"samples\": [\n          23,\n          20,\n          18\n        ],\n        \"semantic_type\": \"\",\n        \"description\": \"\"\n      }\n    },\n    {\n      \"column\": \"gender\",\n      \"properties\": {\n        \"dtype\": \"category\",\n        \"num_unique_values\": 2,\n        \"samples\": [\n          \"Male\",\n          \"Female\"\n        ],\n        \"semantic_type\": \"\",\n        \"description\": \"\"\n      }\n    },\n    {\n      \"column\": \"study_hours_per_day\",\n      \"properties\": {\n        \"dtype\": \"number\",\n        \"std\": 2.468107687187809,\n        \"min\": 0.0,\n        \"max\": 7.2,\n        \"num_unique_values\": 10,\n        \"samples\": [\n          4.4,\n          6.9\n        ],\n        \"semantic_type\": \"\",\n        \"description\": \"\"\n      }\n    },\n    {\n      \"column\": \"social_media_hours\",\n      \"properties\": {\n        \"dtype\": \"number\",\n        \"std\": 1.1937336386313322,\n        \"min\": 1.0,\n        \"max\": 4.4,\n        \"num_unique_values\": 9,\n        \"samples\": [\n          1.0,\n          2.8\n        ],\n        \"semantic_type\": \"\",\n        \"description\": \"\"\n      }\n    },\n    {\n      \"column\": \"netflix_hours\",\n      \"properties\": {\n        \"dtype\": \"number\",\n        \"std\": 0.6752777206453653,\n        \"min\": 0.0,\n        \"max\": 2.3,\n        \"num_unique_values\": 9,\n        \"samples\": [\n          2.0,\n          2.3\n        ],\n        \"semantic_type\": \"\",\n        \"description\": \"\"\n      }\n    },\n    {\n      \"column\": \"part_time_job\",\n      \"properties\": {\n        \"dtype\": \"category\",\n        \"num_unique_values\": 2,\n        \"samples\": [\n          \"Yes\",\n          \"No\"\n        ],\n        \"semantic_type\": \"\",\n        \"description\": \"\"\n      }\n    },\n    {\n      \"column\": \"attendance_percentage\",\n      \"properties\": {\n        \"dtype\": \"number\",\n        \"std\": 9.278266121545675,\n        \"min\": 71.0,\n        \"max\": 100.0,\n        \"num_unique_values\": 10,\n        \"samples\": [\n          100.0,\n          97.3\n        ],\n        \"semantic_type\": \"\",\n        \"description\": \"\"\n      }\n    },\n    {\n      \"column\": \"sleep_hours\",\n      \"properties\": {\n        \"dtype\": \"number\",\n        \"std\": 1.5970806700560451,\n        \"min\": 4.6,\n        \"max\": 9.2,\n        \"num_unique_values\": 8,\n        \"samples\": [\n          4.6,\n          6.5\n        ],\n        \"semantic_type\": \"\",\n        \"description\": \"\"\n      }\n    },\n    {\n      \"column\": \"diet_quality\",\n      \"properties\": {\n        \"dtype\": \"category\",\n        \"num_unique_values\": 3,\n        \"samples\": [\n          \"Fair\",\n          \"Good\"\n        ],\n        \"semantic_type\": \"\",\n        \"description\": \"\"\n      }\n    },\n    {\n      \"column\": \"exercise_frequency\",\n      \"properties\": {\n        \"dtype\": \"number\",\n        \"std\": 2,\n        \"min\": 0,\n        \"max\": 6,\n        \"num_unique_values\": 7,\n        \"samples\": [\n          6,\n          1\n        ],\n        \"semantic_type\": \"\",\n        \"description\": \"\"\n      }\n    },\n    {\n      \"column\": \"parental_education_level\",\n      \"properties\": {\n        \"dtype\": \"category\",\n        \"num_unique_values\": 3,\n        \"samples\": [\n          \"Master\",\n          \"High School\"\n        ],\n        \"semantic_type\": \"\",\n        \"description\": \"\"\n      }\n    },\n    {\n      \"column\": \"internet_quality\",\n      \"properties\": {\n        \"dtype\": \"category\",\n        \"num_unique_values\": 3,\n        \"samples\": [\n          \"Average\",\n          \"Poor\"\n        ],\n        \"semantic_type\": \"\",\n        \"description\": \"\"\n      }\n    },\n    {\n      \"column\": \"mental_health_rating\",\n      \"properties\": {\n        \"dtype\": \"number\",\n        \"std\": 3,\n        \"min\": 1,\n        \"max\": 10,\n        \"num_unique_values\": 4,\n        \"samples\": [\n          1,\n          10\n        ],\n        \"semantic_type\": \"\",\n        \"description\": \"\"\n      }\n    },\n    {\n      \"column\": \"extracurricular_participation\",\n      \"properties\": {\n        \"dtype\": \"category\",\n        \"num_unique_values\": 2,\n        \"samples\": [\n          \"No\",\n          \"Yes\"\n        ],\n        \"semantic_type\": \"\",\n        \"description\": \"\"\n      }\n    },\n    {\n      \"column\": \"exam_score\",\n      \"properties\": {\n        \"dtype\": \"number\",\n        \"std\": 26.790628543910234,\n        \"min\": 26.8,\n        \"max\": 100.0,\n        \"num_unique_values\": 8,\n        \"samples\": [\n          100.0,\n          89.8\n        ],\n        \"semantic_type\": \"\",\n        \"description\": \"\"\n      }\n    }\n  ]\n}"
            }
          },
          "metadata": {}
        }
      ]
    },
    {
      "cell_type": "code",
      "source": [
        "display(df.tail(5))"
      ],
      "metadata": {
        "colab": {
          "base_uri": "https://localhost:8080/",
          "height": 226
        },
        "id": "3YP2VRWM1aNk",
        "outputId": "766a9b21-3a30-43c6-8dea-51ffe6f120b8"
      },
      "execution_count": null,
      "outputs": [
        {
          "output_type": "display_data",
          "data": {
            "text/plain": [
              "    student_id  age  gender  study_hours_per_day  social_media_hours  \\\n",
              "995      S1995   21  Female                  2.6                 0.5   \n",
              "996      S1996   17  Female                  2.9                 1.0   \n",
              "997      S1997   20    Male                  3.0                 2.6   \n",
              "998      S1998   24    Male                  5.4                 4.1   \n",
              "999      S1999   19  Female                  4.3                 2.9   \n",
              "\n",
              "     netflix_hours part_time_job  attendance_percentage  sleep_hours  \\\n",
              "995            1.6            No                   77.0          7.5   \n",
              "996            2.4           Yes                   86.0          6.8   \n",
              "997            1.3            No                   61.9          6.5   \n",
              "998            1.1           Yes                  100.0          7.6   \n",
              "999            1.9            No                   89.4          7.1   \n",
              "\n",
              "    diet_quality  exercise_frequency parental_education_level  \\\n",
              "995         Fair                   2              High School   \n",
              "996         Poor                   1              High School   \n",
              "997         Good                   5                 Bachelor   \n",
              "998         Fair                   0                 Bachelor   \n",
              "999         Good                   2                 Bachelor   \n",
              "\n",
              "    internet_quality  mental_health_rating extracurricular_participation  \\\n",
              "995             Good                     6                           Yes   \n",
              "996          Average                     6                           Yes   \n",
              "997             Good                     9                           Yes   \n",
              "998          Average                     1                            No   \n",
              "999          Average                     8                            No   \n",
              "\n",
              "     exam_score  \n",
              "995        76.1  \n",
              "996        65.9  \n",
              "997        64.4  \n",
              "998        69.7  \n",
              "999        74.9  "
            ],
            "text/html": [
              "\n",
              "  <div id=\"df-d3123616-2723-4898-87f1-c39d2078b379\" class=\"colab-df-container\">\n",
              "    <div>\n",
              "<style scoped>\n",
              "    .dataframe tbody tr th:only-of-type {\n",
              "        vertical-align: middle;\n",
              "    }\n",
              "\n",
              "    .dataframe tbody tr th {\n",
              "        vertical-align: top;\n",
              "    }\n",
              "\n",
              "    .dataframe thead th {\n",
              "        text-align: right;\n",
              "    }\n",
              "</style>\n",
              "<table border=\"1\" class=\"dataframe\">\n",
              "  <thead>\n",
              "    <tr style=\"text-align: right;\">\n",
              "      <th></th>\n",
              "      <th>student_id</th>\n",
              "      <th>age</th>\n",
              "      <th>gender</th>\n",
              "      <th>study_hours_per_day</th>\n",
              "      <th>social_media_hours</th>\n",
              "      <th>netflix_hours</th>\n",
              "      <th>part_time_job</th>\n",
              "      <th>attendance_percentage</th>\n",
              "      <th>sleep_hours</th>\n",
              "      <th>diet_quality</th>\n",
              "      <th>exercise_frequency</th>\n",
              "      <th>parental_education_level</th>\n",
              "      <th>internet_quality</th>\n",
              "      <th>mental_health_rating</th>\n",
              "      <th>extracurricular_participation</th>\n",
              "      <th>exam_score</th>\n",
              "    </tr>\n",
              "  </thead>\n",
              "  <tbody>\n",
              "    <tr>\n",
              "      <th>995</th>\n",
              "      <td>S1995</td>\n",
              "      <td>21</td>\n",
              "      <td>Female</td>\n",
              "      <td>2.6</td>\n",
              "      <td>0.5</td>\n",
              "      <td>1.6</td>\n",
              "      <td>No</td>\n",
              "      <td>77.0</td>\n",
              "      <td>7.5</td>\n",
              "      <td>Fair</td>\n",
              "      <td>2</td>\n",
              "      <td>High School</td>\n",
              "      <td>Good</td>\n",
              "      <td>6</td>\n",
              "      <td>Yes</td>\n",
              "      <td>76.1</td>\n",
              "    </tr>\n",
              "    <tr>\n",
              "      <th>996</th>\n",
              "      <td>S1996</td>\n",
              "      <td>17</td>\n",
              "      <td>Female</td>\n",
              "      <td>2.9</td>\n",
              "      <td>1.0</td>\n",
              "      <td>2.4</td>\n",
              "      <td>Yes</td>\n",
              "      <td>86.0</td>\n",
              "      <td>6.8</td>\n",
              "      <td>Poor</td>\n",
              "      <td>1</td>\n",
              "      <td>High School</td>\n",
              "      <td>Average</td>\n",
              "      <td>6</td>\n",
              "      <td>Yes</td>\n",
              "      <td>65.9</td>\n",
              "    </tr>\n",
              "    <tr>\n",
              "      <th>997</th>\n",
              "      <td>S1997</td>\n",
              "      <td>20</td>\n",
              "      <td>Male</td>\n",
              "      <td>3.0</td>\n",
              "      <td>2.6</td>\n",
              "      <td>1.3</td>\n",
              "      <td>No</td>\n",
              "      <td>61.9</td>\n",
              "      <td>6.5</td>\n",
              "      <td>Good</td>\n",
              "      <td>5</td>\n",
              "      <td>Bachelor</td>\n",
              "      <td>Good</td>\n",
              "      <td>9</td>\n",
              "      <td>Yes</td>\n",
              "      <td>64.4</td>\n",
              "    </tr>\n",
              "    <tr>\n",
              "      <th>998</th>\n",
              "      <td>S1998</td>\n",
              "      <td>24</td>\n",
              "      <td>Male</td>\n",
              "      <td>5.4</td>\n",
              "      <td>4.1</td>\n",
              "      <td>1.1</td>\n",
              "      <td>Yes</td>\n",
              "      <td>100.0</td>\n",
              "      <td>7.6</td>\n",
              "      <td>Fair</td>\n",
              "      <td>0</td>\n",
              "      <td>Bachelor</td>\n",
              "      <td>Average</td>\n",
              "      <td>1</td>\n",
              "      <td>No</td>\n",
              "      <td>69.7</td>\n",
              "    </tr>\n",
              "    <tr>\n",
              "      <th>999</th>\n",
              "      <td>S1999</td>\n",
              "      <td>19</td>\n",
              "      <td>Female</td>\n",
              "      <td>4.3</td>\n",
              "      <td>2.9</td>\n",
              "      <td>1.9</td>\n",
              "      <td>No</td>\n",
              "      <td>89.4</td>\n",
              "      <td>7.1</td>\n",
              "      <td>Good</td>\n",
              "      <td>2</td>\n",
              "      <td>Bachelor</td>\n",
              "      <td>Average</td>\n",
              "      <td>8</td>\n",
              "      <td>No</td>\n",
              "      <td>74.9</td>\n",
              "    </tr>\n",
              "  </tbody>\n",
              "</table>\n",
              "</div>\n",
              "    <div class=\"colab-df-buttons\">\n",
              "\n",
              "  <div class=\"colab-df-container\">\n",
              "    <button class=\"colab-df-convert\" onclick=\"convertToInteractive('df-d3123616-2723-4898-87f1-c39d2078b379')\"\n",
              "            title=\"Convert this dataframe to an interactive table.\"\n",
              "            style=\"display:none;\">\n",
              "\n",
              "  <svg xmlns=\"http://www.w3.org/2000/svg\" height=\"24px\" viewBox=\"0 -960 960 960\">\n",
              "    <path d=\"M120-120v-720h720v720H120Zm60-500h600v-160H180v160Zm220 220h160v-160H400v160Zm0 220h160v-160H400v160ZM180-400h160v-160H180v160Zm440 0h160v-160H620v160ZM180-180h160v-160H180v160Zm440 0h160v-160H620v160Z\"/>\n",
              "  </svg>\n",
              "    </button>\n",
              "\n",
              "  <style>\n",
              "    .colab-df-container {\n",
              "      display:flex;\n",
              "      gap: 12px;\n",
              "    }\n",
              "\n",
              "    .colab-df-convert {\n",
              "      background-color: #E8F0FE;\n",
              "      border: none;\n",
              "      border-radius: 50%;\n",
              "      cursor: pointer;\n",
              "      display: none;\n",
              "      fill: #1967D2;\n",
              "      height: 32px;\n",
              "      padding: 0 0 0 0;\n",
              "      width: 32px;\n",
              "    }\n",
              "\n",
              "    .colab-df-convert:hover {\n",
              "      background-color: #E2EBFA;\n",
              "      box-shadow: 0px 1px 2px rgba(60, 64, 67, 0.3), 0px 1px 3px 1px rgba(60, 64, 67, 0.15);\n",
              "      fill: #174EA6;\n",
              "    }\n",
              "\n",
              "    .colab-df-buttons div {\n",
              "      margin-bottom: 4px;\n",
              "    }\n",
              "\n",
              "    [theme=dark] .colab-df-convert {\n",
              "      background-color: #3B4455;\n",
              "      fill: #D2E3FC;\n",
              "    }\n",
              "\n",
              "    [theme=dark] .colab-df-convert:hover {\n",
              "      background-color: #434B5C;\n",
              "      box-shadow: 0px 1px 3px 1px rgba(0, 0, 0, 0.15);\n",
              "      filter: drop-shadow(0px 1px 2px rgba(0, 0, 0, 0.3));\n",
              "      fill: #FFFFFF;\n",
              "    }\n",
              "  </style>\n",
              "\n",
              "    <script>\n",
              "      const buttonEl =\n",
              "        document.querySelector('#df-d3123616-2723-4898-87f1-c39d2078b379 button.colab-df-convert');\n",
              "      buttonEl.style.display =\n",
              "        google.colab.kernel.accessAllowed ? 'block' : 'none';\n",
              "\n",
              "      async function convertToInteractive(key) {\n",
              "        const element = document.querySelector('#df-d3123616-2723-4898-87f1-c39d2078b379');\n",
              "        const dataTable =\n",
              "          await google.colab.kernel.invokeFunction('convertToInteractive',\n",
              "                                                    [key], {});\n",
              "        if (!dataTable) return;\n",
              "\n",
              "        const docLinkHtml = 'Like what you see? Visit the ' +\n",
              "          '<a target=\"_blank\" href=https://colab.research.google.com/notebooks/data_table.ipynb>data table notebook</a>'\n",
              "          + ' to learn more about interactive tables.';\n",
              "        element.innerHTML = '';\n",
              "        dataTable['output_type'] = 'display_data';\n",
              "        await google.colab.output.renderOutput(dataTable, element);\n",
              "        const docLink = document.createElement('div');\n",
              "        docLink.innerHTML = docLinkHtml;\n",
              "        element.appendChild(docLink);\n",
              "      }\n",
              "    </script>\n",
              "  </div>\n",
              "\n",
              "\n",
              "<div id=\"df-bc4883ab-4e59-4d58-893f-c486130a8ffd\">\n",
              "  <button class=\"colab-df-quickchart\" onclick=\"quickchart('df-bc4883ab-4e59-4d58-893f-c486130a8ffd')\"\n",
              "            title=\"Suggest charts\"\n",
              "            style=\"display:none;\">\n",
              "\n",
              "<svg xmlns=\"http://www.w3.org/2000/svg\" height=\"24px\"viewBox=\"0 0 24 24\"\n",
              "     width=\"24px\">\n",
              "    <g>\n",
              "        <path d=\"M19 3H5c-1.1 0-2 .9-2 2v14c0 1.1.9 2 2 2h14c1.1 0 2-.9 2-2V5c0-1.1-.9-2-2-2zM9 17H7v-7h2v7zm4 0h-2V7h2v10zm4 0h-2v-4h2v4z\"/>\n",
              "    </g>\n",
              "</svg>\n",
              "  </button>\n",
              "\n",
              "<style>\n",
              "  .colab-df-quickchart {\n",
              "      --bg-color: #E8F0FE;\n",
              "      --fill-color: #1967D2;\n",
              "      --hover-bg-color: #E2EBFA;\n",
              "      --hover-fill-color: #174EA6;\n",
              "      --disabled-fill-color: #AAA;\n",
              "      --disabled-bg-color: #DDD;\n",
              "  }\n",
              "\n",
              "  [theme=dark] .colab-df-quickchart {\n",
              "      --bg-color: #3B4455;\n",
              "      --fill-color: #D2E3FC;\n",
              "      --hover-bg-color: #434B5C;\n",
              "      --hover-fill-color: #FFFFFF;\n",
              "      --disabled-bg-color: #3B4455;\n",
              "      --disabled-fill-color: #666;\n",
              "  }\n",
              "\n",
              "  .colab-df-quickchart {\n",
              "    background-color: var(--bg-color);\n",
              "    border: none;\n",
              "    border-radius: 50%;\n",
              "    cursor: pointer;\n",
              "    display: none;\n",
              "    fill: var(--fill-color);\n",
              "    height: 32px;\n",
              "    padding: 0;\n",
              "    width: 32px;\n",
              "  }\n",
              "\n",
              "  .colab-df-quickchart:hover {\n",
              "    background-color: var(--hover-bg-color);\n",
              "    box-shadow: 0 1px 2px rgba(60, 64, 67, 0.3), 0 1px 3px 1px rgba(60, 64, 67, 0.15);\n",
              "    fill: var(--button-hover-fill-color);\n",
              "  }\n",
              "\n",
              "  .colab-df-quickchart-complete:disabled,\n",
              "  .colab-df-quickchart-complete:disabled:hover {\n",
              "    background-color: var(--disabled-bg-color);\n",
              "    fill: var(--disabled-fill-color);\n",
              "    box-shadow: none;\n",
              "  }\n",
              "\n",
              "  .colab-df-spinner {\n",
              "    border: 2px solid var(--fill-color);\n",
              "    border-color: transparent;\n",
              "    border-bottom-color: var(--fill-color);\n",
              "    animation:\n",
              "      spin 1s steps(1) infinite;\n",
              "  }\n",
              "\n",
              "  @keyframes spin {\n",
              "    0% {\n",
              "      border-color: transparent;\n",
              "      border-bottom-color: var(--fill-color);\n",
              "      border-left-color: var(--fill-color);\n",
              "    }\n",
              "    20% {\n",
              "      border-color: transparent;\n",
              "      border-left-color: var(--fill-color);\n",
              "      border-top-color: var(--fill-color);\n",
              "    }\n",
              "    30% {\n",
              "      border-color: transparent;\n",
              "      border-left-color: var(--fill-color);\n",
              "      border-top-color: var(--fill-color);\n",
              "      border-right-color: var(--fill-color);\n",
              "    }\n",
              "    40% {\n",
              "      border-color: transparent;\n",
              "      border-right-color: var(--fill-color);\n",
              "      border-top-color: var(--fill-color);\n",
              "    }\n",
              "    60% {\n",
              "      border-color: transparent;\n",
              "      border-right-color: var(--fill-color);\n",
              "    }\n",
              "    80% {\n",
              "      border-color: transparent;\n",
              "      border-right-color: var(--fill-color);\n",
              "      border-bottom-color: var(--fill-color);\n",
              "    }\n",
              "    90% {\n",
              "      border-color: transparent;\n",
              "      border-bottom-color: var(--fill-color);\n",
              "    }\n",
              "  }\n",
              "</style>\n",
              "\n",
              "  <script>\n",
              "    async function quickchart(key) {\n",
              "      const quickchartButtonEl =\n",
              "        document.querySelector('#' + key + ' button');\n",
              "      quickchartButtonEl.disabled = true;  // To prevent multiple clicks.\n",
              "      quickchartButtonEl.classList.add('colab-df-spinner');\n",
              "      try {\n",
              "        const charts = await google.colab.kernel.invokeFunction(\n",
              "            'suggestCharts', [key], {});\n",
              "      } catch (error) {\n",
              "        console.error('Error during call to suggestCharts:', error);\n",
              "      }\n",
              "      quickchartButtonEl.classList.remove('colab-df-spinner');\n",
              "      quickchartButtonEl.classList.add('colab-df-quickchart-complete');\n",
              "    }\n",
              "    (() => {\n",
              "      let quickchartButtonEl =\n",
              "        document.querySelector('#df-bc4883ab-4e59-4d58-893f-c486130a8ffd button');\n",
              "      quickchartButtonEl.style.display =\n",
              "        google.colab.kernel.accessAllowed ? 'block' : 'none';\n",
              "    })();\n",
              "  </script>\n",
              "</div>\n",
              "\n",
              "    </div>\n",
              "  </div>\n"
            ],
            "application/vnd.google.colaboratory.intrinsic+json": {
              "type": "dataframe",
              "summary": "{\n  \"name\": \"display(df\",\n  \"rows\": 5,\n  \"fields\": [\n    {\n      \"column\": \"student_id\",\n      \"properties\": {\n        \"dtype\": \"string\",\n        \"num_unique_values\": 5,\n        \"samples\": [\n          \"S1996\",\n          \"S1999\",\n          \"S1997\"\n        ],\n        \"semantic_type\": \"\",\n        \"description\": \"\"\n      }\n    },\n    {\n      \"column\": \"age\",\n      \"properties\": {\n        \"dtype\": \"number\",\n        \"std\": 2,\n        \"min\": 17,\n        \"max\": 24,\n        \"num_unique_values\": 5,\n        \"samples\": [\n          17,\n          19,\n          20\n        ],\n        \"semantic_type\": \"\",\n        \"description\": \"\"\n      }\n    },\n    {\n      \"column\": \"gender\",\n      \"properties\": {\n        \"dtype\": \"category\",\n        \"num_unique_values\": 2,\n        \"samples\": [\n          \"Male\",\n          \"Female\"\n        ],\n        \"semantic_type\": \"\",\n        \"description\": \"\"\n      }\n    },\n    {\n      \"column\": \"study_hours_per_day\",\n      \"properties\": {\n        \"dtype\": \"number\",\n        \"std\": 1.180254209905646,\n        \"min\": 2.6,\n        \"max\": 5.4,\n        \"num_unique_values\": 5,\n        \"samples\": [\n          2.9,\n          4.3\n        ],\n        \"semantic_type\": \"\",\n        \"description\": \"\"\n      }\n    },\n    {\n      \"column\": \"social_media_hours\",\n      \"properties\": {\n        \"dtype\": \"number\",\n        \"std\": 1.4652644812456213,\n        \"min\": 0.5,\n        \"max\": 4.1,\n        \"num_unique_values\": 5,\n        \"samples\": [\n          1.0,\n          2.9\n        ],\n        \"semantic_type\": \"\",\n        \"description\": \"\"\n      }\n    },\n    {\n      \"column\": \"netflix_hours\",\n      \"properties\": {\n        \"dtype\": \"number\",\n        \"std\": 0.5128352561983233,\n        \"min\": 1.1,\n        \"max\": 2.4,\n        \"num_unique_values\": 5,\n        \"samples\": [\n          2.4,\n          1.9\n        ],\n        \"semantic_type\": \"\",\n        \"description\": \"\"\n      }\n    },\n    {\n      \"column\": \"part_time_job\",\n      \"properties\": {\n        \"dtype\": \"category\",\n        \"num_unique_values\": 2,\n        \"samples\": [\n          \"Yes\",\n          \"No\"\n        ],\n        \"semantic_type\": \"\",\n        \"description\": \"\"\n      }\n    },\n    {\n      \"column\": \"attendance_percentage\",\n      \"properties\": {\n        \"dtype\": \"number\",\n        \"std\": 14.318449636744896,\n        \"min\": 61.9,\n        \"max\": 100.0,\n        \"num_unique_values\": 5,\n        \"samples\": [\n          86.0,\n          89.4\n        ],\n        \"semantic_type\": \"\",\n        \"description\": \"\"\n      }\n    },\n    {\n      \"column\": \"sleep_hours\",\n      \"properties\": {\n        \"dtype\": \"number\",\n        \"std\": 0.4636809247747851,\n        \"min\": 6.5,\n        \"max\": 7.6,\n        \"num_unique_values\": 5,\n        \"samples\": [\n          6.8,\n          7.1\n        ],\n        \"semantic_type\": \"\",\n        \"description\": \"\"\n      }\n    },\n    {\n      \"column\": \"diet_quality\",\n      \"properties\": {\n        \"dtype\": \"string\",\n        \"num_unique_values\": 3,\n        \"samples\": [\n          \"Fair\",\n          \"Poor\"\n        ],\n        \"semantic_type\": \"\",\n        \"description\": \"\"\n      }\n    },\n    {\n      \"column\": \"exercise_frequency\",\n      \"properties\": {\n        \"dtype\": \"number\",\n        \"std\": 1,\n        \"min\": 0,\n        \"max\": 5,\n        \"num_unique_values\": 4,\n        \"samples\": [\n          1,\n          0\n        ],\n        \"semantic_type\": \"\",\n        \"description\": \"\"\n      }\n    },\n    {\n      \"column\": \"parental_education_level\",\n      \"properties\": {\n        \"dtype\": \"category\",\n        \"num_unique_values\": 2,\n        \"samples\": [\n          \"Bachelor\",\n          \"High School\"\n        ],\n        \"semantic_type\": \"\",\n        \"description\": \"\"\n      }\n    },\n    {\n      \"column\": \"internet_quality\",\n      \"properties\": {\n        \"dtype\": \"category\",\n        \"num_unique_values\": 2,\n        \"samples\": [\n          \"Average\",\n          \"Good\"\n        ],\n        \"semantic_type\": \"\",\n        \"description\": \"\"\n      }\n    },\n    {\n      \"column\": \"mental_health_rating\",\n      \"properties\": {\n        \"dtype\": \"number\",\n        \"std\": 3,\n        \"min\": 1,\n        \"max\": 9,\n        \"num_unique_values\": 4,\n        \"samples\": [\n          9,\n          8\n        ],\n        \"semantic_type\": \"\",\n        \"description\": \"\"\n      }\n    },\n    {\n      \"column\": \"extracurricular_participation\",\n      \"properties\": {\n        \"dtype\": \"category\",\n        \"num_unique_values\": 2,\n        \"samples\": [\n          \"No\",\n          \"Yes\"\n        ],\n        \"semantic_type\": \"\",\n        \"description\": \"\"\n      }\n    },\n    {\n      \"column\": \"exam_score\",\n      \"properties\": {\n        \"dtype\": \"number\",\n        \"std\": 5.226853738148789,\n        \"min\": 64.4,\n        \"max\": 76.1,\n        \"num_unique_values\": 5,\n        \"samples\": [\n          65.9,\n          74.9\n        ],\n        \"semantic_type\": \"\",\n        \"description\": \"\"\n      }\n    }\n  ]\n}"
            }
          },
          "metadata": {}
        }
      ]
    },
    {
      "cell_type": "code",
      "source": [
        "print(df[['sleep_hours','netflix_hours','study_hours_per_day','exam_score']])"
      ],
      "metadata": {
        "colab": {
          "base_uri": "https://localhost:8080/"
        },
        "id": "5Lbv2rcZ1kfa",
        "outputId": "061ef6c0-270b-4bfa-f27f-38e659aeb62d"
      },
      "execution_count": null,
      "outputs": [
        {
          "output_type": "stream",
          "name": "stdout",
          "text": [
            "     sleep_hours  netflix_hours  study_hours_per_day  exam_score\n",
            "0            8.0            1.1                  0.0        56.2\n",
            "1            4.6            2.3                  6.9       100.0\n",
            "2            8.0            1.3                  1.4        34.3\n",
            "3            9.2            1.0                  1.0        26.8\n",
            "4            4.9            0.5                  5.0        66.4\n",
            "..           ...            ...                  ...         ...\n",
            "995          7.5            1.6                  2.6        76.1\n",
            "996          6.8            2.4                  2.9        65.9\n",
            "997          6.5            1.3                  3.0        64.4\n",
            "998          7.6            1.1                  5.4        69.7\n",
            "999          7.1            1.9                  4.3        74.9\n",
            "\n",
            "[1000 rows x 4 columns]\n"
          ]
        }
      ]
    },
    {
      "cell_type": "code",
      "source": [
        "import pandas as pd\n"
      ],
      "metadata": {
        "id": "YIa_j9gu2ecV"
      },
      "execution_count": 1,
      "outputs": []
    },
    {
      "cell_type": "code",
      "source": [
        "df = pd.read_csv('/content/employees.csv')"
      ],
      "metadata": {
        "id": "3xWiBEWx2rQQ"
      },
      "execution_count": 3,
      "outputs": []
    },
    {
      "cell_type": "code",
      "source": [
        "print(df)"
      ],
      "metadata": {
        "colab": {
          "base_uri": "https://localhost:8080/"
        },
        "id": "giHXat3A23pN",
        "outputId": "fb5e0362-756b-4b6e-b7d5-95f9af991c2f"
      },
      "execution_count": 4,
      "outputs": [
        {
          "output_type": "stream",
          "name": "stdout",
          "text": [
            "      Name  Age      City  Salary\n",
            "0    Alice   25  New York   70000\n",
            "1      Bob   30   Chicago   80000\n",
            "2  Charlie   28    Boston   75000\n"
          ]
        }
      ]
    },
    {
      "cell_type": "code",
      "source": [
        "print(df.dtypes)"
      ],
      "metadata": {
        "colab": {
          "base_uri": "https://localhost:8080/"
        },
        "id": "NV-h5cJ94UlF",
        "outputId": "6316d2b7-2a4b-4111-a6a0-e165f50528de"
      },
      "execution_count": 10,
      "outputs": [
        {
          "output_type": "stream",
          "name": "stdout",
          "text": [
            "Name      object\n",
            "Age        int64\n",
            "City      object\n",
            "Salary     int64\n",
            "dtype: object\n"
          ]
        }
      ]
    },
    {
      "cell_type": "code",
      "source": [
        "df[(df['Salary'] > 70000) & (df['Age'] == 30)]"
      ],
      "metadata": {
        "colab": {
          "base_uri": "https://localhost:8080/",
          "height": 80
        },
        "id": "aQ32kVxd38k2",
        "outputId": "3b17282e-bd3d-4e4e-a38b-d597f9a8e45f"
      },
      "execution_count": 18,
      "outputs": [
        {
          "output_type": "execute_result",
          "data": {
            "text/plain": [
              "  Name  Age     City  Salary\n",
              "1  Bob   30  Chicago   80000"
            ],
            "text/html": [
              "\n",
              "  <div id=\"df-1adc236b-1da4-4fec-87b7-fa5af07ca52f\" class=\"colab-df-container\">\n",
              "    <div>\n",
              "<style scoped>\n",
              "    .dataframe tbody tr th:only-of-type {\n",
              "        vertical-align: middle;\n",
              "    }\n",
              "\n",
              "    .dataframe tbody tr th {\n",
              "        vertical-align: top;\n",
              "    }\n",
              "\n",
              "    .dataframe thead th {\n",
              "        text-align: right;\n",
              "    }\n",
              "</style>\n",
              "<table border=\"1\" class=\"dataframe\">\n",
              "  <thead>\n",
              "    <tr style=\"text-align: right;\">\n",
              "      <th></th>\n",
              "      <th>Name</th>\n",
              "      <th>Age</th>\n",
              "      <th>City</th>\n",
              "      <th>Salary</th>\n",
              "    </tr>\n",
              "  </thead>\n",
              "  <tbody>\n",
              "    <tr>\n",
              "      <th>1</th>\n",
              "      <td>Bob</td>\n",
              "      <td>30</td>\n",
              "      <td>Chicago</td>\n",
              "      <td>80000</td>\n",
              "    </tr>\n",
              "  </tbody>\n",
              "</table>\n",
              "</div>\n",
              "    <div class=\"colab-df-buttons\">\n",
              "\n",
              "  <div class=\"colab-df-container\">\n",
              "    <button class=\"colab-df-convert\" onclick=\"convertToInteractive('df-1adc236b-1da4-4fec-87b7-fa5af07ca52f')\"\n",
              "            title=\"Convert this dataframe to an interactive table.\"\n",
              "            style=\"display:none;\">\n",
              "\n",
              "  <svg xmlns=\"http://www.w3.org/2000/svg\" height=\"24px\" viewBox=\"0 -960 960 960\">\n",
              "    <path d=\"M120-120v-720h720v720H120Zm60-500h600v-160H180v160Zm220 220h160v-160H400v160Zm0 220h160v-160H400v160ZM180-400h160v-160H180v160Zm440 0h160v-160H620v160ZM180-180h160v-160H180v160Zm440 0h160v-160H620v160Z\"/>\n",
              "  </svg>\n",
              "    </button>\n",
              "\n",
              "  <style>\n",
              "    .colab-df-container {\n",
              "      display:flex;\n",
              "      gap: 12px;\n",
              "    }\n",
              "\n",
              "    .colab-df-convert {\n",
              "      background-color: #E8F0FE;\n",
              "      border: none;\n",
              "      border-radius: 50%;\n",
              "      cursor: pointer;\n",
              "      display: none;\n",
              "      fill: #1967D2;\n",
              "      height: 32px;\n",
              "      padding: 0 0 0 0;\n",
              "      width: 32px;\n",
              "    }\n",
              "\n",
              "    .colab-df-convert:hover {\n",
              "      background-color: #E2EBFA;\n",
              "      box-shadow: 0px 1px 2px rgba(60, 64, 67, 0.3), 0px 1px 3px 1px rgba(60, 64, 67, 0.15);\n",
              "      fill: #174EA6;\n",
              "    }\n",
              "\n",
              "    .colab-df-buttons div {\n",
              "      margin-bottom: 4px;\n",
              "    }\n",
              "\n",
              "    [theme=dark] .colab-df-convert {\n",
              "      background-color: #3B4455;\n",
              "      fill: #D2E3FC;\n",
              "    }\n",
              "\n",
              "    [theme=dark] .colab-df-convert:hover {\n",
              "      background-color: #434B5C;\n",
              "      box-shadow: 0px 1px 3px 1px rgba(0, 0, 0, 0.15);\n",
              "      filter: drop-shadow(0px 1px 2px rgba(0, 0, 0, 0.3));\n",
              "      fill: #FFFFFF;\n",
              "    }\n",
              "  </style>\n",
              "\n",
              "    <script>\n",
              "      const buttonEl =\n",
              "        document.querySelector('#df-1adc236b-1da4-4fec-87b7-fa5af07ca52f button.colab-df-convert');\n",
              "      buttonEl.style.display =\n",
              "        google.colab.kernel.accessAllowed ? 'block' : 'none';\n",
              "\n",
              "      async function convertToInteractive(key) {\n",
              "        const element = document.querySelector('#df-1adc236b-1da4-4fec-87b7-fa5af07ca52f');\n",
              "        const dataTable =\n",
              "          await google.colab.kernel.invokeFunction('convertToInteractive',\n",
              "                                                    [key], {});\n",
              "        if (!dataTable) return;\n",
              "\n",
              "        const docLinkHtml = 'Like what you see? Visit the ' +\n",
              "          '<a target=\"_blank\" href=https://colab.research.google.com/notebooks/data_table.ipynb>data table notebook</a>'\n",
              "          + ' to learn more about interactive tables.';\n",
              "        element.innerHTML = '';\n",
              "        dataTable['output_type'] = 'display_data';\n",
              "        await google.colab.output.renderOutput(dataTable, element);\n",
              "        const docLink = document.createElement('div');\n",
              "        docLink.innerHTML = docLinkHtml;\n",
              "        element.appendChild(docLink);\n",
              "      }\n",
              "    </script>\n",
              "  </div>\n",
              "\n",
              "\n",
              "    </div>\n",
              "  </div>\n"
            ],
            "application/vnd.google.colaboratory.intrinsic+json": {
              "type": "dataframe",
              "summary": "{\n  \"name\": \"df[(df['Salary'] > 70000) & (df['Age'] == 30)]\",\n  \"rows\": 1,\n  \"fields\": [\n    {\n      \"column\": \"Name\",\n      \"properties\": {\n        \"dtype\": \"string\",\n        \"num_unique_values\": 1,\n        \"samples\": [\n          \"Bob\"\n        ],\n        \"semantic_type\": \"\",\n        \"description\": \"\"\n      }\n    },\n    {\n      \"column\": \"Age\",\n      \"properties\": {\n        \"dtype\": \"number\",\n        \"std\": null,\n        \"min\": 30,\n        \"max\": 30,\n        \"num_unique_values\": 1,\n        \"samples\": [\n          30\n        ],\n        \"semantic_type\": \"\",\n        \"description\": \"\"\n      }\n    },\n    {\n      \"column\": \"City\",\n      \"properties\": {\n        \"dtype\": \"string\",\n        \"num_unique_values\": 1,\n        \"samples\": [\n          \"Chicago\"\n        ],\n        \"semantic_type\": \"\",\n        \"description\": \"\"\n      }\n    },\n    {\n      \"column\": \"Salary\",\n      \"properties\": {\n        \"dtype\": \"number\",\n        \"std\": null,\n        \"min\": 80000,\n        \"max\": 80000,\n        \"num_unique_values\": 1,\n        \"samples\": [\n          80000\n        ],\n        \"semantic_type\": \"\",\n        \"description\": \"\"\n      }\n    }\n  ]\n}"
            }
          },
          "metadata": {},
          "execution_count": 18
        }
      ]
    },
    {
      "cell_type": "code",
      "source": [
        "df[(df['Salary'] > 70000) | (df['Age'] == 30)]"
      ],
      "metadata": {
        "colab": {
          "base_uri": "https://localhost:8080/",
          "height": 112
        },
        "id": "b5KxH8Ak38hd",
        "outputId": "a06a228a-8f4f-444d-df76-7c99d7cfc809"
      },
      "execution_count": 19,
      "outputs": [
        {
          "output_type": "execute_result",
          "data": {
            "text/plain": [
              "      Name  Age     City  Salary\n",
              "1      Bob   30  Chicago   80000\n",
              "2  Charlie   28   Boston   75000"
            ],
            "text/html": [
              "\n",
              "  <div id=\"df-5518dbf9-2789-46c4-81f9-842299ab186c\" class=\"colab-df-container\">\n",
              "    <div>\n",
              "<style scoped>\n",
              "    .dataframe tbody tr th:only-of-type {\n",
              "        vertical-align: middle;\n",
              "    }\n",
              "\n",
              "    .dataframe tbody tr th {\n",
              "        vertical-align: top;\n",
              "    }\n",
              "\n",
              "    .dataframe thead th {\n",
              "        text-align: right;\n",
              "    }\n",
              "</style>\n",
              "<table border=\"1\" class=\"dataframe\">\n",
              "  <thead>\n",
              "    <tr style=\"text-align: right;\">\n",
              "      <th></th>\n",
              "      <th>Name</th>\n",
              "      <th>Age</th>\n",
              "      <th>City</th>\n",
              "      <th>Salary</th>\n",
              "    </tr>\n",
              "  </thead>\n",
              "  <tbody>\n",
              "    <tr>\n",
              "      <th>1</th>\n",
              "      <td>Bob</td>\n",
              "      <td>30</td>\n",
              "      <td>Chicago</td>\n",
              "      <td>80000</td>\n",
              "    </tr>\n",
              "    <tr>\n",
              "      <th>2</th>\n",
              "      <td>Charlie</td>\n",
              "      <td>28</td>\n",
              "      <td>Boston</td>\n",
              "      <td>75000</td>\n",
              "    </tr>\n",
              "  </tbody>\n",
              "</table>\n",
              "</div>\n",
              "    <div class=\"colab-df-buttons\">\n",
              "\n",
              "  <div class=\"colab-df-container\">\n",
              "    <button class=\"colab-df-convert\" onclick=\"convertToInteractive('df-5518dbf9-2789-46c4-81f9-842299ab186c')\"\n",
              "            title=\"Convert this dataframe to an interactive table.\"\n",
              "            style=\"display:none;\">\n",
              "\n",
              "  <svg xmlns=\"http://www.w3.org/2000/svg\" height=\"24px\" viewBox=\"0 -960 960 960\">\n",
              "    <path d=\"M120-120v-720h720v720H120Zm60-500h600v-160H180v160Zm220 220h160v-160H400v160Zm0 220h160v-160H400v160ZM180-400h160v-160H180v160Zm440 0h160v-160H620v160ZM180-180h160v-160H180v160Zm440 0h160v-160H620v160Z\"/>\n",
              "  </svg>\n",
              "    </button>\n",
              "\n",
              "  <style>\n",
              "    .colab-df-container {\n",
              "      display:flex;\n",
              "      gap: 12px;\n",
              "    }\n",
              "\n",
              "    .colab-df-convert {\n",
              "      background-color: #E8F0FE;\n",
              "      border: none;\n",
              "      border-radius: 50%;\n",
              "      cursor: pointer;\n",
              "      display: none;\n",
              "      fill: #1967D2;\n",
              "      height: 32px;\n",
              "      padding: 0 0 0 0;\n",
              "      width: 32px;\n",
              "    }\n",
              "\n",
              "    .colab-df-convert:hover {\n",
              "      background-color: #E2EBFA;\n",
              "      box-shadow: 0px 1px 2px rgba(60, 64, 67, 0.3), 0px 1px 3px 1px rgba(60, 64, 67, 0.15);\n",
              "      fill: #174EA6;\n",
              "    }\n",
              "\n",
              "    .colab-df-buttons div {\n",
              "      margin-bottom: 4px;\n",
              "    }\n",
              "\n",
              "    [theme=dark] .colab-df-convert {\n",
              "      background-color: #3B4455;\n",
              "      fill: #D2E3FC;\n",
              "    }\n",
              "\n",
              "    [theme=dark] .colab-df-convert:hover {\n",
              "      background-color: #434B5C;\n",
              "      box-shadow: 0px 1px 3px 1px rgba(0, 0, 0, 0.15);\n",
              "      filter: drop-shadow(0px 1px 2px rgba(0, 0, 0, 0.3));\n",
              "      fill: #FFFFFF;\n",
              "    }\n",
              "  </style>\n",
              "\n",
              "    <script>\n",
              "      const buttonEl =\n",
              "        document.querySelector('#df-5518dbf9-2789-46c4-81f9-842299ab186c button.colab-df-convert');\n",
              "      buttonEl.style.display =\n",
              "        google.colab.kernel.accessAllowed ? 'block' : 'none';\n",
              "\n",
              "      async function convertToInteractive(key) {\n",
              "        const element = document.querySelector('#df-5518dbf9-2789-46c4-81f9-842299ab186c');\n",
              "        const dataTable =\n",
              "          await google.colab.kernel.invokeFunction('convertToInteractive',\n",
              "                                                    [key], {});\n",
              "        if (!dataTable) return;\n",
              "\n",
              "        const docLinkHtml = 'Like what you see? Visit the ' +\n",
              "          '<a target=\"_blank\" href=https://colab.research.google.com/notebooks/data_table.ipynb>data table notebook</a>'\n",
              "          + ' to learn more about interactive tables.';\n",
              "        element.innerHTML = '';\n",
              "        dataTable['output_type'] = 'display_data';\n",
              "        await google.colab.output.renderOutput(dataTable, element);\n",
              "        const docLink = document.createElement('div');\n",
              "        docLink.innerHTML = docLinkHtml;\n",
              "        element.appendChild(docLink);\n",
              "      }\n",
              "    </script>\n",
              "  </div>\n",
              "\n",
              "\n",
              "    <div id=\"df-671ce78e-8741-42f9-b536-53bcaac4a6c8\">\n",
              "      <button class=\"colab-df-quickchart\" onclick=\"quickchart('df-671ce78e-8741-42f9-b536-53bcaac4a6c8')\"\n",
              "                title=\"Suggest charts\"\n",
              "                style=\"display:none;\">\n",
              "\n",
              "<svg xmlns=\"http://www.w3.org/2000/svg\" height=\"24px\"viewBox=\"0 0 24 24\"\n",
              "     width=\"24px\">\n",
              "    <g>\n",
              "        <path d=\"M19 3H5c-1.1 0-2 .9-2 2v14c0 1.1.9 2 2 2h14c1.1 0 2-.9 2-2V5c0-1.1-.9-2-2-2zM9 17H7v-7h2v7zm4 0h-2V7h2v10zm4 0h-2v-4h2v4z\"/>\n",
              "    </g>\n",
              "</svg>\n",
              "      </button>\n",
              "\n",
              "<style>\n",
              "  .colab-df-quickchart {\n",
              "      --bg-color: #E8F0FE;\n",
              "      --fill-color: #1967D2;\n",
              "      --hover-bg-color: #E2EBFA;\n",
              "      --hover-fill-color: #174EA6;\n",
              "      --disabled-fill-color: #AAA;\n",
              "      --disabled-bg-color: #DDD;\n",
              "  }\n",
              "\n",
              "  [theme=dark] .colab-df-quickchart {\n",
              "      --bg-color: #3B4455;\n",
              "      --fill-color: #D2E3FC;\n",
              "      --hover-bg-color: #434B5C;\n",
              "      --hover-fill-color: #FFFFFF;\n",
              "      --disabled-bg-color: #3B4455;\n",
              "      --disabled-fill-color: #666;\n",
              "  }\n",
              "\n",
              "  .colab-df-quickchart {\n",
              "    background-color: var(--bg-color);\n",
              "    border: none;\n",
              "    border-radius: 50%;\n",
              "    cursor: pointer;\n",
              "    display: none;\n",
              "    fill: var(--fill-color);\n",
              "    height: 32px;\n",
              "    padding: 0;\n",
              "    width: 32px;\n",
              "  }\n",
              "\n",
              "  .colab-df-quickchart:hover {\n",
              "    background-color: var(--hover-bg-color);\n",
              "    box-shadow: 0 1px 2px rgba(60, 64, 67, 0.3), 0 1px 3px 1px rgba(60, 64, 67, 0.15);\n",
              "    fill: var(--button-hover-fill-color);\n",
              "  }\n",
              "\n",
              "  .colab-df-quickchart-complete:disabled,\n",
              "  .colab-df-quickchart-complete:disabled:hover {\n",
              "    background-color: var(--disabled-bg-color);\n",
              "    fill: var(--disabled-fill-color);\n",
              "    box-shadow: none;\n",
              "  }\n",
              "\n",
              "  .colab-df-spinner {\n",
              "    border: 2px solid var(--fill-color);\n",
              "    border-color: transparent;\n",
              "    border-bottom-color: var(--fill-color);\n",
              "    animation:\n",
              "      spin 1s steps(1) infinite;\n",
              "  }\n",
              "\n",
              "  @keyframes spin {\n",
              "    0% {\n",
              "      border-color: transparent;\n",
              "      border-bottom-color: var(--fill-color);\n",
              "      border-left-color: var(--fill-color);\n",
              "    }\n",
              "    20% {\n",
              "      border-color: transparent;\n",
              "      border-left-color: var(--fill-color);\n",
              "      border-top-color: var(--fill-color);\n",
              "    }\n",
              "    30% {\n",
              "      border-color: transparent;\n",
              "      border-left-color: var(--fill-color);\n",
              "      border-top-color: var(--fill-color);\n",
              "      border-right-color: var(--fill-color);\n",
              "    }\n",
              "    40% {\n",
              "      border-color: transparent;\n",
              "      border-right-color: var(--fill-color);\n",
              "      border-top-color: var(--fill-color);\n",
              "    }\n",
              "    60% {\n",
              "      border-color: transparent;\n",
              "      border-right-color: var(--fill-color);\n",
              "    }\n",
              "    80% {\n",
              "      border-color: transparent;\n",
              "      border-right-color: var(--fill-color);\n",
              "      border-bottom-color: var(--fill-color);\n",
              "    }\n",
              "    90% {\n",
              "      border-color: transparent;\n",
              "      border-bottom-color: var(--fill-color);\n",
              "    }\n",
              "  }\n",
              "</style>\n",
              "\n",
              "      <script>\n",
              "        async function quickchart(key) {\n",
              "          const quickchartButtonEl =\n",
              "            document.querySelector('#' + key + ' button');\n",
              "          quickchartButtonEl.disabled = true;  // To prevent multiple clicks.\n",
              "          quickchartButtonEl.classList.add('colab-df-spinner');\n",
              "          try {\n",
              "            const charts = await google.colab.kernel.invokeFunction(\n",
              "                'suggestCharts', [key], {});\n",
              "          } catch (error) {\n",
              "            console.error('Error during call to suggestCharts:', error);\n",
              "          }\n",
              "          quickchartButtonEl.classList.remove('colab-df-spinner');\n",
              "          quickchartButtonEl.classList.add('colab-df-quickchart-complete');\n",
              "        }\n",
              "        (() => {\n",
              "          let quickchartButtonEl =\n",
              "            document.querySelector('#df-671ce78e-8741-42f9-b536-53bcaac4a6c8 button');\n",
              "          quickchartButtonEl.style.display =\n",
              "            google.colab.kernel.accessAllowed ? 'block' : 'none';\n",
              "        })();\n",
              "      </script>\n",
              "    </div>\n",
              "\n",
              "    </div>\n",
              "  </div>\n"
            ],
            "application/vnd.google.colaboratory.intrinsic+json": {
              "type": "dataframe",
              "summary": "{\n  \"name\": \"df[(df['Salary'] > 70000) | (df['Age'] == 30)]\",\n  \"rows\": 2,\n  \"fields\": [\n    {\n      \"column\": \"Name\",\n      \"properties\": {\n        \"dtype\": \"string\",\n        \"num_unique_values\": 2,\n        \"samples\": [\n          \"Charlie\",\n          \"Bob\"\n        ],\n        \"semantic_type\": \"\",\n        \"description\": \"\"\n      }\n    },\n    {\n      \"column\": \"Age\",\n      \"properties\": {\n        \"dtype\": \"number\",\n        \"std\": 1,\n        \"min\": 28,\n        \"max\": 30,\n        \"num_unique_values\": 2,\n        \"samples\": [\n          28,\n          30\n        ],\n        \"semantic_type\": \"\",\n        \"description\": \"\"\n      }\n    },\n    {\n      \"column\": \"City\",\n      \"properties\": {\n        \"dtype\": \"string\",\n        \"num_unique_values\": 2,\n        \"samples\": [\n          \"Boston\",\n          \"Chicago\"\n        ],\n        \"semantic_type\": \"\",\n        \"description\": \"\"\n      }\n    },\n    {\n      \"column\": \"Salary\",\n      \"properties\": {\n        \"dtype\": \"number\",\n        \"std\": 3535,\n        \"min\": 75000,\n        \"max\": 80000,\n        \"num_unique_values\": 2,\n        \"samples\": [\n          75000,\n          80000\n        ],\n        \"semantic_type\": \"\",\n        \"description\": \"\"\n      }\n    }\n  ]\n}"
            }
          },
          "metadata": {},
          "execution_count": 19
        }
      ]
    },
    {
      "cell_type": "code",
      "source": [
        "df[(df['Age']>25) & (df['Age']<30) ]"
      ],
      "metadata": {
        "colab": {
          "base_uri": "https://localhost:8080/",
          "height": 80
        },
        "id": "Wr3eBOts5yh0",
        "outputId": "28b210fe-c4a2-4424-e54e-94b62df02b8a"
      },
      "execution_count": 20,
      "outputs": [
        {
          "output_type": "execute_result",
          "data": {
            "text/plain": [
              "      Name  Age    City  Salary\n",
              "2  Charlie   28  Boston   75000"
            ],
            "text/html": [
              "\n",
              "  <div id=\"df-a5a19cae-679e-46d4-8056-0d10971f92bb\" class=\"colab-df-container\">\n",
              "    <div>\n",
              "<style scoped>\n",
              "    .dataframe tbody tr th:only-of-type {\n",
              "        vertical-align: middle;\n",
              "    }\n",
              "\n",
              "    .dataframe tbody tr th {\n",
              "        vertical-align: top;\n",
              "    }\n",
              "\n",
              "    .dataframe thead th {\n",
              "        text-align: right;\n",
              "    }\n",
              "</style>\n",
              "<table border=\"1\" class=\"dataframe\">\n",
              "  <thead>\n",
              "    <tr style=\"text-align: right;\">\n",
              "      <th></th>\n",
              "      <th>Name</th>\n",
              "      <th>Age</th>\n",
              "      <th>City</th>\n",
              "      <th>Salary</th>\n",
              "    </tr>\n",
              "  </thead>\n",
              "  <tbody>\n",
              "    <tr>\n",
              "      <th>2</th>\n",
              "      <td>Charlie</td>\n",
              "      <td>28</td>\n",
              "      <td>Boston</td>\n",
              "      <td>75000</td>\n",
              "    </tr>\n",
              "  </tbody>\n",
              "</table>\n",
              "</div>\n",
              "    <div class=\"colab-df-buttons\">\n",
              "\n",
              "  <div class=\"colab-df-container\">\n",
              "    <button class=\"colab-df-convert\" onclick=\"convertToInteractive('df-a5a19cae-679e-46d4-8056-0d10971f92bb')\"\n",
              "            title=\"Convert this dataframe to an interactive table.\"\n",
              "            style=\"display:none;\">\n",
              "\n",
              "  <svg xmlns=\"http://www.w3.org/2000/svg\" height=\"24px\" viewBox=\"0 -960 960 960\">\n",
              "    <path d=\"M120-120v-720h720v720H120Zm60-500h600v-160H180v160Zm220 220h160v-160H400v160Zm0 220h160v-160H400v160ZM180-400h160v-160H180v160Zm440 0h160v-160H620v160ZM180-180h160v-160H180v160Zm440 0h160v-160H620v160Z\"/>\n",
              "  </svg>\n",
              "    </button>\n",
              "\n",
              "  <style>\n",
              "    .colab-df-container {\n",
              "      display:flex;\n",
              "      gap: 12px;\n",
              "    }\n",
              "\n",
              "    .colab-df-convert {\n",
              "      background-color: #E8F0FE;\n",
              "      border: none;\n",
              "      border-radius: 50%;\n",
              "      cursor: pointer;\n",
              "      display: none;\n",
              "      fill: #1967D2;\n",
              "      height: 32px;\n",
              "      padding: 0 0 0 0;\n",
              "      width: 32px;\n",
              "    }\n",
              "\n",
              "    .colab-df-convert:hover {\n",
              "      background-color: #E2EBFA;\n",
              "      box-shadow: 0px 1px 2px rgba(60, 64, 67, 0.3), 0px 1px 3px 1px rgba(60, 64, 67, 0.15);\n",
              "      fill: #174EA6;\n",
              "    }\n",
              "\n",
              "    .colab-df-buttons div {\n",
              "      margin-bottom: 4px;\n",
              "    }\n",
              "\n",
              "    [theme=dark] .colab-df-convert {\n",
              "      background-color: #3B4455;\n",
              "      fill: #D2E3FC;\n",
              "    }\n",
              "\n",
              "    [theme=dark] .colab-df-convert:hover {\n",
              "      background-color: #434B5C;\n",
              "      box-shadow: 0px 1px 3px 1px rgba(0, 0, 0, 0.15);\n",
              "      filter: drop-shadow(0px 1px 2px rgba(0, 0, 0, 0.3));\n",
              "      fill: #FFFFFF;\n",
              "    }\n",
              "  </style>\n",
              "\n",
              "    <script>\n",
              "      const buttonEl =\n",
              "        document.querySelector('#df-a5a19cae-679e-46d4-8056-0d10971f92bb button.colab-df-convert');\n",
              "      buttonEl.style.display =\n",
              "        google.colab.kernel.accessAllowed ? 'block' : 'none';\n",
              "\n",
              "      async function convertToInteractive(key) {\n",
              "        const element = document.querySelector('#df-a5a19cae-679e-46d4-8056-0d10971f92bb');\n",
              "        const dataTable =\n",
              "          await google.colab.kernel.invokeFunction('convertToInteractive',\n",
              "                                                    [key], {});\n",
              "        if (!dataTable) return;\n",
              "\n",
              "        const docLinkHtml = 'Like what you see? Visit the ' +\n",
              "          '<a target=\"_blank\" href=https://colab.research.google.com/notebooks/data_table.ipynb>data table notebook</a>'\n",
              "          + ' to learn more about interactive tables.';\n",
              "        element.innerHTML = '';\n",
              "        dataTable['output_type'] = 'display_data';\n",
              "        await google.colab.output.renderOutput(dataTable, element);\n",
              "        const docLink = document.createElement('div');\n",
              "        docLink.innerHTML = docLinkHtml;\n",
              "        element.appendChild(docLink);\n",
              "      }\n",
              "    </script>\n",
              "  </div>\n",
              "\n",
              "\n",
              "    </div>\n",
              "  </div>\n"
            ],
            "application/vnd.google.colaboratory.intrinsic+json": {
              "type": "dataframe",
              "summary": "{\n  \"name\": \"df[(df['Age']>25) & (df['Age']<30) ]\",\n  \"rows\": 1,\n  \"fields\": [\n    {\n      \"column\": \"Name\",\n      \"properties\": {\n        \"dtype\": \"string\",\n        \"num_unique_values\": 1,\n        \"samples\": [\n          \"Charlie\"\n        ],\n        \"semantic_type\": \"\",\n        \"description\": \"\"\n      }\n    },\n    {\n      \"column\": \"Age\",\n      \"properties\": {\n        \"dtype\": \"number\",\n        \"std\": null,\n        \"min\": 28,\n        \"max\": 28,\n        \"num_unique_values\": 1,\n        \"samples\": [\n          28\n        ],\n        \"semantic_type\": \"\",\n        \"description\": \"\"\n      }\n    },\n    {\n      \"column\": \"City\",\n      \"properties\": {\n        \"dtype\": \"string\",\n        \"num_unique_values\": 1,\n        \"samples\": [\n          \"Boston\"\n        ],\n        \"semantic_type\": \"\",\n        \"description\": \"\"\n      }\n    },\n    {\n      \"column\": \"Salary\",\n      \"properties\": {\n        \"dtype\": \"number\",\n        \"std\": null,\n        \"min\": 75000,\n        \"max\": 75000,\n        \"num_unique_values\": 1,\n        \"samples\": [\n          75000\n        ],\n        \"semantic_type\": \"\",\n        \"description\": \"\"\n      }\n    }\n  ]\n}"
            }
          },
          "metadata": {},
          "execution_count": 20
        }
      ]
    },
    {
      "cell_type": "code",
      "source": [
        "df[df['Age'].between(26,31)]"
      ],
      "metadata": {
        "colab": {
          "base_uri": "https://localhost:8080/",
          "height": 112
        },
        "id": "MeDVcUdr5yX7",
        "outputId": "900d0963-bca2-4955-a081-b6d8f63f3520"
      },
      "execution_count": 23,
      "outputs": [
        {
          "output_type": "execute_result",
          "data": {
            "text/plain": [
              "      Name  Age     City  Salary\n",
              "1      Bob   30  Chicago   80000\n",
              "2  Charlie   28   Boston   75000"
            ],
            "text/html": [
              "\n",
              "  <div id=\"df-34bd4a13-7575-4d8a-9c00-ead564fdf090\" class=\"colab-df-container\">\n",
              "    <div>\n",
              "<style scoped>\n",
              "    .dataframe tbody tr th:only-of-type {\n",
              "        vertical-align: middle;\n",
              "    }\n",
              "\n",
              "    .dataframe tbody tr th {\n",
              "        vertical-align: top;\n",
              "    }\n",
              "\n",
              "    .dataframe thead th {\n",
              "        text-align: right;\n",
              "    }\n",
              "</style>\n",
              "<table border=\"1\" class=\"dataframe\">\n",
              "  <thead>\n",
              "    <tr style=\"text-align: right;\">\n",
              "      <th></th>\n",
              "      <th>Name</th>\n",
              "      <th>Age</th>\n",
              "      <th>City</th>\n",
              "      <th>Salary</th>\n",
              "    </tr>\n",
              "  </thead>\n",
              "  <tbody>\n",
              "    <tr>\n",
              "      <th>1</th>\n",
              "      <td>Bob</td>\n",
              "      <td>30</td>\n",
              "      <td>Chicago</td>\n",
              "      <td>80000</td>\n",
              "    </tr>\n",
              "    <tr>\n",
              "      <th>2</th>\n",
              "      <td>Charlie</td>\n",
              "      <td>28</td>\n",
              "      <td>Boston</td>\n",
              "      <td>75000</td>\n",
              "    </tr>\n",
              "  </tbody>\n",
              "</table>\n",
              "</div>\n",
              "    <div class=\"colab-df-buttons\">\n",
              "\n",
              "  <div class=\"colab-df-container\">\n",
              "    <button class=\"colab-df-convert\" onclick=\"convertToInteractive('df-34bd4a13-7575-4d8a-9c00-ead564fdf090')\"\n",
              "            title=\"Convert this dataframe to an interactive table.\"\n",
              "            style=\"display:none;\">\n",
              "\n",
              "  <svg xmlns=\"http://www.w3.org/2000/svg\" height=\"24px\" viewBox=\"0 -960 960 960\">\n",
              "    <path d=\"M120-120v-720h720v720H120Zm60-500h600v-160H180v160Zm220 220h160v-160H400v160Zm0 220h160v-160H400v160ZM180-400h160v-160H180v160Zm440 0h160v-160H620v160ZM180-180h160v-160H180v160Zm440 0h160v-160H620v160Z\"/>\n",
              "  </svg>\n",
              "    </button>\n",
              "\n",
              "  <style>\n",
              "    .colab-df-container {\n",
              "      display:flex;\n",
              "      gap: 12px;\n",
              "    }\n",
              "\n",
              "    .colab-df-convert {\n",
              "      background-color: #E8F0FE;\n",
              "      border: none;\n",
              "      border-radius: 50%;\n",
              "      cursor: pointer;\n",
              "      display: none;\n",
              "      fill: #1967D2;\n",
              "      height: 32px;\n",
              "      padding: 0 0 0 0;\n",
              "      width: 32px;\n",
              "    }\n",
              "\n",
              "    .colab-df-convert:hover {\n",
              "      background-color: #E2EBFA;\n",
              "      box-shadow: 0px 1px 2px rgba(60, 64, 67, 0.3), 0px 1px 3px 1px rgba(60, 64, 67, 0.15);\n",
              "      fill: #174EA6;\n",
              "    }\n",
              "\n",
              "    .colab-df-buttons div {\n",
              "      margin-bottom: 4px;\n",
              "    }\n",
              "\n",
              "    [theme=dark] .colab-df-convert {\n",
              "      background-color: #3B4455;\n",
              "      fill: #D2E3FC;\n",
              "    }\n",
              "\n",
              "    [theme=dark] .colab-df-convert:hover {\n",
              "      background-color: #434B5C;\n",
              "      box-shadow: 0px 1px 3px 1px rgba(0, 0, 0, 0.15);\n",
              "      filter: drop-shadow(0px 1px 2px rgba(0, 0, 0, 0.3));\n",
              "      fill: #FFFFFF;\n",
              "    }\n",
              "  </style>\n",
              "\n",
              "    <script>\n",
              "      const buttonEl =\n",
              "        document.querySelector('#df-34bd4a13-7575-4d8a-9c00-ead564fdf090 button.colab-df-convert');\n",
              "      buttonEl.style.display =\n",
              "        google.colab.kernel.accessAllowed ? 'block' : 'none';\n",
              "\n",
              "      async function convertToInteractive(key) {\n",
              "        const element = document.querySelector('#df-34bd4a13-7575-4d8a-9c00-ead564fdf090');\n",
              "        const dataTable =\n",
              "          await google.colab.kernel.invokeFunction('convertToInteractive',\n",
              "                                                    [key], {});\n",
              "        if (!dataTable) return;\n",
              "\n",
              "        const docLinkHtml = 'Like what you see? Visit the ' +\n",
              "          '<a target=\"_blank\" href=https://colab.research.google.com/notebooks/data_table.ipynb>data table notebook</a>'\n",
              "          + ' to learn more about interactive tables.';\n",
              "        element.innerHTML = '';\n",
              "        dataTable['output_type'] = 'display_data';\n",
              "        await google.colab.output.renderOutput(dataTable, element);\n",
              "        const docLink = document.createElement('div');\n",
              "        docLink.innerHTML = docLinkHtml;\n",
              "        element.appendChild(docLink);\n",
              "      }\n",
              "    </script>\n",
              "  </div>\n",
              "\n",
              "\n",
              "    <div id=\"df-02a6df44-aebd-4704-a75f-28e8dfad282b\">\n",
              "      <button class=\"colab-df-quickchart\" onclick=\"quickchart('df-02a6df44-aebd-4704-a75f-28e8dfad282b')\"\n",
              "                title=\"Suggest charts\"\n",
              "                style=\"display:none;\">\n",
              "\n",
              "<svg xmlns=\"http://www.w3.org/2000/svg\" height=\"24px\"viewBox=\"0 0 24 24\"\n",
              "     width=\"24px\">\n",
              "    <g>\n",
              "        <path d=\"M19 3H5c-1.1 0-2 .9-2 2v14c0 1.1.9 2 2 2h14c1.1 0 2-.9 2-2V5c0-1.1-.9-2-2-2zM9 17H7v-7h2v7zm4 0h-2V7h2v10zm4 0h-2v-4h2v4z\"/>\n",
              "    </g>\n",
              "</svg>\n",
              "      </button>\n",
              "\n",
              "<style>\n",
              "  .colab-df-quickchart {\n",
              "      --bg-color: #E8F0FE;\n",
              "      --fill-color: #1967D2;\n",
              "      --hover-bg-color: #E2EBFA;\n",
              "      --hover-fill-color: #174EA6;\n",
              "      --disabled-fill-color: #AAA;\n",
              "      --disabled-bg-color: #DDD;\n",
              "  }\n",
              "\n",
              "  [theme=dark] .colab-df-quickchart {\n",
              "      --bg-color: #3B4455;\n",
              "      --fill-color: #D2E3FC;\n",
              "      --hover-bg-color: #434B5C;\n",
              "      --hover-fill-color: #FFFFFF;\n",
              "      --disabled-bg-color: #3B4455;\n",
              "      --disabled-fill-color: #666;\n",
              "  }\n",
              "\n",
              "  .colab-df-quickchart {\n",
              "    background-color: var(--bg-color);\n",
              "    border: none;\n",
              "    border-radius: 50%;\n",
              "    cursor: pointer;\n",
              "    display: none;\n",
              "    fill: var(--fill-color);\n",
              "    height: 32px;\n",
              "    padding: 0;\n",
              "    width: 32px;\n",
              "  }\n",
              "\n",
              "  .colab-df-quickchart:hover {\n",
              "    background-color: var(--hover-bg-color);\n",
              "    box-shadow: 0 1px 2px rgba(60, 64, 67, 0.3), 0 1px 3px 1px rgba(60, 64, 67, 0.15);\n",
              "    fill: var(--button-hover-fill-color);\n",
              "  }\n",
              "\n",
              "  .colab-df-quickchart-complete:disabled,\n",
              "  .colab-df-quickchart-complete:disabled:hover {\n",
              "    background-color: var(--disabled-bg-color);\n",
              "    fill: var(--disabled-fill-color);\n",
              "    box-shadow: none;\n",
              "  }\n",
              "\n",
              "  .colab-df-spinner {\n",
              "    border: 2px solid var(--fill-color);\n",
              "    border-color: transparent;\n",
              "    border-bottom-color: var(--fill-color);\n",
              "    animation:\n",
              "      spin 1s steps(1) infinite;\n",
              "  }\n",
              "\n",
              "  @keyframes spin {\n",
              "    0% {\n",
              "      border-color: transparent;\n",
              "      border-bottom-color: var(--fill-color);\n",
              "      border-left-color: var(--fill-color);\n",
              "    }\n",
              "    20% {\n",
              "      border-color: transparent;\n",
              "      border-left-color: var(--fill-color);\n",
              "      border-top-color: var(--fill-color);\n",
              "    }\n",
              "    30% {\n",
              "      border-color: transparent;\n",
              "      border-left-color: var(--fill-color);\n",
              "      border-top-color: var(--fill-color);\n",
              "      border-right-color: var(--fill-color);\n",
              "    }\n",
              "    40% {\n",
              "      border-color: transparent;\n",
              "      border-right-color: var(--fill-color);\n",
              "      border-top-color: var(--fill-color);\n",
              "    }\n",
              "    60% {\n",
              "      border-color: transparent;\n",
              "      border-right-color: var(--fill-color);\n",
              "    }\n",
              "    80% {\n",
              "      border-color: transparent;\n",
              "      border-right-color: var(--fill-color);\n",
              "      border-bottom-color: var(--fill-color);\n",
              "    }\n",
              "    90% {\n",
              "      border-color: transparent;\n",
              "      border-bottom-color: var(--fill-color);\n",
              "    }\n",
              "  }\n",
              "</style>\n",
              "\n",
              "      <script>\n",
              "        async function quickchart(key) {\n",
              "          const quickchartButtonEl =\n",
              "            document.querySelector('#' + key + ' button');\n",
              "          quickchartButtonEl.disabled = true;  // To prevent multiple clicks.\n",
              "          quickchartButtonEl.classList.add('colab-df-spinner');\n",
              "          try {\n",
              "            const charts = await google.colab.kernel.invokeFunction(\n",
              "                'suggestCharts', [key], {});\n",
              "          } catch (error) {\n",
              "            console.error('Error during call to suggestCharts:', error);\n",
              "          }\n",
              "          quickchartButtonEl.classList.remove('colab-df-spinner');\n",
              "          quickchartButtonEl.classList.add('colab-df-quickchart-complete');\n",
              "        }\n",
              "        (() => {\n",
              "          let quickchartButtonEl =\n",
              "            document.querySelector('#df-02a6df44-aebd-4704-a75f-28e8dfad282b button');\n",
              "          quickchartButtonEl.style.display =\n",
              "            google.colab.kernel.accessAllowed ? 'block' : 'none';\n",
              "        })();\n",
              "      </script>\n",
              "    </div>\n",
              "\n",
              "    </div>\n",
              "  </div>\n"
            ],
            "application/vnd.google.colaboratory.intrinsic+json": {
              "type": "dataframe",
              "summary": "{\n  \"name\": \"df[df['Age']\",\n  \"rows\": 2,\n  \"fields\": [\n    {\n      \"column\": \"Name\",\n      \"properties\": {\n        \"dtype\": \"string\",\n        \"num_unique_values\": 2,\n        \"samples\": [\n          \"Charlie\",\n          \"Bob\"\n        ],\n        \"semantic_type\": \"\",\n        \"description\": \"\"\n      }\n    },\n    {\n      \"column\": \"Age\",\n      \"properties\": {\n        \"dtype\": \"number\",\n        \"std\": 1,\n        \"min\": 28,\n        \"max\": 30,\n        \"num_unique_values\": 2,\n        \"samples\": [\n          28,\n          30\n        ],\n        \"semantic_type\": \"\",\n        \"description\": \"\"\n      }\n    },\n    {\n      \"column\": \"City\",\n      \"properties\": {\n        \"dtype\": \"string\",\n        \"num_unique_values\": 2,\n        \"samples\": [\n          \"Boston\",\n          \"Chicago\"\n        ],\n        \"semantic_type\": \"\",\n        \"description\": \"\"\n      }\n    },\n    {\n      \"column\": \"Salary\",\n      \"properties\": {\n        \"dtype\": \"number\",\n        \"std\": 3535,\n        \"min\": 75000,\n        \"max\": 80000,\n        \"num_unique_values\": 2,\n        \"samples\": [\n          75000,\n          80000\n        ],\n        \"semantic_type\": \"\",\n        \"description\": \"\"\n      }\n    }\n  ]\n}"
            }
          },
          "metadata": {},
          "execution_count": 23
        }
      ]
    },
    {
      "cell_type": "code",
      "source": [
        "df[df['Salary'].between(75000,80000)]"
      ],
      "metadata": {
        "colab": {
          "base_uri": "https://localhost:8080/",
          "height": 112
        },
        "id": "bu8UOYng5yLt",
        "outputId": "d9bbe04c-ce6b-495d-ba30-e4b15b25c0fd"
      },
      "execution_count": 26,
      "outputs": [
        {
          "output_type": "execute_result",
          "data": {
            "text/plain": [
              "      Name  Age     City  Salary\n",
              "1      Bob   30  Chicago   80000\n",
              "2  Charlie   28   Boston   75000"
            ],
            "text/html": [
              "\n",
              "  <div id=\"df-a297c9b6-cc41-40bf-91a8-c16cf3ac7ff3\" class=\"colab-df-container\">\n",
              "    <div>\n",
              "<style scoped>\n",
              "    .dataframe tbody tr th:only-of-type {\n",
              "        vertical-align: middle;\n",
              "    }\n",
              "\n",
              "    .dataframe tbody tr th {\n",
              "        vertical-align: top;\n",
              "    }\n",
              "\n",
              "    .dataframe thead th {\n",
              "        text-align: right;\n",
              "    }\n",
              "</style>\n",
              "<table border=\"1\" class=\"dataframe\">\n",
              "  <thead>\n",
              "    <tr style=\"text-align: right;\">\n",
              "      <th></th>\n",
              "      <th>Name</th>\n",
              "      <th>Age</th>\n",
              "      <th>City</th>\n",
              "      <th>Salary</th>\n",
              "    </tr>\n",
              "  </thead>\n",
              "  <tbody>\n",
              "    <tr>\n",
              "      <th>1</th>\n",
              "      <td>Bob</td>\n",
              "      <td>30</td>\n",
              "      <td>Chicago</td>\n",
              "      <td>80000</td>\n",
              "    </tr>\n",
              "    <tr>\n",
              "      <th>2</th>\n",
              "      <td>Charlie</td>\n",
              "      <td>28</td>\n",
              "      <td>Boston</td>\n",
              "      <td>75000</td>\n",
              "    </tr>\n",
              "  </tbody>\n",
              "</table>\n",
              "</div>\n",
              "    <div class=\"colab-df-buttons\">\n",
              "\n",
              "  <div class=\"colab-df-container\">\n",
              "    <button class=\"colab-df-convert\" onclick=\"convertToInteractive('df-a297c9b6-cc41-40bf-91a8-c16cf3ac7ff3')\"\n",
              "            title=\"Convert this dataframe to an interactive table.\"\n",
              "            style=\"display:none;\">\n",
              "\n",
              "  <svg xmlns=\"http://www.w3.org/2000/svg\" height=\"24px\" viewBox=\"0 -960 960 960\">\n",
              "    <path d=\"M120-120v-720h720v720H120Zm60-500h600v-160H180v160Zm220 220h160v-160H400v160Zm0 220h160v-160H400v160ZM180-400h160v-160H180v160Zm440 0h160v-160H620v160ZM180-180h160v-160H180v160Zm440 0h160v-160H620v160Z\"/>\n",
              "  </svg>\n",
              "    </button>\n",
              "\n",
              "  <style>\n",
              "    .colab-df-container {\n",
              "      display:flex;\n",
              "      gap: 12px;\n",
              "    }\n",
              "\n",
              "    .colab-df-convert {\n",
              "      background-color: #E8F0FE;\n",
              "      border: none;\n",
              "      border-radius: 50%;\n",
              "      cursor: pointer;\n",
              "      display: none;\n",
              "      fill: #1967D2;\n",
              "      height: 32px;\n",
              "      padding: 0 0 0 0;\n",
              "      width: 32px;\n",
              "    }\n",
              "\n",
              "    .colab-df-convert:hover {\n",
              "      background-color: #E2EBFA;\n",
              "      box-shadow: 0px 1px 2px rgba(60, 64, 67, 0.3), 0px 1px 3px 1px rgba(60, 64, 67, 0.15);\n",
              "      fill: #174EA6;\n",
              "    }\n",
              "\n",
              "    .colab-df-buttons div {\n",
              "      margin-bottom: 4px;\n",
              "    }\n",
              "\n",
              "    [theme=dark] .colab-df-convert {\n",
              "      background-color: #3B4455;\n",
              "      fill: #D2E3FC;\n",
              "    }\n",
              "\n",
              "    [theme=dark] .colab-df-convert:hover {\n",
              "      background-color: #434B5C;\n",
              "      box-shadow: 0px 1px 3px 1px rgba(0, 0, 0, 0.15);\n",
              "      filter: drop-shadow(0px 1px 2px rgba(0, 0, 0, 0.3));\n",
              "      fill: #FFFFFF;\n",
              "    }\n",
              "  </style>\n",
              "\n",
              "    <script>\n",
              "      const buttonEl =\n",
              "        document.querySelector('#df-a297c9b6-cc41-40bf-91a8-c16cf3ac7ff3 button.colab-df-convert');\n",
              "      buttonEl.style.display =\n",
              "        google.colab.kernel.accessAllowed ? 'block' : 'none';\n",
              "\n",
              "      async function convertToInteractive(key) {\n",
              "        const element = document.querySelector('#df-a297c9b6-cc41-40bf-91a8-c16cf3ac7ff3');\n",
              "        const dataTable =\n",
              "          await google.colab.kernel.invokeFunction('convertToInteractive',\n",
              "                                                    [key], {});\n",
              "        if (!dataTable) return;\n",
              "\n",
              "        const docLinkHtml = 'Like what you see? Visit the ' +\n",
              "          '<a target=\"_blank\" href=https://colab.research.google.com/notebooks/data_table.ipynb>data table notebook</a>'\n",
              "          + ' to learn more about interactive tables.';\n",
              "        element.innerHTML = '';\n",
              "        dataTable['output_type'] = 'display_data';\n",
              "        await google.colab.output.renderOutput(dataTable, element);\n",
              "        const docLink = document.createElement('div');\n",
              "        docLink.innerHTML = docLinkHtml;\n",
              "        element.appendChild(docLink);\n",
              "      }\n",
              "    </script>\n",
              "  </div>\n",
              "\n",
              "\n",
              "    <div id=\"df-3536c9bc-272a-4cca-9d83-69498782f855\">\n",
              "      <button class=\"colab-df-quickchart\" onclick=\"quickchart('df-3536c9bc-272a-4cca-9d83-69498782f855')\"\n",
              "                title=\"Suggest charts\"\n",
              "                style=\"display:none;\">\n",
              "\n",
              "<svg xmlns=\"http://www.w3.org/2000/svg\" height=\"24px\"viewBox=\"0 0 24 24\"\n",
              "     width=\"24px\">\n",
              "    <g>\n",
              "        <path d=\"M19 3H5c-1.1 0-2 .9-2 2v14c0 1.1.9 2 2 2h14c1.1 0 2-.9 2-2V5c0-1.1-.9-2-2-2zM9 17H7v-7h2v7zm4 0h-2V7h2v10zm4 0h-2v-4h2v4z\"/>\n",
              "    </g>\n",
              "</svg>\n",
              "      </button>\n",
              "\n",
              "<style>\n",
              "  .colab-df-quickchart {\n",
              "      --bg-color: #E8F0FE;\n",
              "      --fill-color: #1967D2;\n",
              "      --hover-bg-color: #E2EBFA;\n",
              "      --hover-fill-color: #174EA6;\n",
              "      --disabled-fill-color: #AAA;\n",
              "      --disabled-bg-color: #DDD;\n",
              "  }\n",
              "\n",
              "  [theme=dark] .colab-df-quickchart {\n",
              "      --bg-color: #3B4455;\n",
              "      --fill-color: #D2E3FC;\n",
              "      --hover-bg-color: #434B5C;\n",
              "      --hover-fill-color: #FFFFFF;\n",
              "      --disabled-bg-color: #3B4455;\n",
              "      --disabled-fill-color: #666;\n",
              "  }\n",
              "\n",
              "  .colab-df-quickchart {\n",
              "    background-color: var(--bg-color);\n",
              "    border: none;\n",
              "    border-radius: 50%;\n",
              "    cursor: pointer;\n",
              "    display: none;\n",
              "    fill: var(--fill-color);\n",
              "    height: 32px;\n",
              "    padding: 0;\n",
              "    width: 32px;\n",
              "  }\n",
              "\n",
              "  .colab-df-quickchart:hover {\n",
              "    background-color: var(--hover-bg-color);\n",
              "    box-shadow: 0 1px 2px rgba(60, 64, 67, 0.3), 0 1px 3px 1px rgba(60, 64, 67, 0.15);\n",
              "    fill: var(--button-hover-fill-color);\n",
              "  }\n",
              "\n",
              "  .colab-df-quickchart-complete:disabled,\n",
              "  .colab-df-quickchart-complete:disabled:hover {\n",
              "    background-color: var(--disabled-bg-color);\n",
              "    fill: var(--disabled-fill-color);\n",
              "    box-shadow: none;\n",
              "  }\n",
              "\n",
              "  .colab-df-spinner {\n",
              "    border: 2px solid var(--fill-color);\n",
              "    border-color: transparent;\n",
              "    border-bottom-color: var(--fill-color);\n",
              "    animation:\n",
              "      spin 1s steps(1) infinite;\n",
              "  }\n",
              "\n",
              "  @keyframes spin {\n",
              "    0% {\n",
              "      border-color: transparent;\n",
              "      border-bottom-color: var(--fill-color);\n",
              "      border-left-color: var(--fill-color);\n",
              "    }\n",
              "    20% {\n",
              "      border-color: transparent;\n",
              "      border-left-color: var(--fill-color);\n",
              "      border-top-color: var(--fill-color);\n",
              "    }\n",
              "    30% {\n",
              "      border-color: transparent;\n",
              "      border-left-color: var(--fill-color);\n",
              "      border-top-color: var(--fill-color);\n",
              "      border-right-color: var(--fill-color);\n",
              "    }\n",
              "    40% {\n",
              "      border-color: transparent;\n",
              "      border-right-color: var(--fill-color);\n",
              "      border-top-color: var(--fill-color);\n",
              "    }\n",
              "    60% {\n",
              "      border-color: transparent;\n",
              "      border-right-color: var(--fill-color);\n",
              "    }\n",
              "    80% {\n",
              "      border-color: transparent;\n",
              "      border-right-color: var(--fill-color);\n",
              "      border-bottom-color: var(--fill-color);\n",
              "    }\n",
              "    90% {\n",
              "      border-color: transparent;\n",
              "      border-bottom-color: var(--fill-color);\n",
              "    }\n",
              "  }\n",
              "</style>\n",
              "\n",
              "      <script>\n",
              "        async function quickchart(key) {\n",
              "          const quickchartButtonEl =\n",
              "            document.querySelector('#' + key + ' button');\n",
              "          quickchartButtonEl.disabled = true;  // To prevent multiple clicks.\n",
              "          quickchartButtonEl.classList.add('colab-df-spinner');\n",
              "          try {\n",
              "            const charts = await google.colab.kernel.invokeFunction(\n",
              "                'suggestCharts', [key], {});\n",
              "          } catch (error) {\n",
              "            console.error('Error during call to suggestCharts:', error);\n",
              "          }\n",
              "          quickchartButtonEl.classList.remove('colab-df-spinner');\n",
              "          quickchartButtonEl.classList.add('colab-df-quickchart-complete');\n",
              "        }\n",
              "        (() => {\n",
              "          let quickchartButtonEl =\n",
              "            document.querySelector('#df-3536c9bc-272a-4cca-9d83-69498782f855 button');\n",
              "          quickchartButtonEl.style.display =\n",
              "            google.colab.kernel.accessAllowed ? 'block' : 'none';\n",
              "        })();\n",
              "      </script>\n",
              "    </div>\n",
              "\n",
              "    </div>\n",
              "  </div>\n"
            ],
            "application/vnd.google.colaboratory.intrinsic+json": {
              "type": "dataframe",
              "summary": "{\n  \"name\": \"df[df['Salary']\",\n  \"rows\": 2,\n  \"fields\": [\n    {\n      \"column\": \"Name\",\n      \"properties\": {\n        \"dtype\": \"string\",\n        \"num_unique_values\": 2,\n        \"samples\": [\n          \"Charlie\",\n          \"Bob\"\n        ],\n        \"semantic_type\": \"\",\n        \"description\": \"\"\n      }\n    },\n    {\n      \"column\": \"Age\",\n      \"properties\": {\n        \"dtype\": \"number\",\n        \"std\": 1,\n        \"min\": 28,\n        \"max\": 30,\n        \"num_unique_values\": 2,\n        \"samples\": [\n          28,\n          30\n        ],\n        \"semantic_type\": \"\",\n        \"description\": \"\"\n      }\n    },\n    {\n      \"column\": \"City\",\n      \"properties\": {\n        \"dtype\": \"string\",\n        \"num_unique_values\": 2,\n        \"samples\": [\n          \"Boston\",\n          \"Chicago\"\n        ],\n        \"semantic_type\": \"\",\n        \"description\": \"\"\n      }\n    },\n    {\n      \"column\": \"Salary\",\n      \"properties\": {\n        \"dtype\": \"number\",\n        \"std\": 3535,\n        \"min\": 75000,\n        \"max\": 80000,\n        \"num_unique_values\": 2,\n        \"samples\": [\n          75000,\n          80000\n        ],\n        \"semantic_type\": \"\",\n        \"description\": \"\"\n      }\n    }\n  ]\n}"
            }
          },
          "metadata": {},
          "execution_count": 26
        }
      ]
    },
    {
      "cell_type": "code",
      "source": [
        "df[df['City'].str.contains('c')]"
      ],
      "metadata": {
        "colab": {
          "base_uri": "https://localhost:8080/",
          "height": 80
        },
        "id": "y-T7bHBg7f1X",
        "outputId": "632735ac-ebb7-4f76-b8e7-0375c79236f3"
      },
      "execution_count": 28,
      "outputs": [
        {
          "output_type": "execute_result",
          "data": {
            "text/plain": [
              "  Name  Age     City  Salary\n",
              "1  Bob   30  Chicago   80000"
            ],
            "text/html": [
              "\n",
              "  <div id=\"df-c9f8fc7d-f0cf-400f-b40d-f0739ce62986\" class=\"colab-df-container\">\n",
              "    <div>\n",
              "<style scoped>\n",
              "    .dataframe tbody tr th:only-of-type {\n",
              "        vertical-align: middle;\n",
              "    }\n",
              "\n",
              "    .dataframe tbody tr th {\n",
              "        vertical-align: top;\n",
              "    }\n",
              "\n",
              "    .dataframe thead th {\n",
              "        text-align: right;\n",
              "    }\n",
              "</style>\n",
              "<table border=\"1\" class=\"dataframe\">\n",
              "  <thead>\n",
              "    <tr style=\"text-align: right;\">\n",
              "      <th></th>\n",
              "      <th>Name</th>\n",
              "      <th>Age</th>\n",
              "      <th>City</th>\n",
              "      <th>Salary</th>\n",
              "    </tr>\n",
              "  </thead>\n",
              "  <tbody>\n",
              "    <tr>\n",
              "      <th>1</th>\n",
              "      <td>Bob</td>\n",
              "      <td>30</td>\n",
              "      <td>Chicago</td>\n",
              "      <td>80000</td>\n",
              "    </tr>\n",
              "  </tbody>\n",
              "</table>\n",
              "</div>\n",
              "    <div class=\"colab-df-buttons\">\n",
              "\n",
              "  <div class=\"colab-df-container\">\n",
              "    <button class=\"colab-df-convert\" onclick=\"convertToInteractive('df-c9f8fc7d-f0cf-400f-b40d-f0739ce62986')\"\n",
              "            title=\"Convert this dataframe to an interactive table.\"\n",
              "            style=\"display:none;\">\n",
              "\n",
              "  <svg xmlns=\"http://www.w3.org/2000/svg\" height=\"24px\" viewBox=\"0 -960 960 960\">\n",
              "    <path d=\"M120-120v-720h720v720H120Zm60-500h600v-160H180v160Zm220 220h160v-160H400v160Zm0 220h160v-160H400v160ZM180-400h160v-160H180v160Zm440 0h160v-160H620v160ZM180-180h160v-160H180v160Zm440 0h160v-160H620v160Z\"/>\n",
              "  </svg>\n",
              "    </button>\n",
              "\n",
              "  <style>\n",
              "    .colab-df-container {\n",
              "      display:flex;\n",
              "      gap: 12px;\n",
              "    }\n",
              "\n",
              "    .colab-df-convert {\n",
              "      background-color: #E8F0FE;\n",
              "      border: none;\n",
              "      border-radius: 50%;\n",
              "      cursor: pointer;\n",
              "      display: none;\n",
              "      fill: #1967D2;\n",
              "      height: 32px;\n",
              "      padding: 0 0 0 0;\n",
              "      width: 32px;\n",
              "    }\n",
              "\n",
              "    .colab-df-convert:hover {\n",
              "      background-color: #E2EBFA;\n",
              "      box-shadow: 0px 1px 2px rgba(60, 64, 67, 0.3), 0px 1px 3px 1px rgba(60, 64, 67, 0.15);\n",
              "      fill: #174EA6;\n",
              "    }\n",
              "\n",
              "    .colab-df-buttons div {\n",
              "      margin-bottom: 4px;\n",
              "    }\n",
              "\n",
              "    [theme=dark] .colab-df-convert {\n",
              "      background-color: #3B4455;\n",
              "      fill: #D2E3FC;\n",
              "    }\n",
              "\n",
              "    [theme=dark] .colab-df-convert:hover {\n",
              "      background-color: #434B5C;\n",
              "      box-shadow: 0px 1px 3px 1px rgba(0, 0, 0, 0.15);\n",
              "      filter: drop-shadow(0px 1px 2px rgba(0, 0, 0, 0.3));\n",
              "      fill: #FFFFFF;\n",
              "    }\n",
              "  </style>\n",
              "\n",
              "    <script>\n",
              "      const buttonEl =\n",
              "        document.querySelector('#df-c9f8fc7d-f0cf-400f-b40d-f0739ce62986 button.colab-df-convert');\n",
              "      buttonEl.style.display =\n",
              "        google.colab.kernel.accessAllowed ? 'block' : 'none';\n",
              "\n",
              "      async function convertToInteractive(key) {\n",
              "        const element = document.querySelector('#df-c9f8fc7d-f0cf-400f-b40d-f0739ce62986');\n",
              "        const dataTable =\n",
              "          await google.colab.kernel.invokeFunction('convertToInteractive',\n",
              "                                                    [key], {});\n",
              "        if (!dataTable) return;\n",
              "\n",
              "        const docLinkHtml = 'Like what you see? Visit the ' +\n",
              "          '<a target=\"_blank\" href=https://colab.research.google.com/notebooks/data_table.ipynb>data table notebook</a>'\n",
              "          + ' to learn more about interactive tables.';\n",
              "        element.innerHTML = '';\n",
              "        dataTable['output_type'] = 'display_data';\n",
              "        await google.colab.output.renderOutput(dataTable, element);\n",
              "        const docLink = document.createElement('div');\n",
              "        docLink.innerHTML = docLinkHtml;\n",
              "        element.appendChild(docLink);\n",
              "      }\n",
              "    </script>\n",
              "  </div>\n",
              "\n",
              "\n",
              "    </div>\n",
              "  </div>\n"
            ],
            "application/vnd.google.colaboratory.intrinsic+json": {
              "type": "dataframe",
              "summary": "{\n  \"name\": \"df[df['City']\",\n  \"rows\": 1,\n  \"fields\": [\n    {\n      \"column\": \"Name\",\n      \"properties\": {\n        \"dtype\": \"string\",\n        \"num_unique_values\": 1,\n        \"samples\": [\n          \"Bob\"\n        ],\n        \"semantic_type\": \"\",\n        \"description\": \"\"\n      }\n    },\n    {\n      \"column\": \"Age\",\n      \"properties\": {\n        \"dtype\": \"number\",\n        \"std\": null,\n        \"min\": 30,\n        \"max\": 30,\n        \"num_unique_values\": 1,\n        \"samples\": [\n          30\n        ],\n        \"semantic_type\": \"\",\n        \"description\": \"\"\n      }\n    },\n    {\n      \"column\": \"City\",\n      \"properties\": {\n        \"dtype\": \"string\",\n        \"num_unique_values\": 1,\n        \"samples\": [\n          \"Chicago\"\n        ],\n        \"semantic_type\": \"\",\n        \"description\": \"\"\n      }\n    },\n    {\n      \"column\": \"Salary\",\n      \"properties\": {\n        \"dtype\": \"number\",\n        \"std\": null,\n        \"min\": 80000,\n        \"max\": 80000,\n        \"num_unique_values\": 1,\n        \"samples\": [\n          80000\n        ],\n        \"semantic_type\": \"\",\n        \"description\": \"\"\n      }\n    }\n  ]\n}"
            }
          },
          "metadata": {},
          "execution_count": 28
        }
      ]
    },
    {
      "cell_type": "code",
      "source": [
        "df[df['City'].str.startswith('N')]"
      ],
      "metadata": {
        "colab": {
          "base_uri": "https://localhost:8080/",
          "height": 80
        },
        "id": "_I3KKuBx7fxy",
        "outputId": "e45865c8-b6db-4432-bd78-24be43224ed6"
      },
      "execution_count": 29,
      "outputs": [
        {
          "output_type": "execute_result",
          "data": {
            "text/plain": [
              "    Name  Age      City  Salary\n",
              "0  Alice   25  New York   70000"
            ],
            "text/html": [
              "\n",
              "  <div id=\"df-af73b80d-f8c7-42f5-bcff-b09b4dddcccd\" class=\"colab-df-container\">\n",
              "    <div>\n",
              "<style scoped>\n",
              "    .dataframe tbody tr th:only-of-type {\n",
              "        vertical-align: middle;\n",
              "    }\n",
              "\n",
              "    .dataframe tbody tr th {\n",
              "        vertical-align: top;\n",
              "    }\n",
              "\n",
              "    .dataframe thead th {\n",
              "        text-align: right;\n",
              "    }\n",
              "</style>\n",
              "<table border=\"1\" class=\"dataframe\">\n",
              "  <thead>\n",
              "    <tr style=\"text-align: right;\">\n",
              "      <th></th>\n",
              "      <th>Name</th>\n",
              "      <th>Age</th>\n",
              "      <th>City</th>\n",
              "      <th>Salary</th>\n",
              "    </tr>\n",
              "  </thead>\n",
              "  <tbody>\n",
              "    <tr>\n",
              "      <th>0</th>\n",
              "      <td>Alice</td>\n",
              "      <td>25</td>\n",
              "      <td>New York</td>\n",
              "      <td>70000</td>\n",
              "    </tr>\n",
              "  </tbody>\n",
              "</table>\n",
              "</div>\n",
              "    <div class=\"colab-df-buttons\">\n",
              "\n",
              "  <div class=\"colab-df-container\">\n",
              "    <button class=\"colab-df-convert\" onclick=\"convertToInteractive('df-af73b80d-f8c7-42f5-bcff-b09b4dddcccd')\"\n",
              "            title=\"Convert this dataframe to an interactive table.\"\n",
              "            style=\"display:none;\">\n",
              "\n",
              "  <svg xmlns=\"http://www.w3.org/2000/svg\" height=\"24px\" viewBox=\"0 -960 960 960\">\n",
              "    <path d=\"M120-120v-720h720v720H120Zm60-500h600v-160H180v160Zm220 220h160v-160H400v160Zm0 220h160v-160H400v160ZM180-400h160v-160H180v160Zm440 0h160v-160H620v160ZM180-180h160v-160H180v160Zm440 0h160v-160H620v160Z\"/>\n",
              "  </svg>\n",
              "    </button>\n",
              "\n",
              "  <style>\n",
              "    .colab-df-container {\n",
              "      display:flex;\n",
              "      gap: 12px;\n",
              "    }\n",
              "\n",
              "    .colab-df-convert {\n",
              "      background-color: #E8F0FE;\n",
              "      border: none;\n",
              "      border-radius: 50%;\n",
              "      cursor: pointer;\n",
              "      display: none;\n",
              "      fill: #1967D2;\n",
              "      height: 32px;\n",
              "      padding: 0 0 0 0;\n",
              "      width: 32px;\n",
              "    }\n",
              "\n",
              "    .colab-df-convert:hover {\n",
              "      background-color: #E2EBFA;\n",
              "      box-shadow: 0px 1px 2px rgba(60, 64, 67, 0.3), 0px 1px 3px 1px rgba(60, 64, 67, 0.15);\n",
              "      fill: #174EA6;\n",
              "    }\n",
              "\n",
              "    .colab-df-buttons div {\n",
              "      margin-bottom: 4px;\n",
              "    }\n",
              "\n",
              "    [theme=dark] .colab-df-convert {\n",
              "      background-color: #3B4455;\n",
              "      fill: #D2E3FC;\n",
              "    }\n",
              "\n",
              "    [theme=dark] .colab-df-convert:hover {\n",
              "      background-color: #434B5C;\n",
              "      box-shadow: 0px 1px 3px 1px rgba(0, 0, 0, 0.15);\n",
              "      filter: drop-shadow(0px 1px 2px rgba(0, 0, 0, 0.3));\n",
              "      fill: #FFFFFF;\n",
              "    }\n",
              "  </style>\n",
              "\n",
              "    <script>\n",
              "      const buttonEl =\n",
              "        document.querySelector('#df-af73b80d-f8c7-42f5-bcff-b09b4dddcccd button.colab-df-convert');\n",
              "      buttonEl.style.display =\n",
              "        google.colab.kernel.accessAllowed ? 'block' : 'none';\n",
              "\n",
              "      async function convertToInteractive(key) {\n",
              "        const element = document.querySelector('#df-af73b80d-f8c7-42f5-bcff-b09b4dddcccd');\n",
              "        const dataTable =\n",
              "          await google.colab.kernel.invokeFunction('convertToInteractive',\n",
              "                                                    [key], {});\n",
              "        if (!dataTable) return;\n",
              "\n",
              "        const docLinkHtml = 'Like what you see? Visit the ' +\n",
              "          '<a target=\"_blank\" href=https://colab.research.google.com/notebooks/data_table.ipynb>data table notebook</a>'\n",
              "          + ' to learn more about interactive tables.';\n",
              "        element.innerHTML = '';\n",
              "        dataTable['output_type'] = 'display_data';\n",
              "        await google.colab.output.renderOutput(dataTable, element);\n",
              "        const docLink = document.createElement('div');\n",
              "        docLink.innerHTML = docLinkHtml;\n",
              "        element.appendChild(docLink);\n",
              "      }\n",
              "    </script>\n",
              "  </div>\n",
              "\n",
              "\n",
              "    </div>\n",
              "  </div>\n"
            ],
            "application/vnd.google.colaboratory.intrinsic+json": {
              "type": "dataframe",
              "summary": "{\n  \"name\": \"df[df['City']\",\n  \"rows\": 1,\n  \"fields\": [\n    {\n      \"column\": \"Name\",\n      \"properties\": {\n        \"dtype\": \"string\",\n        \"num_unique_values\": 1,\n        \"samples\": [\n          \"Alice\"\n        ],\n        \"semantic_type\": \"\",\n        \"description\": \"\"\n      }\n    },\n    {\n      \"column\": \"Age\",\n      \"properties\": {\n        \"dtype\": \"number\",\n        \"std\": null,\n        \"min\": 25,\n        \"max\": 25,\n        \"num_unique_values\": 1,\n        \"samples\": [\n          25\n        ],\n        \"semantic_type\": \"\",\n        \"description\": \"\"\n      }\n    },\n    {\n      \"column\": \"City\",\n      \"properties\": {\n        \"dtype\": \"string\",\n        \"num_unique_values\": 1,\n        \"samples\": [\n          \"New York\"\n        ],\n        \"semantic_type\": \"\",\n        \"description\": \"\"\n      }\n    },\n    {\n      \"column\": \"Salary\",\n      \"properties\": {\n        \"dtype\": \"number\",\n        \"std\": null,\n        \"min\": 70000,\n        \"max\": 70000,\n        \"num_unique_values\": 1,\n        \"samples\": [\n          70000\n        ],\n        \"semantic_type\": \"\",\n        \"description\": \"\"\n      }\n    }\n  ]\n}"
            }
          },
          "metadata": {},
          "execution_count": 29
        }
      ]
    },
    {
      "cell_type": "code",
      "source": [
        "df[df['City'].str.startswith('n')] #captel later is diffrent than small later"
      ],
      "metadata": {
        "colab": {
          "base_uri": "https://localhost:8080/",
          "height": 53
        },
        "id": "rQJkYBvz7fu6",
        "outputId": "282ee276-ca87-4afb-b4a2-d62fe2d72f6b"
      },
      "execution_count": 30,
      "outputs": [
        {
          "output_type": "execute_result",
          "data": {
            "text/plain": [
              "Empty DataFrame\n",
              "Columns: [Name, Age, City, Salary]\n",
              "Index: []"
            ],
            "text/html": [
              "\n",
              "  <div id=\"df-0d190301-8efd-4821-9c36-e44439ab266b\" class=\"colab-df-container\">\n",
              "    <div>\n",
              "<style scoped>\n",
              "    .dataframe tbody tr th:only-of-type {\n",
              "        vertical-align: middle;\n",
              "    }\n",
              "\n",
              "    .dataframe tbody tr th {\n",
              "        vertical-align: top;\n",
              "    }\n",
              "\n",
              "    .dataframe thead th {\n",
              "        text-align: right;\n",
              "    }\n",
              "</style>\n",
              "<table border=\"1\" class=\"dataframe\">\n",
              "  <thead>\n",
              "    <tr style=\"text-align: right;\">\n",
              "      <th></th>\n",
              "      <th>Name</th>\n",
              "      <th>Age</th>\n",
              "      <th>City</th>\n",
              "      <th>Salary</th>\n",
              "    </tr>\n",
              "  </thead>\n",
              "  <tbody>\n",
              "  </tbody>\n",
              "</table>\n",
              "</div>\n",
              "    <div class=\"colab-df-buttons\">\n",
              "\n",
              "  <div class=\"colab-df-container\">\n",
              "    <button class=\"colab-df-convert\" onclick=\"convertToInteractive('df-0d190301-8efd-4821-9c36-e44439ab266b')\"\n",
              "            title=\"Convert this dataframe to an interactive table.\"\n",
              "            style=\"display:none;\">\n",
              "\n",
              "  <svg xmlns=\"http://www.w3.org/2000/svg\" height=\"24px\" viewBox=\"0 -960 960 960\">\n",
              "    <path d=\"M120-120v-720h720v720H120Zm60-500h600v-160H180v160Zm220 220h160v-160H400v160Zm0 220h160v-160H400v160ZM180-400h160v-160H180v160Zm440 0h160v-160H620v160ZM180-180h160v-160H180v160Zm440 0h160v-160H620v160Z\"/>\n",
              "  </svg>\n",
              "    </button>\n",
              "\n",
              "  <style>\n",
              "    .colab-df-container {\n",
              "      display:flex;\n",
              "      gap: 12px;\n",
              "    }\n",
              "\n",
              "    .colab-df-convert {\n",
              "      background-color: #E8F0FE;\n",
              "      border: none;\n",
              "      border-radius: 50%;\n",
              "      cursor: pointer;\n",
              "      display: none;\n",
              "      fill: #1967D2;\n",
              "      height: 32px;\n",
              "      padding: 0 0 0 0;\n",
              "      width: 32px;\n",
              "    }\n",
              "\n",
              "    .colab-df-convert:hover {\n",
              "      background-color: #E2EBFA;\n",
              "      box-shadow: 0px 1px 2px rgba(60, 64, 67, 0.3), 0px 1px 3px 1px rgba(60, 64, 67, 0.15);\n",
              "      fill: #174EA6;\n",
              "    }\n",
              "\n",
              "    .colab-df-buttons div {\n",
              "      margin-bottom: 4px;\n",
              "    }\n",
              "\n",
              "    [theme=dark] .colab-df-convert {\n",
              "      background-color: #3B4455;\n",
              "      fill: #D2E3FC;\n",
              "    }\n",
              "\n",
              "    [theme=dark] .colab-df-convert:hover {\n",
              "      background-color: #434B5C;\n",
              "      box-shadow: 0px 1px 3px 1px rgba(0, 0, 0, 0.15);\n",
              "      filter: drop-shadow(0px 1px 2px rgba(0, 0, 0, 0.3));\n",
              "      fill: #FFFFFF;\n",
              "    }\n",
              "  </style>\n",
              "\n",
              "    <script>\n",
              "      const buttonEl =\n",
              "        document.querySelector('#df-0d190301-8efd-4821-9c36-e44439ab266b button.colab-df-convert');\n",
              "      buttonEl.style.display =\n",
              "        google.colab.kernel.accessAllowed ? 'block' : 'none';\n",
              "\n",
              "      async function convertToInteractive(key) {\n",
              "        const element = document.querySelector('#df-0d190301-8efd-4821-9c36-e44439ab266b');\n",
              "        const dataTable =\n",
              "          await google.colab.kernel.invokeFunction('convertToInteractive',\n",
              "                                                    [key], {});\n",
              "        if (!dataTable) return;\n",
              "\n",
              "        const docLinkHtml = 'Like what you see? Visit the ' +\n",
              "          '<a target=\"_blank\" href=https://colab.research.google.com/notebooks/data_table.ipynb>data table notebook</a>'\n",
              "          + ' to learn more about interactive tables.';\n",
              "        element.innerHTML = '';\n",
              "        dataTable['output_type'] = 'display_data';\n",
              "        await google.colab.output.renderOutput(dataTable, element);\n",
              "        const docLink = document.createElement('div');\n",
              "        docLink.innerHTML = docLinkHtml;\n",
              "        element.appendChild(docLink);\n",
              "      }\n",
              "    </script>\n",
              "  </div>\n",
              "\n",
              "\n",
              "    </div>\n",
              "  </div>\n"
            ],
            "application/vnd.google.colaboratory.intrinsic+json": {
              "type": "dataframe",
              "repr_error": "Out of range float values are not JSON compliant: nan"
            }
          },
          "metadata": {},
          "execution_count": 30
        }
      ]
    },
    {
      "cell_type": "code",
      "source": [
        "df[df['City'].str.endswith('n')]"
      ],
      "metadata": {
        "colab": {
          "base_uri": "https://localhost:8080/",
          "height": 80
        },
        "id": "z_hoUZgo7fsK",
        "outputId": "b34ece5c-c311-4092-d08d-8f19890be38d"
      },
      "execution_count": 31,
      "outputs": [
        {
          "output_type": "execute_result",
          "data": {
            "text/plain": [
              "      Name  Age    City  Salary\n",
              "2  Charlie   28  Boston   75000"
            ],
            "text/html": [
              "\n",
              "  <div id=\"df-0dc9b281-699c-46d4-81b9-6f0ef35b6b91\" class=\"colab-df-container\">\n",
              "    <div>\n",
              "<style scoped>\n",
              "    .dataframe tbody tr th:only-of-type {\n",
              "        vertical-align: middle;\n",
              "    }\n",
              "\n",
              "    .dataframe tbody tr th {\n",
              "        vertical-align: top;\n",
              "    }\n",
              "\n",
              "    .dataframe thead th {\n",
              "        text-align: right;\n",
              "    }\n",
              "</style>\n",
              "<table border=\"1\" class=\"dataframe\">\n",
              "  <thead>\n",
              "    <tr style=\"text-align: right;\">\n",
              "      <th></th>\n",
              "      <th>Name</th>\n",
              "      <th>Age</th>\n",
              "      <th>City</th>\n",
              "      <th>Salary</th>\n",
              "    </tr>\n",
              "  </thead>\n",
              "  <tbody>\n",
              "    <tr>\n",
              "      <th>2</th>\n",
              "      <td>Charlie</td>\n",
              "      <td>28</td>\n",
              "      <td>Boston</td>\n",
              "      <td>75000</td>\n",
              "    </tr>\n",
              "  </tbody>\n",
              "</table>\n",
              "</div>\n",
              "    <div class=\"colab-df-buttons\">\n",
              "\n",
              "  <div class=\"colab-df-container\">\n",
              "    <button class=\"colab-df-convert\" onclick=\"convertToInteractive('df-0dc9b281-699c-46d4-81b9-6f0ef35b6b91')\"\n",
              "            title=\"Convert this dataframe to an interactive table.\"\n",
              "            style=\"display:none;\">\n",
              "\n",
              "  <svg xmlns=\"http://www.w3.org/2000/svg\" height=\"24px\" viewBox=\"0 -960 960 960\">\n",
              "    <path d=\"M120-120v-720h720v720H120Zm60-500h600v-160H180v160Zm220 220h160v-160H400v160Zm0 220h160v-160H400v160ZM180-400h160v-160H180v160Zm440 0h160v-160H620v160ZM180-180h160v-160H180v160Zm440 0h160v-160H620v160Z\"/>\n",
              "  </svg>\n",
              "    </button>\n",
              "\n",
              "  <style>\n",
              "    .colab-df-container {\n",
              "      display:flex;\n",
              "      gap: 12px;\n",
              "    }\n",
              "\n",
              "    .colab-df-convert {\n",
              "      background-color: #E8F0FE;\n",
              "      border: none;\n",
              "      border-radius: 50%;\n",
              "      cursor: pointer;\n",
              "      display: none;\n",
              "      fill: #1967D2;\n",
              "      height: 32px;\n",
              "      padding: 0 0 0 0;\n",
              "      width: 32px;\n",
              "    }\n",
              "\n",
              "    .colab-df-convert:hover {\n",
              "      background-color: #E2EBFA;\n",
              "      box-shadow: 0px 1px 2px rgba(60, 64, 67, 0.3), 0px 1px 3px 1px rgba(60, 64, 67, 0.15);\n",
              "      fill: #174EA6;\n",
              "    }\n",
              "\n",
              "    .colab-df-buttons div {\n",
              "      margin-bottom: 4px;\n",
              "    }\n",
              "\n",
              "    [theme=dark] .colab-df-convert {\n",
              "      background-color: #3B4455;\n",
              "      fill: #D2E3FC;\n",
              "    }\n",
              "\n",
              "    [theme=dark] .colab-df-convert:hover {\n",
              "      background-color: #434B5C;\n",
              "      box-shadow: 0px 1px 3px 1px rgba(0, 0, 0, 0.15);\n",
              "      filter: drop-shadow(0px 1px 2px rgba(0, 0, 0, 0.3));\n",
              "      fill: #FFFFFF;\n",
              "    }\n",
              "  </style>\n",
              "\n",
              "    <script>\n",
              "      const buttonEl =\n",
              "        document.querySelector('#df-0dc9b281-699c-46d4-81b9-6f0ef35b6b91 button.colab-df-convert');\n",
              "      buttonEl.style.display =\n",
              "        google.colab.kernel.accessAllowed ? 'block' : 'none';\n",
              "\n",
              "      async function convertToInteractive(key) {\n",
              "        const element = document.querySelector('#df-0dc9b281-699c-46d4-81b9-6f0ef35b6b91');\n",
              "        const dataTable =\n",
              "          await google.colab.kernel.invokeFunction('convertToInteractive',\n",
              "                                                    [key], {});\n",
              "        if (!dataTable) return;\n",
              "\n",
              "        const docLinkHtml = 'Like what you see? Visit the ' +\n",
              "          '<a target=\"_blank\" href=https://colab.research.google.com/notebooks/data_table.ipynb>data table notebook</a>'\n",
              "          + ' to learn more about interactive tables.';\n",
              "        element.innerHTML = '';\n",
              "        dataTable['output_type'] = 'display_data';\n",
              "        await google.colab.output.renderOutput(dataTable, element);\n",
              "        const docLink = document.createElement('div');\n",
              "        docLink.innerHTML = docLinkHtml;\n",
              "        element.appendChild(docLink);\n",
              "      }\n",
              "    </script>\n",
              "  </div>\n",
              "\n",
              "\n",
              "    </div>\n",
              "  </div>\n"
            ],
            "application/vnd.google.colaboratory.intrinsic+json": {
              "type": "dataframe",
              "summary": "{\n  \"name\": \"df[df['City']\",\n  \"rows\": 1,\n  \"fields\": [\n    {\n      \"column\": \"Name\",\n      \"properties\": {\n        \"dtype\": \"string\",\n        \"num_unique_values\": 1,\n        \"samples\": [\n          \"Charlie\"\n        ],\n        \"semantic_type\": \"\",\n        \"description\": \"\"\n      }\n    },\n    {\n      \"column\": \"Age\",\n      \"properties\": {\n        \"dtype\": \"number\",\n        \"std\": null,\n        \"min\": 28,\n        \"max\": 28,\n        \"num_unique_values\": 1,\n        \"samples\": [\n          28\n        ],\n        \"semantic_type\": \"\",\n        \"description\": \"\"\n      }\n    },\n    {\n      \"column\": \"City\",\n      \"properties\": {\n        \"dtype\": \"string\",\n        \"num_unique_values\": 1,\n        \"samples\": [\n          \"Boston\"\n        ],\n        \"semantic_type\": \"\",\n        \"description\": \"\"\n      }\n    },\n    {\n      \"column\": \"Salary\",\n      \"properties\": {\n        \"dtype\": \"number\",\n        \"std\": null,\n        \"min\": 75000,\n        \"max\": 75000,\n        \"num_unique_values\": 1,\n        \"samples\": [\n          75000\n        ],\n        \"semantic_type\": \"\",\n        \"description\": \"\"\n      }\n    }\n  ]\n}"
            }
          },
          "metadata": {},
          "execution_count": 31
        }
      ]
    },
    {
      "cell_type": "code",
      "source": [
        "df['City'] = df['City'].str.replace('Boston', 'Oman')\n",
        "\n",
        "df\n"
      ],
      "metadata": {
        "colab": {
          "base_uri": "https://localhost:8080/",
          "height": 143
        },
        "id": "P9LxVNff9iOZ",
        "outputId": "7730054d-0554-4d2d-ce71-d877f3226dab"
      },
      "execution_count": 37,
      "outputs": [
        {
          "output_type": "execute_result",
          "data": {
            "text/plain": [
              "      Name  Age      City  Salary\n",
              "0    Alice   25  New York   70000\n",
              "1      Bob   30   Chicago   80000\n",
              "2  Charlie   28      Oman   75000"
            ],
            "text/html": [
              "\n",
              "  <div id=\"df-f7fdde79-76a7-4e9b-85e6-61bab813a0a5\" class=\"colab-df-container\">\n",
              "    <div>\n",
              "<style scoped>\n",
              "    .dataframe tbody tr th:only-of-type {\n",
              "        vertical-align: middle;\n",
              "    }\n",
              "\n",
              "    .dataframe tbody tr th {\n",
              "        vertical-align: top;\n",
              "    }\n",
              "\n",
              "    .dataframe thead th {\n",
              "        text-align: right;\n",
              "    }\n",
              "</style>\n",
              "<table border=\"1\" class=\"dataframe\">\n",
              "  <thead>\n",
              "    <tr style=\"text-align: right;\">\n",
              "      <th></th>\n",
              "      <th>Name</th>\n",
              "      <th>Age</th>\n",
              "      <th>City</th>\n",
              "      <th>Salary</th>\n",
              "    </tr>\n",
              "  </thead>\n",
              "  <tbody>\n",
              "    <tr>\n",
              "      <th>0</th>\n",
              "      <td>Alice</td>\n",
              "      <td>25</td>\n",
              "      <td>New York</td>\n",
              "      <td>70000</td>\n",
              "    </tr>\n",
              "    <tr>\n",
              "      <th>1</th>\n",
              "      <td>Bob</td>\n",
              "      <td>30</td>\n",
              "      <td>Chicago</td>\n",
              "      <td>80000</td>\n",
              "    </tr>\n",
              "    <tr>\n",
              "      <th>2</th>\n",
              "      <td>Charlie</td>\n",
              "      <td>28</td>\n",
              "      <td>Oman</td>\n",
              "      <td>75000</td>\n",
              "    </tr>\n",
              "  </tbody>\n",
              "</table>\n",
              "</div>\n",
              "    <div class=\"colab-df-buttons\">\n",
              "\n",
              "  <div class=\"colab-df-container\">\n",
              "    <button class=\"colab-df-convert\" onclick=\"convertToInteractive('df-f7fdde79-76a7-4e9b-85e6-61bab813a0a5')\"\n",
              "            title=\"Convert this dataframe to an interactive table.\"\n",
              "            style=\"display:none;\">\n",
              "\n",
              "  <svg xmlns=\"http://www.w3.org/2000/svg\" height=\"24px\" viewBox=\"0 -960 960 960\">\n",
              "    <path d=\"M120-120v-720h720v720H120Zm60-500h600v-160H180v160Zm220 220h160v-160H400v160Zm0 220h160v-160H400v160ZM180-400h160v-160H180v160Zm440 0h160v-160H620v160ZM180-180h160v-160H180v160Zm440 0h160v-160H620v160Z\"/>\n",
              "  </svg>\n",
              "    </button>\n",
              "\n",
              "  <style>\n",
              "    .colab-df-container {\n",
              "      display:flex;\n",
              "      gap: 12px;\n",
              "    }\n",
              "\n",
              "    .colab-df-convert {\n",
              "      background-color: #E8F0FE;\n",
              "      border: none;\n",
              "      border-radius: 50%;\n",
              "      cursor: pointer;\n",
              "      display: none;\n",
              "      fill: #1967D2;\n",
              "      height: 32px;\n",
              "      padding: 0 0 0 0;\n",
              "      width: 32px;\n",
              "    }\n",
              "\n",
              "    .colab-df-convert:hover {\n",
              "      background-color: #E2EBFA;\n",
              "      box-shadow: 0px 1px 2px rgba(60, 64, 67, 0.3), 0px 1px 3px 1px rgba(60, 64, 67, 0.15);\n",
              "      fill: #174EA6;\n",
              "    }\n",
              "\n",
              "    .colab-df-buttons div {\n",
              "      margin-bottom: 4px;\n",
              "    }\n",
              "\n",
              "    [theme=dark] .colab-df-convert {\n",
              "      background-color: #3B4455;\n",
              "      fill: #D2E3FC;\n",
              "    }\n",
              "\n",
              "    [theme=dark] .colab-df-convert:hover {\n",
              "      background-color: #434B5C;\n",
              "      box-shadow: 0px 1px 3px 1px rgba(0, 0, 0, 0.15);\n",
              "      filter: drop-shadow(0px 1px 2px rgba(0, 0, 0, 0.3));\n",
              "      fill: #FFFFFF;\n",
              "    }\n",
              "  </style>\n",
              "\n",
              "    <script>\n",
              "      const buttonEl =\n",
              "        document.querySelector('#df-f7fdde79-76a7-4e9b-85e6-61bab813a0a5 button.colab-df-convert');\n",
              "      buttonEl.style.display =\n",
              "        google.colab.kernel.accessAllowed ? 'block' : 'none';\n",
              "\n",
              "      async function convertToInteractive(key) {\n",
              "        const element = document.querySelector('#df-f7fdde79-76a7-4e9b-85e6-61bab813a0a5');\n",
              "        const dataTable =\n",
              "          await google.colab.kernel.invokeFunction('convertToInteractive',\n",
              "                                                    [key], {});\n",
              "        if (!dataTable) return;\n",
              "\n",
              "        const docLinkHtml = 'Like what you see? Visit the ' +\n",
              "          '<a target=\"_blank\" href=https://colab.research.google.com/notebooks/data_table.ipynb>data table notebook</a>'\n",
              "          + ' to learn more about interactive tables.';\n",
              "        element.innerHTML = '';\n",
              "        dataTable['output_type'] = 'display_data';\n",
              "        await google.colab.output.renderOutput(dataTable, element);\n",
              "        const docLink = document.createElement('div');\n",
              "        docLink.innerHTML = docLinkHtml;\n",
              "        element.appendChild(docLink);\n",
              "      }\n",
              "    </script>\n",
              "  </div>\n",
              "\n",
              "\n",
              "    <div id=\"df-eb79a55d-f0ec-4e37-b690-dc1fbe44b886\">\n",
              "      <button class=\"colab-df-quickchart\" onclick=\"quickchart('df-eb79a55d-f0ec-4e37-b690-dc1fbe44b886')\"\n",
              "                title=\"Suggest charts\"\n",
              "                style=\"display:none;\">\n",
              "\n",
              "<svg xmlns=\"http://www.w3.org/2000/svg\" height=\"24px\"viewBox=\"0 0 24 24\"\n",
              "     width=\"24px\">\n",
              "    <g>\n",
              "        <path d=\"M19 3H5c-1.1 0-2 .9-2 2v14c0 1.1.9 2 2 2h14c1.1 0 2-.9 2-2V5c0-1.1-.9-2-2-2zM9 17H7v-7h2v7zm4 0h-2V7h2v10zm4 0h-2v-4h2v4z\"/>\n",
              "    </g>\n",
              "</svg>\n",
              "      </button>\n",
              "\n",
              "<style>\n",
              "  .colab-df-quickchart {\n",
              "      --bg-color: #E8F0FE;\n",
              "      --fill-color: #1967D2;\n",
              "      --hover-bg-color: #E2EBFA;\n",
              "      --hover-fill-color: #174EA6;\n",
              "      --disabled-fill-color: #AAA;\n",
              "      --disabled-bg-color: #DDD;\n",
              "  }\n",
              "\n",
              "  [theme=dark] .colab-df-quickchart {\n",
              "      --bg-color: #3B4455;\n",
              "      --fill-color: #D2E3FC;\n",
              "      --hover-bg-color: #434B5C;\n",
              "      --hover-fill-color: #FFFFFF;\n",
              "      --disabled-bg-color: #3B4455;\n",
              "      --disabled-fill-color: #666;\n",
              "  }\n",
              "\n",
              "  .colab-df-quickchart {\n",
              "    background-color: var(--bg-color);\n",
              "    border: none;\n",
              "    border-radius: 50%;\n",
              "    cursor: pointer;\n",
              "    display: none;\n",
              "    fill: var(--fill-color);\n",
              "    height: 32px;\n",
              "    padding: 0;\n",
              "    width: 32px;\n",
              "  }\n",
              "\n",
              "  .colab-df-quickchart:hover {\n",
              "    background-color: var(--hover-bg-color);\n",
              "    box-shadow: 0 1px 2px rgba(60, 64, 67, 0.3), 0 1px 3px 1px rgba(60, 64, 67, 0.15);\n",
              "    fill: var(--button-hover-fill-color);\n",
              "  }\n",
              "\n",
              "  .colab-df-quickchart-complete:disabled,\n",
              "  .colab-df-quickchart-complete:disabled:hover {\n",
              "    background-color: var(--disabled-bg-color);\n",
              "    fill: var(--disabled-fill-color);\n",
              "    box-shadow: none;\n",
              "  }\n",
              "\n",
              "  .colab-df-spinner {\n",
              "    border: 2px solid var(--fill-color);\n",
              "    border-color: transparent;\n",
              "    border-bottom-color: var(--fill-color);\n",
              "    animation:\n",
              "      spin 1s steps(1) infinite;\n",
              "  }\n",
              "\n",
              "  @keyframes spin {\n",
              "    0% {\n",
              "      border-color: transparent;\n",
              "      border-bottom-color: var(--fill-color);\n",
              "      border-left-color: var(--fill-color);\n",
              "    }\n",
              "    20% {\n",
              "      border-color: transparent;\n",
              "      border-left-color: var(--fill-color);\n",
              "      border-top-color: var(--fill-color);\n",
              "    }\n",
              "    30% {\n",
              "      border-color: transparent;\n",
              "      border-left-color: var(--fill-color);\n",
              "      border-top-color: var(--fill-color);\n",
              "      border-right-color: var(--fill-color);\n",
              "    }\n",
              "    40% {\n",
              "      border-color: transparent;\n",
              "      border-right-color: var(--fill-color);\n",
              "      border-top-color: var(--fill-color);\n",
              "    }\n",
              "    60% {\n",
              "      border-color: transparent;\n",
              "      border-right-color: var(--fill-color);\n",
              "    }\n",
              "    80% {\n",
              "      border-color: transparent;\n",
              "      border-right-color: var(--fill-color);\n",
              "      border-bottom-color: var(--fill-color);\n",
              "    }\n",
              "    90% {\n",
              "      border-color: transparent;\n",
              "      border-bottom-color: var(--fill-color);\n",
              "    }\n",
              "  }\n",
              "</style>\n",
              "\n",
              "      <script>\n",
              "        async function quickchart(key) {\n",
              "          const quickchartButtonEl =\n",
              "            document.querySelector('#' + key + ' button');\n",
              "          quickchartButtonEl.disabled = true;  // To prevent multiple clicks.\n",
              "          quickchartButtonEl.classList.add('colab-df-spinner');\n",
              "          try {\n",
              "            const charts = await google.colab.kernel.invokeFunction(\n",
              "                'suggestCharts', [key], {});\n",
              "          } catch (error) {\n",
              "            console.error('Error during call to suggestCharts:', error);\n",
              "          }\n",
              "          quickchartButtonEl.classList.remove('colab-df-spinner');\n",
              "          quickchartButtonEl.classList.add('colab-df-quickchart-complete');\n",
              "        }\n",
              "        (() => {\n",
              "          let quickchartButtonEl =\n",
              "            document.querySelector('#df-eb79a55d-f0ec-4e37-b690-dc1fbe44b886 button');\n",
              "          quickchartButtonEl.style.display =\n",
              "            google.colab.kernel.accessAllowed ? 'block' : 'none';\n",
              "        })();\n",
              "      </script>\n",
              "    </div>\n",
              "\n",
              "  <div id=\"id_917d1c9d-2361-4585-ad91-729f9be22183\">\n",
              "    <style>\n",
              "      .colab-df-generate {\n",
              "        background-color: #E8F0FE;\n",
              "        border: none;\n",
              "        border-radius: 50%;\n",
              "        cursor: pointer;\n",
              "        display: none;\n",
              "        fill: #1967D2;\n",
              "        height: 32px;\n",
              "        padding: 0 0 0 0;\n",
              "        width: 32px;\n",
              "      }\n",
              "\n",
              "      .colab-df-generate:hover {\n",
              "        background-color: #E2EBFA;\n",
              "        box-shadow: 0px 1px 2px rgba(60, 64, 67, 0.3), 0px 1px 3px 1px rgba(60, 64, 67, 0.15);\n",
              "        fill: #174EA6;\n",
              "      }\n",
              "\n",
              "      [theme=dark] .colab-df-generate {\n",
              "        background-color: #3B4455;\n",
              "        fill: #D2E3FC;\n",
              "      }\n",
              "\n",
              "      [theme=dark] .colab-df-generate:hover {\n",
              "        background-color: #434B5C;\n",
              "        box-shadow: 0px 1px 3px 1px rgba(0, 0, 0, 0.15);\n",
              "        filter: drop-shadow(0px 1px 2px rgba(0, 0, 0, 0.3));\n",
              "        fill: #FFFFFF;\n",
              "      }\n",
              "    </style>\n",
              "    <button class=\"colab-df-generate\" onclick=\"generateWithVariable('df')\"\n",
              "            title=\"Generate code using this dataframe.\"\n",
              "            style=\"display:none;\">\n",
              "\n",
              "  <svg xmlns=\"http://www.w3.org/2000/svg\" height=\"24px\"viewBox=\"0 0 24 24\"\n",
              "       width=\"24px\">\n",
              "    <path d=\"M7,19H8.4L18.45,9,17,7.55,7,17.6ZM5,21V16.75L18.45,3.32a2,2,0,0,1,2.83,0l1.4,1.43a1.91,1.91,0,0,1,.58,1.4,1.91,1.91,0,0,1-.58,1.4L9.25,21ZM18.45,9,17,7.55Zm-12,3A5.31,5.31,0,0,0,4.9,8.1,5.31,5.31,0,0,0,1,6.5,5.31,5.31,0,0,0,4.9,4.9,5.31,5.31,0,0,0,6.5,1,5.31,5.31,0,0,0,8.1,4.9,5.31,5.31,0,0,0,12,6.5,5.46,5.46,0,0,0,6.5,12Z\"/>\n",
              "  </svg>\n",
              "    </button>\n",
              "    <script>\n",
              "      (() => {\n",
              "      const buttonEl =\n",
              "        document.querySelector('#id_917d1c9d-2361-4585-ad91-729f9be22183 button.colab-df-generate');\n",
              "      buttonEl.style.display =\n",
              "        google.colab.kernel.accessAllowed ? 'block' : 'none';\n",
              "\n",
              "      buttonEl.onclick = () => {\n",
              "        google.colab.notebook.generateWithVariable('df');\n",
              "      }\n",
              "      })();\n",
              "    </script>\n",
              "  </div>\n",
              "\n",
              "    </div>\n",
              "  </div>\n"
            ],
            "application/vnd.google.colaboratory.intrinsic+json": {
              "type": "dataframe",
              "variable_name": "df",
              "summary": "{\n  \"name\": \"df\",\n  \"rows\": 3,\n  \"fields\": [\n    {\n      \"column\": \"Name\",\n      \"properties\": {\n        \"dtype\": \"string\",\n        \"num_unique_values\": 3,\n        \"samples\": [\n          \"Alice\",\n          \"Bob\",\n          \"Charlie\"\n        ],\n        \"semantic_type\": \"\",\n        \"description\": \"\"\n      }\n    },\n    {\n      \"column\": \"Age\",\n      \"properties\": {\n        \"dtype\": \"number\",\n        \"std\": 2,\n        \"min\": 25,\n        \"max\": 30,\n        \"num_unique_values\": 3,\n        \"samples\": [\n          25,\n          30,\n          28\n        ],\n        \"semantic_type\": \"\",\n        \"description\": \"\"\n      }\n    },\n    {\n      \"column\": \"City\",\n      \"properties\": {\n        \"dtype\": \"string\",\n        \"num_unique_values\": 3,\n        \"samples\": [\n          \"New York\",\n          \"Chicago\",\n          \"Oman\"\n        ],\n        \"semantic_type\": \"\",\n        \"description\": \"\"\n      }\n    },\n    {\n      \"column\": \"Salary\",\n      \"properties\": {\n        \"dtype\": \"number\",\n        \"std\": 5000,\n        \"min\": 70000,\n        \"max\": 80000,\n        \"num_unique_values\": 3,\n        \"samples\": [\n          70000,\n          80000,\n          75000\n        ],\n        \"semantic_type\": \"\",\n        \"description\": \"\"\n      }\n    }\n  ]\n}"
            }
          },
          "metadata": {},
          "execution_count": 37
        }
      ]
    },
    {
      "cell_type": "code",
      "source": [
        "df.isnull()"
      ],
      "metadata": {
        "colab": {
          "base_uri": "https://localhost:8080/",
          "height": 143
        },
        "id": "10AnLny--nza",
        "outputId": "00b45627-02c7-4341-ad04-702e48c3c55d"
      },
      "execution_count": 38,
      "outputs": [
        {
          "output_type": "execute_result",
          "data": {
            "text/plain": [
              "    Name    Age   City  Salary\n",
              "0  False  False  False   False\n",
              "1  False  False  False   False\n",
              "2  False  False  False   False"
            ],
            "text/html": [
              "\n",
              "  <div id=\"df-0ff60ff7-fff7-47bf-8d3c-6fe48c1738cc\" class=\"colab-df-container\">\n",
              "    <div>\n",
              "<style scoped>\n",
              "    .dataframe tbody tr th:only-of-type {\n",
              "        vertical-align: middle;\n",
              "    }\n",
              "\n",
              "    .dataframe tbody tr th {\n",
              "        vertical-align: top;\n",
              "    }\n",
              "\n",
              "    .dataframe thead th {\n",
              "        text-align: right;\n",
              "    }\n",
              "</style>\n",
              "<table border=\"1\" class=\"dataframe\">\n",
              "  <thead>\n",
              "    <tr style=\"text-align: right;\">\n",
              "      <th></th>\n",
              "      <th>Name</th>\n",
              "      <th>Age</th>\n",
              "      <th>City</th>\n",
              "      <th>Salary</th>\n",
              "    </tr>\n",
              "  </thead>\n",
              "  <tbody>\n",
              "    <tr>\n",
              "      <th>0</th>\n",
              "      <td>False</td>\n",
              "      <td>False</td>\n",
              "      <td>False</td>\n",
              "      <td>False</td>\n",
              "    </tr>\n",
              "    <tr>\n",
              "      <th>1</th>\n",
              "      <td>False</td>\n",
              "      <td>False</td>\n",
              "      <td>False</td>\n",
              "      <td>False</td>\n",
              "    </tr>\n",
              "    <tr>\n",
              "      <th>2</th>\n",
              "      <td>False</td>\n",
              "      <td>False</td>\n",
              "      <td>False</td>\n",
              "      <td>False</td>\n",
              "    </tr>\n",
              "  </tbody>\n",
              "</table>\n",
              "</div>\n",
              "    <div class=\"colab-df-buttons\">\n",
              "\n",
              "  <div class=\"colab-df-container\">\n",
              "    <button class=\"colab-df-convert\" onclick=\"convertToInteractive('df-0ff60ff7-fff7-47bf-8d3c-6fe48c1738cc')\"\n",
              "            title=\"Convert this dataframe to an interactive table.\"\n",
              "            style=\"display:none;\">\n",
              "\n",
              "  <svg xmlns=\"http://www.w3.org/2000/svg\" height=\"24px\" viewBox=\"0 -960 960 960\">\n",
              "    <path d=\"M120-120v-720h720v720H120Zm60-500h600v-160H180v160Zm220 220h160v-160H400v160Zm0 220h160v-160H400v160ZM180-400h160v-160H180v160Zm440 0h160v-160H620v160ZM180-180h160v-160H180v160Zm440 0h160v-160H620v160Z\"/>\n",
              "  </svg>\n",
              "    </button>\n",
              "\n",
              "  <style>\n",
              "    .colab-df-container {\n",
              "      display:flex;\n",
              "      gap: 12px;\n",
              "    }\n",
              "\n",
              "    .colab-df-convert {\n",
              "      background-color: #E8F0FE;\n",
              "      border: none;\n",
              "      border-radius: 50%;\n",
              "      cursor: pointer;\n",
              "      display: none;\n",
              "      fill: #1967D2;\n",
              "      height: 32px;\n",
              "      padding: 0 0 0 0;\n",
              "      width: 32px;\n",
              "    }\n",
              "\n",
              "    .colab-df-convert:hover {\n",
              "      background-color: #E2EBFA;\n",
              "      box-shadow: 0px 1px 2px rgba(60, 64, 67, 0.3), 0px 1px 3px 1px rgba(60, 64, 67, 0.15);\n",
              "      fill: #174EA6;\n",
              "    }\n",
              "\n",
              "    .colab-df-buttons div {\n",
              "      margin-bottom: 4px;\n",
              "    }\n",
              "\n",
              "    [theme=dark] .colab-df-convert {\n",
              "      background-color: #3B4455;\n",
              "      fill: #D2E3FC;\n",
              "    }\n",
              "\n",
              "    [theme=dark] .colab-df-convert:hover {\n",
              "      background-color: #434B5C;\n",
              "      box-shadow: 0px 1px 3px 1px rgba(0, 0, 0, 0.15);\n",
              "      filter: drop-shadow(0px 1px 2px rgba(0, 0, 0, 0.3));\n",
              "      fill: #FFFFFF;\n",
              "    }\n",
              "  </style>\n",
              "\n",
              "    <script>\n",
              "      const buttonEl =\n",
              "        document.querySelector('#df-0ff60ff7-fff7-47bf-8d3c-6fe48c1738cc button.colab-df-convert');\n",
              "      buttonEl.style.display =\n",
              "        google.colab.kernel.accessAllowed ? 'block' : 'none';\n",
              "\n",
              "      async function convertToInteractive(key) {\n",
              "        const element = document.querySelector('#df-0ff60ff7-fff7-47bf-8d3c-6fe48c1738cc');\n",
              "        const dataTable =\n",
              "          await google.colab.kernel.invokeFunction('convertToInteractive',\n",
              "                                                    [key], {});\n",
              "        if (!dataTable) return;\n",
              "\n",
              "        const docLinkHtml = 'Like what you see? Visit the ' +\n",
              "          '<a target=\"_blank\" href=https://colab.research.google.com/notebooks/data_table.ipynb>data table notebook</a>'\n",
              "          + ' to learn more about interactive tables.';\n",
              "        element.innerHTML = '';\n",
              "        dataTable['output_type'] = 'display_data';\n",
              "        await google.colab.output.renderOutput(dataTable, element);\n",
              "        const docLink = document.createElement('div');\n",
              "        docLink.innerHTML = docLinkHtml;\n",
              "        element.appendChild(docLink);\n",
              "      }\n",
              "    </script>\n",
              "  </div>\n",
              "\n",
              "\n",
              "    <div id=\"df-5c4707a1-9dd6-4b57-aa00-e98f2b0139d8\">\n",
              "      <button class=\"colab-df-quickchart\" onclick=\"quickchart('df-5c4707a1-9dd6-4b57-aa00-e98f2b0139d8')\"\n",
              "                title=\"Suggest charts\"\n",
              "                style=\"display:none;\">\n",
              "\n",
              "<svg xmlns=\"http://www.w3.org/2000/svg\" height=\"24px\"viewBox=\"0 0 24 24\"\n",
              "     width=\"24px\">\n",
              "    <g>\n",
              "        <path d=\"M19 3H5c-1.1 0-2 .9-2 2v14c0 1.1.9 2 2 2h14c1.1 0 2-.9 2-2V5c0-1.1-.9-2-2-2zM9 17H7v-7h2v7zm4 0h-2V7h2v10zm4 0h-2v-4h2v4z\"/>\n",
              "    </g>\n",
              "</svg>\n",
              "      </button>\n",
              "\n",
              "<style>\n",
              "  .colab-df-quickchart {\n",
              "      --bg-color: #E8F0FE;\n",
              "      --fill-color: #1967D2;\n",
              "      --hover-bg-color: #E2EBFA;\n",
              "      --hover-fill-color: #174EA6;\n",
              "      --disabled-fill-color: #AAA;\n",
              "      --disabled-bg-color: #DDD;\n",
              "  }\n",
              "\n",
              "  [theme=dark] .colab-df-quickchart {\n",
              "      --bg-color: #3B4455;\n",
              "      --fill-color: #D2E3FC;\n",
              "      --hover-bg-color: #434B5C;\n",
              "      --hover-fill-color: #FFFFFF;\n",
              "      --disabled-bg-color: #3B4455;\n",
              "      --disabled-fill-color: #666;\n",
              "  }\n",
              "\n",
              "  .colab-df-quickchart {\n",
              "    background-color: var(--bg-color);\n",
              "    border: none;\n",
              "    border-radius: 50%;\n",
              "    cursor: pointer;\n",
              "    display: none;\n",
              "    fill: var(--fill-color);\n",
              "    height: 32px;\n",
              "    padding: 0;\n",
              "    width: 32px;\n",
              "  }\n",
              "\n",
              "  .colab-df-quickchart:hover {\n",
              "    background-color: var(--hover-bg-color);\n",
              "    box-shadow: 0 1px 2px rgba(60, 64, 67, 0.3), 0 1px 3px 1px rgba(60, 64, 67, 0.15);\n",
              "    fill: var(--button-hover-fill-color);\n",
              "  }\n",
              "\n",
              "  .colab-df-quickchart-complete:disabled,\n",
              "  .colab-df-quickchart-complete:disabled:hover {\n",
              "    background-color: var(--disabled-bg-color);\n",
              "    fill: var(--disabled-fill-color);\n",
              "    box-shadow: none;\n",
              "  }\n",
              "\n",
              "  .colab-df-spinner {\n",
              "    border: 2px solid var(--fill-color);\n",
              "    border-color: transparent;\n",
              "    border-bottom-color: var(--fill-color);\n",
              "    animation:\n",
              "      spin 1s steps(1) infinite;\n",
              "  }\n",
              "\n",
              "  @keyframes spin {\n",
              "    0% {\n",
              "      border-color: transparent;\n",
              "      border-bottom-color: var(--fill-color);\n",
              "      border-left-color: var(--fill-color);\n",
              "    }\n",
              "    20% {\n",
              "      border-color: transparent;\n",
              "      border-left-color: var(--fill-color);\n",
              "      border-top-color: var(--fill-color);\n",
              "    }\n",
              "    30% {\n",
              "      border-color: transparent;\n",
              "      border-left-color: var(--fill-color);\n",
              "      border-top-color: var(--fill-color);\n",
              "      border-right-color: var(--fill-color);\n",
              "    }\n",
              "    40% {\n",
              "      border-color: transparent;\n",
              "      border-right-color: var(--fill-color);\n",
              "      border-top-color: var(--fill-color);\n",
              "    }\n",
              "    60% {\n",
              "      border-color: transparent;\n",
              "      border-right-color: var(--fill-color);\n",
              "    }\n",
              "    80% {\n",
              "      border-color: transparent;\n",
              "      border-right-color: var(--fill-color);\n",
              "      border-bottom-color: var(--fill-color);\n",
              "    }\n",
              "    90% {\n",
              "      border-color: transparent;\n",
              "      border-bottom-color: var(--fill-color);\n",
              "    }\n",
              "  }\n",
              "</style>\n",
              "\n",
              "      <script>\n",
              "        async function quickchart(key) {\n",
              "          const quickchartButtonEl =\n",
              "            document.querySelector('#' + key + ' button');\n",
              "          quickchartButtonEl.disabled = true;  // To prevent multiple clicks.\n",
              "          quickchartButtonEl.classList.add('colab-df-spinner');\n",
              "          try {\n",
              "            const charts = await google.colab.kernel.invokeFunction(\n",
              "                'suggestCharts', [key], {});\n",
              "          } catch (error) {\n",
              "            console.error('Error during call to suggestCharts:', error);\n",
              "          }\n",
              "          quickchartButtonEl.classList.remove('colab-df-spinner');\n",
              "          quickchartButtonEl.classList.add('colab-df-quickchart-complete');\n",
              "        }\n",
              "        (() => {\n",
              "          let quickchartButtonEl =\n",
              "            document.querySelector('#df-5c4707a1-9dd6-4b57-aa00-e98f2b0139d8 button');\n",
              "          quickchartButtonEl.style.display =\n",
              "            google.colab.kernel.accessAllowed ? 'block' : 'none';\n",
              "        })();\n",
              "      </script>\n",
              "    </div>\n",
              "\n",
              "    </div>\n",
              "  </div>\n"
            ],
            "application/vnd.google.colaboratory.intrinsic+json": {
              "type": "dataframe",
              "summary": "{\n  \"name\": \"df\",\n  \"rows\": 3,\n  \"fields\": [\n    {\n      \"column\": \"Name\",\n      \"properties\": {\n        \"dtype\": \"boolean\",\n        \"num_unique_values\": 1,\n        \"samples\": [\n          false\n        ],\n        \"semantic_type\": \"\",\n        \"description\": \"\"\n      }\n    },\n    {\n      \"column\": \"Age\",\n      \"properties\": {\n        \"dtype\": \"boolean\",\n        \"num_unique_values\": 1,\n        \"samples\": [\n          false\n        ],\n        \"semantic_type\": \"\",\n        \"description\": \"\"\n      }\n    },\n    {\n      \"column\": \"City\",\n      \"properties\": {\n        \"dtype\": \"boolean\",\n        \"num_unique_values\": 1,\n        \"samples\": [\n          false\n        ],\n        \"semantic_type\": \"\",\n        \"description\": \"\"\n      }\n    },\n    {\n      \"column\": \"Salary\",\n      \"properties\": {\n        \"dtype\": \"boolean\",\n        \"num_unique_values\": 1,\n        \"samples\": [\n          false\n        ],\n        \"semantic_type\": \"\",\n        \"description\": \"\"\n      }\n    }\n  ]\n}"
            }
          },
          "metadata": {},
          "execution_count": 38
        }
      ]
    },
    {
      "cell_type": "code",
      "source": [
        "df.notnull()"
      ],
      "metadata": {
        "colab": {
          "base_uri": "https://localhost:8080/",
          "height": 143
        },
        "id": "nVWJL3Fw-nv9",
        "outputId": "bb9a6f43-8f43-4864-be04-2e8e456594a6"
      },
      "execution_count": 39,
      "outputs": [
        {
          "output_type": "execute_result",
          "data": {
            "text/plain": [
              "   Name   Age  City  Salary\n",
              "0  True  True  True    True\n",
              "1  True  True  True    True\n",
              "2  True  True  True    True"
            ],
            "text/html": [
              "\n",
              "  <div id=\"df-ba10aa5c-6e86-4e4d-be03-30273e91aa8a\" class=\"colab-df-container\">\n",
              "    <div>\n",
              "<style scoped>\n",
              "    .dataframe tbody tr th:only-of-type {\n",
              "        vertical-align: middle;\n",
              "    }\n",
              "\n",
              "    .dataframe tbody tr th {\n",
              "        vertical-align: top;\n",
              "    }\n",
              "\n",
              "    .dataframe thead th {\n",
              "        text-align: right;\n",
              "    }\n",
              "</style>\n",
              "<table border=\"1\" class=\"dataframe\">\n",
              "  <thead>\n",
              "    <tr style=\"text-align: right;\">\n",
              "      <th></th>\n",
              "      <th>Name</th>\n",
              "      <th>Age</th>\n",
              "      <th>City</th>\n",
              "      <th>Salary</th>\n",
              "    </tr>\n",
              "  </thead>\n",
              "  <tbody>\n",
              "    <tr>\n",
              "      <th>0</th>\n",
              "      <td>True</td>\n",
              "      <td>True</td>\n",
              "      <td>True</td>\n",
              "      <td>True</td>\n",
              "    </tr>\n",
              "    <tr>\n",
              "      <th>1</th>\n",
              "      <td>True</td>\n",
              "      <td>True</td>\n",
              "      <td>True</td>\n",
              "      <td>True</td>\n",
              "    </tr>\n",
              "    <tr>\n",
              "      <th>2</th>\n",
              "      <td>True</td>\n",
              "      <td>True</td>\n",
              "      <td>True</td>\n",
              "      <td>True</td>\n",
              "    </tr>\n",
              "  </tbody>\n",
              "</table>\n",
              "</div>\n",
              "    <div class=\"colab-df-buttons\">\n",
              "\n",
              "  <div class=\"colab-df-container\">\n",
              "    <button class=\"colab-df-convert\" onclick=\"convertToInteractive('df-ba10aa5c-6e86-4e4d-be03-30273e91aa8a')\"\n",
              "            title=\"Convert this dataframe to an interactive table.\"\n",
              "            style=\"display:none;\">\n",
              "\n",
              "  <svg xmlns=\"http://www.w3.org/2000/svg\" height=\"24px\" viewBox=\"0 -960 960 960\">\n",
              "    <path d=\"M120-120v-720h720v720H120Zm60-500h600v-160H180v160Zm220 220h160v-160H400v160Zm0 220h160v-160H400v160ZM180-400h160v-160H180v160Zm440 0h160v-160H620v160ZM180-180h160v-160H180v160Zm440 0h160v-160H620v160Z\"/>\n",
              "  </svg>\n",
              "    </button>\n",
              "\n",
              "  <style>\n",
              "    .colab-df-container {\n",
              "      display:flex;\n",
              "      gap: 12px;\n",
              "    }\n",
              "\n",
              "    .colab-df-convert {\n",
              "      background-color: #E8F0FE;\n",
              "      border: none;\n",
              "      border-radius: 50%;\n",
              "      cursor: pointer;\n",
              "      display: none;\n",
              "      fill: #1967D2;\n",
              "      height: 32px;\n",
              "      padding: 0 0 0 0;\n",
              "      width: 32px;\n",
              "    }\n",
              "\n",
              "    .colab-df-convert:hover {\n",
              "      background-color: #E2EBFA;\n",
              "      box-shadow: 0px 1px 2px rgba(60, 64, 67, 0.3), 0px 1px 3px 1px rgba(60, 64, 67, 0.15);\n",
              "      fill: #174EA6;\n",
              "    }\n",
              "\n",
              "    .colab-df-buttons div {\n",
              "      margin-bottom: 4px;\n",
              "    }\n",
              "\n",
              "    [theme=dark] .colab-df-convert {\n",
              "      background-color: #3B4455;\n",
              "      fill: #D2E3FC;\n",
              "    }\n",
              "\n",
              "    [theme=dark] .colab-df-convert:hover {\n",
              "      background-color: #434B5C;\n",
              "      box-shadow: 0px 1px 3px 1px rgba(0, 0, 0, 0.15);\n",
              "      filter: drop-shadow(0px 1px 2px rgba(0, 0, 0, 0.3));\n",
              "      fill: #FFFFFF;\n",
              "    }\n",
              "  </style>\n",
              "\n",
              "    <script>\n",
              "      const buttonEl =\n",
              "        document.querySelector('#df-ba10aa5c-6e86-4e4d-be03-30273e91aa8a button.colab-df-convert');\n",
              "      buttonEl.style.display =\n",
              "        google.colab.kernel.accessAllowed ? 'block' : 'none';\n",
              "\n",
              "      async function convertToInteractive(key) {\n",
              "        const element = document.querySelector('#df-ba10aa5c-6e86-4e4d-be03-30273e91aa8a');\n",
              "        const dataTable =\n",
              "          await google.colab.kernel.invokeFunction('convertToInteractive',\n",
              "                                                    [key], {});\n",
              "        if (!dataTable) return;\n",
              "\n",
              "        const docLinkHtml = 'Like what you see? Visit the ' +\n",
              "          '<a target=\"_blank\" href=https://colab.research.google.com/notebooks/data_table.ipynb>data table notebook</a>'\n",
              "          + ' to learn more about interactive tables.';\n",
              "        element.innerHTML = '';\n",
              "        dataTable['output_type'] = 'display_data';\n",
              "        await google.colab.output.renderOutput(dataTable, element);\n",
              "        const docLink = document.createElement('div');\n",
              "        docLink.innerHTML = docLinkHtml;\n",
              "        element.appendChild(docLink);\n",
              "      }\n",
              "    </script>\n",
              "  </div>\n",
              "\n",
              "\n",
              "    <div id=\"df-5db40529-92f1-4428-9c2c-89cee49eea07\">\n",
              "      <button class=\"colab-df-quickchart\" onclick=\"quickchart('df-5db40529-92f1-4428-9c2c-89cee49eea07')\"\n",
              "                title=\"Suggest charts\"\n",
              "                style=\"display:none;\">\n",
              "\n",
              "<svg xmlns=\"http://www.w3.org/2000/svg\" height=\"24px\"viewBox=\"0 0 24 24\"\n",
              "     width=\"24px\">\n",
              "    <g>\n",
              "        <path d=\"M19 3H5c-1.1 0-2 .9-2 2v14c0 1.1.9 2 2 2h14c1.1 0 2-.9 2-2V5c0-1.1-.9-2-2-2zM9 17H7v-7h2v7zm4 0h-2V7h2v10zm4 0h-2v-4h2v4z\"/>\n",
              "    </g>\n",
              "</svg>\n",
              "      </button>\n",
              "\n",
              "<style>\n",
              "  .colab-df-quickchart {\n",
              "      --bg-color: #E8F0FE;\n",
              "      --fill-color: #1967D2;\n",
              "      --hover-bg-color: #E2EBFA;\n",
              "      --hover-fill-color: #174EA6;\n",
              "      --disabled-fill-color: #AAA;\n",
              "      --disabled-bg-color: #DDD;\n",
              "  }\n",
              "\n",
              "  [theme=dark] .colab-df-quickchart {\n",
              "      --bg-color: #3B4455;\n",
              "      --fill-color: #D2E3FC;\n",
              "      --hover-bg-color: #434B5C;\n",
              "      --hover-fill-color: #FFFFFF;\n",
              "      --disabled-bg-color: #3B4455;\n",
              "      --disabled-fill-color: #666;\n",
              "  }\n",
              "\n",
              "  .colab-df-quickchart {\n",
              "    background-color: var(--bg-color);\n",
              "    border: none;\n",
              "    border-radius: 50%;\n",
              "    cursor: pointer;\n",
              "    display: none;\n",
              "    fill: var(--fill-color);\n",
              "    height: 32px;\n",
              "    padding: 0;\n",
              "    width: 32px;\n",
              "  }\n",
              "\n",
              "  .colab-df-quickchart:hover {\n",
              "    background-color: var(--hover-bg-color);\n",
              "    box-shadow: 0 1px 2px rgba(60, 64, 67, 0.3), 0 1px 3px 1px rgba(60, 64, 67, 0.15);\n",
              "    fill: var(--button-hover-fill-color);\n",
              "  }\n",
              "\n",
              "  .colab-df-quickchart-complete:disabled,\n",
              "  .colab-df-quickchart-complete:disabled:hover {\n",
              "    background-color: var(--disabled-bg-color);\n",
              "    fill: var(--disabled-fill-color);\n",
              "    box-shadow: none;\n",
              "  }\n",
              "\n",
              "  .colab-df-spinner {\n",
              "    border: 2px solid var(--fill-color);\n",
              "    border-color: transparent;\n",
              "    border-bottom-color: var(--fill-color);\n",
              "    animation:\n",
              "      spin 1s steps(1) infinite;\n",
              "  }\n",
              "\n",
              "  @keyframes spin {\n",
              "    0% {\n",
              "      border-color: transparent;\n",
              "      border-bottom-color: var(--fill-color);\n",
              "      border-left-color: var(--fill-color);\n",
              "    }\n",
              "    20% {\n",
              "      border-color: transparent;\n",
              "      border-left-color: var(--fill-color);\n",
              "      border-top-color: var(--fill-color);\n",
              "    }\n",
              "    30% {\n",
              "      border-color: transparent;\n",
              "      border-left-color: var(--fill-color);\n",
              "      border-top-color: var(--fill-color);\n",
              "      border-right-color: var(--fill-color);\n",
              "    }\n",
              "    40% {\n",
              "      border-color: transparent;\n",
              "      border-right-color: var(--fill-color);\n",
              "      border-top-color: var(--fill-color);\n",
              "    }\n",
              "    60% {\n",
              "      border-color: transparent;\n",
              "      border-right-color: var(--fill-color);\n",
              "    }\n",
              "    80% {\n",
              "      border-color: transparent;\n",
              "      border-right-color: var(--fill-color);\n",
              "      border-bottom-color: var(--fill-color);\n",
              "    }\n",
              "    90% {\n",
              "      border-color: transparent;\n",
              "      border-bottom-color: var(--fill-color);\n",
              "    }\n",
              "  }\n",
              "</style>\n",
              "\n",
              "      <script>\n",
              "        async function quickchart(key) {\n",
              "          const quickchartButtonEl =\n",
              "            document.querySelector('#' + key + ' button');\n",
              "          quickchartButtonEl.disabled = true;  // To prevent multiple clicks.\n",
              "          quickchartButtonEl.classList.add('colab-df-spinner');\n",
              "          try {\n",
              "            const charts = await google.colab.kernel.invokeFunction(\n",
              "                'suggestCharts', [key], {});\n",
              "          } catch (error) {\n",
              "            console.error('Error during call to suggestCharts:', error);\n",
              "          }\n",
              "          quickchartButtonEl.classList.remove('colab-df-spinner');\n",
              "          quickchartButtonEl.classList.add('colab-df-quickchart-complete');\n",
              "        }\n",
              "        (() => {\n",
              "          let quickchartButtonEl =\n",
              "            document.querySelector('#df-5db40529-92f1-4428-9c2c-89cee49eea07 button');\n",
              "          quickchartButtonEl.style.display =\n",
              "            google.colab.kernel.accessAllowed ? 'block' : 'none';\n",
              "        })();\n",
              "      </script>\n",
              "    </div>\n",
              "\n",
              "    </div>\n",
              "  </div>\n"
            ],
            "application/vnd.google.colaboratory.intrinsic+json": {
              "type": "dataframe",
              "summary": "{\n  \"name\": \"df\",\n  \"rows\": 3,\n  \"fields\": [\n    {\n      \"column\": \"Name\",\n      \"properties\": {\n        \"dtype\": \"boolean\",\n        \"num_unique_values\": 1,\n        \"samples\": [\n          true\n        ],\n        \"semantic_type\": \"\",\n        \"description\": \"\"\n      }\n    },\n    {\n      \"column\": \"Age\",\n      \"properties\": {\n        \"dtype\": \"boolean\",\n        \"num_unique_values\": 1,\n        \"samples\": [\n          true\n        ],\n        \"semantic_type\": \"\",\n        \"description\": \"\"\n      }\n    },\n    {\n      \"column\": \"City\",\n      \"properties\": {\n        \"dtype\": \"boolean\",\n        \"num_unique_values\": 1,\n        \"samples\": [\n          true\n        ],\n        \"semantic_type\": \"\",\n        \"description\": \"\"\n      }\n    },\n    {\n      \"column\": \"Salary\",\n      \"properties\": {\n        \"dtype\": \"boolean\",\n        \"num_unique_values\": 1,\n        \"samples\": [\n          true\n        ],\n        \"semantic_type\": \"\",\n        \"description\": \"\"\n      }\n    }\n  ]\n}"
            }
          },
          "metadata": {},
          "execution_count": 39
        }
      ]
    },
    {
      "cell_type": "code",
      "source": [
        "df.loc[len(df)] = ['Ali', None, 'Boston',None]\n",
        "df"
      ],
      "metadata": {
        "colab": {
          "base_uri": "https://localhost:8080/",
          "height": 174
        },
        "id": "QhPLwsBb-nsp",
        "outputId": "0417bc29-5f58-4c44-f8f8-9e0e895d0744"
      },
      "execution_count": 43,
      "outputs": [
        {
          "output_type": "execute_result",
          "data": {
            "text/plain": [
              "      Name   Age      City Salary\n",
              "0    Alice    25  New York  70000\n",
              "1      Bob    30   Chicago  80000\n",
              "2  Charlie    28      Oman  75000\n",
              "3      Ali  None    Boston   None"
            ],
            "text/html": [
              "\n",
              "  <div id=\"df-30f317c9-8685-4134-aebd-aa7e5679afb0\" class=\"colab-df-container\">\n",
              "    <div>\n",
              "<style scoped>\n",
              "    .dataframe tbody tr th:only-of-type {\n",
              "        vertical-align: middle;\n",
              "    }\n",
              "\n",
              "    .dataframe tbody tr th {\n",
              "        vertical-align: top;\n",
              "    }\n",
              "\n",
              "    .dataframe thead th {\n",
              "        text-align: right;\n",
              "    }\n",
              "</style>\n",
              "<table border=\"1\" class=\"dataframe\">\n",
              "  <thead>\n",
              "    <tr style=\"text-align: right;\">\n",
              "      <th></th>\n",
              "      <th>Name</th>\n",
              "      <th>Age</th>\n",
              "      <th>City</th>\n",
              "      <th>Salary</th>\n",
              "    </tr>\n",
              "  </thead>\n",
              "  <tbody>\n",
              "    <tr>\n",
              "      <th>0</th>\n",
              "      <td>Alice</td>\n",
              "      <td>25</td>\n",
              "      <td>New York</td>\n",
              "      <td>70000</td>\n",
              "    </tr>\n",
              "    <tr>\n",
              "      <th>1</th>\n",
              "      <td>Bob</td>\n",
              "      <td>30</td>\n",
              "      <td>Chicago</td>\n",
              "      <td>80000</td>\n",
              "    </tr>\n",
              "    <tr>\n",
              "      <th>2</th>\n",
              "      <td>Charlie</td>\n",
              "      <td>28</td>\n",
              "      <td>Oman</td>\n",
              "      <td>75000</td>\n",
              "    </tr>\n",
              "    <tr>\n",
              "      <th>3</th>\n",
              "      <td>Ali</td>\n",
              "      <td>None</td>\n",
              "      <td>Boston</td>\n",
              "      <td>None</td>\n",
              "    </tr>\n",
              "  </tbody>\n",
              "</table>\n",
              "</div>\n",
              "    <div class=\"colab-df-buttons\">\n",
              "\n",
              "  <div class=\"colab-df-container\">\n",
              "    <button class=\"colab-df-convert\" onclick=\"convertToInteractive('df-30f317c9-8685-4134-aebd-aa7e5679afb0')\"\n",
              "            title=\"Convert this dataframe to an interactive table.\"\n",
              "            style=\"display:none;\">\n",
              "\n",
              "  <svg xmlns=\"http://www.w3.org/2000/svg\" height=\"24px\" viewBox=\"0 -960 960 960\">\n",
              "    <path d=\"M120-120v-720h720v720H120Zm60-500h600v-160H180v160Zm220 220h160v-160H400v160Zm0 220h160v-160H400v160ZM180-400h160v-160H180v160Zm440 0h160v-160H620v160ZM180-180h160v-160H180v160Zm440 0h160v-160H620v160Z\"/>\n",
              "  </svg>\n",
              "    </button>\n",
              "\n",
              "  <style>\n",
              "    .colab-df-container {\n",
              "      display:flex;\n",
              "      gap: 12px;\n",
              "    }\n",
              "\n",
              "    .colab-df-convert {\n",
              "      background-color: #E8F0FE;\n",
              "      border: none;\n",
              "      border-radius: 50%;\n",
              "      cursor: pointer;\n",
              "      display: none;\n",
              "      fill: #1967D2;\n",
              "      height: 32px;\n",
              "      padding: 0 0 0 0;\n",
              "      width: 32px;\n",
              "    }\n",
              "\n",
              "    .colab-df-convert:hover {\n",
              "      background-color: #E2EBFA;\n",
              "      box-shadow: 0px 1px 2px rgba(60, 64, 67, 0.3), 0px 1px 3px 1px rgba(60, 64, 67, 0.15);\n",
              "      fill: #174EA6;\n",
              "    }\n",
              "\n",
              "    .colab-df-buttons div {\n",
              "      margin-bottom: 4px;\n",
              "    }\n",
              "\n",
              "    [theme=dark] .colab-df-convert {\n",
              "      background-color: #3B4455;\n",
              "      fill: #D2E3FC;\n",
              "    }\n",
              "\n",
              "    [theme=dark] .colab-df-convert:hover {\n",
              "      background-color: #434B5C;\n",
              "      box-shadow: 0px 1px 3px 1px rgba(0, 0, 0, 0.15);\n",
              "      filter: drop-shadow(0px 1px 2px rgba(0, 0, 0, 0.3));\n",
              "      fill: #FFFFFF;\n",
              "    }\n",
              "  </style>\n",
              "\n",
              "    <script>\n",
              "      const buttonEl =\n",
              "        document.querySelector('#df-30f317c9-8685-4134-aebd-aa7e5679afb0 button.colab-df-convert');\n",
              "      buttonEl.style.display =\n",
              "        google.colab.kernel.accessAllowed ? 'block' : 'none';\n",
              "\n",
              "      async function convertToInteractive(key) {\n",
              "        const element = document.querySelector('#df-30f317c9-8685-4134-aebd-aa7e5679afb0');\n",
              "        const dataTable =\n",
              "          await google.colab.kernel.invokeFunction('convertToInteractive',\n",
              "                                                    [key], {});\n",
              "        if (!dataTable) return;\n",
              "\n",
              "        const docLinkHtml = 'Like what you see? Visit the ' +\n",
              "          '<a target=\"_blank\" href=https://colab.research.google.com/notebooks/data_table.ipynb>data table notebook</a>'\n",
              "          + ' to learn more about interactive tables.';\n",
              "        element.innerHTML = '';\n",
              "        dataTable['output_type'] = 'display_data';\n",
              "        await google.colab.output.renderOutput(dataTable, element);\n",
              "        const docLink = document.createElement('div');\n",
              "        docLink.innerHTML = docLinkHtml;\n",
              "        element.appendChild(docLink);\n",
              "      }\n",
              "    </script>\n",
              "  </div>\n",
              "\n",
              "\n",
              "    <div id=\"df-915d4f02-4e34-4f2b-9d67-1c1f67a98034\">\n",
              "      <button class=\"colab-df-quickchart\" onclick=\"quickchart('df-915d4f02-4e34-4f2b-9d67-1c1f67a98034')\"\n",
              "                title=\"Suggest charts\"\n",
              "                style=\"display:none;\">\n",
              "\n",
              "<svg xmlns=\"http://www.w3.org/2000/svg\" height=\"24px\"viewBox=\"0 0 24 24\"\n",
              "     width=\"24px\">\n",
              "    <g>\n",
              "        <path d=\"M19 3H5c-1.1 0-2 .9-2 2v14c0 1.1.9 2 2 2h14c1.1 0 2-.9 2-2V5c0-1.1-.9-2-2-2zM9 17H7v-7h2v7zm4 0h-2V7h2v10zm4 0h-2v-4h2v4z\"/>\n",
              "    </g>\n",
              "</svg>\n",
              "      </button>\n",
              "\n",
              "<style>\n",
              "  .colab-df-quickchart {\n",
              "      --bg-color: #E8F0FE;\n",
              "      --fill-color: #1967D2;\n",
              "      --hover-bg-color: #E2EBFA;\n",
              "      --hover-fill-color: #174EA6;\n",
              "      --disabled-fill-color: #AAA;\n",
              "      --disabled-bg-color: #DDD;\n",
              "  }\n",
              "\n",
              "  [theme=dark] .colab-df-quickchart {\n",
              "      --bg-color: #3B4455;\n",
              "      --fill-color: #D2E3FC;\n",
              "      --hover-bg-color: #434B5C;\n",
              "      --hover-fill-color: #FFFFFF;\n",
              "      --disabled-bg-color: #3B4455;\n",
              "      --disabled-fill-color: #666;\n",
              "  }\n",
              "\n",
              "  .colab-df-quickchart {\n",
              "    background-color: var(--bg-color);\n",
              "    border: none;\n",
              "    border-radius: 50%;\n",
              "    cursor: pointer;\n",
              "    display: none;\n",
              "    fill: var(--fill-color);\n",
              "    height: 32px;\n",
              "    padding: 0;\n",
              "    width: 32px;\n",
              "  }\n",
              "\n",
              "  .colab-df-quickchart:hover {\n",
              "    background-color: var(--hover-bg-color);\n",
              "    box-shadow: 0 1px 2px rgba(60, 64, 67, 0.3), 0 1px 3px 1px rgba(60, 64, 67, 0.15);\n",
              "    fill: var(--button-hover-fill-color);\n",
              "  }\n",
              "\n",
              "  .colab-df-quickchart-complete:disabled,\n",
              "  .colab-df-quickchart-complete:disabled:hover {\n",
              "    background-color: var(--disabled-bg-color);\n",
              "    fill: var(--disabled-fill-color);\n",
              "    box-shadow: none;\n",
              "  }\n",
              "\n",
              "  .colab-df-spinner {\n",
              "    border: 2px solid var(--fill-color);\n",
              "    border-color: transparent;\n",
              "    border-bottom-color: var(--fill-color);\n",
              "    animation:\n",
              "      spin 1s steps(1) infinite;\n",
              "  }\n",
              "\n",
              "  @keyframes spin {\n",
              "    0% {\n",
              "      border-color: transparent;\n",
              "      border-bottom-color: var(--fill-color);\n",
              "      border-left-color: var(--fill-color);\n",
              "    }\n",
              "    20% {\n",
              "      border-color: transparent;\n",
              "      border-left-color: var(--fill-color);\n",
              "      border-top-color: var(--fill-color);\n",
              "    }\n",
              "    30% {\n",
              "      border-color: transparent;\n",
              "      border-left-color: var(--fill-color);\n",
              "      border-top-color: var(--fill-color);\n",
              "      border-right-color: var(--fill-color);\n",
              "    }\n",
              "    40% {\n",
              "      border-color: transparent;\n",
              "      border-right-color: var(--fill-color);\n",
              "      border-top-color: var(--fill-color);\n",
              "    }\n",
              "    60% {\n",
              "      border-color: transparent;\n",
              "      border-right-color: var(--fill-color);\n",
              "    }\n",
              "    80% {\n",
              "      border-color: transparent;\n",
              "      border-right-color: var(--fill-color);\n",
              "      border-bottom-color: var(--fill-color);\n",
              "    }\n",
              "    90% {\n",
              "      border-color: transparent;\n",
              "      border-bottom-color: var(--fill-color);\n",
              "    }\n",
              "  }\n",
              "</style>\n",
              "\n",
              "      <script>\n",
              "        async function quickchart(key) {\n",
              "          const quickchartButtonEl =\n",
              "            document.querySelector('#' + key + ' button');\n",
              "          quickchartButtonEl.disabled = true;  // To prevent multiple clicks.\n",
              "          quickchartButtonEl.classList.add('colab-df-spinner');\n",
              "          try {\n",
              "            const charts = await google.colab.kernel.invokeFunction(\n",
              "                'suggestCharts', [key], {});\n",
              "          } catch (error) {\n",
              "            console.error('Error during call to suggestCharts:', error);\n",
              "          }\n",
              "          quickchartButtonEl.classList.remove('colab-df-spinner');\n",
              "          quickchartButtonEl.classList.add('colab-df-quickchart-complete');\n",
              "        }\n",
              "        (() => {\n",
              "          let quickchartButtonEl =\n",
              "            document.querySelector('#df-915d4f02-4e34-4f2b-9d67-1c1f67a98034 button');\n",
              "          quickchartButtonEl.style.display =\n",
              "            google.colab.kernel.accessAllowed ? 'block' : 'none';\n",
              "        })();\n",
              "      </script>\n",
              "    </div>\n",
              "\n",
              "  <div id=\"id_084e9366-defb-404f-8210-c13b3111adda\">\n",
              "    <style>\n",
              "      .colab-df-generate {\n",
              "        background-color: #E8F0FE;\n",
              "        border: none;\n",
              "        border-radius: 50%;\n",
              "        cursor: pointer;\n",
              "        display: none;\n",
              "        fill: #1967D2;\n",
              "        height: 32px;\n",
              "        padding: 0 0 0 0;\n",
              "        width: 32px;\n",
              "      }\n",
              "\n",
              "      .colab-df-generate:hover {\n",
              "        background-color: #E2EBFA;\n",
              "        box-shadow: 0px 1px 2px rgba(60, 64, 67, 0.3), 0px 1px 3px 1px rgba(60, 64, 67, 0.15);\n",
              "        fill: #174EA6;\n",
              "      }\n",
              "\n",
              "      [theme=dark] .colab-df-generate {\n",
              "        background-color: #3B4455;\n",
              "        fill: #D2E3FC;\n",
              "      }\n",
              "\n",
              "      [theme=dark] .colab-df-generate:hover {\n",
              "        background-color: #434B5C;\n",
              "        box-shadow: 0px 1px 3px 1px rgba(0, 0, 0, 0.15);\n",
              "        filter: drop-shadow(0px 1px 2px rgba(0, 0, 0, 0.3));\n",
              "        fill: #FFFFFF;\n",
              "      }\n",
              "    </style>\n",
              "    <button class=\"colab-df-generate\" onclick=\"generateWithVariable('df')\"\n",
              "            title=\"Generate code using this dataframe.\"\n",
              "            style=\"display:none;\">\n",
              "\n",
              "  <svg xmlns=\"http://www.w3.org/2000/svg\" height=\"24px\"viewBox=\"0 0 24 24\"\n",
              "       width=\"24px\">\n",
              "    <path d=\"M7,19H8.4L18.45,9,17,7.55,7,17.6ZM5,21V16.75L18.45,3.32a2,2,0,0,1,2.83,0l1.4,1.43a1.91,1.91,0,0,1,.58,1.4,1.91,1.91,0,0,1-.58,1.4L9.25,21ZM18.45,9,17,7.55Zm-12,3A5.31,5.31,0,0,0,4.9,8.1,5.31,5.31,0,0,0,1,6.5,5.31,5.31,0,0,0,4.9,4.9,5.31,5.31,0,0,0,6.5,1,5.31,5.31,0,0,0,8.1,4.9,5.31,5.31,0,0,0,12,6.5,5.46,5.46,0,0,0,6.5,12Z\"/>\n",
              "  </svg>\n",
              "    </button>\n",
              "    <script>\n",
              "      (() => {\n",
              "      const buttonEl =\n",
              "        document.querySelector('#id_084e9366-defb-404f-8210-c13b3111adda button.colab-df-generate');\n",
              "      buttonEl.style.display =\n",
              "        google.colab.kernel.accessAllowed ? 'block' : 'none';\n",
              "\n",
              "      buttonEl.onclick = () => {\n",
              "        google.colab.notebook.generateWithVariable('df');\n",
              "      }\n",
              "      })();\n",
              "    </script>\n",
              "  </div>\n",
              "\n",
              "    </div>\n",
              "  </div>\n"
            ],
            "application/vnd.google.colaboratory.intrinsic+json": {
              "type": "dataframe",
              "variable_name": "df",
              "summary": "{\n  \"name\": \"df\",\n  \"rows\": 4,\n  \"fields\": [\n    {\n      \"column\": \"Name\",\n      \"properties\": {\n        \"dtype\": \"string\",\n        \"num_unique_values\": 4,\n        \"samples\": [\n          \"Bob\",\n          \"Ali\",\n          \"Alice\"\n        ],\n        \"semantic_type\": \"\",\n        \"description\": \"\"\n      }\n    },\n    {\n      \"column\": \"Age\",\n      \"properties\": {\n        \"dtype\": \"date\",\n        \"min\": 25,\n        \"max\": 30,\n        \"num_unique_values\": 3,\n        \"samples\": [\n          25,\n          30,\n          28\n        ],\n        \"semantic_type\": \"\",\n        \"description\": \"\"\n      }\n    },\n    {\n      \"column\": \"City\",\n      \"properties\": {\n        \"dtype\": \"string\",\n        \"num_unique_values\": 4,\n        \"samples\": [\n          \"Chicago\",\n          \"Boston\",\n          \"New York\"\n        ],\n        \"semantic_type\": \"\",\n        \"description\": \"\"\n      }\n    },\n    {\n      \"column\": \"Salary\",\n      \"properties\": {\n        \"dtype\": \"date\",\n        \"min\": 70000,\n        \"max\": 80000,\n        \"num_unique_values\": 3,\n        \"samples\": [\n          70000,\n          80000,\n          75000\n        ],\n        \"semantic_type\": \"\",\n        \"description\": \"\"\n      }\n    }\n  ]\n}"
            }
          },
          "metadata": {},
          "execution_count": 43
        }
      ]
    },
    {
      "cell_type": "code",
      "source": [
        "df.isnull()"
      ],
      "metadata": {
        "colab": {
          "base_uri": "https://localhost:8080/",
          "height": 174
        },
        "id": "mNJ5I_ig-np0",
        "outputId": "81ce2a20-1cad-48f6-e699-02f4e1ad0183"
      },
      "execution_count": 44,
      "outputs": [
        {
          "output_type": "execute_result",
          "data": {
            "text/plain": [
              "    Name    Age   City  Salary\n",
              "0  False  False  False   False\n",
              "1  False  False  False   False\n",
              "2  False  False  False   False\n",
              "3  False   True  False    True"
            ],
            "text/html": [
              "\n",
              "  <div id=\"df-10abbb0c-0872-47f5-80bb-f7a06eed4d20\" class=\"colab-df-container\">\n",
              "    <div>\n",
              "<style scoped>\n",
              "    .dataframe tbody tr th:only-of-type {\n",
              "        vertical-align: middle;\n",
              "    }\n",
              "\n",
              "    .dataframe tbody tr th {\n",
              "        vertical-align: top;\n",
              "    }\n",
              "\n",
              "    .dataframe thead th {\n",
              "        text-align: right;\n",
              "    }\n",
              "</style>\n",
              "<table border=\"1\" class=\"dataframe\">\n",
              "  <thead>\n",
              "    <tr style=\"text-align: right;\">\n",
              "      <th></th>\n",
              "      <th>Name</th>\n",
              "      <th>Age</th>\n",
              "      <th>City</th>\n",
              "      <th>Salary</th>\n",
              "    </tr>\n",
              "  </thead>\n",
              "  <tbody>\n",
              "    <tr>\n",
              "      <th>0</th>\n",
              "      <td>False</td>\n",
              "      <td>False</td>\n",
              "      <td>False</td>\n",
              "      <td>False</td>\n",
              "    </tr>\n",
              "    <tr>\n",
              "      <th>1</th>\n",
              "      <td>False</td>\n",
              "      <td>False</td>\n",
              "      <td>False</td>\n",
              "      <td>False</td>\n",
              "    </tr>\n",
              "    <tr>\n",
              "      <th>2</th>\n",
              "      <td>False</td>\n",
              "      <td>False</td>\n",
              "      <td>False</td>\n",
              "      <td>False</td>\n",
              "    </tr>\n",
              "    <tr>\n",
              "      <th>3</th>\n",
              "      <td>False</td>\n",
              "      <td>True</td>\n",
              "      <td>False</td>\n",
              "      <td>True</td>\n",
              "    </tr>\n",
              "  </tbody>\n",
              "</table>\n",
              "</div>\n",
              "    <div class=\"colab-df-buttons\">\n",
              "\n",
              "  <div class=\"colab-df-container\">\n",
              "    <button class=\"colab-df-convert\" onclick=\"convertToInteractive('df-10abbb0c-0872-47f5-80bb-f7a06eed4d20')\"\n",
              "            title=\"Convert this dataframe to an interactive table.\"\n",
              "            style=\"display:none;\">\n",
              "\n",
              "  <svg xmlns=\"http://www.w3.org/2000/svg\" height=\"24px\" viewBox=\"0 -960 960 960\">\n",
              "    <path d=\"M120-120v-720h720v720H120Zm60-500h600v-160H180v160Zm220 220h160v-160H400v160Zm0 220h160v-160H400v160ZM180-400h160v-160H180v160Zm440 0h160v-160H620v160ZM180-180h160v-160H180v160Zm440 0h160v-160H620v160Z\"/>\n",
              "  </svg>\n",
              "    </button>\n",
              "\n",
              "  <style>\n",
              "    .colab-df-container {\n",
              "      display:flex;\n",
              "      gap: 12px;\n",
              "    }\n",
              "\n",
              "    .colab-df-convert {\n",
              "      background-color: #E8F0FE;\n",
              "      border: none;\n",
              "      border-radius: 50%;\n",
              "      cursor: pointer;\n",
              "      display: none;\n",
              "      fill: #1967D2;\n",
              "      height: 32px;\n",
              "      padding: 0 0 0 0;\n",
              "      width: 32px;\n",
              "    }\n",
              "\n",
              "    .colab-df-convert:hover {\n",
              "      background-color: #E2EBFA;\n",
              "      box-shadow: 0px 1px 2px rgba(60, 64, 67, 0.3), 0px 1px 3px 1px rgba(60, 64, 67, 0.15);\n",
              "      fill: #174EA6;\n",
              "    }\n",
              "\n",
              "    .colab-df-buttons div {\n",
              "      margin-bottom: 4px;\n",
              "    }\n",
              "\n",
              "    [theme=dark] .colab-df-convert {\n",
              "      background-color: #3B4455;\n",
              "      fill: #D2E3FC;\n",
              "    }\n",
              "\n",
              "    [theme=dark] .colab-df-convert:hover {\n",
              "      background-color: #434B5C;\n",
              "      box-shadow: 0px 1px 3px 1px rgba(0, 0, 0, 0.15);\n",
              "      filter: drop-shadow(0px 1px 2px rgba(0, 0, 0, 0.3));\n",
              "      fill: #FFFFFF;\n",
              "    }\n",
              "  </style>\n",
              "\n",
              "    <script>\n",
              "      const buttonEl =\n",
              "        document.querySelector('#df-10abbb0c-0872-47f5-80bb-f7a06eed4d20 button.colab-df-convert');\n",
              "      buttonEl.style.display =\n",
              "        google.colab.kernel.accessAllowed ? 'block' : 'none';\n",
              "\n",
              "      async function convertToInteractive(key) {\n",
              "        const element = document.querySelector('#df-10abbb0c-0872-47f5-80bb-f7a06eed4d20');\n",
              "        const dataTable =\n",
              "          await google.colab.kernel.invokeFunction('convertToInteractive',\n",
              "                                                    [key], {});\n",
              "        if (!dataTable) return;\n",
              "\n",
              "        const docLinkHtml = 'Like what you see? Visit the ' +\n",
              "          '<a target=\"_blank\" href=https://colab.research.google.com/notebooks/data_table.ipynb>data table notebook</a>'\n",
              "          + ' to learn more about interactive tables.';\n",
              "        element.innerHTML = '';\n",
              "        dataTable['output_type'] = 'display_data';\n",
              "        await google.colab.output.renderOutput(dataTable, element);\n",
              "        const docLink = document.createElement('div');\n",
              "        docLink.innerHTML = docLinkHtml;\n",
              "        element.appendChild(docLink);\n",
              "      }\n",
              "    </script>\n",
              "  </div>\n",
              "\n",
              "\n",
              "    <div id=\"df-b8b4fd08-dc47-4594-9448-cef0be82f8a1\">\n",
              "      <button class=\"colab-df-quickchart\" onclick=\"quickchart('df-b8b4fd08-dc47-4594-9448-cef0be82f8a1')\"\n",
              "                title=\"Suggest charts\"\n",
              "                style=\"display:none;\">\n",
              "\n",
              "<svg xmlns=\"http://www.w3.org/2000/svg\" height=\"24px\"viewBox=\"0 0 24 24\"\n",
              "     width=\"24px\">\n",
              "    <g>\n",
              "        <path d=\"M19 3H5c-1.1 0-2 .9-2 2v14c0 1.1.9 2 2 2h14c1.1 0 2-.9 2-2V5c0-1.1-.9-2-2-2zM9 17H7v-7h2v7zm4 0h-2V7h2v10zm4 0h-2v-4h2v4z\"/>\n",
              "    </g>\n",
              "</svg>\n",
              "      </button>\n",
              "\n",
              "<style>\n",
              "  .colab-df-quickchart {\n",
              "      --bg-color: #E8F0FE;\n",
              "      --fill-color: #1967D2;\n",
              "      --hover-bg-color: #E2EBFA;\n",
              "      --hover-fill-color: #174EA6;\n",
              "      --disabled-fill-color: #AAA;\n",
              "      --disabled-bg-color: #DDD;\n",
              "  }\n",
              "\n",
              "  [theme=dark] .colab-df-quickchart {\n",
              "      --bg-color: #3B4455;\n",
              "      --fill-color: #D2E3FC;\n",
              "      --hover-bg-color: #434B5C;\n",
              "      --hover-fill-color: #FFFFFF;\n",
              "      --disabled-bg-color: #3B4455;\n",
              "      --disabled-fill-color: #666;\n",
              "  }\n",
              "\n",
              "  .colab-df-quickchart {\n",
              "    background-color: var(--bg-color);\n",
              "    border: none;\n",
              "    border-radius: 50%;\n",
              "    cursor: pointer;\n",
              "    display: none;\n",
              "    fill: var(--fill-color);\n",
              "    height: 32px;\n",
              "    padding: 0;\n",
              "    width: 32px;\n",
              "  }\n",
              "\n",
              "  .colab-df-quickchart:hover {\n",
              "    background-color: var(--hover-bg-color);\n",
              "    box-shadow: 0 1px 2px rgba(60, 64, 67, 0.3), 0 1px 3px 1px rgba(60, 64, 67, 0.15);\n",
              "    fill: var(--button-hover-fill-color);\n",
              "  }\n",
              "\n",
              "  .colab-df-quickchart-complete:disabled,\n",
              "  .colab-df-quickchart-complete:disabled:hover {\n",
              "    background-color: var(--disabled-bg-color);\n",
              "    fill: var(--disabled-fill-color);\n",
              "    box-shadow: none;\n",
              "  }\n",
              "\n",
              "  .colab-df-spinner {\n",
              "    border: 2px solid var(--fill-color);\n",
              "    border-color: transparent;\n",
              "    border-bottom-color: var(--fill-color);\n",
              "    animation:\n",
              "      spin 1s steps(1) infinite;\n",
              "  }\n",
              "\n",
              "  @keyframes spin {\n",
              "    0% {\n",
              "      border-color: transparent;\n",
              "      border-bottom-color: var(--fill-color);\n",
              "      border-left-color: var(--fill-color);\n",
              "    }\n",
              "    20% {\n",
              "      border-color: transparent;\n",
              "      border-left-color: var(--fill-color);\n",
              "      border-top-color: var(--fill-color);\n",
              "    }\n",
              "    30% {\n",
              "      border-color: transparent;\n",
              "      border-left-color: var(--fill-color);\n",
              "      border-top-color: var(--fill-color);\n",
              "      border-right-color: var(--fill-color);\n",
              "    }\n",
              "    40% {\n",
              "      border-color: transparent;\n",
              "      border-right-color: var(--fill-color);\n",
              "      border-top-color: var(--fill-color);\n",
              "    }\n",
              "    60% {\n",
              "      border-color: transparent;\n",
              "      border-right-color: var(--fill-color);\n",
              "    }\n",
              "    80% {\n",
              "      border-color: transparent;\n",
              "      border-right-color: var(--fill-color);\n",
              "      border-bottom-color: var(--fill-color);\n",
              "    }\n",
              "    90% {\n",
              "      border-color: transparent;\n",
              "      border-bottom-color: var(--fill-color);\n",
              "    }\n",
              "  }\n",
              "</style>\n",
              "\n",
              "      <script>\n",
              "        async function quickchart(key) {\n",
              "          const quickchartButtonEl =\n",
              "            document.querySelector('#' + key + ' button');\n",
              "          quickchartButtonEl.disabled = true;  // To prevent multiple clicks.\n",
              "          quickchartButtonEl.classList.add('colab-df-spinner');\n",
              "          try {\n",
              "            const charts = await google.colab.kernel.invokeFunction(\n",
              "                'suggestCharts', [key], {});\n",
              "          } catch (error) {\n",
              "            console.error('Error during call to suggestCharts:', error);\n",
              "          }\n",
              "          quickchartButtonEl.classList.remove('colab-df-spinner');\n",
              "          quickchartButtonEl.classList.add('colab-df-quickchart-complete');\n",
              "        }\n",
              "        (() => {\n",
              "          let quickchartButtonEl =\n",
              "            document.querySelector('#df-b8b4fd08-dc47-4594-9448-cef0be82f8a1 button');\n",
              "          quickchartButtonEl.style.display =\n",
              "            google.colab.kernel.accessAllowed ? 'block' : 'none';\n",
              "        })();\n",
              "      </script>\n",
              "    </div>\n",
              "\n",
              "    </div>\n",
              "  </div>\n"
            ],
            "application/vnd.google.colaboratory.intrinsic+json": {
              "type": "dataframe",
              "summary": "{\n  \"name\": \"df\",\n  \"rows\": 4,\n  \"fields\": [\n    {\n      \"column\": \"Name\",\n      \"properties\": {\n        \"dtype\": \"boolean\",\n        \"num_unique_values\": 1,\n        \"samples\": [\n          false\n        ],\n        \"semantic_type\": \"\",\n        \"description\": \"\"\n      }\n    },\n    {\n      \"column\": \"Age\",\n      \"properties\": {\n        \"dtype\": \"boolean\",\n        \"num_unique_values\": 2,\n        \"samples\": [\n          true\n        ],\n        \"semantic_type\": \"\",\n        \"description\": \"\"\n      }\n    },\n    {\n      \"column\": \"City\",\n      \"properties\": {\n        \"dtype\": \"boolean\",\n        \"num_unique_values\": 1,\n        \"samples\": [\n          false\n        ],\n        \"semantic_type\": \"\",\n        \"description\": \"\"\n      }\n    },\n    {\n      \"column\": \"Salary\",\n      \"properties\": {\n        \"dtype\": \"boolean\",\n        \"num_unique_values\": 2,\n        \"samples\": [\n          true\n        ],\n        \"semantic_type\": \"\",\n        \"description\": \"\"\n      }\n    }\n  ]\n}"
            }
          },
          "metadata": {},
          "execution_count": 44
        }
      ]
    },
    {
      "cell_type": "code",
      "source": [
        "mask=df['Name']=='Alice'\n",
        "mask\n"
      ],
      "metadata": {
        "colab": {
          "base_uri": "https://localhost:8080/",
          "height": 209
        },
        "id": "nqCIv-fI_iMf",
        "outputId": "78480d70-b470-4e2b-f52d-ec7426a280d1"
      },
      "execution_count": 47,
      "outputs": [
        {
          "output_type": "execute_result",
          "data": {
            "text/plain": [
              "0     True\n",
              "1    False\n",
              "2    False\n",
              "3    False\n",
              "Name: Name, dtype: bool"
            ],
            "text/html": [
              "<div>\n",
              "<style scoped>\n",
              "    .dataframe tbody tr th:only-of-type {\n",
              "        vertical-align: middle;\n",
              "    }\n",
              "\n",
              "    .dataframe tbody tr th {\n",
              "        vertical-align: top;\n",
              "    }\n",
              "\n",
              "    .dataframe thead th {\n",
              "        text-align: right;\n",
              "    }\n",
              "</style>\n",
              "<table border=\"1\" class=\"dataframe\">\n",
              "  <thead>\n",
              "    <tr style=\"text-align: right;\">\n",
              "      <th></th>\n",
              "      <th>Name</th>\n",
              "    </tr>\n",
              "  </thead>\n",
              "  <tbody>\n",
              "    <tr>\n",
              "      <th>0</th>\n",
              "      <td>True</td>\n",
              "    </tr>\n",
              "    <tr>\n",
              "      <th>1</th>\n",
              "      <td>False</td>\n",
              "    </tr>\n",
              "    <tr>\n",
              "      <th>2</th>\n",
              "      <td>False</td>\n",
              "    </tr>\n",
              "    <tr>\n",
              "      <th>3</th>\n",
              "      <td>False</td>\n",
              "    </tr>\n",
              "  </tbody>\n",
              "</table>\n",
              "</div><br><label><b>dtype:</b> bool</label>"
            ]
          },
          "metadata": {},
          "execution_count": 47
        }
      ]
    },
    {
      "cell_type": "code",
      "source": [
        "import numpy as np"
      ],
      "metadata": {
        "id": "n4ymQPrXDfdy"
      },
      "execution_count": 50,
      "outputs": []
    },
    {
      "cell_type": "code",
      "source": [
        "#.mask for replacing\n",
        "#df.mask(condition, value)\n",
        "\n",
        "df_new = df.mask(df['Name'] == 'Alice', np.nan)\n",
        "df_new"
      ],
      "metadata": {
        "colab": {
          "base_uri": "https://localhost:8080/",
          "height": 174
        },
        "id": "Ctl1OXx2_iJE",
        "outputId": "0c9d247c-56f5-4708-8ef6-2f09ec0ef19e"
      },
      "execution_count": 52,
      "outputs": [
        {
          "output_type": "execute_result",
          "data": {
            "text/plain": [
              "      Name   Age     City Salary\n",
              "0      NaN   NaN      NaN    NaN\n",
              "1      Bob    30  Chicago  80000\n",
              "2  Charlie    28     Oman  75000\n",
              "3      Ali  None   Boston   None"
            ],
            "text/html": [
              "\n",
              "  <div id=\"df-9b0db1d7-2a33-4a28-a1e0-99d5ee0d0161\" class=\"colab-df-container\">\n",
              "    <div>\n",
              "<style scoped>\n",
              "    .dataframe tbody tr th:only-of-type {\n",
              "        vertical-align: middle;\n",
              "    }\n",
              "\n",
              "    .dataframe tbody tr th {\n",
              "        vertical-align: top;\n",
              "    }\n",
              "\n",
              "    .dataframe thead th {\n",
              "        text-align: right;\n",
              "    }\n",
              "</style>\n",
              "<table border=\"1\" class=\"dataframe\">\n",
              "  <thead>\n",
              "    <tr style=\"text-align: right;\">\n",
              "      <th></th>\n",
              "      <th>Name</th>\n",
              "      <th>Age</th>\n",
              "      <th>City</th>\n",
              "      <th>Salary</th>\n",
              "    </tr>\n",
              "  </thead>\n",
              "  <tbody>\n",
              "    <tr>\n",
              "      <th>0</th>\n",
              "      <td>NaN</td>\n",
              "      <td>NaN</td>\n",
              "      <td>NaN</td>\n",
              "      <td>NaN</td>\n",
              "    </tr>\n",
              "    <tr>\n",
              "      <th>1</th>\n",
              "      <td>Bob</td>\n",
              "      <td>30</td>\n",
              "      <td>Chicago</td>\n",
              "      <td>80000</td>\n",
              "    </tr>\n",
              "    <tr>\n",
              "      <th>2</th>\n",
              "      <td>Charlie</td>\n",
              "      <td>28</td>\n",
              "      <td>Oman</td>\n",
              "      <td>75000</td>\n",
              "    </tr>\n",
              "    <tr>\n",
              "      <th>3</th>\n",
              "      <td>Ali</td>\n",
              "      <td>None</td>\n",
              "      <td>Boston</td>\n",
              "      <td>None</td>\n",
              "    </tr>\n",
              "  </tbody>\n",
              "</table>\n",
              "</div>\n",
              "    <div class=\"colab-df-buttons\">\n",
              "\n",
              "  <div class=\"colab-df-container\">\n",
              "    <button class=\"colab-df-convert\" onclick=\"convertToInteractive('df-9b0db1d7-2a33-4a28-a1e0-99d5ee0d0161')\"\n",
              "            title=\"Convert this dataframe to an interactive table.\"\n",
              "            style=\"display:none;\">\n",
              "\n",
              "  <svg xmlns=\"http://www.w3.org/2000/svg\" height=\"24px\" viewBox=\"0 -960 960 960\">\n",
              "    <path d=\"M120-120v-720h720v720H120Zm60-500h600v-160H180v160Zm220 220h160v-160H400v160Zm0 220h160v-160H400v160ZM180-400h160v-160H180v160Zm440 0h160v-160H620v160ZM180-180h160v-160H180v160Zm440 0h160v-160H620v160Z\"/>\n",
              "  </svg>\n",
              "    </button>\n",
              "\n",
              "  <style>\n",
              "    .colab-df-container {\n",
              "      display:flex;\n",
              "      gap: 12px;\n",
              "    }\n",
              "\n",
              "    .colab-df-convert {\n",
              "      background-color: #E8F0FE;\n",
              "      border: none;\n",
              "      border-radius: 50%;\n",
              "      cursor: pointer;\n",
              "      display: none;\n",
              "      fill: #1967D2;\n",
              "      height: 32px;\n",
              "      padding: 0 0 0 0;\n",
              "      width: 32px;\n",
              "    }\n",
              "\n",
              "    .colab-df-convert:hover {\n",
              "      background-color: #E2EBFA;\n",
              "      box-shadow: 0px 1px 2px rgba(60, 64, 67, 0.3), 0px 1px 3px 1px rgba(60, 64, 67, 0.15);\n",
              "      fill: #174EA6;\n",
              "    }\n",
              "\n",
              "    .colab-df-buttons div {\n",
              "      margin-bottom: 4px;\n",
              "    }\n",
              "\n",
              "    [theme=dark] .colab-df-convert {\n",
              "      background-color: #3B4455;\n",
              "      fill: #D2E3FC;\n",
              "    }\n",
              "\n",
              "    [theme=dark] .colab-df-convert:hover {\n",
              "      background-color: #434B5C;\n",
              "      box-shadow: 0px 1px 3px 1px rgba(0, 0, 0, 0.15);\n",
              "      filter: drop-shadow(0px 1px 2px rgba(0, 0, 0, 0.3));\n",
              "      fill: #FFFFFF;\n",
              "    }\n",
              "  </style>\n",
              "\n",
              "    <script>\n",
              "      const buttonEl =\n",
              "        document.querySelector('#df-9b0db1d7-2a33-4a28-a1e0-99d5ee0d0161 button.colab-df-convert');\n",
              "      buttonEl.style.display =\n",
              "        google.colab.kernel.accessAllowed ? 'block' : 'none';\n",
              "\n",
              "      async function convertToInteractive(key) {\n",
              "        const element = document.querySelector('#df-9b0db1d7-2a33-4a28-a1e0-99d5ee0d0161');\n",
              "        const dataTable =\n",
              "          await google.colab.kernel.invokeFunction('convertToInteractive',\n",
              "                                                    [key], {});\n",
              "        if (!dataTable) return;\n",
              "\n",
              "        const docLinkHtml = 'Like what you see? Visit the ' +\n",
              "          '<a target=\"_blank\" href=https://colab.research.google.com/notebooks/data_table.ipynb>data table notebook</a>'\n",
              "          + ' to learn more about interactive tables.';\n",
              "        element.innerHTML = '';\n",
              "        dataTable['output_type'] = 'display_data';\n",
              "        await google.colab.output.renderOutput(dataTable, element);\n",
              "        const docLink = document.createElement('div');\n",
              "        docLink.innerHTML = docLinkHtml;\n",
              "        element.appendChild(docLink);\n",
              "      }\n",
              "    </script>\n",
              "  </div>\n",
              "\n",
              "\n",
              "    <div id=\"df-531d928a-fe5c-4f2d-89d5-2dd481afd856\">\n",
              "      <button class=\"colab-df-quickchart\" onclick=\"quickchart('df-531d928a-fe5c-4f2d-89d5-2dd481afd856')\"\n",
              "                title=\"Suggest charts\"\n",
              "                style=\"display:none;\">\n",
              "\n",
              "<svg xmlns=\"http://www.w3.org/2000/svg\" height=\"24px\"viewBox=\"0 0 24 24\"\n",
              "     width=\"24px\">\n",
              "    <g>\n",
              "        <path d=\"M19 3H5c-1.1 0-2 .9-2 2v14c0 1.1.9 2 2 2h14c1.1 0 2-.9 2-2V5c0-1.1-.9-2-2-2zM9 17H7v-7h2v7zm4 0h-2V7h2v10zm4 0h-2v-4h2v4z\"/>\n",
              "    </g>\n",
              "</svg>\n",
              "      </button>\n",
              "\n",
              "<style>\n",
              "  .colab-df-quickchart {\n",
              "      --bg-color: #E8F0FE;\n",
              "      --fill-color: #1967D2;\n",
              "      --hover-bg-color: #E2EBFA;\n",
              "      --hover-fill-color: #174EA6;\n",
              "      --disabled-fill-color: #AAA;\n",
              "      --disabled-bg-color: #DDD;\n",
              "  }\n",
              "\n",
              "  [theme=dark] .colab-df-quickchart {\n",
              "      --bg-color: #3B4455;\n",
              "      --fill-color: #D2E3FC;\n",
              "      --hover-bg-color: #434B5C;\n",
              "      --hover-fill-color: #FFFFFF;\n",
              "      --disabled-bg-color: #3B4455;\n",
              "      --disabled-fill-color: #666;\n",
              "  }\n",
              "\n",
              "  .colab-df-quickchart {\n",
              "    background-color: var(--bg-color);\n",
              "    border: none;\n",
              "    border-radius: 50%;\n",
              "    cursor: pointer;\n",
              "    display: none;\n",
              "    fill: var(--fill-color);\n",
              "    height: 32px;\n",
              "    padding: 0;\n",
              "    width: 32px;\n",
              "  }\n",
              "\n",
              "  .colab-df-quickchart:hover {\n",
              "    background-color: var(--hover-bg-color);\n",
              "    box-shadow: 0 1px 2px rgba(60, 64, 67, 0.3), 0 1px 3px 1px rgba(60, 64, 67, 0.15);\n",
              "    fill: var(--button-hover-fill-color);\n",
              "  }\n",
              "\n",
              "  .colab-df-quickchart-complete:disabled,\n",
              "  .colab-df-quickchart-complete:disabled:hover {\n",
              "    background-color: var(--disabled-bg-color);\n",
              "    fill: var(--disabled-fill-color);\n",
              "    box-shadow: none;\n",
              "  }\n",
              "\n",
              "  .colab-df-spinner {\n",
              "    border: 2px solid var(--fill-color);\n",
              "    border-color: transparent;\n",
              "    border-bottom-color: var(--fill-color);\n",
              "    animation:\n",
              "      spin 1s steps(1) infinite;\n",
              "  }\n",
              "\n",
              "  @keyframes spin {\n",
              "    0% {\n",
              "      border-color: transparent;\n",
              "      border-bottom-color: var(--fill-color);\n",
              "      border-left-color: var(--fill-color);\n",
              "    }\n",
              "    20% {\n",
              "      border-color: transparent;\n",
              "      border-left-color: var(--fill-color);\n",
              "      border-top-color: var(--fill-color);\n",
              "    }\n",
              "    30% {\n",
              "      border-color: transparent;\n",
              "      border-left-color: var(--fill-color);\n",
              "      border-top-color: var(--fill-color);\n",
              "      border-right-color: var(--fill-color);\n",
              "    }\n",
              "    40% {\n",
              "      border-color: transparent;\n",
              "      border-right-color: var(--fill-color);\n",
              "      border-top-color: var(--fill-color);\n",
              "    }\n",
              "    60% {\n",
              "      border-color: transparent;\n",
              "      border-right-color: var(--fill-color);\n",
              "    }\n",
              "    80% {\n",
              "      border-color: transparent;\n",
              "      border-right-color: var(--fill-color);\n",
              "      border-bottom-color: var(--fill-color);\n",
              "    }\n",
              "    90% {\n",
              "      border-color: transparent;\n",
              "      border-bottom-color: var(--fill-color);\n",
              "    }\n",
              "  }\n",
              "</style>\n",
              "\n",
              "      <script>\n",
              "        async function quickchart(key) {\n",
              "          const quickchartButtonEl =\n",
              "            document.querySelector('#' + key + ' button');\n",
              "          quickchartButtonEl.disabled = true;  // To prevent multiple clicks.\n",
              "          quickchartButtonEl.classList.add('colab-df-spinner');\n",
              "          try {\n",
              "            const charts = await google.colab.kernel.invokeFunction(\n",
              "                'suggestCharts', [key], {});\n",
              "          } catch (error) {\n",
              "            console.error('Error during call to suggestCharts:', error);\n",
              "          }\n",
              "          quickchartButtonEl.classList.remove('colab-df-spinner');\n",
              "          quickchartButtonEl.classList.add('colab-df-quickchart-complete');\n",
              "        }\n",
              "        (() => {\n",
              "          let quickchartButtonEl =\n",
              "            document.querySelector('#df-531d928a-fe5c-4f2d-89d5-2dd481afd856 button');\n",
              "          quickchartButtonEl.style.display =\n",
              "            google.colab.kernel.accessAllowed ? 'block' : 'none';\n",
              "        })();\n",
              "      </script>\n",
              "    </div>\n",
              "\n",
              "  <div id=\"id_9fb327f4-4cbd-4585-a9bb-b6bcd574886d\">\n",
              "    <style>\n",
              "      .colab-df-generate {\n",
              "        background-color: #E8F0FE;\n",
              "        border: none;\n",
              "        border-radius: 50%;\n",
              "        cursor: pointer;\n",
              "        display: none;\n",
              "        fill: #1967D2;\n",
              "        height: 32px;\n",
              "        padding: 0 0 0 0;\n",
              "        width: 32px;\n",
              "      }\n",
              "\n",
              "      .colab-df-generate:hover {\n",
              "        background-color: #E2EBFA;\n",
              "        box-shadow: 0px 1px 2px rgba(60, 64, 67, 0.3), 0px 1px 3px 1px rgba(60, 64, 67, 0.15);\n",
              "        fill: #174EA6;\n",
              "      }\n",
              "\n",
              "      [theme=dark] .colab-df-generate {\n",
              "        background-color: #3B4455;\n",
              "        fill: #D2E3FC;\n",
              "      }\n",
              "\n",
              "      [theme=dark] .colab-df-generate:hover {\n",
              "        background-color: #434B5C;\n",
              "        box-shadow: 0px 1px 3px 1px rgba(0, 0, 0, 0.15);\n",
              "        filter: drop-shadow(0px 1px 2px rgba(0, 0, 0, 0.3));\n",
              "        fill: #FFFFFF;\n",
              "      }\n",
              "    </style>\n",
              "    <button class=\"colab-df-generate\" onclick=\"generateWithVariable('df_new')\"\n",
              "            title=\"Generate code using this dataframe.\"\n",
              "            style=\"display:none;\">\n",
              "\n",
              "  <svg xmlns=\"http://www.w3.org/2000/svg\" height=\"24px\"viewBox=\"0 0 24 24\"\n",
              "       width=\"24px\">\n",
              "    <path d=\"M7,19H8.4L18.45,9,17,7.55,7,17.6ZM5,21V16.75L18.45,3.32a2,2,0,0,1,2.83,0l1.4,1.43a1.91,1.91,0,0,1,.58,1.4,1.91,1.91,0,0,1-.58,1.4L9.25,21ZM18.45,9,17,7.55Zm-12,3A5.31,5.31,0,0,0,4.9,8.1,5.31,5.31,0,0,0,1,6.5,5.31,5.31,0,0,0,4.9,4.9,5.31,5.31,0,0,0,6.5,1,5.31,5.31,0,0,0,8.1,4.9,5.31,5.31,0,0,0,12,6.5,5.46,5.46,0,0,0,6.5,12Z\"/>\n",
              "  </svg>\n",
              "    </button>\n",
              "    <script>\n",
              "      (() => {\n",
              "      const buttonEl =\n",
              "        document.querySelector('#id_9fb327f4-4cbd-4585-a9bb-b6bcd574886d button.colab-df-generate');\n",
              "      buttonEl.style.display =\n",
              "        google.colab.kernel.accessAllowed ? 'block' : 'none';\n",
              "\n",
              "      buttonEl.onclick = () => {\n",
              "        google.colab.notebook.generateWithVariable('df_new');\n",
              "      }\n",
              "      })();\n",
              "    </script>\n",
              "  </div>\n",
              "\n",
              "    </div>\n",
              "  </div>\n"
            ],
            "application/vnd.google.colaboratory.intrinsic+json": {
              "type": "dataframe",
              "variable_name": "df_new",
              "summary": "{\n  \"name\": \"df_new\",\n  \"rows\": 4,\n  \"fields\": [\n    {\n      \"column\": \"Name\",\n      \"properties\": {\n        \"dtype\": \"string\",\n        \"num_unique_values\": 3,\n        \"samples\": [\n          \"Bob\",\n          \"Charlie\",\n          \"Ali\"\n        ],\n        \"semantic_type\": \"\",\n        \"description\": \"\"\n      }\n    },\n    {\n      \"column\": \"Age\",\n      \"properties\": {\n        \"dtype\": \"date\",\n        \"min\": 28,\n        \"max\": 30,\n        \"num_unique_values\": 2,\n        \"samples\": [\n          28,\n          30\n        ],\n        \"semantic_type\": \"\",\n        \"description\": \"\"\n      }\n    },\n    {\n      \"column\": \"City\",\n      \"properties\": {\n        \"dtype\": \"string\",\n        \"num_unique_values\": 3,\n        \"samples\": [\n          \"Chicago\",\n          \"Oman\"\n        ],\n        \"semantic_type\": \"\",\n        \"description\": \"\"\n      }\n    },\n    {\n      \"column\": \"Salary\",\n      \"properties\": {\n        \"dtype\": \"date\",\n        \"min\": 75000,\n        \"max\": 80000,\n        \"num_unique_values\": 2,\n        \"samples\": [\n          75000,\n          80000\n        ],\n        \"semantic_type\": \"\",\n        \"description\": \"\"\n      }\n    }\n  ]\n}"
            }
          },
          "metadata": {},
          "execution_count": 52
        }
      ]
    },
    {
      "cell_type": "code",
      "source": [
        "df.drop(columns=['Age'],inplace=True) #inplace=True when we use it it well drop from taple not only for the print\n",
        "df"
      ],
      "metadata": {
        "colab": {
          "base_uri": "https://localhost:8080/",
          "height": 174
        },
        "id": "uA-RvUq0_iGO",
        "outputId": "9b1ea523-700b-4831-a03d-6962eb30767f"
      },
      "execution_count": 53,
      "outputs": [
        {
          "output_type": "execute_result",
          "data": {
            "text/plain": [
              "      Name      City Salary\n",
              "0    Alice  New York  70000\n",
              "1      Bob   Chicago  80000\n",
              "2  Charlie      Oman  75000\n",
              "3      Ali    Boston   None"
            ],
            "text/html": [
              "\n",
              "  <div id=\"df-9ab2275d-8bdb-4f5b-81b4-9a992062d7c4\" class=\"colab-df-container\">\n",
              "    <div>\n",
              "<style scoped>\n",
              "    .dataframe tbody tr th:only-of-type {\n",
              "        vertical-align: middle;\n",
              "    }\n",
              "\n",
              "    .dataframe tbody tr th {\n",
              "        vertical-align: top;\n",
              "    }\n",
              "\n",
              "    .dataframe thead th {\n",
              "        text-align: right;\n",
              "    }\n",
              "</style>\n",
              "<table border=\"1\" class=\"dataframe\">\n",
              "  <thead>\n",
              "    <tr style=\"text-align: right;\">\n",
              "      <th></th>\n",
              "      <th>Name</th>\n",
              "      <th>City</th>\n",
              "      <th>Salary</th>\n",
              "    </tr>\n",
              "  </thead>\n",
              "  <tbody>\n",
              "    <tr>\n",
              "      <th>0</th>\n",
              "      <td>Alice</td>\n",
              "      <td>New York</td>\n",
              "      <td>70000</td>\n",
              "    </tr>\n",
              "    <tr>\n",
              "      <th>1</th>\n",
              "      <td>Bob</td>\n",
              "      <td>Chicago</td>\n",
              "      <td>80000</td>\n",
              "    </tr>\n",
              "    <tr>\n",
              "      <th>2</th>\n",
              "      <td>Charlie</td>\n",
              "      <td>Oman</td>\n",
              "      <td>75000</td>\n",
              "    </tr>\n",
              "    <tr>\n",
              "      <th>3</th>\n",
              "      <td>Ali</td>\n",
              "      <td>Boston</td>\n",
              "      <td>None</td>\n",
              "    </tr>\n",
              "  </tbody>\n",
              "</table>\n",
              "</div>\n",
              "    <div class=\"colab-df-buttons\">\n",
              "\n",
              "  <div class=\"colab-df-container\">\n",
              "    <button class=\"colab-df-convert\" onclick=\"convertToInteractive('df-9ab2275d-8bdb-4f5b-81b4-9a992062d7c4')\"\n",
              "            title=\"Convert this dataframe to an interactive table.\"\n",
              "            style=\"display:none;\">\n",
              "\n",
              "  <svg xmlns=\"http://www.w3.org/2000/svg\" height=\"24px\" viewBox=\"0 -960 960 960\">\n",
              "    <path d=\"M120-120v-720h720v720H120Zm60-500h600v-160H180v160Zm220 220h160v-160H400v160Zm0 220h160v-160H400v160ZM180-400h160v-160H180v160Zm440 0h160v-160H620v160ZM180-180h160v-160H180v160Zm440 0h160v-160H620v160Z\"/>\n",
              "  </svg>\n",
              "    </button>\n",
              "\n",
              "  <style>\n",
              "    .colab-df-container {\n",
              "      display:flex;\n",
              "      gap: 12px;\n",
              "    }\n",
              "\n",
              "    .colab-df-convert {\n",
              "      background-color: #E8F0FE;\n",
              "      border: none;\n",
              "      border-radius: 50%;\n",
              "      cursor: pointer;\n",
              "      display: none;\n",
              "      fill: #1967D2;\n",
              "      height: 32px;\n",
              "      padding: 0 0 0 0;\n",
              "      width: 32px;\n",
              "    }\n",
              "\n",
              "    .colab-df-convert:hover {\n",
              "      background-color: #E2EBFA;\n",
              "      box-shadow: 0px 1px 2px rgba(60, 64, 67, 0.3), 0px 1px 3px 1px rgba(60, 64, 67, 0.15);\n",
              "      fill: #174EA6;\n",
              "    }\n",
              "\n",
              "    .colab-df-buttons div {\n",
              "      margin-bottom: 4px;\n",
              "    }\n",
              "\n",
              "    [theme=dark] .colab-df-convert {\n",
              "      background-color: #3B4455;\n",
              "      fill: #D2E3FC;\n",
              "    }\n",
              "\n",
              "    [theme=dark] .colab-df-convert:hover {\n",
              "      background-color: #434B5C;\n",
              "      box-shadow: 0px 1px 3px 1px rgba(0, 0, 0, 0.15);\n",
              "      filter: drop-shadow(0px 1px 2px rgba(0, 0, 0, 0.3));\n",
              "      fill: #FFFFFF;\n",
              "    }\n",
              "  </style>\n",
              "\n",
              "    <script>\n",
              "      const buttonEl =\n",
              "        document.querySelector('#df-9ab2275d-8bdb-4f5b-81b4-9a992062d7c4 button.colab-df-convert');\n",
              "      buttonEl.style.display =\n",
              "        google.colab.kernel.accessAllowed ? 'block' : 'none';\n",
              "\n",
              "      async function convertToInteractive(key) {\n",
              "        const element = document.querySelector('#df-9ab2275d-8bdb-4f5b-81b4-9a992062d7c4');\n",
              "        const dataTable =\n",
              "          await google.colab.kernel.invokeFunction('convertToInteractive',\n",
              "                                                    [key], {});\n",
              "        if (!dataTable) return;\n",
              "\n",
              "        const docLinkHtml = 'Like what you see? Visit the ' +\n",
              "          '<a target=\"_blank\" href=https://colab.research.google.com/notebooks/data_table.ipynb>data table notebook</a>'\n",
              "          + ' to learn more about interactive tables.';\n",
              "        element.innerHTML = '';\n",
              "        dataTable['output_type'] = 'display_data';\n",
              "        await google.colab.output.renderOutput(dataTable, element);\n",
              "        const docLink = document.createElement('div');\n",
              "        docLink.innerHTML = docLinkHtml;\n",
              "        element.appendChild(docLink);\n",
              "      }\n",
              "    </script>\n",
              "  </div>\n",
              "\n",
              "\n",
              "    <div id=\"df-3d2ee692-2633-4c1b-81cb-ada9df9c4e10\">\n",
              "      <button class=\"colab-df-quickchart\" onclick=\"quickchart('df-3d2ee692-2633-4c1b-81cb-ada9df9c4e10')\"\n",
              "                title=\"Suggest charts\"\n",
              "                style=\"display:none;\">\n",
              "\n",
              "<svg xmlns=\"http://www.w3.org/2000/svg\" height=\"24px\"viewBox=\"0 0 24 24\"\n",
              "     width=\"24px\">\n",
              "    <g>\n",
              "        <path d=\"M19 3H5c-1.1 0-2 .9-2 2v14c0 1.1.9 2 2 2h14c1.1 0 2-.9 2-2V5c0-1.1-.9-2-2-2zM9 17H7v-7h2v7zm4 0h-2V7h2v10zm4 0h-2v-4h2v4z\"/>\n",
              "    </g>\n",
              "</svg>\n",
              "      </button>\n",
              "\n",
              "<style>\n",
              "  .colab-df-quickchart {\n",
              "      --bg-color: #E8F0FE;\n",
              "      --fill-color: #1967D2;\n",
              "      --hover-bg-color: #E2EBFA;\n",
              "      --hover-fill-color: #174EA6;\n",
              "      --disabled-fill-color: #AAA;\n",
              "      --disabled-bg-color: #DDD;\n",
              "  }\n",
              "\n",
              "  [theme=dark] .colab-df-quickchart {\n",
              "      --bg-color: #3B4455;\n",
              "      --fill-color: #D2E3FC;\n",
              "      --hover-bg-color: #434B5C;\n",
              "      --hover-fill-color: #FFFFFF;\n",
              "      --disabled-bg-color: #3B4455;\n",
              "      --disabled-fill-color: #666;\n",
              "  }\n",
              "\n",
              "  .colab-df-quickchart {\n",
              "    background-color: var(--bg-color);\n",
              "    border: none;\n",
              "    border-radius: 50%;\n",
              "    cursor: pointer;\n",
              "    display: none;\n",
              "    fill: var(--fill-color);\n",
              "    height: 32px;\n",
              "    padding: 0;\n",
              "    width: 32px;\n",
              "  }\n",
              "\n",
              "  .colab-df-quickchart:hover {\n",
              "    background-color: var(--hover-bg-color);\n",
              "    box-shadow: 0 1px 2px rgba(60, 64, 67, 0.3), 0 1px 3px 1px rgba(60, 64, 67, 0.15);\n",
              "    fill: var(--button-hover-fill-color);\n",
              "  }\n",
              "\n",
              "  .colab-df-quickchart-complete:disabled,\n",
              "  .colab-df-quickchart-complete:disabled:hover {\n",
              "    background-color: var(--disabled-bg-color);\n",
              "    fill: var(--disabled-fill-color);\n",
              "    box-shadow: none;\n",
              "  }\n",
              "\n",
              "  .colab-df-spinner {\n",
              "    border: 2px solid var(--fill-color);\n",
              "    border-color: transparent;\n",
              "    border-bottom-color: var(--fill-color);\n",
              "    animation:\n",
              "      spin 1s steps(1) infinite;\n",
              "  }\n",
              "\n",
              "  @keyframes spin {\n",
              "    0% {\n",
              "      border-color: transparent;\n",
              "      border-bottom-color: var(--fill-color);\n",
              "      border-left-color: var(--fill-color);\n",
              "    }\n",
              "    20% {\n",
              "      border-color: transparent;\n",
              "      border-left-color: var(--fill-color);\n",
              "      border-top-color: var(--fill-color);\n",
              "    }\n",
              "    30% {\n",
              "      border-color: transparent;\n",
              "      border-left-color: var(--fill-color);\n",
              "      border-top-color: var(--fill-color);\n",
              "      border-right-color: var(--fill-color);\n",
              "    }\n",
              "    40% {\n",
              "      border-color: transparent;\n",
              "      border-right-color: var(--fill-color);\n",
              "      border-top-color: var(--fill-color);\n",
              "    }\n",
              "    60% {\n",
              "      border-color: transparent;\n",
              "      border-right-color: var(--fill-color);\n",
              "    }\n",
              "    80% {\n",
              "      border-color: transparent;\n",
              "      border-right-color: var(--fill-color);\n",
              "      border-bottom-color: var(--fill-color);\n",
              "    }\n",
              "    90% {\n",
              "      border-color: transparent;\n",
              "      border-bottom-color: var(--fill-color);\n",
              "    }\n",
              "  }\n",
              "</style>\n",
              "\n",
              "      <script>\n",
              "        async function quickchart(key) {\n",
              "          const quickchartButtonEl =\n",
              "            document.querySelector('#' + key + ' button');\n",
              "          quickchartButtonEl.disabled = true;  // To prevent multiple clicks.\n",
              "          quickchartButtonEl.classList.add('colab-df-spinner');\n",
              "          try {\n",
              "            const charts = await google.colab.kernel.invokeFunction(\n",
              "                'suggestCharts', [key], {});\n",
              "          } catch (error) {\n",
              "            console.error('Error during call to suggestCharts:', error);\n",
              "          }\n",
              "          quickchartButtonEl.classList.remove('colab-df-spinner');\n",
              "          quickchartButtonEl.classList.add('colab-df-quickchart-complete');\n",
              "        }\n",
              "        (() => {\n",
              "          let quickchartButtonEl =\n",
              "            document.querySelector('#df-3d2ee692-2633-4c1b-81cb-ada9df9c4e10 button');\n",
              "          quickchartButtonEl.style.display =\n",
              "            google.colab.kernel.accessAllowed ? 'block' : 'none';\n",
              "        })();\n",
              "      </script>\n",
              "    </div>\n",
              "\n",
              "  <div id=\"id_1e89ad16-c2e3-4c81-8bf5-fa7cf4e343ab\">\n",
              "    <style>\n",
              "      .colab-df-generate {\n",
              "        background-color: #E8F0FE;\n",
              "        border: none;\n",
              "        border-radius: 50%;\n",
              "        cursor: pointer;\n",
              "        display: none;\n",
              "        fill: #1967D2;\n",
              "        height: 32px;\n",
              "        padding: 0 0 0 0;\n",
              "        width: 32px;\n",
              "      }\n",
              "\n",
              "      .colab-df-generate:hover {\n",
              "        background-color: #E2EBFA;\n",
              "        box-shadow: 0px 1px 2px rgba(60, 64, 67, 0.3), 0px 1px 3px 1px rgba(60, 64, 67, 0.15);\n",
              "        fill: #174EA6;\n",
              "      }\n",
              "\n",
              "      [theme=dark] .colab-df-generate {\n",
              "        background-color: #3B4455;\n",
              "        fill: #D2E3FC;\n",
              "      }\n",
              "\n",
              "      [theme=dark] .colab-df-generate:hover {\n",
              "        background-color: #434B5C;\n",
              "        box-shadow: 0px 1px 3px 1px rgba(0, 0, 0, 0.15);\n",
              "        filter: drop-shadow(0px 1px 2px rgba(0, 0, 0, 0.3));\n",
              "        fill: #FFFFFF;\n",
              "      }\n",
              "    </style>\n",
              "    <button class=\"colab-df-generate\" onclick=\"generateWithVariable('df')\"\n",
              "            title=\"Generate code using this dataframe.\"\n",
              "            style=\"display:none;\">\n",
              "\n",
              "  <svg xmlns=\"http://www.w3.org/2000/svg\" height=\"24px\"viewBox=\"0 0 24 24\"\n",
              "       width=\"24px\">\n",
              "    <path d=\"M7,19H8.4L18.45,9,17,7.55,7,17.6ZM5,21V16.75L18.45,3.32a2,2,0,0,1,2.83,0l1.4,1.43a1.91,1.91,0,0,1,.58,1.4,1.91,1.91,0,0,1-.58,1.4L9.25,21ZM18.45,9,17,7.55Zm-12,3A5.31,5.31,0,0,0,4.9,8.1,5.31,5.31,0,0,0,1,6.5,5.31,5.31,0,0,0,4.9,4.9,5.31,5.31,0,0,0,6.5,1,5.31,5.31,0,0,0,8.1,4.9,5.31,5.31,0,0,0,12,6.5,5.46,5.46,0,0,0,6.5,12Z\"/>\n",
              "  </svg>\n",
              "    </button>\n",
              "    <script>\n",
              "      (() => {\n",
              "      const buttonEl =\n",
              "        document.querySelector('#id_1e89ad16-c2e3-4c81-8bf5-fa7cf4e343ab button.colab-df-generate');\n",
              "      buttonEl.style.display =\n",
              "        google.colab.kernel.accessAllowed ? 'block' : 'none';\n",
              "\n",
              "      buttonEl.onclick = () => {\n",
              "        google.colab.notebook.generateWithVariable('df');\n",
              "      }\n",
              "      })();\n",
              "    </script>\n",
              "  </div>\n",
              "\n",
              "    </div>\n",
              "  </div>\n"
            ],
            "application/vnd.google.colaboratory.intrinsic+json": {
              "type": "dataframe",
              "variable_name": "df",
              "summary": "{\n  \"name\": \"df\",\n  \"rows\": 4,\n  \"fields\": [\n    {\n      \"column\": \"Name\",\n      \"properties\": {\n        \"dtype\": \"string\",\n        \"num_unique_values\": 4,\n        \"samples\": [\n          \"Bob\",\n          \"Ali\",\n          \"Alice\"\n        ],\n        \"semantic_type\": \"\",\n        \"description\": \"\"\n      }\n    },\n    {\n      \"column\": \"City\",\n      \"properties\": {\n        \"dtype\": \"string\",\n        \"num_unique_values\": 4,\n        \"samples\": [\n          \"Chicago\",\n          \"Boston\",\n          \"New York\"\n        ],\n        \"semantic_type\": \"\",\n        \"description\": \"\"\n      }\n    },\n    {\n      \"column\": \"Salary\",\n      \"properties\": {\n        \"dtype\": \"date\",\n        \"min\": 70000,\n        \"max\": 80000,\n        \"num_unique_values\": 3,\n        \"samples\": [\n          70000,\n          80000,\n          75000\n        ],\n        \"semantic_type\": \"\",\n        \"description\": \"\"\n      }\n    }\n  ]\n}"
            }
          },
          "metadata": {},
          "execution_count": 53
        }
      ]
    },
    {
      "cell_type": "code",
      "source": [
        "df.drop(columns=['Name']) #not drop it achaly only for thr print\n"
      ],
      "metadata": {
        "colab": {
          "base_uri": "https://localhost:8080/",
          "height": 174
        },
        "id": "KDM1slLGDwj6",
        "outputId": "7141e05d-7008-4b21-a711-54e528633925"
      },
      "execution_count": 55,
      "outputs": [
        {
          "output_type": "execute_result",
          "data": {
            "text/plain": [
              "       City Salary\n",
              "0  New York  70000\n",
              "1   Chicago  80000\n",
              "2      Oman  75000\n",
              "3    Boston   None"
            ],
            "text/html": [
              "\n",
              "  <div id=\"df-1cb9a2a5-c907-412b-a76e-d637eba006f3\" class=\"colab-df-container\">\n",
              "    <div>\n",
              "<style scoped>\n",
              "    .dataframe tbody tr th:only-of-type {\n",
              "        vertical-align: middle;\n",
              "    }\n",
              "\n",
              "    .dataframe tbody tr th {\n",
              "        vertical-align: top;\n",
              "    }\n",
              "\n",
              "    .dataframe thead th {\n",
              "        text-align: right;\n",
              "    }\n",
              "</style>\n",
              "<table border=\"1\" class=\"dataframe\">\n",
              "  <thead>\n",
              "    <tr style=\"text-align: right;\">\n",
              "      <th></th>\n",
              "      <th>City</th>\n",
              "      <th>Salary</th>\n",
              "    </tr>\n",
              "  </thead>\n",
              "  <tbody>\n",
              "    <tr>\n",
              "      <th>0</th>\n",
              "      <td>New York</td>\n",
              "      <td>70000</td>\n",
              "    </tr>\n",
              "    <tr>\n",
              "      <th>1</th>\n",
              "      <td>Chicago</td>\n",
              "      <td>80000</td>\n",
              "    </tr>\n",
              "    <tr>\n",
              "      <th>2</th>\n",
              "      <td>Oman</td>\n",
              "      <td>75000</td>\n",
              "    </tr>\n",
              "    <tr>\n",
              "      <th>3</th>\n",
              "      <td>Boston</td>\n",
              "      <td>None</td>\n",
              "    </tr>\n",
              "  </tbody>\n",
              "</table>\n",
              "</div>\n",
              "    <div class=\"colab-df-buttons\">\n",
              "\n",
              "  <div class=\"colab-df-container\">\n",
              "    <button class=\"colab-df-convert\" onclick=\"convertToInteractive('df-1cb9a2a5-c907-412b-a76e-d637eba006f3')\"\n",
              "            title=\"Convert this dataframe to an interactive table.\"\n",
              "            style=\"display:none;\">\n",
              "\n",
              "  <svg xmlns=\"http://www.w3.org/2000/svg\" height=\"24px\" viewBox=\"0 -960 960 960\">\n",
              "    <path d=\"M120-120v-720h720v720H120Zm60-500h600v-160H180v160Zm220 220h160v-160H400v160Zm0 220h160v-160H400v160ZM180-400h160v-160H180v160Zm440 0h160v-160H620v160ZM180-180h160v-160H180v160Zm440 0h160v-160H620v160Z\"/>\n",
              "  </svg>\n",
              "    </button>\n",
              "\n",
              "  <style>\n",
              "    .colab-df-container {\n",
              "      display:flex;\n",
              "      gap: 12px;\n",
              "    }\n",
              "\n",
              "    .colab-df-convert {\n",
              "      background-color: #E8F0FE;\n",
              "      border: none;\n",
              "      border-radius: 50%;\n",
              "      cursor: pointer;\n",
              "      display: none;\n",
              "      fill: #1967D2;\n",
              "      height: 32px;\n",
              "      padding: 0 0 0 0;\n",
              "      width: 32px;\n",
              "    }\n",
              "\n",
              "    .colab-df-convert:hover {\n",
              "      background-color: #E2EBFA;\n",
              "      box-shadow: 0px 1px 2px rgba(60, 64, 67, 0.3), 0px 1px 3px 1px rgba(60, 64, 67, 0.15);\n",
              "      fill: #174EA6;\n",
              "    }\n",
              "\n",
              "    .colab-df-buttons div {\n",
              "      margin-bottom: 4px;\n",
              "    }\n",
              "\n",
              "    [theme=dark] .colab-df-convert {\n",
              "      background-color: #3B4455;\n",
              "      fill: #D2E3FC;\n",
              "    }\n",
              "\n",
              "    [theme=dark] .colab-df-convert:hover {\n",
              "      background-color: #434B5C;\n",
              "      box-shadow: 0px 1px 3px 1px rgba(0, 0, 0, 0.15);\n",
              "      filter: drop-shadow(0px 1px 2px rgba(0, 0, 0, 0.3));\n",
              "      fill: #FFFFFF;\n",
              "    }\n",
              "  </style>\n",
              "\n",
              "    <script>\n",
              "      const buttonEl =\n",
              "        document.querySelector('#df-1cb9a2a5-c907-412b-a76e-d637eba006f3 button.colab-df-convert');\n",
              "      buttonEl.style.display =\n",
              "        google.colab.kernel.accessAllowed ? 'block' : 'none';\n",
              "\n",
              "      async function convertToInteractive(key) {\n",
              "        const element = document.querySelector('#df-1cb9a2a5-c907-412b-a76e-d637eba006f3');\n",
              "        const dataTable =\n",
              "          await google.colab.kernel.invokeFunction('convertToInteractive',\n",
              "                                                    [key], {});\n",
              "        if (!dataTable) return;\n",
              "\n",
              "        const docLinkHtml = 'Like what you see? Visit the ' +\n",
              "          '<a target=\"_blank\" href=https://colab.research.google.com/notebooks/data_table.ipynb>data table notebook</a>'\n",
              "          + ' to learn more about interactive tables.';\n",
              "        element.innerHTML = '';\n",
              "        dataTable['output_type'] = 'display_data';\n",
              "        await google.colab.output.renderOutput(dataTable, element);\n",
              "        const docLink = document.createElement('div');\n",
              "        docLink.innerHTML = docLinkHtml;\n",
              "        element.appendChild(docLink);\n",
              "      }\n",
              "    </script>\n",
              "  </div>\n",
              "\n",
              "\n",
              "    <div id=\"df-3dbb3216-e121-49f0-950c-dd1f7c80875d\">\n",
              "      <button class=\"colab-df-quickchart\" onclick=\"quickchart('df-3dbb3216-e121-49f0-950c-dd1f7c80875d')\"\n",
              "                title=\"Suggest charts\"\n",
              "                style=\"display:none;\">\n",
              "\n",
              "<svg xmlns=\"http://www.w3.org/2000/svg\" height=\"24px\"viewBox=\"0 0 24 24\"\n",
              "     width=\"24px\">\n",
              "    <g>\n",
              "        <path d=\"M19 3H5c-1.1 0-2 .9-2 2v14c0 1.1.9 2 2 2h14c1.1 0 2-.9 2-2V5c0-1.1-.9-2-2-2zM9 17H7v-7h2v7zm4 0h-2V7h2v10zm4 0h-2v-4h2v4z\"/>\n",
              "    </g>\n",
              "</svg>\n",
              "      </button>\n",
              "\n",
              "<style>\n",
              "  .colab-df-quickchart {\n",
              "      --bg-color: #E8F0FE;\n",
              "      --fill-color: #1967D2;\n",
              "      --hover-bg-color: #E2EBFA;\n",
              "      --hover-fill-color: #174EA6;\n",
              "      --disabled-fill-color: #AAA;\n",
              "      --disabled-bg-color: #DDD;\n",
              "  }\n",
              "\n",
              "  [theme=dark] .colab-df-quickchart {\n",
              "      --bg-color: #3B4455;\n",
              "      --fill-color: #D2E3FC;\n",
              "      --hover-bg-color: #434B5C;\n",
              "      --hover-fill-color: #FFFFFF;\n",
              "      --disabled-bg-color: #3B4455;\n",
              "      --disabled-fill-color: #666;\n",
              "  }\n",
              "\n",
              "  .colab-df-quickchart {\n",
              "    background-color: var(--bg-color);\n",
              "    border: none;\n",
              "    border-radius: 50%;\n",
              "    cursor: pointer;\n",
              "    display: none;\n",
              "    fill: var(--fill-color);\n",
              "    height: 32px;\n",
              "    padding: 0;\n",
              "    width: 32px;\n",
              "  }\n",
              "\n",
              "  .colab-df-quickchart:hover {\n",
              "    background-color: var(--hover-bg-color);\n",
              "    box-shadow: 0 1px 2px rgba(60, 64, 67, 0.3), 0 1px 3px 1px rgba(60, 64, 67, 0.15);\n",
              "    fill: var(--button-hover-fill-color);\n",
              "  }\n",
              "\n",
              "  .colab-df-quickchart-complete:disabled,\n",
              "  .colab-df-quickchart-complete:disabled:hover {\n",
              "    background-color: var(--disabled-bg-color);\n",
              "    fill: var(--disabled-fill-color);\n",
              "    box-shadow: none;\n",
              "  }\n",
              "\n",
              "  .colab-df-spinner {\n",
              "    border: 2px solid var(--fill-color);\n",
              "    border-color: transparent;\n",
              "    border-bottom-color: var(--fill-color);\n",
              "    animation:\n",
              "      spin 1s steps(1) infinite;\n",
              "  }\n",
              "\n",
              "  @keyframes spin {\n",
              "    0% {\n",
              "      border-color: transparent;\n",
              "      border-bottom-color: var(--fill-color);\n",
              "      border-left-color: var(--fill-color);\n",
              "    }\n",
              "    20% {\n",
              "      border-color: transparent;\n",
              "      border-left-color: var(--fill-color);\n",
              "      border-top-color: var(--fill-color);\n",
              "    }\n",
              "    30% {\n",
              "      border-color: transparent;\n",
              "      border-left-color: var(--fill-color);\n",
              "      border-top-color: var(--fill-color);\n",
              "      border-right-color: var(--fill-color);\n",
              "    }\n",
              "    40% {\n",
              "      border-color: transparent;\n",
              "      border-right-color: var(--fill-color);\n",
              "      border-top-color: var(--fill-color);\n",
              "    }\n",
              "    60% {\n",
              "      border-color: transparent;\n",
              "      border-right-color: var(--fill-color);\n",
              "    }\n",
              "    80% {\n",
              "      border-color: transparent;\n",
              "      border-right-color: var(--fill-color);\n",
              "      border-bottom-color: var(--fill-color);\n",
              "    }\n",
              "    90% {\n",
              "      border-color: transparent;\n",
              "      border-bottom-color: var(--fill-color);\n",
              "    }\n",
              "  }\n",
              "</style>\n",
              "\n",
              "      <script>\n",
              "        async function quickchart(key) {\n",
              "          const quickchartButtonEl =\n",
              "            document.querySelector('#' + key + ' button');\n",
              "          quickchartButtonEl.disabled = true;  // To prevent multiple clicks.\n",
              "          quickchartButtonEl.classList.add('colab-df-spinner');\n",
              "          try {\n",
              "            const charts = await google.colab.kernel.invokeFunction(\n",
              "                'suggestCharts', [key], {});\n",
              "          } catch (error) {\n",
              "            console.error('Error during call to suggestCharts:', error);\n",
              "          }\n",
              "          quickchartButtonEl.classList.remove('colab-df-spinner');\n",
              "          quickchartButtonEl.classList.add('colab-df-quickchart-complete');\n",
              "        }\n",
              "        (() => {\n",
              "          let quickchartButtonEl =\n",
              "            document.querySelector('#df-3dbb3216-e121-49f0-950c-dd1f7c80875d button');\n",
              "          quickchartButtonEl.style.display =\n",
              "            google.colab.kernel.accessAllowed ? 'block' : 'none';\n",
              "        })();\n",
              "      </script>\n",
              "    </div>\n",
              "\n",
              "    </div>\n",
              "  </div>\n"
            ],
            "application/vnd.google.colaboratory.intrinsic+json": {
              "type": "dataframe",
              "summary": "{\n  \"name\": \"df\",\n  \"rows\": 4,\n  \"fields\": [\n    {\n      \"column\": \"City\",\n      \"properties\": {\n        \"dtype\": \"string\",\n        \"num_unique_values\": 4,\n        \"samples\": [\n          \"Chicago\",\n          \"Boston\",\n          \"New York\"\n        ],\n        \"semantic_type\": \"\",\n        \"description\": \"\"\n      }\n    },\n    {\n      \"column\": \"Salary\",\n      \"properties\": {\n        \"dtype\": \"date\",\n        \"min\": 70000,\n        \"max\": 80000,\n        \"num_unique_values\": 3,\n        \"samples\": [\n          70000,\n          80000,\n          75000\n        ],\n        \"semantic_type\": \"\",\n        \"description\": \"\"\n      }\n    }\n  ]\n}"
            }
          },
          "metadata": {},
          "execution_count": 55
        }
      ]
    },
    {
      "cell_type": "code",
      "source": [
        "df"
      ],
      "metadata": {
        "colab": {
          "base_uri": "https://localhost:8080/",
          "height": 174
        },
        "id": "idW35RtZD29y",
        "outputId": "b2df4c26-9f7f-4525-ca30-98b699d6e0a6"
      },
      "execution_count": 56,
      "outputs": [
        {
          "output_type": "execute_result",
          "data": {
            "text/plain": [
              "      Name      City Salary\n",
              "0    Alice  New York  70000\n",
              "1      Bob   Chicago  80000\n",
              "2  Charlie      Oman  75000\n",
              "3      Ali    Boston   None"
            ],
            "text/html": [
              "\n",
              "  <div id=\"df-58b8245a-8701-4861-8ac4-18ce5a8f8416\" class=\"colab-df-container\">\n",
              "    <div>\n",
              "<style scoped>\n",
              "    .dataframe tbody tr th:only-of-type {\n",
              "        vertical-align: middle;\n",
              "    }\n",
              "\n",
              "    .dataframe tbody tr th {\n",
              "        vertical-align: top;\n",
              "    }\n",
              "\n",
              "    .dataframe thead th {\n",
              "        text-align: right;\n",
              "    }\n",
              "</style>\n",
              "<table border=\"1\" class=\"dataframe\">\n",
              "  <thead>\n",
              "    <tr style=\"text-align: right;\">\n",
              "      <th></th>\n",
              "      <th>Name</th>\n",
              "      <th>City</th>\n",
              "      <th>Salary</th>\n",
              "    </tr>\n",
              "  </thead>\n",
              "  <tbody>\n",
              "    <tr>\n",
              "      <th>0</th>\n",
              "      <td>Alice</td>\n",
              "      <td>New York</td>\n",
              "      <td>70000</td>\n",
              "    </tr>\n",
              "    <tr>\n",
              "      <th>1</th>\n",
              "      <td>Bob</td>\n",
              "      <td>Chicago</td>\n",
              "      <td>80000</td>\n",
              "    </tr>\n",
              "    <tr>\n",
              "      <th>2</th>\n",
              "      <td>Charlie</td>\n",
              "      <td>Oman</td>\n",
              "      <td>75000</td>\n",
              "    </tr>\n",
              "    <tr>\n",
              "      <th>3</th>\n",
              "      <td>Ali</td>\n",
              "      <td>Boston</td>\n",
              "      <td>None</td>\n",
              "    </tr>\n",
              "  </tbody>\n",
              "</table>\n",
              "</div>\n",
              "    <div class=\"colab-df-buttons\">\n",
              "\n",
              "  <div class=\"colab-df-container\">\n",
              "    <button class=\"colab-df-convert\" onclick=\"convertToInteractive('df-58b8245a-8701-4861-8ac4-18ce5a8f8416')\"\n",
              "            title=\"Convert this dataframe to an interactive table.\"\n",
              "            style=\"display:none;\">\n",
              "\n",
              "  <svg xmlns=\"http://www.w3.org/2000/svg\" height=\"24px\" viewBox=\"0 -960 960 960\">\n",
              "    <path d=\"M120-120v-720h720v720H120Zm60-500h600v-160H180v160Zm220 220h160v-160H400v160Zm0 220h160v-160H400v160ZM180-400h160v-160H180v160Zm440 0h160v-160H620v160ZM180-180h160v-160H180v160Zm440 0h160v-160H620v160Z\"/>\n",
              "  </svg>\n",
              "    </button>\n",
              "\n",
              "  <style>\n",
              "    .colab-df-container {\n",
              "      display:flex;\n",
              "      gap: 12px;\n",
              "    }\n",
              "\n",
              "    .colab-df-convert {\n",
              "      background-color: #E8F0FE;\n",
              "      border: none;\n",
              "      border-radius: 50%;\n",
              "      cursor: pointer;\n",
              "      display: none;\n",
              "      fill: #1967D2;\n",
              "      height: 32px;\n",
              "      padding: 0 0 0 0;\n",
              "      width: 32px;\n",
              "    }\n",
              "\n",
              "    .colab-df-convert:hover {\n",
              "      background-color: #E2EBFA;\n",
              "      box-shadow: 0px 1px 2px rgba(60, 64, 67, 0.3), 0px 1px 3px 1px rgba(60, 64, 67, 0.15);\n",
              "      fill: #174EA6;\n",
              "    }\n",
              "\n",
              "    .colab-df-buttons div {\n",
              "      margin-bottom: 4px;\n",
              "    }\n",
              "\n",
              "    [theme=dark] .colab-df-convert {\n",
              "      background-color: #3B4455;\n",
              "      fill: #D2E3FC;\n",
              "    }\n",
              "\n",
              "    [theme=dark] .colab-df-convert:hover {\n",
              "      background-color: #434B5C;\n",
              "      box-shadow: 0px 1px 3px 1px rgba(0, 0, 0, 0.15);\n",
              "      filter: drop-shadow(0px 1px 2px rgba(0, 0, 0, 0.3));\n",
              "      fill: #FFFFFF;\n",
              "    }\n",
              "  </style>\n",
              "\n",
              "    <script>\n",
              "      const buttonEl =\n",
              "        document.querySelector('#df-58b8245a-8701-4861-8ac4-18ce5a8f8416 button.colab-df-convert');\n",
              "      buttonEl.style.display =\n",
              "        google.colab.kernel.accessAllowed ? 'block' : 'none';\n",
              "\n",
              "      async function convertToInteractive(key) {\n",
              "        const element = document.querySelector('#df-58b8245a-8701-4861-8ac4-18ce5a8f8416');\n",
              "        const dataTable =\n",
              "          await google.colab.kernel.invokeFunction('convertToInteractive',\n",
              "                                                    [key], {});\n",
              "        if (!dataTable) return;\n",
              "\n",
              "        const docLinkHtml = 'Like what you see? Visit the ' +\n",
              "          '<a target=\"_blank\" href=https://colab.research.google.com/notebooks/data_table.ipynb>data table notebook</a>'\n",
              "          + ' to learn more about interactive tables.';\n",
              "        element.innerHTML = '';\n",
              "        dataTable['output_type'] = 'display_data';\n",
              "        await google.colab.output.renderOutput(dataTable, element);\n",
              "        const docLink = document.createElement('div');\n",
              "        docLink.innerHTML = docLinkHtml;\n",
              "        element.appendChild(docLink);\n",
              "      }\n",
              "    </script>\n",
              "  </div>\n",
              "\n",
              "\n",
              "    <div id=\"df-376a9f1f-8891-43e2-927e-d6c5a481063c\">\n",
              "      <button class=\"colab-df-quickchart\" onclick=\"quickchart('df-376a9f1f-8891-43e2-927e-d6c5a481063c')\"\n",
              "                title=\"Suggest charts\"\n",
              "                style=\"display:none;\">\n",
              "\n",
              "<svg xmlns=\"http://www.w3.org/2000/svg\" height=\"24px\"viewBox=\"0 0 24 24\"\n",
              "     width=\"24px\">\n",
              "    <g>\n",
              "        <path d=\"M19 3H5c-1.1 0-2 .9-2 2v14c0 1.1.9 2 2 2h14c1.1 0 2-.9 2-2V5c0-1.1-.9-2-2-2zM9 17H7v-7h2v7zm4 0h-2V7h2v10zm4 0h-2v-4h2v4z\"/>\n",
              "    </g>\n",
              "</svg>\n",
              "      </button>\n",
              "\n",
              "<style>\n",
              "  .colab-df-quickchart {\n",
              "      --bg-color: #E8F0FE;\n",
              "      --fill-color: #1967D2;\n",
              "      --hover-bg-color: #E2EBFA;\n",
              "      --hover-fill-color: #174EA6;\n",
              "      --disabled-fill-color: #AAA;\n",
              "      --disabled-bg-color: #DDD;\n",
              "  }\n",
              "\n",
              "  [theme=dark] .colab-df-quickchart {\n",
              "      --bg-color: #3B4455;\n",
              "      --fill-color: #D2E3FC;\n",
              "      --hover-bg-color: #434B5C;\n",
              "      --hover-fill-color: #FFFFFF;\n",
              "      --disabled-bg-color: #3B4455;\n",
              "      --disabled-fill-color: #666;\n",
              "  }\n",
              "\n",
              "  .colab-df-quickchart {\n",
              "    background-color: var(--bg-color);\n",
              "    border: none;\n",
              "    border-radius: 50%;\n",
              "    cursor: pointer;\n",
              "    display: none;\n",
              "    fill: var(--fill-color);\n",
              "    height: 32px;\n",
              "    padding: 0;\n",
              "    width: 32px;\n",
              "  }\n",
              "\n",
              "  .colab-df-quickchart:hover {\n",
              "    background-color: var(--hover-bg-color);\n",
              "    box-shadow: 0 1px 2px rgba(60, 64, 67, 0.3), 0 1px 3px 1px rgba(60, 64, 67, 0.15);\n",
              "    fill: var(--button-hover-fill-color);\n",
              "  }\n",
              "\n",
              "  .colab-df-quickchart-complete:disabled,\n",
              "  .colab-df-quickchart-complete:disabled:hover {\n",
              "    background-color: var(--disabled-bg-color);\n",
              "    fill: var(--disabled-fill-color);\n",
              "    box-shadow: none;\n",
              "  }\n",
              "\n",
              "  .colab-df-spinner {\n",
              "    border: 2px solid var(--fill-color);\n",
              "    border-color: transparent;\n",
              "    border-bottom-color: var(--fill-color);\n",
              "    animation:\n",
              "      spin 1s steps(1) infinite;\n",
              "  }\n",
              "\n",
              "  @keyframes spin {\n",
              "    0% {\n",
              "      border-color: transparent;\n",
              "      border-bottom-color: var(--fill-color);\n",
              "      border-left-color: var(--fill-color);\n",
              "    }\n",
              "    20% {\n",
              "      border-color: transparent;\n",
              "      border-left-color: var(--fill-color);\n",
              "      border-top-color: var(--fill-color);\n",
              "    }\n",
              "    30% {\n",
              "      border-color: transparent;\n",
              "      border-left-color: var(--fill-color);\n",
              "      border-top-color: var(--fill-color);\n",
              "      border-right-color: var(--fill-color);\n",
              "    }\n",
              "    40% {\n",
              "      border-color: transparent;\n",
              "      border-right-color: var(--fill-color);\n",
              "      border-top-color: var(--fill-color);\n",
              "    }\n",
              "    60% {\n",
              "      border-color: transparent;\n",
              "      border-right-color: var(--fill-color);\n",
              "    }\n",
              "    80% {\n",
              "      border-color: transparent;\n",
              "      border-right-color: var(--fill-color);\n",
              "      border-bottom-color: var(--fill-color);\n",
              "    }\n",
              "    90% {\n",
              "      border-color: transparent;\n",
              "      border-bottom-color: var(--fill-color);\n",
              "    }\n",
              "  }\n",
              "</style>\n",
              "\n",
              "      <script>\n",
              "        async function quickchart(key) {\n",
              "          const quickchartButtonEl =\n",
              "            document.querySelector('#' + key + ' button');\n",
              "          quickchartButtonEl.disabled = true;  // To prevent multiple clicks.\n",
              "          quickchartButtonEl.classList.add('colab-df-spinner');\n",
              "          try {\n",
              "            const charts = await google.colab.kernel.invokeFunction(\n",
              "                'suggestCharts', [key], {});\n",
              "          } catch (error) {\n",
              "            console.error('Error during call to suggestCharts:', error);\n",
              "          }\n",
              "          quickchartButtonEl.classList.remove('colab-df-spinner');\n",
              "          quickchartButtonEl.classList.add('colab-df-quickchart-complete');\n",
              "        }\n",
              "        (() => {\n",
              "          let quickchartButtonEl =\n",
              "            document.querySelector('#df-376a9f1f-8891-43e2-927e-d6c5a481063c button');\n",
              "          quickchartButtonEl.style.display =\n",
              "            google.colab.kernel.accessAllowed ? 'block' : 'none';\n",
              "        })();\n",
              "      </script>\n",
              "    </div>\n",
              "\n",
              "  <div id=\"id_10d0287b-90fa-4118-b5dc-fddda4f2a48f\">\n",
              "    <style>\n",
              "      .colab-df-generate {\n",
              "        background-color: #E8F0FE;\n",
              "        border: none;\n",
              "        border-radius: 50%;\n",
              "        cursor: pointer;\n",
              "        display: none;\n",
              "        fill: #1967D2;\n",
              "        height: 32px;\n",
              "        padding: 0 0 0 0;\n",
              "        width: 32px;\n",
              "      }\n",
              "\n",
              "      .colab-df-generate:hover {\n",
              "        background-color: #E2EBFA;\n",
              "        box-shadow: 0px 1px 2px rgba(60, 64, 67, 0.3), 0px 1px 3px 1px rgba(60, 64, 67, 0.15);\n",
              "        fill: #174EA6;\n",
              "      }\n",
              "\n",
              "      [theme=dark] .colab-df-generate {\n",
              "        background-color: #3B4455;\n",
              "        fill: #D2E3FC;\n",
              "      }\n",
              "\n",
              "      [theme=dark] .colab-df-generate:hover {\n",
              "        background-color: #434B5C;\n",
              "        box-shadow: 0px 1px 3px 1px rgba(0, 0, 0, 0.15);\n",
              "        filter: drop-shadow(0px 1px 2px rgba(0, 0, 0, 0.3));\n",
              "        fill: #FFFFFF;\n",
              "      }\n",
              "    </style>\n",
              "    <button class=\"colab-df-generate\" onclick=\"generateWithVariable('df')\"\n",
              "            title=\"Generate code using this dataframe.\"\n",
              "            style=\"display:none;\">\n",
              "\n",
              "  <svg xmlns=\"http://www.w3.org/2000/svg\" height=\"24px\"viewBox=\"0 0 24 24\"\n",
              "       width=\"24px\">\n",
              "    <path d=\"M7,19H8.4L18.45,9,17,7.55,7,17.6ZM5,21V16.75L18.45,3.32a2,2,0,0,1,2.83,0l1.4,1.43a1.91,1.91,0,0,1,.58,1.4,1.91,1.91,0,0,1-.58,1.4L9.25,21ZM18.45,9,17,7.55Zm-12,3A5.31,5.31,0,0,0,4.9,8.1,5.31,5.31,0,0,0,1,6.5,5.31,5.31,0,0,0,4.9,4.9,5.31,5.31,0,0,0,6.5,1,5.31,5.31,0,0,0,8.1,4.9,5.31,5.31,0,0,0,12,6.5,5.46,5.46,0,0,0,6.5,12Z\"/>\n",
              "  </svg>\n",
              "    </button>\n",
              "    <script>\n",
              "      (() => {\n",
              "      const buttonEl =\n",
              "        document.querySelector('#id_10d0287b-90fa-4118-b5dc-fddda4f2a48f button.colab-df-generate');\n",
              "      buttonEl.style.display =\n",
              "        google.colab.kernel.accessAllowed ? 'block' : 'none';\n",
              "\n",
              "      buttonEl.onclick = () => {\n",
              "        google.colab.notebook.generateWithVariable('df');\n",
              "      }\n",
              "      })();\n",
              "    </script>\n",
              "  </div>\n",
              "\n",
              "    </div>\n",
              "  </div>\n"
            ],
            "application/vnd.google.colaboratory.intrinsic+json": {
              "type": "dataframe",
              "variable_name": "df",
              "summary": "{\n  \"name\": \"df\",\n  \"rows\": 4,\n  \"fields\": [\n    {\n      \"column\": \"Name\",\n      \"properties\": {\n        \"dtype\": \"string\",\n        \"num_unique_values\": 4,\n        \"samples\": [\n          \"Bob\",\n          \"Ali\",\n          \"Alice\"\n        ],\n        \"semantic_type\": \"\",\n        \"description\": \"\"\n      }\n    },\n    {\n      \"column\": \"City\",\n      \"properties\": {\n        \"dtype\": \"string\",\n        \"num_unique_values\": 4,\n        \"samples\": [\n          \"Chicago\",\n          \"Boston\",\n          \"New York\"\n        ],\n        \"semantic_type\": \"\",\n        \"description\": \"\"\n      }\n    },\n    {\n      \"column\": \"Salary\",\n      \"properties\": {\n        \"dtype\": \"date\",\n        \"min\": 70000,\n        \"max\": 80000,\n        \"num_unique_values\": 3,\n        \"samples\": [\n          70000,\n          80000,\n          75000\n        ],\n        \"semantic_type\": \"\",\n        \"description\": \"\"\n      }\n    }\n  ]\n}"
            }
          },
          "metadata": {},
          "execution_count": 56
        }
      ]
    },
    {
      "cell_type": "code",
      "source": [
        "df = pd.read_csv('/content/employees.csv')"
      ],
      "metadata": {
        "id": "qORE55t6FjuE"
      },
      "execution_count": 57,
      "outputs": []
    },
    {
      "cell_type": "code",
      "source": [
        "df"
      ],
      "metadata": {
        "colab": {
          "base_uri": "https://localhost:8080/",
          "height": 143
        },
        "id": "SKP0VNLtFjdr",
        "outputId": "dee1d35c-afec-4eed-d3a6-631a526cf22a"
      },
      "execution_count": 58,
      "outputs": [
        {
          "output_type": "execute_result",
          "data": {
            "text/plain": [
              "      Name  Age      City  Salary\n",
              "0    Alice   25  New York   70000\n",
              "1      Bob   30   Chicago   80000\n",
              "2  Charlie   28    Boston   75000"
            ],
            "text/html": [
              "\n",
              "  <div id=\"df-5f8edab9-03c9-4b1b-bdb0-2be6ec5518aa\" class=\"colab-df-container\">\n",
              "    <div>\n",
              "<style scoped>\n",
              "    .dataframe tbody tr th:only-of-type {\n",
              "        vertical-align: middle;\n",
              "    }\n",
              "\n",
              "    .dataframe tbody tr th {\n",
              "        vertical-align: top;\n",
              "    }\n",
              "\n",
              "    .dataframe thead th {\n",
              "        text-align: right;\n",
              "    }\n",
              "</style>\n",
              "<table border=\"1\" class=\"dataframe\">\n",
              "  <thead>\n",
              "    <tr style=\"text-align: right;\">\n",
              "      <th></th>\n",
              "      <th>Name</th>\n",
              "      <th>Age</th>\n",
              "      <th>City</th>\n",
              "      <th>Salary</th>\n",
              "    </tr>\n",
              "  </thead>\n",
              "  <tbody>\n",
              "    <tr>\n",
              "      <th>0</th>\n",
              "      <td>Alice</td>\n",
              "      <td>25</td>\n",
              "      <td>New York</td>\n",
              "      <td>70000</td>\n",
              "    </tr>\n",
              "    <tr>\n",
              "      <th>1</th>\n",
              "      <td>Bob</td>\n",
              "      <td>30</td>\n",
              "      <td>Chicago</td>\n",
              "      <td>80000</td>\n",
              "    </tr>\n",
              "    <tr>\n",
              "      <th>2</th>\n",
              "      <td>Charlie</td>\n",
              "      <td>28</td>\n",
              "      <td>Boston</td>\n",
              "      <td>75000</td>\n",
              "    </tr>\n",
              "  </tbody>\n",
              "</table>\n",
              "</div>\n",
              "    <div class=\"colab-df-buttons\">\n",
              "\n",
              "  <div class=\"colab-df-container\">\n",
              "    <button class=\"colab-df-convert\" onclick=\"convertToInteractive('df-5f8edab9-03c9-4b1b-bdb0-2be6ec5518aa')\"\n",
              "            title=\"Convert this dataframe to an interactive table.\"\n",
              "            style=\"display:none;\">\n",
              "\n",
              "  <svg xmlns=\"http://www.w3.org/2000/svg\" height=\"24px\" viewBox=\"0 -960 960 960\">\n",
              "    <path d=\"M120-120v-720h720v720H120Zm60-500h600v-160H180v160Zm220 220h160v-160H400v160Zm0 220h160v-160H400v160ZM180-400h160v-160H180v160Zm440 0h160v-160H620v160ZM180-180h160v-160H180v160Zm440 0h160v-160H620v160Z\"/>\n",
              "  </svg>\n",
              "    </button>\n",
              "\n",
              "  <style>\n",
              "    .colab-df-container {\n",
              "      display:flex;\n",
              "      gap: 12px;\n",
              "    }\n",
              "\n",
              "    .colab-df-convert {\n",
              "      background-color: #E8F0FE;\n",
              "      border: none;\n",
              "      border-radius: 50%;\n",
              "      cursor: pointer;\n",
              "      display: none;\n",
              "      fill: #1967D2;\n",
              "      height: 32px;\n",
              "      padding: 0 0 0 0;\n",
              "      width: 32px;\n",
              "    }\n",
              "\n",
              "    .colab-df-convert:hover {\n",
              "      background-color: #E2EBFA;\n",
              "      box-shadow: 0px 1px 2px rgba(60, 64, 67, 0.3), 0px 1px 3px 1px rgba(60, 64, 67, 0.15);\n",
              "      fill: #174EA6;\n",
              "    }\n",
              "\n",
              "    .colab-df-buttons div {\n",
              "      margin-bottom: 4px;\n",
              "    }\n",
              "\n",
              "    [theme=dark] .colab-df-convert {\n",
              "      background-color: #3B4455;\n",
              "      fill: #D2E3FC;\n",
              "    }\n",
              "\n",
              "    [theme=dark] .colab-df-convert:hover {\n",
              "      background-color: #434B5C;\n",
              "      box-shadow: 0px 1px 3px 1px rgba(0, 0, 0, 0.15);\n",
              "      filter: drop-shadow(0px 1px 2px rgba(0, 0, 0, 0.3));\n",
              "      fill: #FFFFFF;\n",
              "    }\n",
              "  </style>\n",
              "\n",
              "    <script>\n",
              "      const buttonEl =\n",
              "        document.querySelector('#df-5f8edab9-03c9-4b1b-bdb0-2be6ec5518aa button.colab-df-convert');\n",
              "      buttonEl.style.display =\n",
              "        google.colab.kernel.accessAllowed ? 'block' : 'none';\n",
              "\n",
              "      async function convertToInteractive(key) {\n",
              "        const element = document.querySelector('#df-5f8edab9-03c9-4b1b-bdb0-2be6ec5518aa');\n",
              "        const dataTable =\n",
              "          await google.colab.kernel.invokeFunction('convertToInteractive',\n",
              "                                                    [key], {});\n",
              "        if (!dataTable) return;\n",
              "\n",
              "        const docLinkHtml = 'Like what you see? Visit the ' +\n",
              "          '<a target=\"_blank\" href=https://colab.research.google.com/notebooks/data_table.ipynb>data table notebook</a>'\n",
              "          + ' to learn more about interactive tables.';\n",
              "        element.innerHTML = '';\n",
              "        dataTable['output_type'] = 'display_data';\n",
              "        await google.colab.output.renderOutput(dataTable, element);\n",
              "        const docLink = document.createElement('div');\n",
              "        docLink.innerHTML = docLinkHtml;\n",
              "        element.appendChild(docLink);\n",
              "      }\n",
              "    </script>\n",
              "  </div>\n",
              "\n",
              "\n",
              "    <div id=\"df-fc337c1f-3438-44d4-8796-313932b59b57\">\n",
              "      <button class=\"colab-df-quickchart\" onclick=\"quickchart('df-fc337c1f-3438-44d4-8796-313932b59b57')\"\n",
              "                title=\"Suggest charts\"\n",
              "                style=\"display:none;\">\n",
              "\n",
              "<svg xmlns=\"http://www.w3.org/2000/svg\" height=\"24px\"viewBox=\"0 0 24 24\"\n",
              "     width=\"24px\">\n",
              "    <g>\n",
              "        <path d=\"M19 3H5c-1.1 0-2 .9-2 2v14c0 1.1.9 2 2 2h14c1.1 0 2-.9 2-2V5c0-1.1-.9-2-2-2zM9 17H7v-7h2v7zm4 0h-2V7h2v10zm4 0h-2v-4h2v4z\"/>\n",
              "    </g>\n",
              "</svg>\n",
              "      </button>\n",
              "\n",
              "<style>\n",
              "  .colab-df-quickchart {\n",
              "      --bg-color: #E8F0FE;\n",
              "      --fill-color: #1967D2;\n",
              "      --hover-bg-color: #E2EBFA;\n",
              "      --hover-fill-color: #174EA6;\n",
              "      --disabled-fill-color: #AAA;\n",
              "      --disabled-bg-color: #DDD;\n",
              "  }\n",
              "\n",
              "  [theme=dark] .colab-df-quickchart {\n",
              "      --bg-color: #3B4455;\n",
              "      --fill-color: #D2E3FC;\n",
              "      --hover-bg-color: #434B5C;\n",
              "      --hover-fill-color: #FFFFFF;\n",
              "      --disabled-bg-color: #3B4455;\n",
              "      --disabled-fill-color: #666;\n",
              "  }\n",
              "\n",
              "  .colab-df-quickchart {\n",
              "    background-color: var(--bg-color);\n",
              "    border: none;\n",
              "    border-radius: 50%;\n",
              "    cursor: pointer;\n",
              "    display: none;\n",
              "    fill: var(--fill-color);\n",
              "    height: 32px;\n",
              "    padding: 0;\n",
              "    width: 32px;\n",
              "  }\n",
              "\n",
              "  .colab-df-quickchart:hover {\n",
              "    background-color: var(--hover-bg-color);\n",
              "    box-shadow: 0 1px 2px rgba(60, 64, 67, 0.3), 0 1px 3px 1px rgba(60, 64, 67, 0.15);\n",
              "    fill: var(--button-hover-fill-color);\n",
              "  }\n",
              "\n",
              "  .colab-df-quickchart-complete:disabled,\n",
              "  .colab-df-quickchart-complete:disabled:hover {\n",
              "    background-color: var(--disabled-bg-color);\n",
              "    fill: var(--disabled-fill-color);\n",
              "    box-shadow: none;\n",
              "  }\n",
              "\n",
              "  .colab-df-spinner {\n",
              "    border: 2px solid var(--fill-color);\n",
              "    border-color: transparent;\n",
              "    border-bottom-color: var(--fill-color);\n",
              "    animation:\n",
              "      spin 1s steps(1) infinite;\n",
              "  }\n",
              "\n",
              "  @keyframes spin {\n",
              "    0% {\n",
              "      border-color: transparent;\n",
              "      border-bottom-color: var(--fill-color);\n",
              "      border-left-color: var(--fill-color);\n",
              "    }\n",
              "    20% {\n",
              "      border-color: transparent;\n",
              "      border-left-color: var(--fill-color);\n",
              "      border-top-color: var(--fill-color);\n",
              "    }\n",
              "    30% {\n",
              "      border-color: transparent;\n",
              "      border-left-color: var(--fill-color);\n",
              "      border-top-color: var(--fill-color);\n",
              "      border-right-color: var(--fill-color);\n",
              "    }\n",
              "    40% {\n",
              "      border-color: transparent;\n",
              "      border-right-color: var(--fill-color);\n",
              "      border-top-color: var(--fill-color);\n",
              "    }\n",
              "    60% {\n",
              "      border-color: transparent;\n",
              "      border-right-color: var(--fill-color);\n",
              "    }\n",
              "    80% {\n",
              "      border-color: transparent;\n",
              "      border-right-color: var(--fill-color);\n",
              "      border-bottom-color: var(--fill-color);\n",
              "    }\n",
              "    90% {\n",
              "      border-color: transparent;\n",
              "      border-bottom-color: var(--fill-color);\n",
              "    }\n",
              "  }\n",
              "</style>\n",
              "\n",
              "      <script>\n",
              "        async function quickchart(key) {\n",
              "          const quickchartButtonEl =\n",
              "            document.querySelector('#' + key + ' button');\n",
              "          quickchartButtonEl.disabled = true;  // To prevent multiple clicks.\n",
              "          quickchartButtonEl.classList.add('colab-df-spinner');\n",
              "          try {\n",
              "            const charts = await google.colab.kernel.invokeFunction(\n",
              "                'suggestCharts', [key], {});\n",
              "          } catch (error) {\n",
              "            console.error('Error during call to suggestCharts:', error);\n",
              "          }\n",
              "          quickchartButtonEl.classList.remove('colab-df-spinner');\n",
              "          quickchartButtonEl.classList.add('colab-df-quickchart-complete');\n",
              "        }\n",
              "        (() => {\n",
              "          let quickchartButtonEl =\n",
              "            document.querySelector('#df-fc337c1f-3438-44d4-8796-313932b59b57 button');\n",
              "          quickchartButtonEl.style.display =\n",
              "            google.colab.kernel.accessAllowed ? 'block' : 'none';\n",
              "        })();\n",
              "      </script>\n",
              "    </div>\n",
              "\n",
              "  <div id=\"id_97d0519b-ca6e-4dd3-98a9-587ab02abb2d\">\n",
              "    <style>\n",
              "      .colab-df-generate {\n",
              "        background-color: #E8F0FE;\n",
              "        border: none;\n",
              "        border-radius: 50%;\n",
              "        cursor: pointer;\n",
              "        display: none;\n",
              "        fill: #1967D2;\n",
              "        height: 32px;\n",
              "        padding: 0 0 0 0;\n",
              "        width: 32px;\n",
              "      }\n",
              "\n",
              "      .colab-df-generate:hover {\n",
              "        background-color: #E2EBFA;\n",
              "        box-shadow: 0px 1px 2px rgba(60, 64, 67, 0.3), 0px 1px 3px 1px rgba(60, 64, 67, 0.15);\n",
              "        fill: #174EA6;\n",
              "      }\n",
              "\n",
              "      [theme=dark] .colab-df-generate {\n",
              "        background-color: #3B4455;\n",
              "        fill: #D2E3FC;\n",
              "      }\n",
              "\n",
              "      [theme=dark] .colab-df-generate:hover {\n",
              "        background-color: #434B5C;\n",
              "        box-shadow: 0px 1px 3px 1px rgba(0, 0, 0, 0.15);\n",
              "        filter: drop-shadow(0px 1px 2px rgba(0, 0, 0, 0.3));\n",
              "        fill: #FFFFFF;\n",
              "      }\n",
              "    </style>\n",
              "    <button class=\"colab-df-generate\" onclick=\"generateWithVariable('df')\"\n",
              "            title=\"Generate code using this dataframe.\"\n",
              "            style=\"display:none;\">\n",
              "\n",
              "  <svg xmlns=\"http://www.w3.org/2000/svg\" height=\"24px\"viewBox=\"0 0 24 24\"\n",
              "       width=\"24px\">\n",
              "    <path d=\"M7,19H8.4L18.45,9,17,7.55,7,17.6ZM5,21V16.75L18.45,3.32a2,2,0,0,1,2.83,0l1.4,1.43a1.91,1.91,0,0,1,.58,1.4,1.91,1.91,0,0,1-.58,1.4L9.25,21ZM18.45,9,17,7.55Zm-12,3A5.31,5.31,0,0,0,4.9,8.1,5.31,5.31,0,0,0,1,6.5,5.31,5.31,0,0,0,4.9,4.9,5.31,5.31,0,0,0,6.5,1,5.31,5.31,0,0,0,8.1,4.9,5.31,5.31,0,0,0,12,6.5,5.46,5.46,0,0,0,6.5,12Z\"/>\n",
              "  </svg>\n",
              "    </button>\n",
              "    <script>\n",
              "      (() => {\n",
              "      const buttonEl =\n",
              "        document.querySelector('#id_97d0519b-ca6e-4dd3-98a9-587ab02abb2d button.colab-df-generate');\n",
              "      buttonEl.style.display =\n",
              "        google.colab.kernel.accessAllowed ? 'block' : 'none';\n",
              "\n",
              "      buttonEl.onclick = () => {\n",
              "        google.colab.notebook.generateWithVariable('df');\n",
              "      }\n",
              "      })();\n",
              "    </script>\n",
              "  </div>\n",
              "\n",
              "    </div>\n",
              "  </div>\n"
            ],
            "application/vnd.google.colaboratory.intrinsic+json": {
              "type": "dataframe",
              "variable_name": "df",
              "summary": "{\n  \"name\": \"df\",\n  \"rows\": 3,\n  \"fields\": [\n    {\n      \"column\": \"Name\",\n      \"properties\": {\n        \"dtype\": \"string\",\n        \"num_unique_values\": 3,\n        \"samples\": [\n          \"Alice\",\n          \"Bob\",\n          \"Charlie\"\n        ],\n        \"semantic_type\": \"\",\n        \"description\": \"\"\n      }\n    },\n    {\n      \"column\": \"Age\",\n      \"properties\": {\n        \"dtype\": \"number\",\n        \"std\": 2,\n        \"min\": 25,\n        \"max\": 30,\n        \"num_unique_values\": 3,\n        \"samples\": [\n          25,\n          30,\n          28\n        ],\n        \"semantic_type\": \"\",\n        \"description\": \"\"\n      }\n    },\n    {\n      \"column\": \"City\",\n      \"properties\": {\n        \"dtype\": \"string\",\n        \"num_unique_values\": 3,\n        \"samples\": [\n          \"New York\",\n          \"Chicago\",\n          \"Boston\"\n        ],\n        \"semantic_type\": \"\",\n        \"description\": \"\"\n      }\n    },\n    {\n      \"column\": \"Salary\",\n      \"properties\": {\n        \"dtype\": \"number\",\n        \"std\": 5000,\n        \"min\": 70000,\n        \"max\": 80000,\n        \"num_unique_values\": 3,\n        \"samples\": [\n          70000,\n          80000,\n          75000\n        ],\n        \"semantic_type\": \"\",\n        \"description\": \"\"\n      }\n    }\n  ]\n}"
            }
          },
          "metadata": {},
          "execution_count": 58
        }
      ]
    },
    {
      "cell_type": "code",
      "source": [
        "df['Salary']=df['Salary']*0.1\n",
        "df"
      ],
      "metadata": {
        "colab": {
          "base_uri": "https://localhost:8080/",
          "height": 143
        },
        "id": "SxpNMLMGFl9R",
        "outputId": "20f732fc-0bb9-4ebc-8177-eac42f70198d"
      },
      "execution_count": 59,
      "outputs": [
        {
          "output_type": "execute_result",
          "data": {
            "text/plain": [
              "      Name  Age      City  Salary\n",
              "0    Alice   25  New York  7000.0\n",
              "1      Bob   30   Chicago  8000.0\n",
              "2  Charlie   28    Boston  7500.0"
            ],
            "text/html": [
              "\n",
              "  <div id=\"df-f1d27161-0811-4800-b2e1-efdc238d9587\" class=\"colab-df-container\">\n",
              "    <div>\n",
              "<style scoped>\n",
              "    .dataframe tbody tr th:only-of-type {\n",
              "        vertical-align: middle;\n",
              "    }\n",
              "\n",
              "    .dataframe tbody tr th {\n",
              "        vertical-align: top;\n",
              "    }\n",
              "\n",
              "    .dataframe thead th {\n",
              "        text-align: right;\n",
              "    }\n",
              "</style>\n",
              "<table border=\"1\" class=\"dataframe\">\n",
              "  <thead>\n",
              "    <tr style=\"text-align: right;\">\n",
              "      <th></th>\n",
              "      <th>Name</th>\n",
              "      <th>Age</th>\n",
              "      <th>City</th>\n",
              "      <th>Salary</th>\n",
              "    </tr>\n",
              "  </thead>\n",
              "  <tbody>\n",
              "    <tr>\n",
              "      <th>0</th>\n",
              "      <td>Alice</td>\n",
              "      <td>25</td>\n",
              "      <td>New York</td>\n",
              "      <td>7000.0</td>\n",
              "    </tr>\n",
              "    <tr>\n",
              "      <th>1</th>\n",
              "      <td>Bob</td>\n",
              "      <td>30</td>\n",
              "      <td>Chicago</td>\n",
              "      <td>8000.0</td>\n",
              "    </tr>\n",
              "    <tr>\n",
              "      <th>2</th>\n",
              "      <td>Charlie</td>\n",
              "      <td>28</td>\n",
              "      <td>Boston</td>\n",
              "      <td>7500.0</td>\n",
              "    </tr>\n",
              "  </tbody>\n",
              "</table>\n",
              "</div>\n",
              "    <div class=\"colab-df-buttons\">\n",
              "\n",
              "  <div class=\"colab-df-container\">\n",
              "    <button class=\"colab-df-convert\" onclick=\"convertToInteractive('df-f1d27161-0811-4800-b2e1-efdc238d9587')\"\n",
              "            title=\"Convert this dataframe to an interactive table.\"\n",
              "            style=\"display:none;\">\n",
              "\n",
              "  <svg xmlns=\"http://www.w3.org/2000/svg\" height=\"24px\" viewBox=\"0 -960 960 960\">\n",
              "    <path d=\"M120-120v-720h720v720H120Zm60-500h600v-160H180v160Zm220 220h160v-160H400v160Zm0 220h160v-160H400v160ZM180-400h160v-160H180v160Zm440 0h160v-160H620v160ZM180-180h160v-160H180v160Zm440 0h160v-160H620v160Z\"/>\n",
              "  </svg>\n",
              "    </button>\n",
              "\n",
              "  <style>\n",
              "    .colab-df-container {\n",
              "      display:flex;\n",
              "      gap: 12px;\n",
              "    }\n",
              "\n",
              "    .colab-df-convert {\n",
              "      background-color: #E8F0FE;\n",
              "      border: none;\n",
              "      border-radius: 50%;\n",
              "      cursor: pointer;\n",
              "      display: none;\n",
              "      fill: #1967D2;\n",
              "      height: 32px;\n",
              "      padding: 0 0 0 0;\n",
              "      width: 32px;\n",
              "    }\n",
              "\n",
              "    .colab-df-convert:hover {\n",
              "      background-color: #E2EBFA;\n",
              "      box-shadow: 0px 1px 2px rgba(60, 64, 67, 0.3), 0px 1px 3px 1px rgba(60, 64, 67, 0.15);\n",
              "      fill: #174EA6;\n",
              "    }\n",
              "\n",
              "    .colab-df-buttons div {\n",
              "      margin-bottom: 4px;\n",
              "    }\n",
              "\n",
              "    [theme=dark] .colab-df-convert {\n",
              "      background-color: #3B4455;\n",
              "      fill: #D2E3FC;\n",
              "    }\n",
              "\n",
              "    [theme=dark] .colab-df-convert:hover {\n",
              "      background-color: #434B5C;\n",
              "      box-shadow: 0px 1px 3px 1px rgba(0, 0, 0, 0.15);\n",
              "      filter: drop-shadow(0px 1px 2px rgba(0, 0, 0, 0.3));\n",
              "      fill: #FFFFFF;\n",
              "    }\n",
              "  </style>\n",
              "\n",
              "    <script>\n",
              "      const buttonEl =\n",
              "        document.querySelector('#df-f1d27161-0811-4800-b2e1-efdc238d9587 button.colab-df-convert');\n",
              "      buttonEl.style.display =\n",
              "        google.colab.kernel.accessAllowed ? 'block' : 'none';\n",
              "\n",
              "      async function convertToInteractive(key) {\n",
              "        const element = document.querySelector('#df-f1d27161-0811-4800-b2e1-efdc238d9587');\n",
              "        const dataTable =\n",
              "          await google.colab.kernel.invokeFunction('convertToInteractive',\n",
              "                                                    [key], {});\n",
              "        if (!dataTable) return;\n",
              "\n",
              "        const docLinkHtml = 'Like what you see? Visit the ' +\n",
              "          '<a target=\"_blank\" href=https://colab.research.google.com/notebooks/data_table.ipynb>data table notebook</a>'\n",
              "          + ' to learn more about interactive tables.';\n",
              "        element.innerHTML = '';\n",
              "        dataTable['output_type'] = 'display_data';\n",
              "        await google.colab.output.renderOutput(dataTable, element);\n",
              "        const docLink = document.createElement('div');\n",
              "        docLink.innerHTML = docLinkHtml;\n",
              "        element.appendChild(docLink);\n",
              "      }\n",
              "    </script>\n",
              "  </div>\n",
              "\n",
              "\n",
              "    <div id=\"df-66bf2b93-079d-44ce-bb5f-c127771c5068\">\n",
              "      <button class=\"colab-df-quickchart\" onclick=\"quickchart('df-66bf2b93-079d-44ce-bb5f-c127771c5068')\"\n",
              "                title=\"Suggest charts\"\n",
              "                style=\"display:none;\">\n",
              "\n",
              "<svg xmlns=\"http://www.w3.org/2000/svg\" height=\"24px\"viewBox=\"0 0 24 24\"\n",
              "     width=\"24px\">\n",
              "    <g>\n",
              "        <path d=\"M19 3H5c-1.1 0-2 .9-2 2v14c0 1.1.9 2 2 2h14c1.1 0 2-.9 2-2V5c0-1.1-.9-2-2-2zM9 17H7v-7h2v7zm4 0h-2V7h2v10zm4 0h-2v-4h2v4z\"/>\n",
              "    </g>\n",
              "</svg>\n",
              "      </button>\n",
              "\n",
              "<style>\n",
              "  .colab-df-quickchart {\n",
              "      --bg-color: #E8F0FE;\n",
              "      --fill-color: #1967D2;\n",
              "      --hover-bg-color: #E2EBFA;\n",
              "      --hover-fill-color: #174EA6;\n",
              "      --disabled-fill-color: #AAA;\n",
              "      --disabled-bg-color: #DDD;\n",
              "  }\n",
              "\n",
              "  [theme=dark] .colab-df-quickchart {\n",
              "      --bg-color: #3B4455;\n",
              "      --fill-color: #D2E3FC;\n",
              "      --hover-bg-color: #434B5C;\n",
              "      --hover-fill-color: #FFFFFF;\n",
              "      --disabled-bg-color: #3B4455;\n",
              "      --disabled-fill-color: #666;\n",
              "  }\n",
              "\n",
              "  .colab-df-quickchart {\n",
              "    background-color: var(--bg-color);\n",
              "    border: none;\n",
              "    border-radius: 50%;\n",
              "    cursor: pointer;\n",
              "    display: none;\n",
              "    fill: var(--fill-color);\n",
              "    height: 32px;\n",
              "    padding: 0;\n",
              "    width: 32px;\n",
              "  }\n",
              "\n",
              "  .colab-df-quickchart:hover {\n",
              "    background-color: var(--hover-bg-color);\n",
              "    box-shadow: 0 1px 2px rgba(60, 64, 67, 0.3), 0 1px 3px 1px rgba(60, 64, 67, 0.15);\n",
              "    fill: var(--button-hover-fill-color);\n",
              "  }\n",
              "\n",
              "  .colab-df-quickchart-complete:disabled,\n",
              "  .colab-df-quickchart-complete:disabled:hover {\n",
              "    background-color: var(--disabled-bg-color);\n",
              "    fill: var(--disabled-fill-color);\n",
              "    box-shadow: none;\n",
              "  }\n",
              "\n",
              "  .colab-df-spinner {\n",
              "    border: 2px solid var(--fill-color);\n",
              "    border-color: transparent;\n",
              "    border-bottom-color: var(--fill-color);\n",
              "    animation:\n",
              "      spin 1s steps(1) infinite;\n",
              "  }\n",
              "\n",
              "  @keyframes spin {\n",
              "    0% {\n",
              "      border-color: transparent;\n",
              "      border-bottom-color: var(--fill-color);\n",
              "      border-left-color: var(--fill-color);\n",
              "    }\n",
              "    20% {\n",
              "      border-color: transparent;\n",
              "      border-left-color: var(--fill-color);\n",
              "      border-top-color: var(--fill-color);\n",
              "    }\n",
              "    30% {\n",
              "      border-color: transparent;\n",
              "      border-left-color: var(--fill-color);\n",
              "      border-top-color: var(--fill-color);\n",
              "      border-right-color: var(--fill-color);\n",
              "    }\n",
              "    40% {\n",
              "      border-color: transparent;\n",
              "      border-right-color: var(--fill-color);\n",
              "      border-top-color: var(--fill-color);\n",
              "    }\n",
              "    60% {\n",
              "      border-color: transparent;\n",
              "      border-right-color: var(--fill-color);\n",
              "    }\n",
              "    80% {\n",
              "      border-color: transparent;\n",
              "      border-right-color: var(--fill-color);\n",
              "      border-bottom-color: var(--fill-color);\n",
              "    }\n",
              "    90% {\n",
              "      border-color: transparent;\n",
              "      border-bottom-color: var(--fill-color);\n",
              "    }\n",
              "  }\n",
              "</style>\n",
              "\n",
              "      <script>\n",
              "        async function quickchart(key) {\n",
              "          const quickchartButtonEl =\n",
              "            document.querySelector('#' + key + ' button');\n",
              "          quickchartButtonEl.disabled = true;  // To prevent multiple clicks.\n",
              "          quickchartButtonEl.classList.add('colab-df-spinner');\n",
              "          try {\n",
              "            const charts = await google.colab.kernel.invokeFunction(\n",
              "                'suggestCharts', [key], {});\n",
              "          } catch (error) {\n",
              "            console.error('Error during call to suggestCharts:', error);\n",
              "          }\n",
              "          quickchartButtonEl.classList.remove('colab-df-spinner');\n",
              "          quickchartButtonEl.classList.add('colab-df-quickchart-complete');\n",
              "        }\n",
              "        (() => {\n",
              "          let quickchartButtonEl =\n",
              "            document.querySelector('#df-66bf2b93-079d-44ce-bb5f-c127771c5068 button');\n",
              "          quickchartButtonEl.style.display =\n",
              "            google.colab.kernel.accessAllowed ? 'block' : 'none';\n",
              "        })();\n",
              "      </script>\n",
              "    </div>\n",
              "\n",
              "  <div id=\"id_77f15304-8be0-43ff-b0a6-48d166a75e22\">\n",
              "    <style>\n",
              "      .colab-df-generate {\n",
              "        background-color: #E8F0FE;\n",
              "        border: none;\n",
              "        border-radius: 50%;\n",
              "        cursor: pointer;\n",
              "        display: none;\n",
              "        fill: #1967D2;\n",
              "        height: 32px;\n",
              "        padding: 0 0 0 0;\n",
              "        width: 32px;\n",
              "      }\n",
              "\n",
              "      .colab-df-generate:hover {\n",
              "        background-color: #E2EBFA;\n",
              "        box-shadow: 0px 1px 2px rgba(60, 64, 67, 0.3), 0px 1px 3px 1px rgba(60, 64, 67, 0.15);\n",
              "        fill: #174EA6;\n",
              "      }\n",
              "\n",
              "      [theme=dark] .colab-df-generate {\n",
              "        background-color: #3B4455;\n",
              "        fill: #D2E3FC;\n",
              "      }\n",
              "\n",
              "      [theme=dark] .colab-df-generate:hover {\n",
              "        background-color: #434B5C;\n",
              "        box-shadow: 0px 1px 3px 1px rgba(0, 0, 0, 0.15);\n",
              "        filter: drop-shadow(0px 1px 2px rgba(0, 0, 0, 0.3));\n",
              "        fill: #FFFFFF;\n",
              "      }\n",
              "    </style>\n",
              "    <button class=\"colab-df-generate\" onclick=\"generateWithVariable('df')\"\n",
              "            title=\"Generate code using this dataframe.\"\n",
              "            style=\"display:none;\">\n",
              "\n",
              "  <svg xmlns=\"http://www.w3.org/2000/svg\" height=\"24px\"viewBox=\"0 0 24 24\"\n",
              "       width=\"24px\">\n",
              "    <path d=\"M7,19H8.4L18.45,9,17,7.55,7,17.6ZM5,21V16.75L18.45,3.32a2,2,0,0,1,2.83,0l1.4,1.43a1.91,1.91,0,0,1,.58,1.4,1.91,1.91,0,0,1-.58,1.4L9.25,21ZM18.45,9,17,7.55Zm-12,3A5.31,5.31,0,0,0,4.9,8.1,5.31,5.31,0,0,0,1,6.5,5.31,5.31,0,0,0,4.9,4.9,5.31,5.31,0,0,0,6.5,1,5.31,5.31,0,0,0,8.1,4.9,5.31,5.31,0,0,0,12,6.5,5.46,5.46,0,0,0,6.5,12Z\"/>\n",
              "  </svg>\n",
              "    </button>\n",
              "    <script>\n",
              "      (() => {\n",
              "      const buttonEl =\n",
              "        document.querySelector('#id_77f15304-8be0-43ff-b0a6-48d166a75e22 button.colab-df-generate');\n",
              "      buttonEl.style.display =\n",
              "        google.colab.kernel.accessAllowed ? 'block' : 'none';\n",
              "\n",
              "      buttonEl.onclick = () => {\n",
              "        google.colab.notebook.generateWithVariable('df');\n",
              "      }\n",
              "      })();\n",
              "    </script>\n",
              "  </div>\n",
              "\n",
              "    </div>\n",
              "  </div>\n"
            ],
            "application/vnd.google.colaboratory.intrinsic+json": {
              "type": "dataframe",
              "variable_name": "df",
              "summary": "{\n  \"name\": \"df\",\n  \"rows\": 3,\n  \"fields\": [\n    {\n      \"column\": \"Name\",\n      \"properties\": {\n        \"dtype\": \"string\",\n        \"num_unique_values\": 3,\n        \"samples\": [\n          \"Alice\",\n          \"Bob\",\n          \"Charlie\"\n        ],\n        \"semantic_type\": \"\",\n        \"description\": \"\"\n      }\n    },\n    {\n      \"column\": \"Age\",\n      \"properties\": {\n        \"dtype\": \"number\",\n        \"std\": 2,\n        \"min\": 25,\n        \"max\": 30,\n        \"num_unique_values\": 3,\n        \"samples\": [\n          25,\n          30,\n          28\n        ],\n        \"semantic_type\": \"\",\n        \"description\": \"\"\n      }\n    },\n    {\n      \"column\": \"City\",\n      \"properties\": {\n        \"dtype\": \"string\",\n        \"num_unique_values\": 3,\n        \"samples\": [\n          \"New York\",\n          \"Chicago\",\n          \"Boston\"\n        ],\n        \"semantic_type\": \"\",\n        \"description\": \"\"\n      }\n    },\n    {\n      \"column\": \"Salary\",\n      \"properties\": {\n        \"dtype\": \"number\",\n        \"std\": 500.0,\n        \"min\": 7000.0,\n        \"max\": 8000.0,\n        \"num_unique_values\": 3,\n        \"samples\": [\n          7000.0,\n          8000.0,\n          7500.0\n        ],\n        \"semantic_type\": \"\",\n        \"description\": \"\"\n      }\n    }\n  ]\n}"
            }
          },
          "metadata": {},
          "execution_count": 59
        }
      ]
    },
    {
      "cell_type": "code",
      "source": [
        "df['Age']=df['Age']+1\n",
        "df"
      ],
      "metadata": {
        "colab": {
          "base_uri": "https://localhost:8080/",
          "height": 143
        },
        "id": "dpPCcu5YFl5w",
        "outputId": "0c9cb638-eb82-4fb7-c12a-3be05f5c12d7"
      },
      "execution_count": 60,
      "outputs": [
        {
          "output_type": "execute_result",
          "data": {
            "text/plain": [
              "      Name  Age      City  Salary\n",
              "0    Alice   26  New York  7000.0\n",
              "1      Bob   31   Chicago  8000.0\n",
              "2  Charlie   29    Boston  7500.0"
            ],
            "text/html": [
              "\n",
              "  <div id=\"df-80dba4ff-5c7f-4c33-8aea-b4f538d3512b\" class=\"colab-df-container\">\n",
              "    <div>\n",
              "<style scoped>\n",
              "    .dataframe tbody tr th:only-of-type {\n",
              "        vertical-align: middle;\n",
              "    }\n",
              "\n",
              "    .dataframe tbody tr th {\n",
              "        vertical-align: top;\n",
              "    }\n",
              "\n",
              "    .dataframe thead th {\n",
              "        text-align: right;\n",
              "    }\n",
              "</style>\n",
              "<table border=\"1\" class=\"dataframe\">\n",
              "  <thead>\n",
              "    <tr style=\"text-align: right;\">\n",
              "      <th></th>\n",
              "      <th>Name</th>\n",
              "      <th>Age</th>\n",
              "      <th>City</th>\n",
              "      <th>Salary</th>\n",
              "    </tr>\n",
              "  </thead>\n",
              "  <tbody>\n",
              "    <tr>\n",
              "      <th>0</th>\n",
              "      <td>Alice</td>\n",
              "      <td>26</td>\n",
              "      <td>New York</td>\n",
              "      <td>7000.0</td>\n",
              "    </tr>\n",
              "    <tr>\n",
              "      <th>1</th>\n",
              "      <td>Bob</td>\n",
              "      <td>31</td>\n",
              "      <td>Chicago</td>\n",
              "      <td>8000.0</td>\n",
              "    </tr>\n",
              "    <tr>\n",
              "      <th>2</th>\n",
              "      <td>Charlie</td>\n",
              "      <td>29</td>\n",
              "      <td>Boston</td>\n",
              "      <td>7500.0</td>\n",
              "    </tr>\n",
              "  </tbody>\n",
              "</table>\n",
              "</div>\n",
              "    <div class=\"colab-df-buttons\">\n",
              "\n",
              "  <div class=\"colab-df-container\">\n",
              "    <button class=\"colab-df-convert\" onclick=\"convertToInteractive('df-80dba4ff-5c7f-4c33-8aea-b4f538d3512b')\"\n",
              "            title=\"Convert this dataframe to an interactive table.\"\n",
              "            style=\"display:none;\">\n",
              "\n",
              "  <svg xmlns=\"http://www.w3.org/2000/svg\" height=\"24px\" viewBox=\"0 -960 960 960\">\n",
              "    <path d=\"M120-120v-720h720v720H120Zm60-500h600v-160H180v160Zm220 220h160v-160H400v160Zm0 220h160v-160H400v160ZM180-400h160v-160H180v160Zm440 0h160v-160H620v160ZM180-180h160v-160H180v160Zm440 0h160v-160H620v160Z\"/>\n",
              "  </svg>\n",
              "    </button>\n",
              "\n",
              "  <style>\n",
              "    .colab-df-container {\n",
              "      display:flex;\n",
              "      gap: 12px;\n",
              "    }\n",
              "\n",
              "    .colab-df-convert {\n",
              "      background-color: #E8F0FE;\n",
              "      border: none;\n",
              "      border-radius: 50%;\n",
              "      cursor: pointer;\n",
              "      display: none;\n",
              "      fill: #1967D2;\n",
              "      height: 32px;\n",
              "      padding: 0 0 0 0;\n",
              "      width: 32px;\n",
              "    }\n",
              "\n",
              "    .colab-df-convert:hover {\n",
              "      background-color: #E2EBFA;\n",
              "      box-shadow: 0px 1px 2px rgba(60, 64, 67, 0.3), 0px 1px 3px 1px rgba(60, 64, 67, 0.15);\n",
              "      fill: #174EA6;\n",
              "    }\n",
              "\n",
              "    .colab-df-buttons div {\n",
              "      margin-bottom: 4px;\n",
              "    }\n",
              "\n",
              "    [theme=dark] .colab-df-convert {\n",
              "      background-color: #3B4455;\n",
              "      fill: #D2E3FC;\n",
              "    }\n",
              "\n",
              "    [theme=dark] .colab-df-convert:hover {\n",
              "      background-color: #434B5C;\n",
              "      box-shadow: 0px 1px 3px 1px rgba(0, 0, 0, 0.15);\n",
              "      filter: drop-shadow(0px 1px 2px rgba(0, 0, 0, 0.3));\n",
              "      fill: #FFFFFF;\n",
              "    }\n",
              "  </style>\n",
              "\n",
              "    <script>\n",
              "      const buttonEl =\n",
              "        document.querySelector('#df-80dba4ff-5c7f-4c33-8aea-b4f538d3512b button.colab-df-convert');\n",
              "      buttonEl.style.display =\n",
              "        google.colab.kernel.accessAllowed ? 'block' : 'none';\n",
              "\n",
              "      async function convertToInteractive(key) {\n",
              "        const element = document.querySelector('#df-80dba4ff-5c7f-4c33-8aea-b4f538d3512b');\n",
              "        const dataTable =\n",
              "          await google.colab.kernel.invokeFunction('convertToInteractive',\n",
              "                                                    [key], {});\n",
              "        if (!dataTable) return;\n",
              "\n",
              "        const docLinkHtml = 'Like what you see? Visit the ' +\n",
              "          '<a target=\"_blank\" href=https://colab.research.google.com/notebooks/data_table.ipynb>data table notebook</a>'\n",
              "          + ' to learn more about interactive tables.';\n",
              "        element.innerHTML = '';\n",
              "        dataTable['output_type'] = 'display_data';\n",
              "        await google.colab.output.renderOutput(dataTable, element);\n",
              "        const docLink = document.createElement('div');\n",
              "        docLink.innerHTML = docLinkHtml;\n",
              "        element.appendChild(docLink);\n",
              "      }\n",
              "    </script>\n",
              "  </div>\n",
              "\n",
              "\n",
              "    <div id=\"df-4c80f53e-16e5-4046-a5e3-79f5399fc515\">\n",
              "      <button class=\"colab-df-quickchart\" onclick=\"quickchart('df-4c80f53e-16e5-4046-a5e3-79f5399fc515')\"\n",
              "                title=\"Suggest charts\"\n",
              "                style=\"display:none;\">\n",
              "\n",
              "<svg xmlns=\"http://www.w3.org/2000/svg\" height=\"24px\"viewBox=\"0 0 24 24\"\n",
              "     width=\"24px\">\n",
              "    <g>\n",
              "        <path d=\"M19 3H5c-1.1 0-2 .9-2 2v14c0 1.1.9 2 2 2h14c1.1 0 2-.9 2-2V5c0-1.1-.9-2-2-2zM9 17H7v-7h2v7zm4 0h-2V7h2v10zm4 0h-2v-4h2v4z\"/>\n",
              "    </g>\n",
              "</svg>\n",
              "      </button>\n",
              "\n",
              "<style>\n",
              "  .colab-df-quickchart {\n",
              "      --bg-color: #E8F0FE;\n",
              "      --fill-color: #1967D2;\n",
              "      --hover-bg-color: #E2EBFA;\n",
              "      --hover-fill-color: #174EA6;\n",
              "      --disabled-fill-color: #AAA;\n",
              "      --disabled-bg-color: #DDD;\n",
              "  }\n",
              "\n",
              "  [theme=dark] .colab-df-quickchart {\n",
              "      --bg-color: #3B4455;\n",
              "      --fill-color: #D2E3FC;\n",
              "      --hover-bg-color: #434B5C;\n",
              "      --hover-fill-color: #FFFFFF;\n",
              "      --disabled-bg-color: #3B4455;\n",
              "      --disabled-fill-color: #666;\n",
              "  }\n",
              "\n",
              "  .colab-df-quickchart {\n",
              "    background-color: var(--bg-color);\n",
              "    border: none;\n",
              "    border-radius: 50%;\n",
              "    cursor: pointer;\n",
              "    display: none;\n",
              "    fill: var(--fill-color);\n",
              "    height: 32px;\n",
              "    padding: 0;\n",
              "    width: 32px;\n",
              "  }\n",
              "\n",
              "  .colab-df-quickchart:hover {\n",
              "    background-color: var(--hover-bg-color);\n",
              "    box-shadow: 0 1px 2px rgba(60, 64, 67, 0.3), 0 1px 3px 1px rgba(60, 64, 67, 0.15);\n",
              "    fill: var(--button-hover-fill-color);\n",
              "  }\n",
              "\n",
              "  .colab-df-quickchart-complete:disabled,\n",
              "  .colab-df-quickchart-complete:disabled:hover {\n",
              "    background-color: var(--disabled-bg-color);\n",
              "    fill: var(--disabled-fill-color);\n",
              "    box-shadow: none;\n",
              "  }\n",
              "\n",
              "  .colab-df-spinner {\n",
              "    border: 2px solid var(--fill-color);\n",
              "    border-color: transparent;\n",
              "    border-bottom-color: var(--fill-color);\n",
              "    animation:\n",
              "      spin 1s steps(1) infinite;\n",
              "  }\n",
              "\n",
              "  @keyframes spin {\n",
              "    0% {\n",
              "      border-color: transparent;\n",
              "      border-bottom-color: var(--fill-color);\n",
              "      border-left-color: var(--fill-color);\n",
              "    }\n",
              "    20% {\n",
              "      border-color: transparent;\n",
              "      border-left-color: var(--fill-color);\n",
              "      border-top-color: var(--fill-color);\n",
              "    }\n",
              "    30% {\n",
              "      border-color: transparent;\n",
              "      border-left-color: var(--fill-color);\n",
              "      border-top-color: var(--fill-color);\n",
              "      border-right-color: var(--fill-color);\n",
              "    }\n",
              "    40% {\n",
              "      border-color: transparent;\n",
              "      border-right-color: var(--fill-color);\n",
              "      border-top-color: var(--fill-color);\n",
              "    }\n",
              "    60% {\n",
              "      border-color: transparent;\n",
              "      border-right-color: var(--fill-color);\n",
              "    }\n",
              "    80% {\n",
              "      border-color: transparent;\n",
              "      border-right-color: var(--fill-color);\n",
              "      border-bottom-color: var(--fill-color);\n",
              "    }\n",
              "    90% {\n",
              "      border-color: transparent;\n",
              "      border-bottom-color: var(--fill-color);\n",
              "    }\n",
              "  }\n",
              "</style>\n",
              "\n",
              "      <script>\n",
              "        async function quickchart(key) {\n",
              "          const quickchartButtonEl =\n",
              "            document.querySelector('#' + key + ' button');\n",
              "          quickchartButtonEl.disabled = true;  // To prevent multiple clicks.\n",
              "          quickchartButtonEl.classList.add('colab-df-spinner');\n",
              "          try {\n",
              "            const charts = await google.colab.kernel.invokeFunction(\n",
              "                'suggestCharts', [key], {});\n",
              "          } catch (error) {\n",
              "            console.error('Error during call to suggestCharts:', error);\n",
              "          }\n",
              "          quickchartButtonEl.classList.remove('colab-df-spinner');\n",
              "          quickchartButtonEl.classList.add('colab-df-quickchart-complete');\n",
              "        }\n",
              "        (() => {\n",
              "          let quickchartButtonEl =\n",
              "            document.querySelector('#df-4c80f53e-16e5-4046-a5e3-79f5399fc515 button');\n",
              "          quickchartButtonEl.style.display =\n",
              "            google.colab.kernel.accessAllowed ? 'block' : 'none';\n",
              "        })();\n",
              "      </script>\n",
              "    </div>\n",
              "\n",
              "  <div id=\"id_48c68a4d-6dff-4ba6-9cf7-cb3a20971f96\">\n",
              "    <style>\n",
              "      .colab-df-generate {\n",
              "        background-color: #E8F0FE;\n",
              "        border: none;\n",
              "        border-radius: 50%;\n",
              "        cursor: pointer;\n",
              "        display: none;\n",
              "        fill: #1967D2;\n",
              "        height: 32px;\n",
              "        padding: 0 0 0 0;\n",
              "        width: 32px;\n",
              "      }\n",
              "\n",
              "      .colab-df-generate:hover {\n",
              "        background-color: #E2EBFA;\n",
              "        box-shadow: 0px 1px 2px rgba(60, 64, 67, 0.3), 0px 1px 3px 1px rgba(60, 64, 67, 0.15);\n",
              "        fill: #174EA6;\n",
              "      }\n",
              "\n",
              "      [theme=dark] .colab-df-generate {\n",
              "        background-color: #3B4455;\n",
              "        fill: #D2E3FC;\n",
              "      }\n",
              "\n",
              "      [theme=dark] .colab-df-generate:hover {\n",
              "        background-color: #434B5C;\n",
              "        box-shadow: 0px 1px 3px 1px rgba(0, 0, 0, 0.15);\n",
              "        filter: drop-shadow(0px 1px 2px rgba(0, 0, 0, 0.3));\n",
              "        fill: #FFFFFF;\n",
              "      }\n",
              "    </style>\n",
              "    <button class=\"colab-df-generate\" onclick=\"generateWithVariable('df')\"\n",
              "            title=\"Generate code using this dataframe.\"\n",
              "            style=\"display:none;\">\n",
              "\n",
              "  <svg xmlns=\"http://www.w3.org/2000/svg\" height=\"24px\"viewBox=\"0 0 24 24\"\n",
              "       width=\"24px\">\n",
              "    <path d=\"M7,19H8.4L18.45,9,17,7.55,7,17.6ZM5,21V16.75L18.45,3.32a2,2,0,0,1,2.83,0l1.4,1.43a1.91,1.91,0,0,1,.58,1.4,1.91,1.91,0,0,1-.58,1.4L9.25,21ZM18.45,9,17,7.55Zm-12,3A5.31,5.31,0,0,0,4.9,8.1,5.31,5.31,0,0,0,1,6.5,5.31,5.31,0,0,0,4.9,4.9,5.31,5.31,0,0,0,6.5,1,5.31,5.31,0,0,0,8.1,4.9,5.31,5.31,0,0,0,12,6.5,5.46,5.46,0,0,0,6.5,12Z\"/>\n",
              "  </svg>\n",
              "    </button>\n",
              "    <script>\n",
              "      (() => {\n",
              "      const buttonEl =\n",
              "        document.querySelector('#id_48c68a4d-6dff-4ba6-9cf7-cb3a20971f96 button.colab-df-generate');\n",
              "      buttonEl.style.display =\n",
              "        google.colab.kernel.accessAllowed ? 'block' : 'none';\n",
              "\n",
              "      buttonEl.onclick = () => {\n",
              "        google.colab.notebook.generateWithVariable('df');\n",
              "      }\n",
              "      })();\n",
              "    </script>\n",
              "  </div>\n",
              "\n",
              "    </div>\n",
              "  </div>\n"
            ],
            "application/vnd.google.colaboratory.intrinsic+json": {
              "type": "dataframe",
              "variable_name": "df",
              "summary": "{\n  \"name\": \"df\",\n  \"rows\": 3,\n  \"fields\": [\n    {\n      \"column\": \"Name\",\n      \"properties\": {\n        \"dtype\": \"string\",\n        \"num_unique_values\": 3,\n        \"samples\": [\n          \"Alice\",\n          \"Bob\",\n          \"Charlie\"\n        ],\n        \"semantic_type\": \"\",\n        \"description\": \"\"\n      }\n    },\n    {\n      \"column\": \"Age\",\n      \"properties\": {\n        \"dtype\": \"number\",\n        \"std\": 2,\n        \"min\": 26,\n        \"max\": 31,\n        \"num_unique_values\": 3,\n        \"samples\": [\n          26,\n          31,\n          29\n        ],\n        \"semantic_type\": \"\",\n        \"description\": \"\"\n      }\n    },\n    {\n      \"column\": \"City\",\n      \"properties\": {\n        \"dtype\": \"string\",\n        \"num_unique_values\": 3,\n        \"samples\": [\n          \"New York\",\n          \"Chicago\",\n          \"Boston\"\n        ],\n        \"semantic_type\": \"\",\n        \"description\": \"\"\n      }\n    },\n    {\n      \"column\": \"Salary\",\n      \"properties\": {\n        \"dtype\": \"number\",\n        \"std\": 500.0,\n        \"min\": 7000.0,\n        \"max\": 8000.0,\n        \"num_unique_values\": 3,\n        \"samples\": [\n          7000.0,\n          8000.0,\n          7500.0\n        ],\n        \"semantic_type\": \"\",\n        \"description\": \"\"\n      }\n    }\n  ]\n}"
            }
          },
          "metadata": {},
          "execution_count": 60
        }
      ]
    },
    {
      "cell_type": "code",
      "source": [
        "df.rename(columns={'Salary':'Income'},inplace=True)\n",
        "df"
      ],
      "metadata": {
        "colab": {
          "base_uri": "https://localhost:8080/",
          "height": 143
        },
        "id": "qtuOzVssFl3F",
        "outputId": "f150eaac-545e-4029-b278-fad35df66024"
      },
      "execution_count": 61,
      "outputs": [
        {
          "output_type": "execute_result",
          "data": {
            "text/plain": [
              "      Name  Age      City  Income\n",
              "0    Alice   26  New York  7000.0\n",
              "1      Bob   31   Chicago  8000.0\n",
              "2  Charlie   29    Boston  7500.0"
            ],
            "text/html": [
              "\n",
              "  <div id=\"df-9ca3d411-dcb6-4ccb-a457-204bdf8e1c9e\" class=\"colab-df-container\">\n",
              "    <div>\n",
              "<style scoped>\n",
              "    .dataframe tbody tr th:only-of-type {\n",
              "        vertical-align: middle;\n",
              "    }\n",
              "\n",
              "    .dataframe tbody tr th {\n",
              "        vertical-align: top;\n",
              "    }\n",
              "\n",
              "    .dataframe thead th {\n",
              "        text-align: right;\n",
              "    }\n",
              "</style>\n",
              "<table border=\"1\" class=\"dataframe\">\n",
              "  <thead>\n",
              "    <tr style=\"text-align: right;\">\n",
              "      <th></th>\n",
              "      <th>Name</th>\n",
              "      <th>Age</th>\n",
              "      <th>City</th>\n",
              "      <th>Income</th>\n",
              "    </tr>\n",
              "  </thead>\n",
              "  <tbody>\n",
              "    <tr>\n",
              "      <th>0</th>\n",
              "      <td>Alice</td>\n",
              "      <td>26</td>\n",
              "      <td>New York</td>\n",
              "      <td>7000.0</td>\n",
              "    </tr>\n",
              "    <tr>\n",
              "      <th>1</th>\n",
              "      <td>Bob</td>\n",
              "      <td>31</td>\n",
              "      <td>Chicago</td>\n",
              "      <td>8000.0</td>\n",
              "    </tr>\n",
              "    <tr>\n",
              "      <th>2</th>\n",
              "      <td>Charlie</td>\n",
              "      <td>29</td>\n",
              "      <td>Boston</td>\n",
              "      <td>7500.0</td>\n",
              "    </tr>\n",
              "  </tbody>\n",
              "</table>\n",
              "</div>\n",
              "    <div class=\"colab-df-buttons\">\n",
              "\n",
              "  <div class=\"colab-df-container\">\n",
              "    <button class=\"colab-df-convert\" onclick=\"convertToInteractive('df-9ca3d411-dcb6-4ccb-a457-204bdf8e1c9e')\"\n",
              "            title=\"Convert this dataframe to an interactive table.\"\n",
              "            style=\"display:none;\">\n",
              "\n",
              "  <svg xmlns=\"http://www.w3.org/2000/svg\" height=\"24px\" viewBox=\"0 -960 960 960\">\n",
              "    <path d=\"M120-120v-720h720v720H120Zm60-500h600v-160H180v160Zm220 220h160v-160H400v160Zm0 220h160v-160H400v160ZM180-400h160v-160H180v160Zm440 0h160v-160H620v160ZM180-180h160v-160H180v160Zm440 0h160v-160H620v160Z\"/>\n",
              "  </svg>\n",
              "    </button>\n",
              "\n",
              "  <style>\n",
              "    .colab-df-container {\n",
              "      display:flex;\n",
              "      gap: 12px;\n",
              "    }\n",
              "\n",
              "    .colab-df-convert {\n",
              "      background-color: #E8F0FE;\n",
              "      border: none;\n",
              "      border-radius: 50%;\n",
              "      cursor: pointer;\n",
              "      display: none;\n",
              "      fill: #1967D2;\n",
              "      height: 32px;\n",
              "      padding: 0 0 0 0;\n",
              "      width: 32px;\n",
              "    }\n",
              "\n",
              "    .colab-df-convert:hover {\n",
              "      background-color: #E2EBFA;\n",
              "      box-shadow: 0px 1px 2px rgba(60, 64, 67, 0.3), 0px 1px 3px 1px rgba(60, 64, 67, 0.15);\n",
              "      fill: #174EA6;\n",
              "    }\n",
              "\n",
              "    .colab-df-buttons div {\n",
              "      margin-bottom: 4px;\n",
              "    }\n",
              "\n",
              "    [theme=dark] .colab-df-convert {\n",
              "      background-color: #3B4455;\n",
              "      fill: #D2E3FC;\n",
              "    }\n",
              "\n",
              "    [theme=dark] .colab-df-convert:hover {\n",
              "      background-color: #434B5C;\n",
              "      box-shadow: 0px 1px 3px 1px rgba(0, 0, 0, 0.15);\n",
              "      filter: drop-shadow(0px 1px 2px rgba(0, 0, 0, 0.3));\n",
              "      fill: #FFFFFF;\n",
              "    }\n",
              "  </style>\n",
              "\n",
              "    <script>\n",
              "      const buttonEl =\n",
              "        document.querySelector('#df-9ca3d411-dcb6-4ccb-a457-204bdf8e1c9e button.colab-df-convert');\n",
              "      buttonEl.style.display =\n",
              "        google.colab.kernel.accessAllowed ? 'block' : 'none';\n",
              "\n",
              "      async function convertToInteractive(key) {\n",
              "        const element = document.querySelector('#df-9ca3d411-dcb6-4ccb-a457-204bdf8e1c9e');\n",
              "        const dataTable =\n",
              "          await google.colab.kernel.invokeFunction('convertToInteractive',\n",
              "                                                    [key], {});\n",
              "        if (!dataTable) return;\n",
              "\n",
              "        const docLinkHtml = 'Like what you see? Visit the ' +\n",
              "          '<a target=\"_blank\" href=https://colab.research.google.com/notebooks/data_table.ipynb>data table notebook</a>'\n",
              "          + ' to learn more about interactive tables.';\n",
              "        element.innerHTML = '';\n",
              "        dataTable['output_type'] = 'display_data';\n",
              "        await google.colab.output.renderOutput(dataTable, element);\n",
              "        const docLink = document.createElement('div');\n",
              "        docLink.innerHTML = docLinkHtml;\n",
              "        element.appendChild(docLink);\n",
              "      }\n",
              "    </script>\n",
              "  </div>\n",
              "\n",
              "\n",
              "    <div id=\"df-b0924055-3c38-4c0f-96ac-070e9847d835\">\n",
              "      <button class=\"colab-df-quickchart\" onclick=\"quickchart('df-b0924055-3c38-4c0f-96ac-070e9847d835')\"\n",
              "                title=\"Suggest charts\"\n",
              "                style=\"display:none;\">\n",
              "\n",
              "<svg xmlns=\"http://www.w3.org/2000/svg\" height=\"24px\"viewBox=\"0 0 24 24\"\n",
              "     width=\"24px\">\n",
              "    <g>\n",
              "        <path d=\"M19 3H5c-1.1 0-2 .9-2 2v14c0 1.1.9 2 2 2h14c1.1 0 2-.9 2-2V5c0-1.1-.9-2-2-2zM9 17H7v-7h2v7zm4 0h-2V7h2v10zm4 0h-2v-4h2v4z\"/>\n",
              "    </g>\n",
              "</svg>\n",
              "      </button>\n",
              "\n",
              "<style>\n",
              "  .colab-df-quickchart {\n",
              "      --bg-color: #E8F0FE;\n",
              "      --fill-color: #1967D2;\n",
              "      --hover-bg-color: #E2EBFA;\n",
              "      --hover-fill-color: #174EA6;\n",
              "      --disabled-fill-color: #AAA;\n",
              "      --disabled-bg-color: #DDD;\n",
              "  }\n",
              "\n",
              "  [theme=dark] .colab-df-quickchart {\n",
              "      --bg-color: #3B4455;\n",
              "      --fill-color: #D2E3FC;\n",
              "      --hover-bg-color: #434B5C;\n",
              "      --hover-fill-color: #FFFFFF;\n",
              "      --disabled-bg-color: #3B4455;\n",
              "      --disabled-fill-color: #666;\n",
              "  }\n",
              "\n",
              "  .colab-df-quickchart {\n",
              "    background-color: var(--bg-color);\n",
              "    border: none;\n",
              "    border-radius: 50%;\n",
              "    cursor: pointer;\n",
              "    display: none;\n",
              "    fill: var(--fill-color);\n",
              "    height: 32px;\n",
              "    padding: 0;\n",
              "    width: 32px;\n",
              "  }\n",
              "\n",
              "  .colab-df-quickchart:hover {\n",
              "    background-color: var(--hover-bg-color);\n",
              "    box-shadow: 0 1px 2px rgba(60, 64, 67, 0.3), 0 1px 3px 1px rgba(60, 64, 67, 0.15);\n",
              "    fill: var(--button-hover-fill-color);\n",
              "  }\n",
              "\n",
              "  .colab-df-quickchart-complete:disabled,\n",
              "  .colab-df-quickchart-complete:disabled:hover {\n",
              "    background-color: var(--disabled-bg-color);\n",
              "    fill: var(--disabled-fill-color);\n",
              "    box-shadow: none;\n",
              "  }\n",
              "\n",
              "  .colab-df-spinner {\n",
              "    border: 2px solid var(--fill-color);\n",
              "    border-color: transparent;\n",
              "    border-bottom-color: var(--fill-color);\n",
              "    animation:\n",
              "      spin 1s steps(1) infinite;\n",
              "  }\n",
              "\n",
              "  @keyframes spin {\n",
              "    0% {\n",
              "      border-color: transparent;\n",
              "      border-bottom-color: var(--fill-color);\n",
              "      border-left-color: var(--fill-color);\n",
              "    }\n",
              "    20% {\n",
              "      border-color: transparent;\n",
              "      border-left-color: var(--fill-color);\n",
              "      border-top-color: var(--fill-color);\n",
              "    }\n",
              "    30% {\n",
              "      border-color: transparent;\n",
              "      border-left-color: var(--fill-color);\n",
              "      border-top-color: var(--fill-color);\n",
              "      border-right-color: var(--fill-color);\n",
              "    }\n",
              "    40% {\n",
              "      border-color: transparent;\n",
              "      border-right-color: var(--fill-color);\n",
              "      border-top-color: var(--fill-color);\n",
              "    }\n",
              "    60% {\n",
              "      border-color: transparent;\n",
              "      border-right-color: var(--fill-color);\n",
              "    }\n",
              "    80% {\n",
              "      border-color: transparent;\n",
              "      border-right-color: var(--fill-color);\n",
              "      border-bottom-color: var(--fill-color);\n",
              "    }\n",
              "    90% {\n",
              "      border-color: transparent;\n",
              "      border-bottom-color: var(--fill-color);\n",
              "    }\n",
              "  }\n",
              "</style>\n",
              "\n",
              "      <script>\n",
              "        async function quickchart(key) {\n",
              "          const quickchartButtonEl =\n",
              "            document.querySelector('#' + key + ' button');\n",
              "          quickchartButtonEl.disabled = true;  // To prevent multiple clicks.\n",
              "          quickchartButtonEl.classList.add('colab-df-spinner');\n",
              "          try {\n",
              "            const charts = await google.colab.kernel.invokeFunction(\n",
              "                'suggestCharts', [key], {});\n",
              "          } catch (error) {\n",
              "            console.error('Error during call to suggestCharts:', error);\n",
              "          }\n",
              "          quickchartButtonEl.classList.remove('colab-df-spinner');\n",
              "          quickchartButtonEl.classList.add('colab-df-quickchart-complete');\n",
              "        }\n",
              "        (() => {\n",
              "          let quickchartButtonEl =\n",
              "            document.querySelector('#df-b0924055-3c38-4c0f-96ac-070e9847d835 button');\n",
              "          quickchartButtonEl.style.display =\n",
              "            google.colab.kernel.accessAllowed ? 'block' : 'none';\n",
              "        })();\n",
              "      </script>\n",
              "    </div>\n",
              "\n",
              "  <div id=\"id_cca6f393-a5e7-4dea-85fa-7a3919b43d06\">\n",
              "    <style>\n",
              "      .colab-df-generate {\n",
              "        background-color: #E8F0FE;\n",
              "        border: none;\n",
              "        border-radius: 50%;\n",
              "        cursor: pointer;\n",
              "        display: none;\n",
              "        fill: #1967D2;\n",
              "        height: 32px;\n",
              "        padding: 0 0 0 0;\n",
              "        width: 32px;\n",
              "      }\n",
              "\n",
              "      .colab-df-generate:hover {\n",
              "        background-color: #E2EBFA;\n",
              "        box-shadow: 0px 1px 2px rgba(60, 64, 67, 0.3), 0px 1px 3px 1px rgba(60, 64, 67, 0.15);\n",
              "        fill: #174EA6;\n",
              "      }\n",
              "\n",
              "      [theme=dark] .colab-df-generate {\n",
              "        background-color: #3B4455;\n",
              "        fill: #D2E3FC;\n",
              "      }\n",
              "\n",
              "      [theme=dark] .colab-df-generate:hover {\n",
              "        background-color: #434B5C;\n",
              "        box-shadow: 0px 1px 3px 1px rgba(0, 0, 0, 0.15);\n",
              "        filter: drop-shadow(0px 1px 2px rgba(0, 0, 0, 0.3));\n",
              "        fill: #FFFFFF;\n",
              "      }\n",
              "    </style>\n",
              "    <button class=\"colab-df-generate\" onclick=\"generateWithVariable('df')\"\n",
              "            title=\"Generate code using this dataframe.\"\n",
              "            style=\"display:none;\">\n",
              "\n",
              "  <svg xmlns=\"http://www.w3.org/2000/svg\" height=\"24px\"viewBox=\"0 0 24 24\"\n",
              "       width=\"24px\">\n",
              "    <path d=\"M7,19H8.4L18.45,9,17,7.55,7,17.6ZM5,21V16.75L18.45,3.32a2,2,0,0,1,2.83,0l1.4,1.43a1.91,1.91,0,0,1,.58,1.4,1.91,1.91,0,0,1-.58,1.4L9.25,21ZM18.45,9,17,7.55Zm-12,3A5.31,5.31,0,0,0,4.9,8.1,5.31,5.31,0,0,0,1,6.5,5.31,5.31,0,0,0,4.9,4.9,5.31,5.31,0,0,0,6.5,1,5.31,5.31,0,0,0,8.1,4.9,5.31,5.31,0,0,0,12,6.5,5.46,5.46,0,0,0,6.5,12Z\"/>\n",
              "  </svg>\n",
              "    </button>\n",
              "    <script>\n",
              "      (() => {\n",
              "      const buttonEl =\n",
              "        document.querySelector('#id_cca6f393-a5e7-4dea-85fa-7a3919b43d06 button.colab-df-generate');\n",
              "      buttonEl.style.display =\n",
              "        google.colab.kernel.accessAllowed ? 'block' : 'none';\n",
              "\n",
              "      buttonEl.onclick = () => {\n",
              "        google.colab.notebook.generateWithVariable('df');\n",
              "      }\n",
              "      })();\n",
              "    </script>\n",
              "  </div>\n",
              "\n",
              "    </div>\n",
              "  </div>\n"
            ],
            "application/vnd.google.colaboratory.intrinsic+json": {
              "type": "dataframe",
              "variable_name": "df",
              "summary": "{\n  \"name\": \"df\",\n  \"rows\": 3,\n  \"fields\": [\n    {\n      \"column\": \"Name\",\n      \"properties\": {\n        \"dtype\": \"string\",\n        \"num_unique_values\": 3,\n        \"samples\": [\n          \"Alice\",\n          \"Bob\",\n          \"Charlie\"\n        ],\n        \"semantic_type\": \"\",\n        \"description\": \"\"\n      }\n    },\n    {\n      \"column\": \"Age\",\n      \"properties\": {\n        \"dtype\": \"number\",\n        \"std\": 2,\n        \"min\": 26,\n        \"max\": 31,\n        \"num_unique_values\": 3,\n        \"samples\": [\n          26,\n          31,\n          29\n        ],\n        \"semantic_type\": \"\",\n        \"description\": \"\"\n      }\n    },\n    {\n      \"column\": \"City\",\n      \"properties\": {\n        \"dtype\": \"string\",\n        \"num_unique_values\": 3,\n        \"samples\": [\n          \"New York\",\n          \"Chicago\",\n          \"Boston\"\n        ],\n        \"semantic_type\": \"\",\n        \"description\": \"\"\n      }\n    },\n    {\n      \"column\": \"Income\",\n      \"properties\": {\n        \"dtype\": \"number\",\n        \"std\": 500.0,\n        \"min\": 7000.0,\n        \"max\": 8000.0,\n        \"num_unique_values\": 3,\n        \"samples\": [\n          7000.0,\n          8000.0,\n          7500.0\n        ],\n        \"semantic_type\": \"\",\n        \"description\": \"\"\n      }\n    }\n  ]\n}"
            }
          },
          "metadata": {},
          "execution_count": 61
        }
      ]
    },
    {
      "cell_type": "code",
      "source": [
        "df.drop('Name',axis=1)"
      ],
      "metadata": {
        "colab": {
          "base_uri": "https://localhost:8080/",
          "height": 143
        },
        "id": "EuvJDAP7GLqk",
        "outputId": "f1a6ed56-40f6-4744-d386-43290bc7e7be"
      },
      "execution_count": 62,
      "outputs": [
        {
          "output_type": "execute_result",
          "data": {
            "text/plain": [
              "   Age      City  Income\n",
              "0   26  New York  7000.0\n",
              "1   31   Chicago  8000.0\n",
              "2   29    Boston  7500.0"
            ],
            "text/html": [
              "\n",
              "  <div id=\"df-25c1bb17-505d-432e-8e8c-d064200c1fbd\" class=\"colab-df-container\">\n",
              "    <div>\n",
              "<style scoped>\n",
              "    .dataframe tbody tr th:only-of-type {\n",
              "        vertical-align: middle;\n",
              "    }\n",
              "\n",
              "    .dataframe tbody tr th {\n",
              "        vertical-align: top;\n",
              "    }\n",
              "\n",
              "    .dataframe thead th {\n",
              "        text-align: right;\n",
              "    }\n",
              "</style>\n",
              "<table border=\"1\" class=\"dataframe\">\n",
              "  <thead>\n",
              "    <tr style=\"text-align: right;\">\n",
              "      <th></th>\n",
              "      <th>Age</th>\n",
              "      <th>City</th>\n",
              "      <th>Income</th>\n",
              "    </tr>\n",
              "  </thead>\n",
              "  <tbody>\n",
              "    <tr>\n",
              "      <th>0</th>\n",
              "      <td>26</td>\n",
              "      <td>New York</td>\n",
              "      <td>7000.0</td>\n",
              "    </tr>\n",
              "    <tr>\n",
              "      <th>1</th>\n",
              "      <td>31</td>\n",
              "      <td>Chicago</td>\n",
              "      <td>8000.0</td>\n",
              "    </tr>\n",
              "    <tr>\n",
              "      <th>2</th>\n",
              "      <td>29</td>\n",
              "      <td>Boston</td>\n",
              "      <td>7500.0</td>\n",
              "    </tr>\n",
              "  </tbody>\n",
              "</table>\n",
              "</div>\n",
              "    <div class=\"colab-df-buttons\">\n",
              "\n",
              "  <div class=\"colab-df-container\">\n",
              "    <button class=\"colab-df-convert\" onclick=\"convertToInteractive('df-25c1bb17-505d-432e-8e8c-d064200c1fbd')\"\n",
              "            title=\"Convert this dataframe to an interactive table.\"\n",
              "            style=\"display:none;\">\n",
              "\n",
              "  <svg xmlns=\"http://www.w3.org/2000/svg\" height=\"24px\" viewBox=\"0 -960 960 960\">\n",
              "    <path d=\"M120-120v-720h720v720H120Zm60-500h600v-160H180v160Zm220 220h160v-160H400v160Zm0 220h160v-160H400v160ZM180-400h160v-160H180v160Zm440 0h160v-160H620v160ZM180-180h160v-160H180v160Zm440 0h160v-160H620v160Z\"/>\n",
              "  </svg>\n",
              "    </button>\n",
              "\n",
              "  <style>\n",
              "    .colab-df-container {\n",
              "      display:flex;\n",
              "      gap: 12px;\n",
              "    }\n",
              "\n",
              "    .colab-df-convert {\n",
              "      background-color: #E8F0FE;\n",
              "      border: none;\n",
              "      border-radius: 50%;\n",
              "      cursor: pointer;\n",
              "      display: none;\n",
              "      fill: #1967D2;\n",
              "      height: 32px;\n",
              "      padding: 0 0 0 0;\n",
              "      width: 32px;\n",
              "    }\n",
              "\n",
              "    .colab-df-convert:hover {\n",
              "      background-color: #E2EBFA;\n",
              "      box-shadow: 0px 1px 2px rgba(60, 64, 67, 0.3), 0px 1px 3px 1px rgba(60, 64, 67, 0.15);\n",
              "      fill: #174EA6;\n",
              "    }\n",
              "\n",
              "    .colab-df-buttons div {\n",
              "      margin-bottom: 4px;\n",
              "    }\n",
              "\n",
              "    [theme=dark] .colab-df-convert {\n",
              "      background-color: #3B4455;\n",
              "      fill: #D2E3FC;\n",
              "    }\n",
              "\n",
              "    [theme=dark] .colab-df-convert:hover {\n",
              "      background-color: #434B5C;\n",
              "      box-shadow: 0px 1px 3px 1px rgba(0, 0, 0, 0.15);\n",
              "      filter: drop-shadow(0px 1px 2px rgba(0, 0, 0, 0.3));\n",
              "      fill: #FFFFFF;\n",
              "    }\n",
              "  </style>\n",
              "\n",
              "    <script>\n",
              "      const buttonEl =\n",
              "        document.querySelector('#df-25c1bb17-505d-432e-8e8c-d064200c1fbd button.colab-df-convert');\n",
              "      buttonEl.style.display =\n",
              "        google.colab.kernel.accessAllowed ? 'block' : 'none';\n",
              "\n",
              "      async function convertToInteractive(key) {\n",
              "        const element = document.querySelector('#df-25c1bb17-505d-432e-8e8c-d064200c1fbd');\n",
              "        const dataTable =\n",
              "          await google.colab.kernel.invokeFunction('convertToInteractive',\n",
              "                                                    [key], {});\n",
              "        if (!dataTable) return;\n",
              "\n",
              "        const docLinkHtml = 'Like what you see? Visit the ' +\n",
              "          '<a target=\"_blank\" href=https://colab.research.google.com/notebooks/data_table.ipynb>data table notebook</a>'\n",
              "          + ' to learn more about interactive tables.';\n",
              "        element.innerHTML = '';\n",
              "        dataTable['output_type'] = 'display_data';\n",
              "        await google.colab.output.renderOutput(dataTable, element);\n",
              "        const docLink = document.createElement('div');\n",
              "        docLink.innerHTML = docLinkHtml;\n",
              "        element.appendChild(docLink);\n",
              "      }\n",
              "    </script>\n",
              "  </div>\n",
              "\n",
              "\n",
              "    <div id=\"df-b28eb1ee-90a3-48b3-8c1f-798afec0bf15\">\n",
              "      <button class=\"colab-df-quickchart\" onclick=\"quickchart('df-b28eb1ee-90a3-48b3-8c1f-798afec0bf15')\"\n",
              "                title=\"Suggest charts\"\n",
              "                style=\"display:none;\">\n",
              "\n",
              "<svg xmlns=\"http://www.w3.org/2000/svg\" height=\"24px\"viewBox=\"0 0 24 24\"\n",
              "     width=\"24px\">\n",
              "    <g>\n",
              "        <path d=\"M19 3H5c-1.1 0-2 .9-2 2v14c0 1.1.9 2 2 2h14c1.1 0 2-.9 2-2V5c0-1.1-.9-2-2-2zM9 17H7v-7h2v7zm4 0h-2V7h2v10zm4 0h-2v-4h2v4z\"/>\n",
              "    </g>\n",
              "</svg>\n",
              "      </button>\n",
              "\n",
              "<style>\n",
              "  .colab-df-quickchart {\n",
              "      --bg-color: #E8F0FE;\n",
              "      --fill-color: #1967D2;\n",
              "      --hover-bg-color: #E2EBFA;\n",
              "      --hover-fill-color: #174EA6;\n",
              "      --disabled-fill-color: #AAA;\n",
              "      --disabled-bg-color: #DDD;\n",
              "  }\n",
              "\n",
              "  [theme=dark] .colab-df-quickchart {\n",
              "      --bg-color: #3B4455;\n",
              "      --fill-color: #D2E3FC;\n",
              "      --hover-bg-color: #434B5C;\n",
              "      --hover-fill-color: #FFFFFF;\n",
              "      --disabled-bg-color: #3B4455;\n",
              "      --disabled-fill-color: #666;\n",
              "  }\n",
              "\n",
              "  .colab-df-quickchart {\n",
              "    background-color: var(--bg-color);\n",
              "    border: none;\n",
              "    border-radius: 50%;\n",
              "    cursor: pointer;\n",
              "    display: none;\n",
              "    fill: var(--fill-color);\n",
              "    height: 32px;\n",
              "    padding: 0;\n",
              "    width: 32px;\n",
              "  }\n",
              "\n",
              "  .colab-df-quickchart:hover {\n",
              "    background-color: var(--hover-bg-color);\n",
              "    box-shadow: 0 1px 2px rgba(60, 64, 67, 0.3), 0 1px 3px 1px rgba(60, 64, 67, 0.15);\n",
              "    fill: var(--button-hover-fill-color);\n",
              "  }\n",
              "\n",
              "  .colab-df-quickchart-complete:disabled,\n",
              "  .colab-df-quickchart-complete:disabled:hover {\n",
              "    background-color: var(--disabled-bg-color);\n",
              "    fill: var(--disabled-fill-color);\n",
              "    box-shadow: none;\n",
              "  }\n",
              "\n",
              "  .colab-df-spinner {\n",
              "    border: 2px solid var(--fill-color);\n",
              "    border-color: transparent;\n",
              "    border-bottom-color: var(--fill-color);\n",
              "    animation:\n",
              "      spin 1s steps(1) infinite;\n",
              "  }\n",
              "\n",
              "  @keyframes spin {\n",
              "    0% {\n",
              "      border-color: transparent;\n",
              "      border-bottom-color: var(--fill-color);\n",
              "      border-left-color: var(--fill-color);\n",
              "    }\n",
              "    20% {\n",
              "      border-color: transparent;\n",
              "      border-left-color: var(--fill-color);\n",
              "      border-top-color: var(--fill-color);\n",
              "    }\n",
              "    30% {\n",
              "      border-color: transparent;\n",
              "      border-left-color: var(--fill-color);\n",
              "      border-top-color: var(--fill-color);\n",
              "      border-right-color: var(--fill-color);\n",
              "    }\n",
              "    40% {\n",
              "      border-color: transparent;\n",
              "      border-right-color: var(--fill-color);\n",
              "      border-top-color: var(--fill-color);\n",
              "    }\n",
              "    60% {\n",
              "      border-color: transparent;\n",
              "      border-right-color: var(--fill-color);\n",
              "    }\n",
              "    80% {\n",
              "      border-color: transparent;\n",
              "      border-right-color: var(--fill-color);\n",
              "      border-bottom-color: var(--fill-color);\n",
              "    }\n",
              "    90% {\n",
              "      border-color: transparent;\n",
              "      border-bottom-color: var(--fill-color);\n",
              "    }\n",
              "  }\n",
              "</style>\n",
              "\n",
              "      <script>\n",
              "        async function quickchart(key) {\n",
              "          const quickchartButtonEl =\n",
              "            document.querySelector('#' + key + ' button');\n",
              "          quickchartButtonEl.disabled = true;  // To prevent multiple clicks.\n",
              "          quickchartButtonEl.classList.add('colab-df-spinner');\n",
              "          try {\n",
              "            const charts = await google.colab.kernel.invokeFunction(\n",
              "                'suggestCharts', [key], {});\n",
              "          } catch (error) {\n",
              "            console.error('Error during call to suggestCharts:', error);\n",
              "          }\n",
              "          quickchartButtonEl.classList.remove('colab-df-spinner');\n",
              "          quickchartButtonEl.classList.add('colab-df-quickchart-complete');\n",
              "        }\n",
              "        (() => {\n",
              "          let quickchartButtonEl =\n",
              "            document.querySelector('#df-b28eb1ee-90a3-48b3-8c1f-798afec0bf15 button');\n",
              "          quickchartButtonEl.style.display =\n",
              "            google.colab.kernel.accessAllowed ? 'block' : 'none';\n",
              "        })();\n",
              "      </script>\n",
              "    </div>\n",
              "\n",
              "    </div>\n",
              "  </div>\n"
            ],
            "application/vnd.google.colaboratory.intrinsic+json": {
              "type": "dataframe",
              "summary": "{\n  \"name\": \"df\",\n  \"rows\": 3,\n  \"fields\": [\n    {\n      \"column\": \"Age\",\n      \"properties\": {\n        \"dtype\": \"number\",\n        \"std\": 2,\n        \"min\": 26,\n        \"max\": 31,\n        \"num_unique_values\": 3,\n        \"samples\": [\n          26,\n          31,\n          29\n        ],\n        \"semantic_type\": \"\",\n        \"description\": \"\"\n      }\n    },\n    {\n      \"column\": \"City\",\n      \"properties\": {\n        \"dtype\": \"string\",\n        \"num_unique_values\": 3,\n        \"samples\": [\n          \"New York\",\n          \"Chicago\",\n          \"Boston\"\n        ],\n        \"semantic_type\": \"\",\n        \"description\": \"\"\n      }\n    },\n    {\n      \"column\": \"Income\",\n      \"properties\": {\n        \"dtype\": \"number\",\n        \"std\": 500.0,\n        \"min\": 7000.0,\n        \"max\": 8000.0,\n        \"num_unique_values\": 3,\n        \"samples\": [\n          7000.0,\n          8000.0,\n          7500.0\n        ],\n        \"semantic_type\": \"\",\n        \"description\": \"\"\n      }\n    }\n  ]\n}"
            }
          },
          "metadata": {},
          "execution_count": 62
        }
      ]
    }
  ]
}