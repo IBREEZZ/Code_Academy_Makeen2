{
  "nbformat": 4,
  "nbformat_minor": 0,
  "metadata": {
    "colab": {
      "provenance": [],
      "authorship_tag": "ABX9TyMfXP/bgOSGm5x+nqgcap2m",
      "include_colab_link": true
    },
    "kernelspec": {
      "name": "python3",
      "display_name": "Python 3"
    },
    "language_info": {
      "name": "python"
    }
  },
  "cells": [
    {
      "cell_type": "markdown",
      "metadata": {
        "id": "view-in-github",
        "colab_type": "text"
      },
      "source": [
        "<a href=\"https://colab.research.google.com/github/IBREEZZ/Problem_Solving/blob/main/Web_Scraping.ipynb\" target=\"_parent\"><img src=\"https://colab.research.google.com/assets/colab-badge.svg\" alt=\"Open In Colab\"/></a>"
      ]
    },
    {
      "cell_type": "code",
      "execution_count": null,
      "metadata": {
        "colab": {
          "base_uri": "https://localhost:8080/"
        },
        "id": "Q5CXX5MnPNUl",
        "outputId": "d06b2444-5cca-40b3-88b9-b53a740d7c0c"
      },
      "outputs": [
        {
          "output_type": "stream",
          "name": "stdout",
          "text": [
            "1. Title: A Light in the Attic\n",
            "   Price: Â£51.77\n",
            "   Image: https://books.toscrape.com/media/cache/2c/da/2cdad67c44b002e7ead0cc35693c0e8b.jpg\n",
            "\n",
            "2. Title: Tipping the Velvet\n",
            "   Price: Â£53.74\n",
            "   Image: https://books.toscrape.com/media/cache/26/0c/260c6ae16bce31c8f8c95daddd9f4a1c.jpg\n",
            "\n",
            "3. Title: Soumission\n",
            "   Price: Â£50.10\n",
            "   Image: https://books.toscrape.com/media/cache/3e/ef/3eef99c9d9adef34639f510662022830.jpg\n",
            "\n",
            "4. Title: Sharp Objects\n",
            "   Price: Â£47.82\n",
            "   Image: https://books.toscrape.com/media/cache/32/51/3251cf3a3412f53f339e42cac2134093.jpg\n",
            "\n",
            "5. Title: Sapiens: A Brief History of Humankind\n",
            "   Price: Â£54.23\n",
            "   Image: https://books.toscrape.com/media/cache/be/a5/bea5697f2534a2f86a3ef27b5a8c12a6.jpg\n",
            "\n",
            "6. Title: The Requiem Red\n",
            "   Price: Â£22.65\n",
            "   Image: https://books.toscrape.com/media/cache/68/33/68339b4c9bc034267e1da611ab3b34f8.jpg\n",
            "\n",
            "7. Title: The Dirty Little Secrets of Getting Your Dream Job\n",
            "   Price: Â£33.34\n",
            "   Image: https://books.toscrape.com/media/cache/92/27/92274a95b7c251fea59a2b8a78275ab4.jpg\n",
            "\n",
            "8. Title: The Coming Woman: A Novel Based on the Life of the Infamous Feminist, Victoria Woodhull\n",
            "   Price: Â£17.93\n",
            "   Image: https://books.toscrape.com/media/cache/3d/54/3d54940e57e662c4dd1f3ff00c78cc64.jpg\n",
            "\n",
            "9. Title: The Boys in the Boat: Nine Americans and Their Epic Quest for Gold at the 1936 Berlin Olympics\n",
            "   Price: Â£22.60\n",
            "   Image: https://books.toscrape.com/media/cache/66/88/66883b91f6804b2323c8369331cb7dd1.jpg\n",
            "\n",
            "10. Title: The Black Maria\n",
            "   Price: Â£52.15\n",
            "   Image: https://books.toscrape.com/media/cache/58/46/5846057e28022268153beff6d352b06c.jpg\n",
            "\n",
            "11. Title: Starving Hearts (Triangular Trade Trilogy, #1)\n",
            "   Price: Â£13.99\n",
            "   Image: https://books.toscrape.com/media/cache/be/f4/bef44da28c98f905a3ebec0b87be8530.jpg\n",
            "\n",
            "12. Title: Shakespeare's Sonnets\n",
            "   Price: Â£20.66\n",
            "   Image: https://books.toscrape.com/media/cache/10/48/1048f63d3b5061cd2f424d20b3f9b666.jpg\n",
            "\n",
            "13. Title: Set Me Free\n",
            "   Price: Â£17.46\n",
            "   Image: https://books.toscrape.com/media/cache/5b/88/5b88c52633f53cacf162c15f4f823153.jpg\n",
            "\n",
            "14. Title: Scott Pilgrim's Precious Little Life (Scott Pilgrim #1)\n",
            "   Price: Â£52.29\n",
            "   Image: https://books.toscrape.com/media/cache/94/b1/94b1b8b244bce9677c2f29ccc890d4d2.jpg\n",
            "\n",
            "15. Title: Rip it Up and Start Again\n",
            "   Price: Â£35.02\n",
            "   Image: https://books.toscrape.com/media/cache/81/c4/81c4a973364e17d01f217e1188253d5e.jpg\n",
            "\n",
            "16. Title: Our Band Could Be Your Life: Scenes from the American Indie Underground, 1981-1991\n",
            "   Price: Â£57.25\n",
            "   Image: https://books.toscrape.com/media/cache/54/60/54607fe8945897cdcced0044103b10b6.jpg\n",
            "\n",
            "17. Title: Olio\n",
            "   Price: Â£23.88\n",
            "   Image: https://books.toscrape.com/media/cache/55/33/553310a7162dfbc2c6d19a84da0df9e1.jpg\n",
            "\n",
            "18. Title: Mesaerion: The Best Science Fiction Stories 1800-1849\n",
            "   Price: Â£37.59\n",
            "   Image: https://books.toscrape.com/media/cache/09/a3/09a3aef48557576e1a85ba7efea8ecb7.jpg\n",
            "\n",
            "19. Title: Libertarianism for Beginners\n",
            "   Price: Â£51.33\n",
            "   Image: https://books.toscrape.com/media/cache/0b/bc/0bbcd0a6f4bcd81ccb1049a52736406e.jpg\n",
            "\n",
            "20. Title: It's Only the Himalayas\n",
            "   Price: Â£45.17\n",
            "   Image: https://books.toscrape.com/media/cache/27/a5/27a53d0bb95bdd88288eaf66c9230d7e.jpg\n",
            "\n"
          ]
        }
      ],
      "source": [
        "import requests\n",
        "from bs4 import BeautifulSoup\n",
        "import os\n",
        "\n",
        "# URL of the site\n",
        "url = 'https://books.toscrape.com/'\n",
        "headers = {'User-Agent': 'Mozilla/5.0'}\n",
        "response = requests.get(url, headers=headers)\n",
        "soup = BeautifulSoup(response.text, 'html.parser')\n",
        "\n",
        "# Create a folder for images\n",
        "os.makedirs(\"book_images\", exist_ok=True)\n",
        "\n",
        "# Find all the books on the page\n",
        "books = soup.find_all('article', class_='product_pod')\n",
        "\n",
        "for i, book in enumerate(books):\n",
        "    # Book title\n",
        "    title = book.h3.a['title']\n",
        "\n",
        "    # Price\n",
        "    price = book.find('p', class_='price_color').text\n",
        "\n",
        "    # Image URL\n",
        "    img_tag = book.find('img')\n",
        "    img_url = 'https://books.toscrape.com/' + img_tag['src'].replace('../', '')\n",
        "\n",
        "    # Download the image\n",
        "    img_data = requests.get(img_url).content\n",
        "    with open(f'book_images/book_{i+1}.jpg', 'wb') as f:\n",
        "        f.write(img_data)\n",
        "\n",
        "    # Print the details\n",
        "    print(f\"{i+1}. Title: {title}\")\n",
        "    print(f\"   Price: {price}\")\n",
        "    print(f\"   Image: {img_url}\\n\")\n"
      ]
    }
  ]
}