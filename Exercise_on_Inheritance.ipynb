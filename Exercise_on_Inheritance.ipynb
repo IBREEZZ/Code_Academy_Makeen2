{
  "nbformat": 4,
  "nbformat_minor": 0,
  "metadata": {
    "colab": {
      "provenance": [],
      "authorship_tag": "ABX9TyPbfkfm+zxdLrc9gD0Wq+YL",
      "include_colab_link": true
    },
    "kernelspec": {
      "name": "python3",
      "display_name": "Python 3"
    },
    "language_info": {
      "name": "python"
    }
  },
  "cells": [
    {
      "cell_type": "markdown",
      "metadata": {
        "id": "view-in-github",
        "colab_type": "text"
      },
      "source": [
        "<a href=\"https://colab.research.google.com/github/IBREEZZ/Code_Academy_Makeen2/blob/main/Exercise_on_Inheritance.ipynb\" target=\"_parent\"><img src=\"https://colab.research.google.com/assets/colab-badge.svg\" alt=\"Open In Colab\"/></a>"
      ]
    },
    {
      "cell_type": "code",
      "execution_count": 1,
      "metadata": {
        "colab": {
          "base_uri": "https://localhost:8080/"
        },
        "id": "18HyRAK7SKSn",
        "outputId": "97489a8d-069f-4051-c475-84528a416c68"
      },
      "outputs": [
        {
          "output_type": "stream",
          "name": "stdout",
          "text": [
            "Car Info : 2022 Tesla Model S\n",
            "The engine is starting...\n",
            "Charging the battery to 100 kWh\n",
            "The engine is stopping...\n",
            "\n",
            "Car Info : 2022 Ford Mustang\n",
            "The engine is starting...\n",
            "Refueling the tank to 60 liters\n",
            "The engine is stopping...\n"
          ]
        }
      ],
      "source": [
        "from typing_extensions import reveal_type\n",
        "class Car:\n",
        "  def __init__(self,make,model,year):\n",
        "    self.make=make\n",
        "    self.model=model\n",
        "    self.year=year\n",
        "\n",
        "  def start_engine(self):\n",
        "    return \"The engine is starting...\"\n",
        "\n",
        "  def stop_engine(self):\n",
        "    return \"The engine is stopping...\"\n",
        "\n",
        "  def display_info(self):\n",
        "    return f\"Car Info : {self.year} {self.make} {self.model}\"\n",
        "\n",
        "class ElectricCar(Car):\n",
        "  def __init__(self,make,model,year,battery_capacity):\n",
        "    super().__init__(make,model,year)\n",
        "    self.battery_capacity=battery_capacity\n",
        "\n",
        "  def charge_battery(self):\n",
        "    return f\"Charging the battery to {self.battery_capacity} kWh\"\n",
        "\n",
        "class GasolineCar(Car):\n",
        "  def __init__(self,make,model,year,fuel_tank_capacity):\n",
        "    super().__init__(make,model,year)\n",
        "    self.fuel_tank_capacity=fuel_tank_capacity\n",
        "\n",
        "  def refuel_tank(self):\n",
        "    return f\"Refueling the tank to {self.fuel_tank_capacity} liters\"\n",
        "\n",
        "tesla = ElectricCar(\"Tesla\", \"Model S\", 2022, 100)\n",
        "mustang = GasolineCar(\"Ford\", \"Mustang\", 2022, 60)\n",
        "\n",
        "print(tesla.display_info())\n",
        "print(tesla.start_engine())\n",
        "print(tesla.charge_battery())\n",
        "print(tesla.stop_engine())\n",
        "print()\n",
        "print(mustang.display_info())\n",
        "print(mustang.start_engine())\n",
        "print(mustang.refuel_tank())\n",
        "print(mustang.stop_engine())\n",
        "\n",
        "\n"
      ]
    }
  ]
}