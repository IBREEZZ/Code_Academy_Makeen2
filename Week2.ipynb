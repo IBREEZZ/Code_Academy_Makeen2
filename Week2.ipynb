{
  "nbformat": 4,
  "nbformat_minor": 0,
  "metadata": {
    "colab": {
      "provenance": [],
      "authorship_tag": "ABX9TyPjBw4gDGWPvZ1Z04wwVcLF",
      "include_colab_link": true
    },
    "kernelspec": {
      "name": "python3",
      "display_name": "Python 3"
    },
    "language_info": {
      "name": "python"
    }
  },
  "cells": [
    {
      "cell_type": "markdown",
      "metadata": {
        "id": "view-in-github",
        "colab_type": "text"
      },
      "source": [
        "<a href=\"https://colab.research.google.com/github/IBREEZZ/Code_Academy_Makeen2/blob/main/Week2.ipynb\" target=\"_parent\"><img src=\"https://colab.research.google.com/assets/colab-badge.svg\" alt=\"Open In Colab\"/></a>"
      ]
    },
    {
      "cell_type": "markdown",
      "source": [
        "Combined Condithions:\n",
        "- and (if f => f)\n",
        "- or (if t => t)"
      ],
      "metadata": {
        "id": "xpqgAed6hBwe"
      }
    },
    {
      "cell_type": "code",
      "execution_count": null,
      "metadata": {
        "colab": {
          "base_uri": "https://localhost:8080/"
        },
        "id": "KZHqpYfIghmC",
        "outputId": "2fa244d0-ab1b-4962-f7c7-e10b0e4fc76e"
      },
      "outputs": [
        {
          "output_type": "stream",
          "name": "stdout",
          "text": [
            "enter temp of water : 110\n",
            "not liquid\n"
          ]
        }
      ],
      "source": [
        "t = float (input(\"enter temp of water : \"))\n",
        "if t >= 100 or t<=0 :\n",
        "  print(\"not liquid\")\n",
        "else:\n",
        "  print (\"liquid\")"
      ]
    },
    {
      "cell_type": "markdown",
      "source": [
        "not operator"
      ],
      "metadata": {
        "id": "Bz_3um6okHe9"
      }
    },
    {
      "cell_type": "code",
      "source": [
        "attending = True\n",
        "grade = 70\n",
        "\n",
        "if not attending or grade < 60:\n",
        "  print(\"Drop ?\")\n"
      ],
      "metadata": {
        "id": "uFZFNtPCjky7"
      },
      "execution_count": null,
      "outputs": []
    },
    {
      "cell_type": "code",
      "source": [
        "if attending and not (grade < 60):\n",
        "  print(\"Stay\")"
      ],
      "metadata": {
        "colab": {
          "base_uri": "https://localhost:8080/"
        },
        "id": "gp3hTsEDluhS",
        "outputId": "610d5232-6b40-47db-9b46-b1e054c8cbe8"
      },
      "execution_count": null,
      "outputs": [
        {
          "output_type": "stream",
          "name": "stdout",
          "text": [
            "Stay\n"
          ]
        }
      ]
    },
    {
      "cell_type": "code",
      "source": [
        "user = int(input(\"enter user : \"))\n",
        "file = int (input (\"enyer file: \"))\n",
        "\n",
        "if user != file :\n",
        "  print(\" not same\")\n",
        "\n",
        "else:\n",
        "  print(\"same\")"
      ],
      "metadata": {
        "colab": {
          "base_uri": "https://localhost:8080/"
        },
        "id": "ZJxMqibXpRsp",
        "outputId": "6131e9fe-7a26-44e5-b4c9-84b54453010f"
      },
      "execution_count": null,
      "outputs": [
        {
          "output_type": "stream",
          "name": "stdout",
          "text": [
            "enter user : 001\n",
            "enyer file: 001\n",
            "same\n"
          ]
        }
      ]
    },
    {
      "cell_type": "code",
      "source": [
        "user = int(input(\"enter user : \"))\n",
        "file = int (input (\"enyer file: \"))\n",
        "\n",
        "epsilon = 3\n",
        "\n",
        "if user == file :\n",
        "  print(\"same\")\n",
        "elif abs(user - file) < epsilon:\n",
        "  print(\" close to each other same\")\n",
        "# elif user > file:\n",
        "#   print(\"user is greater\")\n",
        "# elif user != file :\n",
        "#   print(\" not same\")\n",
        "else:\n",
        "  print(\" not 5same\")\n"
      ],
      "metadata": {
        "colab": {
          "base_uri": "https://localhost:8080/"
        },
        "id": "jm1YNKl8rH1T",
        "outputId": "3381da8f-e9c8-4415-ba32-3bdca11e8178"
      },
      "execution_count": null,
      "outputs": [
        {
          "output_type": "stream",
          "name": "stdout",
          "text": [
            "enter user : 6\n",
            "enyer file: 5\n",
            " close to each other same\n"
          ]
        }
      ]
    },
    {
      "cell_type": "code",
      "source": [
        "frozen = True\n",
        "if frozen == True:\n",
        "  print(\"frozen\")\n",
        "else:\n",
        "  print(\"not frozen\")"
      ],
      "metadata": {
        "colab": {
          "base_uri": "https://localhost:8080/"
        },
        "id": "aeY6DKU4xDAR",
        "outputId": "e88a17a9-2dae-4301-a36d-bb488b51908f"
      },
      "execution_count": null,
      "outputs": [
        {
          "output_type": "stream",
          "name": "stdout",
          "text": [
            "frozen\n"
          ]
        }
      ]
    },
    {
      "cell_type": "code",
      "source": [
        "frozen = False\n",
        "if frozen == True:\n",
        "  print(\"frozen\")\n",
        "else:\n",
        "  print(\"not frozen\")"
      ],
      "metadata": {
        "colab": {
          "base_uri": "https://localhost:8080/"
        },
        "id": "BgmqpOLbxN7K",
        "outputId": "ba7d6c16-ff50-4ef5-d63d-9632fc7df2a2"
      },
      "execution_count": null,
      "outputs": [
        {
          "output_type": "stream",
          "name": "stdout",
          "text": [
            "not frozen\n"
          ]
        }
      ]
    },
    {
      "cell_type": "code",
      "source": [
        "frozen = True\n",
        "if frozen == False:\n",
        "  print(\"frozen\")\n",
        "else:\n",
        "  print(\"not frozen\")"
      ],
      "metadata": {
        "colab": {
          "base_uri": "https://localhost:8080/"
        },
        "id": "waBHRiDxxTSb",
        "outputId": "72026b4c-576a-4027-954a-636a0a987641"
      },
      "execution_count": null,
      "outputs": [
        {
          "output_type": "stream",
          "name": "stdout",
          "text": [
            "not frozen\n"
          ]
        }
      ]
    },
    {
      "cell_type": "code",
      "source": [
        "frozen = False\n",
        "if frozen == False:\n",
        "  print(\"frozen\")\n",
        "else:\n",
        "  print(\"not frozen\")"
      ],
      "metadata": {
        "colab": {
          "base_uri": "https://localhost:8080/"
        },
        "id": "HViWGLm5xYk0",
        "outputId": "b4276db2-6cd9-4782-9c2e-5877cce2feb6"
      },
      "execution_count": null,
      "outputs": [
        {
          "output_type": "stream",
          "name": "stdout",
          "text": [
            "frozen\n"
          ]
        }
      ]
    },
    {
      "cell_type": "code",
      "source": [
        "name= \"Ibreez\"\n",
        "print(\"eez\" in name)\n",
        "print (\"eez\" not in name)"
      ],
      "metadata": {
        "colab": {
          "base_uri": "https://localhost:8080/"
        },
        "id": "1HWgEF7m61rj",
        "outputId": "8fe8e075-84fe-445c-fd10-3b5300798eb3"
      },
      "execution_count": null,
      "outputs": [
        {
          "output_type": "stream",
          "name": "stdout",
          "text": [
            "True\n",
            "False\n"
          ]
        }
      ]
    },
    {
      "cell_type": "markdown",
      "source": [
        "Substring:Suffixes"
      ],
      "metadata": {
        "id": "OFD-6Ylc7kLw"
      }
    },
    {
      "cell_type": "code",
      "source": [
        "#checkif it  end with or not\n",
        "print(name.endswith(\"eez\"))"
      ],
      "metadata": {
        "colab": {
          "base_uri": "https://localhost:8080/"
        },
        "id": "EnzcgMr27rX0",
        "outputId": "9b9f6453-d986-4472-b0ff-ae8063c9acbc"
      },
      "execution_count": null,
      "outputs": [
        {
          "output_type": "stream",
          "name": "stdout",
          "text": [
            "True\n"
          ]
        }
      ]
    },
    {
      "cell_type": "code",
      "source": [
        "#checkif it  end with or not\n",
        "print(name.startswith(\"eez\"))"
      ],
      "metadata": {
        "colab": {
          "base_uri": "https://localhost:8080/"
        },
        "id": "a5Mo6oNw8Z_i",
        "outputId": "53013b66-3c65-4d3b-89db-485ed303832d"
      },
      "execution_count": null,
      "outputs": [
        {
          "output_type": "stream",
          "name": "stdout",
          "text": [
            "False\n"
          ]
        }
      ]
    },
    {
      "cell_type": "code",
      "source": [
        "#how many\n",
        "print(name.count(\"e\"))"
      ],
      "metadata": {
        "colab": {
          "base_uri": "https://localhost:8080/"
        },
        "id": "GdXRv-4b96EO",
        "outputId": "c38c15d2-75e7-49d8-c3be-6427425b12f7"
      },
      "execution_count": null,
      "outputs": [
        {
          "output_type": "stream",
          "name": "stdout",
          "text": [
            "2\n"
          ]
        }
      ]
    },
    {
      "cell_type": "code",
      "source": [
        "print(name.find(\"r\"))"
      ],
      "metadata": {
        "colab": {
          "base_uri": "https://localhost:8080/"
        },
        "id": "G07UA4P5-dF3",
        "outputId": "afea3be3-f701-4686-c490-3e45c3a21472"
      },
      "execution_count": null,
      "outputs": [
        {
          "output_type": "stream",
          "name": "stdout",
          "text": [
            "2\n"
          ]
        }
      ]
    },
    {
      "cell_type": "code",
      "source": [
        "#only letters\n",
        "print(name.isalpha())"
      ],
      "metadata": {
        "colab": {
          "base_uri": "https://localhost:8080/"
        },
        "id": "4EpyLyxl-mhh",
        "outputId": "611b546c-1d41-4c20-c302-382dd557f981"
      },
      "execution_count": null,
      "outputs": [
        {
          "output_type": "stream",
          "name": "stdout",
          "text": [
            "True\n"
          ]
        }
      ]
    },
    {
      "cell_type": "code",
      "source": [
        "#letter or digtit\n",
        "print(name.isalnum())"
      ],
      "metadata": {
        "colab": {
          "base_uri": "https://localhost:8080/"
        },
        "id": "6229B_Fs-slX",
        "outputId": "5c8eb1ff-17a0-485e-ecdb-8d907b70e4c1"
      },
      "execution_count": null,
      "outputs": [
        {
          "output_type": "stream",
          "name": "stdout",
          "text": [
            "True\n"
          ]
        }
      ]
    },
    {
      "cell_type": "code",
      "source": [
        "#only digit\n",
        "print(name.isdigit())"
      ],
      "metadata": {
        "colab": {
          "base_uri": "https://localhost:8080/"
        },
        "id": "xr7j_kjL-zFx",
        "outputId": "932d92f9-5103-4d42-8a25-e7023827e1e9"
      },
      "execution_count": null,
      "outputs": [
        {
          "output_type": "stream",
          "name": "stdout",
          "text": [
            "False\n"
          ]
        }
      ]
    },
    {
      "cell_type": "code",
      "source": [
        "#all lower case\n",
        "print(name.islower())"
      ],
      "metadata": {
        "colab": {
          "base_uri": "https://localhost:8080/"
        },
        "id": "Ry77drUQAAdw",
        "outputId": "5a99a9f3-1288-4661-b4ea-36ecebc02e3e"
      },
      "execution_count": null,
      "outputs": [
        {
          "output_type": "stream",
          "name": "stdout",
          "text": [
            "False\n"
          ]
        }
      ]
    },
    {
      "cell_type": "code",
      "source": [
        "#all space\n",
        "print(name.isspace())"
      ],
      "metadata": {
        "colab": {
          "base_uri": "https://localhost:8080/"
        },
        "id": "aEZKL1AgANOl",
        "outputId": "fd6cc6e9-7eea-4dda-e7c5-35f28df95f55"
      },
      "execution_count": null,
      "outputs": [
        {
          "output_type": "stream",
          "name": "stdout",
          "text": [
            "False\n"
          ]
        }
      ]
    },
    {
      "cell_type": "code",
      "source": [
        "#all upper case\n",
        "print(name.isupper())"
      ],
      "metadata": {
        "colab": {
          "base_uri": "https://localhost:8080/"
        },
        "id": "rA7rFZrMAU77",
        "outputId": "f3d3a97c-0939-443b-e2c3-29fd873d0ce9"
      },
      "execution_count": null,
      "outputs": [
        {
          "output_type": "stream",
          "name": "stdout",
          "text": [
            "False\n"
          ]
        }
      ]
    },
    {
      "cell_type": "markdown",
      "source": [
        "Input validation"
      ],
      "metadata": {
        "id": "YoublB7eAoj0"
      }
    },
    {
      "cell_type": "code",
      "source": [
        "floor = int(input(\"enter floor : \"))\n",
        "\n",
        "if floor == 13 :\n",
        "  print (\"Error: There is no floor 13\")\n",
        "if floor <= 0 or floor > 20 :\n",
        "  print ( \" Error : The floor must be between 1 and 20\")"
      ],
      "metadata": {
        "colab": {
          "base_uri": "https://localhost:8080/"
        },
        "id": "W_ppbkYcArw9",
        "outputId": "763d1338-b104-47a1-f6c5-cdd981c4f055"
      },
      "execution_count": null,
      "outputs": [
        {
          "output_type": "stream",
          "name": "stdout",
          "text": [
            "enter floor : 0\n",
            " Error : The floor must be between 1 and 20\n"
          ]
        }
      ]
    },
    {
      "cell_type": "markdown",
      "source": [
        "![h-l.png](data:image/png;base64,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)"
      ],
      "metadata": {
        "id": "YwqNw5ZvB4OZ"
      }
    },
    {
      "cell_type": "markdown",
      "source": [
        "**exit**"
      ],
      "metadata": {
        "id": "TpsyaMwZCUkx"
      }
    },
    {
      "cell_type": "code",
      "source": [
        "from sys import exit\n",
        "\n",
        "username = input(\"Enter username: \")\n",
        "password = input(\"Enter password: \")\n",
        "\n",
        "\n",
        "if not username or ' ' in username:\n",
        "    exit(\"Invalid input\")\n",
        "\n",
        "if (\n",
        "    len(password) < 8 or\n",
        "    not any(char.isdigit() for char in password) or\n",
        "    not any(char.isupper() for char in password) or\n",
        "    not any(char.islower() for char in password)\n",
        "):\n",
        "    exit(\"Invalid input\")\n",
        "\n",
        "print(\"Login Credentials Accepted\")\n"
      ],
      "metadata": {
        "colab": {
          "base_uri": "https://localhost:8080/"
        },
        "id": "qZCQ81x-B6iV",
        "outputId": "9910fffe-8470-4ae4-96d8-532910582d15"
      },
      "execution_count": null,
      "outputs": [
        {
          "output_type": "stream",
          "name": "stdout",
          "text": [
            "Enter username: Ibreez\n",
            "Enter password: Ii12345678\n",
            "Login Credentials Accepted\n"
          ]
        }
      ]
    },
    {
      "cell_type": "code",
      "source": [
        "import re\n",
        "import sys\n",
        "\n",
        "username = input(\"Enter username: \")\n",
        "password = input(\"Enter password: \")\n",
        "\n",
        "# Username validation: not empty and no spaces\n",
        "if not username or ' ' in username:\n",
        "    print(\"Invalid input\")\n",
        "    sys.exit()\n",
        "\n",
        "# Password validation\n",
        "if (\n",
        "    len(password) < 8 or\n",
        "    not re.search(r\"\\d\", password) or            # at least 1 digit\n",
        "    not re.search(r\"[A-Z]\", password) or         # at least 1 uppercase\n",
        "    not re.search(r\"[a-z]\", password)            # at least 1 lowercase\n",
        "):\n",
        "    print(\"Invalid input\")\n",
        "    sys.exit()\n",
        "\n",
        "print(\"Login accepted\")"
      ],
      "metadata": {
        "colab": {
          "base_uri": "https://localhost:8080/"
        },
        "id": "zDs-mGHXxVhE",
        "outputId": "c1a3fdc8-9570-4cbb-f2b7-842f526eb506"
      },
      "execution_count": null,
      "outputs": [
        {
          "output_type": "stream",
          "name": "stdout",
          "text": [
            "Enter username: IBREEZ\n",
            "Enter password: Ib12345678\n",
            "Login accepted\n"
          ]
        }
      ]
    },
    {
      "cell_type": "code",
      "source": [
        "rate = 0.05\n",
        "balanse = 10000\n",
        "target = 20000\n",
        "year = 0\n",
        "\n",
        "while balanse < target :\n",
        "  year += 1\n",
        "  insterst =  balanse * rate\n",
        "  balanse = balanse + insterst\n",
        "\n",
        "print (year)\n",
        "\n"
      ],
      "metadata": {
        "colab": {
          "base_uri": "https://localhost:8080/"
        },
        "id": "d_y3k1sLJuPi",
        "outputId": "df840a78-8a22-43a5-d13c-3457879fd2a5"
      },
      "execution_count": null,
      "outputs": [
        {
          "output_type": "stream",
          "name": "stdout",
          "text": [
            "15\n"
          ]
        }
      ]
    },
    {
      "cell_type": "code",
      "source": [
        "counter =1\n",
        "while counter <= 10:\n",
        "  print(counter)\n",
        "  counter += 1"
      ],
      "metadata": {
        "colab": {
          "base_uri": "https://localhost:8080/"
        },
        "id": "kT3z09rfiWb0",
        "outputId": "eb0ec351-fe46-487d-fd50-dd81cf9659db"
      },
      "execution_count": null,
      "outputs": [
        {
          "output_type": "stream",
          "name": "stdout",
          "text": [
            "1\n",
            "2\n",
            "3\n",
            "4\n",
            "5\n",
            "6\n",
            "7\n",
            "8\n",
            "9\n",
            "10\n"
          ]
        }
      ]
    },
    {
      "cell_type": "code",
      "source": [
        "counter =1\n",
        "sum = 0\n",
        "while counter <= 10:\n",
        "  sum += counter\n",
        "  counter += 1\n",
        "print(sum)"
      ],
      "metadata": {
        "colab": {
          "base_uri": "https://localhost:8080/"
        },
        "id": "HR7otAVUjIk7",
        "outputId": "ac96d881-d47b-4bc1-d13c-f2a9892377c6"
      },
      "execution_count": null,
      "outputs": [
        {
          "output_type": "stream",
          "name": "stdout",
          "text": [
            "55\n"
          ]
        }
      ]
    },
    {
      "cell_type": "code",
      "source": [
        "num = \"1729\"\n",
        "sum = 0\n",
        "for char in num :\n",
        "  i = int(char)\n",
        "  sum +=i\n",
        "print(sum)\n"
      ],
      "metadata": {
        "colab": {
          "base_uri": "https://localhost:8080/"
        },
        "id": "FdWfUIsOk6EC",
        "outputId": "dcb2da67-5f77-4bb1-b0e0-89d9a8e52a3b"
      },
      "execution_count": null,
      "outputs": [
        {
          "output_type": "stream",
          "name": "stdout",
          "text": [
            "19\n"
          ]
        }
      ]
    },
    {
      "cell_type": "code",
      "source": [
        "num = \"1729\"\n",
        "sum = 0\n",
        "i = 0\n",
        "while i < len(num):\n",
        "  sum += int(num[i])\n",
        "  i += 1\n",
        "print(sum)"
      ],
      "metadata": {
        "colab": {
          "base_uri": "https://localhost:8080/"
        },
        "id": "95I5Susppluf",
        "outputId": "38e5f953-a4a5-4b57-debc-a2b8cd4197f4"
      },
      "execution_count": null,
      "outputs": [
        {
          "output_type": "stream",
          "name": "stdout",
          "text": [
            "19\n"
          ]
        }
      ]
    },
    {
      "cell_type": "code",
      "source": [
        "num = 1729\n",
        "sum = 0\n",
        "while num > 0:\n",
        "  digits = num % 10\n",
        "  sum += digits\n",
        "  num //= 10\n",
        "print(sum)"
      ],
      "metadata": {
        "colab": {
          "base_uri": "https://localhost:8080/"
        },
        "id": "JsF4xdD5rFr_",
        "outputId": "10ceca6d-7f3e-4102-ba09-2fc322b4a9ec"
      },
      "execution_count": null,
      "outputs": [
        {
          "output_type": "stream",
          "name": "stdout",
          "text": [
            "19\n"
          ]
        }
      ]
    },
    {
      "cell_type": "code",
      "source": [
        "total = 0.0\n",
        "count = 0\n",
        "salary = 0.0\n",
        "while salary >= 0:\n",
        "  salary = float(input(\"Enter your salary or -1 to finish : \"))\n",
        "  if salary >= 0.0:\n",
        "    total = total + salary\n",
        "    count =count +1\n",
        "  if count > 0:\n",
        "    average = total / count\n",
        "    print(\"Average salary : \", average)\n",
        "\n",
        "  else:\n",
        "    print(\"No salary entered\")\n"
      ],
      "metadata": {
        "colab": {
          "base_uri": "https://localhost:8080/"
        },
        "id": "k6NNIHPHs0EJ",
        "outputId": "527f38a2-700b-4e23-95f3-85ad10e2360d"
      },
      "execution_count": null,
      "outputs": [
        {
          "output_type": "stream",
          "name": "stdout",
          "text": [
            "Enter your salary or -1 to finish : 500\n",
            "Average salary :  500.0\n",
            "Enter your salary or -1 to finish : 300\n",
            "Average salary :  400.0\n",
            "Enter your salary or -1 to finish : 200\n",
            "Average salary :  333.3333333333333\n",
            "Enter your salary or -1 to finish : -1\n",
            "Average salary :  333.3333333333333\n"
          ]
        }
      ]
    },
    {
      "cell_type": "code",
      "source": [
        "done = False\n",
        "while not done:\n",
        "  value = float(input(\"Enter your salary or -1 to finish : \"))\n",
        "  if value <= 0:\n",
        "    done = True\n",
        "  # else:\n",
        "  #   print(value)"
      ],
      "metadata": {
        "id": "07Hz0eKTvvMh"
      },
      "execution_count": null,
      "outputs": []
    },
    {
      "cell_type": "code",
      "source": [
        "balance = 0\n",
        "\n",
        "while balance < 1000:\n",
        "    deposit = float(input(\"Enter deposit amount: \"))\n",
        "    balance += deposit\n",
        "    print(f\"Current balance: {balance}\")\n",
        "\n",
        "print(\"Goal reached. Final balance:\", balance)\n"
      ],
      "metadata": {
        "colab": {
          "base_uri": "https://localhost:8080/"
        },
        "id": "QZJ4sbbmyt1f",
        "outputId": "81d344bf-b120-4b2b-ed3b-82ddf96f6366"
      },
      "execution_count": null,
      "outputs": [
        {
          "output_type": "stream",
          "name": "stdout",
          "text": [
            "Enter deposit amount: 200\n",
            "Current balance: 200.0\n",
            "Enter deposit amount: 300\n",
            "Current balance: 500.0\n",
            "Enter deposit amount: 500\n",
            "Current balance: 1000.0\n",
            "Goal reached. Final balance: 1000.0\n"
          ]
        }
      ]
    },
    {
      "cell_type": "code",
      "source": [
        "total = 0.0\n",
        "count = 0\n",
        "inputStr = input(\"Enter value: \")\n",
        "while inputStr != \"\":\n",
        "  value = float(inputStr)\n",
        "  total = total + value\n",
        "  count = count + 1\n",
        "  inputStr = input(\"Enter value: \")\n",
        "if count > 0:\n",
        "  average = total / count\n",
        "else:\n",
        "  average = 0.0\n",
        "print(\"average\",average)\n",
        "\n"
      ],
      "metadata": {
        "colab": {
          "base_uri": "https://localhost:8080/"
        },
        "id": "XiyjwAE9oiay",
        "outputId": "13bb1cd3-db91-4162-a54f-7c35f2812f37"
      },
      "execution_count": 9,
      "outputs": [
        {
          "output_type": "stream",
          "name": "stdout",
          "text": [
            "Enter value: 8\n",
            "Enter value: 7\n",
            "Enter value: \n",
            "average 7.5\n"
          ]
        }
      ]
    },
    {
      "cell_type": "code",
      "source": [
        "negatives = 0\n",
        "inputStr = input(\"Enter value: \")\n",
        "while inputStr != \"\":\n",
        "  value = int(inputStr)\n",
        "  if value < 0 :\n",
        "    negatives = negatives + 1\n",
        "  inputStr = input(\"Enter value: \")\n",
        "print(\"negatives\",negatives)-\n"
      ],
      "metadata": {
        "colab": {
          "base_uri": "https://localhost:8080/"
        },
        "id": "bY5pXewTrbJl",
        "outputId": "1d111eb5-a646-4545-eed1-6b9cd4bb9809"
      },
      "execution_count": 12,
      "outputs": [
        {
          "output_type": "stream",
          "name": "stdout",
          "text": [
            "Enter value: 5\n",
            "Enter value: 6\n",
            "Enter value: -3\n",
            "Enter value: -2\n",
            "Enter value: 1\n",
            "Enter value: \n",
            "negatives 2\n"
          ]
        }
      ]
    },
    {
      "cell_type": "code",
      "source": [
        "valid = False\n",
        "while not valid :\n",
        "  value = int ( input ( \" Please enter a positive value < 100 : \"))\n",
        "  if value > 0 and value < 100 :\n",
        "    valid = True\n",
        "  else:\n",
        "    print (\"Invalid input\")\n",
        "\n",
        "\n"
      ],
      "metadata": {
        "colab": {
          "base_uri": "https://localhost:8080/"
        },
        "id": "W9WxAVNFs4Pd",
        "outputId": "d50f2a20-5eb9-4949-c9d2-5b20784bb3a4"
      },
      "execution_count": 14,
      "outputs": [
        {
          "name": "stdout",
          "output_type": "stream",
          "text": [
            " Please enter a positive value < 100 : 110\n",
            "Invalid input\n",
            " Please enter a positive value < 100 : 20\n"
          ]
        }
      ]
    },
    {
      "cell_type": "code",
      "source": [
        "# find the max that we enter\n",
        "max =int(input ( \" Please enter num : \"))\n",
        "v= input (\"enter a value : \")\n",
        "while v != \"\" :\n",
        "  v = int(v)\n",
        "  if v > max :\n",
        "    max = v\n",
        "  v= input (\"enter a value : \")\n",
        "print (max)"
      ],
      "metadata": {
        "colab": {
          "base_uri": "https://localhost:8080/"
        },
        "id": "BakcmsVat5Zu",
        "outputId": "b8e3480c-8fb6-420a-9de0-cd84d145b026"
      },
      "execution_count": 27,
      "outputs": [
        {
          "output_type": "stream",
          "name": "stdout",
          "text": [
            " Please enter num : 9\n",
            "enter a value : 8\n",
            "enter a value : 7\n",
            "enter a value : \n",
            "9\n"
          ]
        }
      ]
    },
    {
      "cell_type": "code",
      "source": [
        "# find themin that we enter\n",
        "min =int(input ( \" Please enter num : \"))\n",
        "v= input (\"enter a value : \")\n",
        "while v != \"\" :\n",
        "  v = int(v)\n",
        "  if v  < min :\n",
        "    min = v\n",
        "  v= input (\"enter a value : \")\n",
        "print (min)"
      ],
      "metadata": {
        "colab": {
          "base_uri": "https://localhost:8080/"
        },
        "id": "wp2W0vlFyC3r",
        "outputId": "7cc12b1a-5057-40ed-8cd3-038d48e95ab3"
      },
      "execution_count": 30,
      "outputs": [
        {
          "output_type": "stream",
          "name": "stdout",
          "text": [
            " Please enter num : 9\n",
            "enter a value : 7\n",
            "enter a value : 6\n",
            "enter a value : \n",
            "6\n"
          ]
        }
      ]
    },
    {
      "cell_type": "markdown",
      "source": [
        "\n",
        " **Comparing Adjacent Value**"
      ],
      "metadata": {
        "id": "UT0tevZIyXDe"
      }
    },
    {
      "cell_type": "code",
      "source": [
        "value = int (input (\"Enter a value : \"))\n",
        "inputStr = input (\"Enter a value : \")\n",
        "while inputStr != \"\" :\n",
        "  previous = value\n",
        "  value = int (inputStr)\n",
        "  if value == previous :\n",
        "    print (\"Duplicate input \",value)\n",
        "  inputStr = input (\"Enter a value : \")"
      ],
      "metadata": {
        "colab": {
          "base_uri": "https://localhost:8080/"
        },
        "id": "mp0Dh2Q7yOYU",
        "outputId": "00bd1185-8883-4ac0-ce40-21ed9f2a987e"
      },
      "execution_count": 32,
      "outputs": [
        {
          "name": "stdout",
          "output_type": "stream",
          "text": [
            "Enter a value : 7\n",
            "Enter a value : 6\n",
            "Enter a value : 3\n",
            "Enter a value : 3\n",
            "Duplicate input  3\n",
            "Enter a value : \n"
          ]
        }
      ]
    },
    {
      "cell_type": "code",
      "source": [
        "stateName = \"IBREEZ\"\n",
        "for i in stateName :\n",
        "  print (i)"
      ],
      "metadata": {
        "colab": {
          "base_uri": "https://localhost:8080/"
        },
        "id": "o1PTGYm02rw0",
        "outputId": "8a62ec5b-aab3-407f-97c3-9f29f242dea6"
      },
      "execution_count": 33,
      "outputs": [
        {
          "output_type": "stream",
          "name": "stdout",
          "text": [
            "I\n",
            "B\n",
            "R\n",
            "E\n",
            "E\n",
            "Z\n"
          ]
        }
      ]
    },
    {
      "cell_type": "code",
      "source": [
        "for i in range(1,10):\n",
        "  print(i)"
      ],
      "metadata": {
        "colab": {
          "base_uri": "https://localhost:8080/"
        },
        "id": "f_29qe3P33EX",
        "outputId": "90aa858d-fc67-4e31-c30c-5841d24af30a"
      },
      "execution_count": 37,
      "outputs": [
        {
          "output_type": "stream",
          "name": "stdout",
          "text": [
            "1\n",
            "2\n",
            "3\n",
            "4\n",
            "5\n",
            "6\n",
            "7\n",
            "8\n",
            "9\n"
          ]
        }
      ]
    },
    {
      "cell_type": "code",
      "source": [
        "for i in range(1,10,2):\n",
        "  print(i)"
      ],
      "metadata": {
        "colab": {
          "base_uri": "https://localhost:8080/"
        },
        "id": "cShuAa3D3lqd",
        "outputId": "10199055-99c9-447b-f3ab-5b601ae6ba56"
      },
      "execution_count": 36,
      "outputs": [
        {
          "output_type": "stream",
          "name": "stdout",
          "text": [
            "1\n",
            "3\n",
            "5\n",
            "7\n",
            "9\n"
          ]
        }
      ]
    },
    {
      "cell_type": "code",
      "source": [
        "for i in range(10,1,-1):\n",
        "  print(i)"
      ],
      "metadata": {
        "colab": {
          "base_uri": "https://localhost:8080/"
        },
        "id": "89KGdtt9398K",
        "outputId": "fea1cbb5-87ff-48f1-ef50-90bb2c66a68b"
      },
      "execution_count": 40,
      "outputs": [
        {
          "output_type": "stream",
          "name": "stdout",
          "text": [
            "10\n",
            "9\n",
            "8\n",
            "7\n",
            "6\n",
            "5\n",
            "4\n",
            "3\n",
            "2\n"
          ]
        }
      ]
    },
    {
      "cell_type": "code",
      "source": [
        "rate = 0.05\n",
        "balanse = 10000\n",
        "year = 5\n",
        "\n",
        "for i in range(1,year+1) :\n",
        "  insterst =  balanse * rate\n",
        "  balanse = balanse + insterst\n",
        "  print(balanse)\n",
        "\n"
      ],
      "metadata": {
        "colab": {
          "base_uri": "https://localhost:8080/"
        },
        "id": "WnZD04P_4HdG",
        "outputId": "b89c40ae-75f7-4370-f7eb-35d45ed55fd2"
      },
      "execution_count": 47,
      "outputs": [
        {
          "output_type": "stream",
          "name": "stdout",
          "text": [
            "10500.0\n",
            "11025.0\n",
            "11576.25\n",
            "12155.0625\n",
            "12762.815625\n"
          ]
        }
      ]
    },
    {
      "cell_type": "markdown",
      "source": [
        "**- empty space mean same line**\n",
        "- print mean new line"
      ],
      "metadata": {
        "id": "Y1pWvNLJ7jor"
      }
    },
    {
      "cell_type": "markdown",
      "source": [
        "ineer and outter loop"
      ],
      "metadata": {
        "id": "jcZJm3LtH5EI"
      }
    },
    {
      "cell_type": "code",
      "source": [
        "print(f\"{'x^1':<6}{'x^2':<6}{'x^3':<6}{'x^4':<6}\")\n",
        "for x in range(1,5):\n",
        "  for n in range(1,5):\n",
        "    print (f\"{x**n:<6}\" , end=\" \")\n",
        "  print()"
      ],
      "metadata": {
        "colab": {
          "base_uri": "https://localhost:8080/"
        },
        "id": "vv-GmNm6743_",
        "outputId": "3a5ee1e2-acd6-4293-84e2-ee2dfa7f947e"
      },
      "execution_count": 60,
      "outputs": [
        {
          "output_type": "stream",
          "name": "stdout",
          "text": [
            "x^1   x^2   x^3   x^4   \n",
            "1      1      1      1      \n",
            "2      4      8      16     \n",
            "3      9      27     81     \n",
            "4      16     64     256    \n"
          ]
        }
      ]
    },
    {
      "cell_type": "code",
      "source": [
        "for i in range (3) :\n",
        "  for j in range (4):\n",
        "    print(\"*\", end=\" \")\n",
        "  print()"
      ],
      "metadata": {
        "colab": {
          "base_uri": "https://localhost:8080/"
        },
        "id": "9S4QYqXtK00Y",
        "outputId": "c33c982e-0076-48cc-872f-99622e1e6adc"
      },
      "execution_count": 58,
      "outputs": [
        {
          "output_type": "stream",
          "name": "stdout",
          "text": [
            "* * * * \n",
            "* * * * \n",
            "* * * * \n"
          ]
        }
      ]
    },
    {
      "cell_type": "code",
      "source": [
        "for i in range(4):\n",
        "  for j in range(i+1):\n",
        "    print(\"*\",end=\" \")\n",
        "  print()"
      ],
      "metadata": {
        "colab": {
          "base_uri": "https://localhost:8080/"
        },
        "id": "465Fd_SqMIFo",
        "outputId": "caf3c066-97b5-487d-9baa-e7d2e7bde0bd"
      },
      "execution_count": 61,
      "outputs": [
        {
          "output_type": "stream",
          "name": "stdout",
          "text": [
            "* \n",
            "* * \n",
            "* * * \n",
            "* * * * \n"
          ]
        }
      ]
    },
    {
      "cell_type": "code",
      "source": [
        "for i in range(4):\n",
        "  print(\" \" * (3 - i), end=\"\")  # Add spaces to shift stars to the right\n",
        "  for j in range(i + 1):\n",
        "    print(\"*\", end=\" \")\n",
        "  print()\n"
      ],
      "metadata": {
        "colab": {
          "base_uri": "https://localhost:8080/"
        },
        "id": "Qkr1lHqCMtWv",
        "outputId": "21507495-ed31-41d0-aef7-6ae27fc812ce"
      },
      "execution_count": 62,
      "outputs": [
        {
          "output_type": "stream",
          "name": "stdout",
          "text": [
            "   * \n",
            "  * * \n",
            " * * * \n",
            "* * * * \n"
          ]
        }
      ]
    },
    {
      "cell_type": "code",
      "source": [
        "for i in range(3):\n",
        "  for j in range(5):\n",
        "    if j % 2 == 1:\n",
        "      print(\"*\",end=\" \")\n",
        "    else:\n",
        "      print(\"_\",end=\" \")\n",
        "  print()"
      ],
      "metadata": {
        "colab": {
          "base_uri": "https://localhost:8080/"
        },
        "id": "9y0pzP4nM2mz",
        "outputId": "89f3aa0c-e120-446e-9d30-0d071a496d9b"
      },
      "execution_count": 63,
      "outputs": [
        {
          "output_type": "stream",
          "name": "stdout",
          "text": [
            "_ * _ * _ \n",
            "_ * _ * _ \n",
            "_ * _ * _ \n"
          ]
        }
      ]
    },
    {
      "cell_type": "code",
      "source": [
        "for i in range(3):\n",
        "  for j in range(5):\n",
        "    if i %2 == j % 2:\n",
        "      print(\"*\" , end=\"\")\n",
        "    else:\n",
        "      print(\"-\", end=\"\")\n",
        "  print()"
      ],
      "metadata": {
        "colab": {
          "base_uri": "https://localhost:8080/"
        },
        "id": "s-T-3htSODho",
        "outputId": "a41b1e3d-32a4-400f-ffa9-b56ba9bd7fde"
      },
      "execution_count": 67,
      "outputs": [
        {
          "output_type": "stream",
          "name": "stdout",
          "text": [
            "*-*-*\n",
            "-*-*-\n",
            "*-*-*\n"
          ]
        }
      ]
    },
    {
      "cell_type": "code",
      "source": [
        "for i in range(3):\n",
        "  for j in range(4):\n",
        "    print (\"[]\",end=\"\")\n",
        "  print()"
      ],
      "metadata": {
        "colab": {
          "base_uri": "https://localhost:8080/"
        },
        "id": "HQ2yZot8RnZ8",
        "outputId": "41f923f6-a3d7-49a0-f9e3-2a3df3f6dcd9"
      },
      "execution_count": 69,
      "outputs": [
        {
          "output_type": "stream",
          "name": "stdout",
          "text": [
            "[][][][]\n",
            "[][][][]\n",
            "[][][][]\n"
          ]
        }
      ]
    },
    {
      "cell_type": "code",
      "source": [
        "numExam = 3\n",
        "grade =[\n",
        "    [90,90,90],\n",
        "    [80,80,80],\n",
        "    [70,70,70]\n",
        "]\n",
        "for i in grade:\n",
        "  avg = sum(i) / numExam\n",
        "  print(avg)\n",
        "\n"
      ],
      "metadata": {
        "colab": {
          "base_uri": "https://localhost:8080/"
        },
        "id": "F_p90NLYSyme",
        "outputId": "331b3c51-97db-4d27-cbde-d2eedc6ccddc"
      },
      "execution_count": 75,
      "outputs": [
        {
          "output_type": "stream",
          "name": "stdout",
          "text": [
            "90.0\n",
            "80.0\n",
            "70.0\n"
          ]
        }
      ]
    },
    {
      "cell_type": "code",
      "source": [
        "\n",
        "numExams = int(input(\"Exams per student: \"))\n",
        "\n",
        "\n",
        "student = int(input(\"Number of students: \"))\n",
        "\n",
        "\n",
        "for s in range(student):\n",
        "    total = 0\n",
        "    for e in range(numExams):\n",
        "        total += int(input(f\"Student {s+1}, Exam {e+1}: \"))\n",
        "    print(f\"Average: {total / numExams}\")\n"
      ],
      "metadata": {
        "colab": {
          "base_uri": "https://localhost:8080/"
        },
        "id": "dMG1HjlJVVEk",
        "outputId": "5fed9472-b6a6-415c-95b0-e729de737036"
      },
      "execution_count": 82,
      "outputs": [
        {
          "output_type": "stream",
          "name": "stdout",
          "text": [
            "Exams per student: 3\n",
            "Number of students: 3\n",
            "Student 1, Exam 1: 90\n",
            "Student 1, Exam 2: 90\n",
            "Student 1, Exam 3: 90\n",
            "Average: 90.0\n",
            "Student 2, Exam 1: 80\n",
            "Student 2, Exam 2: 80\n",
            "Student 2, Exam 3: 80\n",
            "Average: 80.0\n",
            "Student 3, Exam 1: 70\n",
            "Student 3, Exam 2: 70\n",
            "Student 3, Exam 3: 70\n",
            "Average: 70.0\n"
          ]
        }
      ]
    },
    {
      "cell_type": "code",
      "source": [
        "def rec(l,w):\n",
        "  totalRec = l * w\n",
        "  return totalRec\n",
        "\n",
        "\n",
        "result1= rec(2,2)\n",
        "print(result1)"
      ],
      "metadata": {
        "colab": {
          "base_uri": "https://localhost:8080/"
        },
        "id": "tUi5qMn9oeSl",
        "outputId": "004c836a-89c8-483b-cc4b-60e07cd6d551"
      },
      "execution_count": 5,
      "outputs": [
        {
          "output_type": "stream",
          "name": "stdout",
          "text": [
            "4\n"
          ]
        }
      ]
    },
    {
      "cell_type": "code",
      "source": [
        "def main():\n",
        "  sum =0\n",
        "  for i in range(11):\n",
        "    square = i * i\n",
        "    sum += square\n",
        "  print(square,sum)\n",
        "\n",
        "main()\n"
      ],
      "metadata": {
        "colab": {
          "base_uri": "https://localhost:8080/"
        },
        "id": "H44i-HUGtN-R",
        "outputId": "7993f828-eb10-47ef-d645-c51a225b9875"
      },
      "execution_count": 9,
      "outputs": [
        {
          "output_type": "stream",
          "name": "stdout",
          "text": [
            "100 385\n"
          ]
        }
      ]
    },
    {
      "cell_type": "code",
      "source": [
        "balance = 10000\n",
        "def withdraw(amount):\n",
        "  global balance\n",
        "  if balance >= amount :\n",
        "    balance -= amount\n",
        "withdraw(350)\n",
        "print(balance)\n",
        "\n",
        "def diposit(amount):\n",
        "  global balance\n",
        "  balance += amount\n",
        "diposit(200)\n",
        "print(balance)"
      ],
      "metadata": {
        "colab": {
          "base_uri": "https://localhost:8080/"
        },
        "id": "ReU__4B9vZ7D",
        "outputId": "2c08d2fd-d8df-4c24-d828-1b17c9f9fc05"
      },
      "execution_count": 11,
      "outputs": [
        {
          "output_type": "stream",
          "name": "stdout",
          "text": [
            "9650\n",
            "9850\n"
          ]
        }
      ]
    },
    {
      "cell_type": "code",
      "source": [
        "#1\n",
        "def greet(name):\n",
        "  print (f\"Hello,{name}! welcome to python\")\n",
        "\n",
        "greet(\"Ibreez\")\n",
        "\n",
        "\n",
        "#2\n",
        "def add(a,b):\n",
        "  sum= a+ b\n",
        "  print (\"the sum :\",sum)\n",
        "\n",
        "add(2,2)\n",
        "\n",
        "#3\n",
        "\n",
        "def celsious_to_fahrenheit(celsius):\n",
        "    fahrenheit = (celsius * 9/5) + 32\n",
        "    # return fahrenheit\n",
        "    print(\"the fahrenheit :\",fahrenheit)\n",
        "\n",
        "celsious_to_fahrenheit(25)\n",
        "\n",
        "#4\n",
        "\n",
        "def square(num):\n",
        "  squ = num * num\n",
        "  print(\"the square is :\", squ)\n",
        "\n",
        "square(4)\n",
        "\n",
        "#5\n",
        "def is_even(intNum):\n",
        "  if intNum % 2 == 0:\n",
        "    return True\n",
        "  else:\n",
        "    return False\n",
        "\n",
        "result = is_even(5)\n",
        "print(result)"
      ],
      "metadata": {
        "colab": {
          "base_uri": "https://localhost:8080/"
        },
        "id": "oQJGGr4aymJh",
        "outputId": "2077646b-5dea-455b-bc20-5e0335564d30"
      },
      "execution_count": 25,
      "outputs": [
        {
          "output_type": "stream",
          "name": "stdout",
          "text": [
            "Hello,Ibreez! welcome to python\n",
            "the sum : 4\n",
            "the fahrenheit : 77.0\n",
            "the square is : 16\n",
            "False\n"
          ]
        }
      ]
    }
  ]
}