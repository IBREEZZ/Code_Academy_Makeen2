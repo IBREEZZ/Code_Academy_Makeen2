{
 "cells": [
  {
   "cell_type": "code",
   "execution_count": 2,
   "id": "bfb0faf9",
   "metadata": {},
   "outputs": [
    {
     "name": "stdout",
     "output_type": "stream",
     "text": [
      "Hi\n",
      "\n",
      "I am IBREEZ\n",
      "\n"
     ]
    }
   ],
   "source": [
    "infile = open (\"f1.txt\",\"r\")\n",
    "line= infile.readline()\n",
    "print(line)\n",
    "line= infile.readline()\n",
    "print(line)"
   ]
  },
  {
   "cell_type": "code",
   "execution_count": 3,
   "id": "ba64c7d7",
   "metadata": {},
   "outputs": [
    {
     "name": "stdout",
     "output_type": "stream",
     "text": [
      "Hi\n",
      "\n",
      "I am IBREEZ\n",
      "\n"
     ]
    }
   ],
   "source": [
    "infile = open (\"f1.txt\",\"r\")\n",
    "l = infile.readline()\n",
    "while l != \"\":\n",
    "    print(l)\n",
    "  #process the line\n",
    "    l = infile.readline()\n",
    "  "
   ]
  },
  {
   "cell_type": "code",
   "execution_count": 9,
   "id": "305f7174",
   "metadata": {},
   "outputs": [
    {
     "data": {
      "text/plain": [
       "5"
      ]
     },
     "execution_count": 9,
     "metadata": {},
     "output_type": "execute_result"
    }
   ],
   "source": [
    "outfile = open (\"file.txt\",\"w\")\n",
    "outfile.write(\"Hello\")\n",
    "outfile.write(\"World\")\n"
   ]
  },
  {
   "cell_type": "code",
   "execution_count": 10,
   "id": "630b09fa",
   "metadata": {},
   "outputs": [
    {
     "name": "stdout",
     "output_type": "stream",
     "text": [
      "HelloWorld\n"
     ]
    }
   ],
   "source": [
    "outfile = open (\"file.txt\",\"r\")\n",
    "line= outfile.readline()\n",
    "print(line)"
   ]
  },
  {
   "cell_type": "code",
   "execution_count": 11,
   "id": "3076ffa2",
   "metadata": {},
   "outputs": [],
   "source": [
    "outfile = open(\"file.txt\", \"a\")  # a = append\n",
    "print(\"\\nthis is second line\", file=outfile)\n",
    "outfile.close()\n"
   ]
  },
  {
   "cell_type": "code",
   "execution_count": null,
   "id": "5b9332dd",
   "metadata": {},
   "outputs": [],
   "source": [
    "newfile = open(\"exp1.txt\", \"r\")\n",
    "\n",
    "numbers = []\n",
    "for line in newfile:\n",
    "    numbers.append(float(line))\n",
    "\n",
    "newfile.close()\n",
    "\n",
    "total = sum(numbers)\n",
    "average = total / len(numbers)\n",
    "\n",
    "outfile = open(\"exp1.txt\", \"w\")\n",
    "for num in numbers:\n",
    "    outfile.write(f\"{num:.2f}\\n\")\n",
    "outfile.write(\"--------\\n\")\n",
    "outfile.write(f\"Total: {total:.2f}\\n\")\n",
    "outfile.write(f\"Average: {average:.2f}\\n\")\n",
    "outfile.close()\n"
   ]
  },
  {
   "cell_type": "code",
   "execution_count": 1,
   "id": "b1c71295",
   "metadata": {},
   "outputs": [
    {
     "name": "stdout",
     "output_type": "stream",
     "text": [
      "['H1', 'H2', 'H3']\n"
     ]
    }
   ],
   "source": [
    "#reading  word by word\n",
    "s=\"H1,H2,H3\"\n",
    "mylist = s.split(\",\")\n",
    "print(mylist)"
   ]
  },
  {
   "cell_type": "code",
   "execution_count": 3,
   "id": "e1de9b13",
   "metadata": {},
   "outputs": [
    {
     "name": "stdout",
     "output_type": "stream",
     "text": [
      "['H1,H2,H3']\n"
     ]
    }
   ],
   "source": [
    "s=\"H1,H2,H3\"\n",
    "mylist = s.split(\" \")\n",
    "print(mylist)"
   ]
  },
  {
   "cell_type": "code",
   "execution_count": 13,
   "id": "c721507d",
   "metadata": {},
   "outputs": [
    {
     "name": "stdout",
     "output_type": "stream",
     "text": [
      "bloom\n",
      "fragrance\n",
      "petals\n",
      "garden\n",
      "Blossom\n",
      "\n",
      "twilight\n",
      "hidden\n",
      "secret\n",
      "shadow\n",
      "Mystery\n",
      "\n",
      "friendship\n",
      "trust\n",
      "hope\n",
      "laughter\n",
      "Kindness\n",
      "\n",
      "horizon\n",
      "whisper\n",
      "breeze\n",
      "ocean\n",
      "Sunset\n",
      "\n",
      "passion\n",
      "dream\n",
      "journey\n",
      "courage\n",
      "Adventure\n"
     ]
    }
   ],
   "source": [
    "infile = open(\"text.txt\", \"r\")\n",
    "l = infile.readline()\n",
    "listword = []\n",
    "\n",
    "while l != \"\":\n",
    "    l = l.strip()  # remove \\n from the end\n",
    "    wordlist = l.split(\" \")  # split the line into words\n",
    "    listword.extend(wordlist)  # add the words to listword\n",
    "    l = infile.readline()  # move to the next line\n",
    "\n",
    "infile.close()\n",
    "\n",
    "# Now print words in reverse\n",
    "for word in reversed(listword):\n",
    "    print(word)\n"
   ]
  },
  {
   "cell_type": "code",
   "execution_count": 27,
   "id": "70213bcc",
   "metadata": {},
   "outputs": [
    {
     "name": "stdout",
     "output_type": "stream",
     "text": [
      "Ad\n",
      "ventu\n",
      "re co\n",
      "urage\n",
      " jour\n",
      "ney d\n",
      "ream \n",
      "passi\n",
      "on\n",
      "\n",
      "S\n",
      "unset\n",
      " ocea\n",
      "n bre\n",
      "eze w\n",
      "hispe\n",
      "r hor\n",
      "izon\n",
      "\n",
      "\n",
      "Kind\n",
      "ness \n",
      "laugh\n",
      "ter h\n",
      "ope t\n",
      "rust \n",
      "frien\n",
      "dship\n",
      "\n",
      "\n",
      "Mys\n",
      "tery \n",
      "shado\n",
      "w sec\n",
      "ret h\n",
      "idden\n",
      " twil\n",
      "ight\n",
      "\n",
      "\n",
      "Blos\n",
      "som g\n",
      "arden\n",
      " peta\n",
      "ls fr\n",
      "agran\n",
      "ce bl\n",
      "oom\n",
      "\n"
     ]
    }
   ],
   "source": [
    "infile = open(\"text.txt\", \"r\")\n",
    "char = infile.read(2)\n",
    "print(char)\n",
    "\n",
    "while char !=\"\":\n",
    "    char = infile.read(5)\n",
    "    print(char)"
   ]
  },
  {
   "cell_type": "code",
   "execution_count": 30,
   "id": "0e9780f3",
   "metadata": {},
   "outputs": [
    {
     "ename": "ValueError",
     "evalue": "Amount can not be more than balance",
     "output_type": "error",
     "traceback": [
      "\u001b[1;31m---------------------------------------------------------------------------\u001b[0m",
      "\u001b[1;31mValueError\u001b[0m                                Traceback (most recent call last)",
      "Cell \u001b[1;32mIn[30], line 6\u001b[0m\n\u001b[0;32m      3\u001b[0m balance \u001b[38;5;241m=\u001b[39m \u001b[38;5;241m200\u001b[39m\n\u001b[0;32m      5\u001b[0m \u001b[38;5;28;01mif\u001b[39;00m amount\u001b[38;5;241m>\u001b[39mbalance:\n\u001b[1;32m----> 6\u001b[0m     \u001b[38;5;28;01mraise\u001b[39;00m \u001b[38;5;167;01mValueError\u001b[39;00m(\u001b[38;5;124m\"\u001b[39m\u001b[38;5;124mAmount can not be more than balance\u001b[39m\u001b[38;5;124m\"\u001b[39m)\n\u001b[0;32m      8\u001b[0m balance \u001b[38;5;241m=\u001b[39m balance\u001b[38;5;241m-\u001b[39m amount\n",
      "\u001b[1;31mValueError\u001b[0m: Amount can not be more than balance"
     ]
    }
   ],
   "source": [
    "#exceptions handling\n",
    "amount = 500\n",
    "balance = 200\n",
    "\n",
    "if amount>balance:\n",
    "    raise ValueError(\"Amount can not be more than balance\")\n",
    "    \n",
    "balance = balance- amount\n"
   ]
  },
  {
   "cell_type": "code",
   "execution_count": 35,
   "id": "9056b0d6",
   "metadata": {},
   "outputs": [
    {
     "name": "stdout",
     "output_type": "stream",
     "text": [
      "Enter file name : text.txt\n",
      "Error: invalid literal for int() with base 10: 'Adventure courage journey dream passion\\n'\n"
     ]
    }
   ],
   "source": [
    "try:\n",
    "    filename = input(\"Enter file name : \")\n",
    "    infile = open(filename, \"r\")\n",
    "    line = infile.readline()\n",
    "    value = int(line)\n",
    "    \n",
    "except IOError :\n",
    "    print(\"Error: File not found.\")\n",
    "except ValueError as exception :\n",
    "    print(\"Error:\" , str(exception))\n",
    "    "
   ]
  },
  {
   "cell_type": "code",
   "execution_count": 36,
   "id": "ab75993c",
   "metadata": {},
   "outputs": [
    {
     "ename": "NameError",
     "evalue": "name 'writeData' is not defined",
     "output_type": "error",
     "traceback": [
      "\u001b[1;31m---------------------------------------------------------------------------\u001b[0m",
      "\u001b[1;31mNameError\u001b[0m                                 Traceback (most recent call last)",
      "Cell \u001b[1;32mIn[36], line 3\u001b[0m\n\u001b[0;32m      1\u001b[0m outfile \u001b[38;5;241m=\u001b[39m \u001b[38;5;28mopen\u001b[39m(\u001b[38;5;124m\"\u001b[39m\u001b[38;5;124mtext.txt\u001b[39m\u001b[38;5;124m\"\u001b[39m, \u001b[38;5;124m\"\u001b[39m\u001b[38;5;124mw\u001b[39m\u001b[38;5;124m\"\u001b[39m)\n\u001b[0;32m      2\u001b[0m \u001b[38;5;28;01mtry\u001b[39;00m:\n\u001b[1;32m----> 3\u001b[0m     writeData(outfile)\n\u001b[0;32m      5\u001b[0m \u001b[38;5;28;01mfinally\u001b[39;00m:\n\u001b[0;32m      6\u001b[0m     outfile\u001b[38;5;241m.\u001b[39mclose()\n",
      "\u001b[1;31mNameError\u001b[0m: name 'writeData' is not defined"
     ]
    }
   ],
   "source": [
    "outfile = open(\"text.txt\", \"w\")\n",
    "try:\n",
    "    writeData(outfile)\n",
    "    \n",
    "finally:\n",
    "    outfile.close()"
   ]
  },
  {
   "cell_type": "code",
   "execution_count": null,
   "id": "46c90c4d",
   "metadata": {},
   "outputs": [],
   "source": [
    "def divide_numbers():\n",
    "   try:\n",
    "       num1 = float(input(\"Enter the first number: \"))\n",
    "       num2 = float(input(\"Enter the second number: \"))\n",
    "       result = num1 / num2\n",
    "       print(\"Result:\", result)\n",
    "   except ValueError:\n",
    "       print(\"Invalid input. Please enter a number.\")\n",
    "   except ZeroDivisionError:\n",
    "       print(\"Cannot divide by zero.\")\n",
    "   finally:\n",
    "       print(\"Calculation completed.\")\n",
    "# Call the function\n",
    "divide_numbers()\n",
    "\n",
    "\n"
   ]
  },
  {
   "cell_type": "code",
   "execution_count": 37,
   "id": "6e6693e8",
   "metadata": {},
   "outputs": [],
   "source": [
    "def writeData(outfile):\n",
    "    outfile.write(\"Hello, this is a test!\\n\")\n",
    "    outfile.write(\"Writing more data...\\n\")\n",
    "\n",
    "outfile = open(\"text.txt\", \"w\")\n",
    "try:\n",
    "    writeData(outfile)\n",
    "finally:\n",
    "    outfile.close()\n"
   ]
  },
  {
   "cell_type": "code",
   "execution_count": 43,
   "id": "a44e2191",
   "metadata": {},
   "outputs": [
    {
     "name": "stdout",
     "output_type": "stream",
     "text": [
      "Enter the number1: 9\n",
      "Enter the number2: 0\n",
      " divide by zero not allowed\n",
      "Calculation completed\n"
     ]
    }
   ],
   "source": [
    "def divide_numbers():\n",
    "    try:\n",
    "        n1 = float(input(\"Enter the number1: \"))\n",
    "        n2 = float(input(\"Enter the number2: \"))\n",
    "        divide= n1/n2\n",
    "        print(divide)\n",
    "    except ValueError:\n",
    "        print(\"Input is Invalid\")\n",
    "    except ZeroDivisionError:\n",
    "        print(\" divide by zero not allowed\")\n",
    "    finally:\n",
    "        print(\"Calculation completed\")\n",
    "        \n",
    "        \n",
    "divide_numbers()\n",
    "    \n",
    "    "
   ]
  },
  {
   "cell_type": "code",
   "execution_count": null,
   "id": "aae2adc6",
   "metadata": {},
   "outputs": [],
   "source": []
  }
 ],
 "metadata": {
  "kernelspec": {
   "display_name": "Python 3 (ipykernel)",
   "language": "python",
   "name": "python3"
  },
  "language_info": {
   "codemirror_mode": {
    "name": "ipython",
    "version": 3
   },
   "file_extension": ".py",
   "mimetype": "text/x-python",
   "name": "python",
   "nbconvert_exporter": "python",
   "pygments_lexer": "ipython3",
   "version": "3.11.4"
  }
 },
 "nbformat": 4,
 "nbformat_minor": 5
}
