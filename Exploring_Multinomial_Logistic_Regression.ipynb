{
  "nbformat": 4,
  "nbformat_minor": 0,
  "metadata": {
    "colab": {
      "provenance": [],
      "authorship_tag": "ABX9TyMrlYwTgKRPWkSRy3OQDcb8",
      "include_colab_link": true
    },
    "kernelspec": {
      "name": "python3",
      "display_name": "Python 3"
    },
    "language_info": {
      "name": "python"
    }
  },
  "cells": [
    {
      "cell_type": "markdown",
      "metadata": {
        "id": "view-in-github",
        "colab_type": "text"
      },
      "source": [
        "<a href=\"https://colab.research.google.com/github/IBREEZZ/Code_Academy_Makeen2/blob/main/Exploring_Multinomial_Logistic_Regression.ipynb\" target=\"_parent\"><img src=\"https://colab.research.google.com/assets/colab-badge.svg\" alt=\"Open In Colab\"/></a>"
      ]
    },
    {
      "cell_type": "markdown",
      "source": [
        "# **Task 1**"
      ],
      "metadata": {
        "id": "GbpLFrMbKmmC"
      }
    },
    {
      "cell_type": "code",
      "execution_count": 5,
      "metadata": {
        "colab": {
          "base_uri": "https://localhost:8080/",
          "height": 591
        },
        "id": "Qgn6T5ASBarK",
        "outputId": "53b39573-2312-43db-bc2a-888494616ab2"
      },
      "outputs": [
        {
          "output_type": "stream",
          "name": "stdout",
          "text": [
            "Task 1: Class Distribution\n",
            "G3_cat\n",
            "Medium    418\n",
            "High      131\n",
            "Low       100\n",
            "Name: count, dtype: int64\n"
          ]
        },
        {
          "output_type": "display_data",
          "data": {
            "text/plain": [
              "<Figure size 640x480 with 1 Axes>"
            ],
            "image/png": "[encoded data removed]"
          },
          "metadata": {}
        }
      ],
      "source": [
        "import pandas as pd\n",
        "import seaborn as sns\n",
        "import matplotlib.pyplot as plt\n",
        "\n",
        "# Load dataset with the correct delimiter\n",
        "df = pd.read_csv(\"/content/student-por.csv\", delimiter=';')\n",
        "\n",
        "# Recode G3 into Low (0–9), Medium (10–14), High (15–20)\n",
        "def recode_g3(grade):\n",
        "    if grade <= 9:\n",
        "        return 'Low'\n",
        "    elif grade <= 14:\n",
        "        return 'Medium'\n",
        "    else:\n",
        "        return 'High'\n",
        "\n",
        "df['G3_cat'] = df['G3'].apply(recode_g3)\n",
        "\n",
        "# Show the number of observations in each category\n",
        "print(\"Task 1: Class Distribution\")\n",
        "print(df['G3_cat'].value_counts())\n",
        "\n",
        "# Plot: absences by G3 category\n",
        "sns.boxplot(data=df, x='G3_cat', y='absences')\n",
        "plt.title('Absences by Final Grade Category')\n",
        "plt.xlabel('G3 Category')\n",
        "plt.ylabel('Number of Absences')\n",
        "plt.tight_layout()\n",
        "plt.savefig(\"absences_boxplot.png\")\n",
        "plt.show()\n"
      ]
    },
    {
      "cell_type": "markdown",
      "source": [
        "# **Task 2**"
      ],
      "metadata": {
        "id": "fxEia9X0Kq3t"
      }
    },
    {
      "cell_type": "code",
      "source": [
        "from sklearn.linear_model import LogisticRegression\n",
        "from sklearn.model_selection import train_test_split\n",
        "from sklearn.preprocessing import LabelEncoder\n",
        "\n",
        "# Select predictors\n",
        "X = df[['studytime', 'failures', 'absences', 'age']]\n",
        "y = df['G3_cat']\n",
        "\n",
        "# Encode target labels\n",
        "le = LabelEncoder()\n",
        "y_encoded = le.fit_transform(y)\n",
        "\n",
        "# Split into train/test sets\n",
        "X_train, X_test, y_train, y_test = train_test_split(X, y_encoded, random_state=42)\n",
        "\n",
        "# Fit multinomial logistic regression model\n",
        "model = LogisticRegression(multi_class='multinomial', solver='lbfgs', max_iter=1000)\n",
        "model.fit(X_train, y_train)\n",
        "\n",
        "# Baseline category\n",
        "baseline_category = le.inverse_transform([model.classes_[0]])[0]\n",
        "print(\"\\nTask 2: Baseline category used:\", baseline_category)\n"
      ],
      "metadata": {
        "colab": {
          "base_uri": "https://localhost:8080/"
        },
        "id": "d5dKoc4uIOvw",
        "outputId": "4717961e-307d-411a-ce5f-eb754ec83a75"
      },
      "execution_count": 6,
      "outputs": [
        {
          "output_type": "stream",
          "name": "stdout",
          "text": [
            "\n",
            "Task 2: Baseline category used: High\n"
          ]
        },
        {
          "output_type": "stream",
          "name": "stderr",
          "text": [
            "/usr/local/lib/python3.11/dist-packages/sklearn/linear_model/_logistic.py:1247: FutureWarning: 'multi_class' was deprecated in version 1.5 and will be removed in 1.7. From then on, it will always use 'multinomial'. Leave it to its default value to avoid this warning.\n",
            "  warnings.warn(\n"
          ]
        }
      ]
    },
    {
      "cell_type": "markdown",
      "source": [
        "# **Task 3**"
      ],
      "metadata": {
        "id": "92rDiIouKzUU"
      }
    },
    {
      "cell_type": "code",
      "source": [
        "# Interpret the coefficient for 'absences' in Medium vs High\n",
        "absences_index = list(X.columns).index('absences')\n",
        "coef_medium_vs_high = model.coef_[1][absences_index]\n",
        "\n",
        "print(f\"\\nTask 3: Coefficient for 'absences' (Medium vs High): {coef_medium_vs_high:.3f}\")\n",
        "\n",
        "# Interpretation:\n",
        "# A positive coefficient means more absences increase the odds of being Medium vs High\n"
      ],
      "metadata": {
        "colab": {
          "base_uri": "https://localhost:8080/"
        },
        "id": "a2etna-dKzBQ",
        "outputId": "c1915075-2900-467d-c0ec-327b2b6cedd2"
      },
      "execution_count": 7,
      "outputs": [
        {
          "output_type": "stream",
          "name": "stdout",
          "text": [
            "\n",
            "Task 3: Coefficient for 'absences' (Medium vs High): 0.027\n"
          ]
        }
      ]
    },
    {
      "cell_type": "markdown",
      "source": [
        "# **Task 4**"
      ],
      "metadata": {
        "id": "sJhMjLbqLDES"
      }
    },
    {
      "cell_type": "code",
      "source": [
        "from sklearn.metrics import confusion_matrix, accuracy_score\n",
        "\n",
        "# Predict and evaluate\n",
        "y_pred = model.predict(X_test)\n",
        "conf_matrix = confusion_matrix(y_test, y_pred)\n",
        "accuracy = accuracy_score(y_test, y_pred)\n",
        "\n",
        "print(\"\\nTask 4: Confusion Matrix\")\n",
        "print(conf_matrix)\n",
        "\n",
        "print(f\"\\nTask 4: Overall Accuracy = {accuracy:.2f}\")\n"
      ],
      "metadata": {
        "colab": {
          "base_uri": "https://localhost:8080/"
        },
        "id": "rAcW50K9Kyu2",
        "outputId": "73d2b4ca-bb64-4ff2-dfb0-60948a549133"
      },
      "execution_count": 8,
      "outputs": [
        {
          "output_type": "stream",
          "name": "stdout",
          "text": [
            "\n",
            "Task 4: Confusion Matrix\n",
            "[[  0   0  38]\n",
            " [  0   4  16]\n",
            " [  0   2 103]]\n",
            "\n",
            "Task 4: Overall Accuracy = 0.66\n"
          ]
        }
      ]
    },
    {
      "cell_type": "markdown",
      "source": [
        "# **Task 5**"
      ],
      "metadata": {
        "id": "OmyxaRd5LJWL"
      }
    },
    {
      "cell_type": "markdown",
      "source": [
        "We analyzed the UCI Student Performance dataset using a multinomial logistic regression model.\n",
        "After recoding the final grade (G3) into three categories, we used four predictors (studytime, failures, absences, age).\n",
        "The model achieved approximately 63% accuracy, and absences had a positive effect on the odds of being Medium vs High.\n",
        "The model reasonably captured student performance trends, though there is room for improvement."
      ],
      "metadata": {
        "id": "hN_Ta45ULT60"
      }
    }
  ]
}