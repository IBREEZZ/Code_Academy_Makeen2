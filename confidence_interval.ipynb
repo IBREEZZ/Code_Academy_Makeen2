{
  "nbformat": 4,
  "nbformat_minor": 0,
  "metadata": {
    "colab": {
      "provenance": [],
      "authorship_tag": "ABX9TyPmFEeuICYmAi56D2ru8gf7",
      "include_colab_link": true
    },
    "kernelspec": {
      "name": "python3",
      "display_name": "Python 3"
    },
    "language_info": {
      "name": "python"
    }
  },
  "cells": [
    {
      "cell_type": "markdown",
      "metadata": {
        "id": "view-in-github",
        "colab_type": "text"
      },
      "source": [
        "<a href=\"https://colab.research.google.com/github/IBREEZZ/Code_Academy_Makeen2/blob/main/confidence_interval.ipynb\" target=\"_parent\"><img src=\"https://colab.research.google.com/assets/colab-badge.svg\" alt=\"Open In Colab\"/></a>"
      ]
    },
    {
      "cell_type": "code",
      "source": [
        "from scipy.stats import norm\n",
        "\n",
        "# For 95% confidence level (two-tailed), use 0.975\n",
        "z_value = norm.ppf(0.975)\n",
        "\n",
        "print(f\"Z-value for 95% confidence interval: {z_value:.2f}\")\n"
      ],
      "metadata": {
        "colab": {
          "base_uri": "https://localhost:8080/"
        },
        "id": "_QjsEfQ_yGTQ",
        "outputId": "fcdf64fb-e69e-4b3c-f95d-208ff5c12ccc"
      },
      "execution_count": 3,
      "outputs": [
        {
          "output_type": "stream",
          "name": "stdout",
          "text": [
            "Z-value for 95% confidence interval: 1.96\n"
          ]
        }
      ]
    },
    {
      "cell_type": "code",
      "execution_count": 6,
      "metadata": {
        "colab": {
          "base_uri": "https://localhost:8080/"
        },
        "id": "Xr0PYVJaZHE1",
        "outputId": "fff50f8d-9f0f-42d7-bbee-1ed7decd1304"
      },
      "outputs": [
        {
          "output_type": "stream",
          "name": "stdout",
          "text": [
            "Z-value for 95% confidence interval: 1.96\n",
            "95% Confidence Interval: (2.842, 3.558)\n"
          ]
        }
      ],
      "source": [
        "from scipy.stats import norm\n",
        "import math\n",
        "\n",
        "# values\n",
        "confidence = 0.95\n",
        "std_dev = 1          # population standard deviation\n",
        "sample_size = 30\n",
        "sample_mean = 3.2\n",
        "\n",
        "z_value = norm.ppf(0.975)\n",
        "print(f\"Z-value for 95% confidence interval: {z_value:.2f}\")\n",
        "\n",
        "# margin of error\n",
        "margin_of_error = z_value * (std_dev / math.sqrt(sample_size))\n",
        "\n",
        "# confidence interval\n",
        "lower_bound = sample_mean - margin_of_error\n",
        "upper_bound = sample_mean + margin_of_error\n",
        "\n",
        "print(f\"95% Confidence Interval: ({lower_bound:.3f}, {upper_bound:.3f})\")\n"
      ]
    }
  ]
}