{
  "nbformat": 4,
  "nbformat_minor": 0,
  "metadata": {
    "colab": {
      "provenance": []
    },
    "kernelspec": {
      "name": "python3",
      "display_name": "Python 3"
    },
    "language_info": {
      "name": "python"
    }
  },
  "cells": [
    {
      "cell_type": "markdown",
      "source": [
        "\n",
        "#**Day 1**"
      ],
      "metadata": {
        "id": "NsWmE4FcwRTh"
      }
    },
    {
      "cell_type": "code",
      "execution_count": 1,
      "metadata": {
        "id": "bxTNJNgPtamt"
      },
      "outputs": [],
      "source": [
        "#candles list\n",
        "candles=[4,1,4,3]\n"
      ]
    },
    {
      "cell_type": "code",
      "source": [
        "#find the tallest candles\n",
        "tallest=max(candles)\n",
        "print(tallest)"
      ],
      "metadata": {
        "colab": {
          "base_uri": "https://localhost:8080/"
        },
        "id": "0XkQMhFrtn3I",
        "outputId": "34d44515-8bac-467d-fe32-fa17f7653d78"
      },
      "execution_count": 3,
      "outputs": [
        {
          "output_type": "stream",
          "name": "stdout",
          "text": [
            "4\n"
          ]
        }
      ]
    },
    {
      "cell_type": "code",
      "source": [
        "#count the total num of tallest candles\n",
        "num_tallest=candles.count(tallest)\n",
        "print(num_tallest)"
      ],
      "metadata": {
        "colab": {
          "base_uri": "https://localhost:8080/"
        },
        "id": "QDLA7L9tt29a",
        "outputId": "05b3f8bf-d7c5-4cf8-c805-274de20c4260"
      },
      "execution_count": 4,
      "outputs": [
        {
          "output_type": "stream",
          "name": "stdout",
          "text": [
            "2\n"
          ]
        }
      ]
    }
  ]
}