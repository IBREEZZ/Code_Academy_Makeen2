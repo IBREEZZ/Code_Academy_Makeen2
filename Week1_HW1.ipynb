{
  "nbformat": 4,
  "nbformat_minor": 0,
  "metadata": {
    "colab": {
      "provenance": [],
      "authorship_tag": "ABX9TyPNFePPleNA5tILZZxa0l/I",
      "include_colab_link": true
    },
    "kernelspec": {
      "name": "python3",
      "display_name": "Python 3"
    },
    "language_info": {
      "name": "python"
    }
  },
  "cells": [
    {
      "cell_type": "markdown",
      "metadata": {
        "id": "view-in-github",
        "colab_type": "text"
      },
      "source": [
        "<a href=\"https://colab.research.google.com/github/IBREEZZ/Problem_Solving/blob/main/Week1_HW1.ipynb\" target=\"_parent\"><img src=\"https://colab.research.google.com/assets/colab-badge.svg\" alt=\"Open In Colab\"/></a>"
      ]
    },
    {
      "cell_type": "markdown",
      "source": [
        "# **Problem 1**\n",
        "\n"
      ],
      "metadata": {
        "id": "sJDFUSoUBdpd"
      }
    },
    {
      "cell_type": "markdown",
      "source": [
        "Problem Statement:\n",
        "Write a Python program to declare three variables:\n",
        "1. `name` (a string),\n",
        "2. `age` (an integer),\n",
        "3. `height` (a float).\n",
        "- Print their values in the following format:\n",
        "-- Hello, my name is [name]. I am [age] years old and my height is [height] meters."
      ],
      "metadata": {
        "id": "5Dtij8rSF40G"
      }
    },
    {
      "cell_type": "code",
      "execution_count": 1,
      "metadata": {
        "colab": {
          "base_uri": "https://localhost:8080/"
        },
        "id": "yKjD0lUk_4bR",
        "outputId": "8872457f-6b93-4367-9f0c-764826cd1065"
      },
      "outputs": [
        {
          "output_type": "stream",
          "name": "stdout",
          "text": [
            "Hello, my name is IBREEZ. I am 23 years old and my height is 166.0 meters. \n"
          ]
        }
      ],
      "source": [
        "name=\"IBREEZ\"\n",
        "age=23\n",
        "height=166.0\n",
        "\n",
        "print(f\"Hello, my name is {name}. I am {age} years old and my height is {height} meters. \")"
      ]
    },
    {
      "cell_type": "markdown",
      "source": [
        "# **Problem 2**"
      ],
      "metadata": {
        "id": "aqFODfZFCAFI"
      }
    },
    {
      "cell_type": "markdown",
      "source": [
        "- Problem Statement:\n",
        " Write a Python program that takes two numbers as input from the user and\n",
        "performs the following operations:\n",
        "1. Adds them.\n",
        "2. Subtracts the second number from the first.\n",
        "3. Multiplies them.\n",
        "4. Divides the first number by the second.\n"
      ],
      "metadata": {
        "id": "o89zmKiLGFx4"
      }
    },
    {
      "cell_type": "code",
      "source": [
        "num1=float(input(\"Enter the first number: \"))\n",
        "num2=float(input(\"Enter the second number: \"))\n",
        "\n",
        "add= num1+num2\n",
        "sub= num1-num2\n",
        "mul= num1*num2\n",
        "div= num1/num2\n",
        "\n",
        "print(f\"Addition: {add}\")\n",
        "print(f\"Subtraction: {sub}\")\n",
        "print(f\"Multiplication: {mul}\")\n",
        "print(f\"Division: {div}\")\n"
      ],
      "metadata": {
        "colab": {
          "base_uri": "https://localhost:8080/"
        },
        "id": "yO61M6SsCcD_",
        "outputId": "4dc68970-9b20-45ef-ac73-f71f443daf1e"
      },
      "execution_count": 2,
      "outputs": [
        {
          "output_type": "stream",
          "name": "stdout",
          "text": [
            "Enter the first number: 10\n",
            "Enter the second number: 5\n",
            "Addition: 15.0\n",
            "Subtraction: 5.0\n",
            "Multiplication: 50.0\n",
            "Division: 2.0\n"
          ]
        }
      ]
    },
    {
      "cell_type": "markdown",
      "source": [
        "# **Problem 3**"
      ],
      "metadata": {
        "id": "sKYQS0DTEGsn"
      }
    },
    {
      "cell_type": "markdown",
      "source": [
        "- Problem Statement: Write a Python program that assigns the following values to variables:\n",
        " - An integer value to `a`,\n",
        " - A floating-point value to `b`,\n",
        " - A string value to `c`."
      ],
      "metadata": {
        "id": "nJfZ0rfJGQ13"
      }
    },
    {
      "cell_type": "code",
      "source": [
        "a= 3\n",
        "b= 3.5\n",
        "c=\"Hello\"\n",
        "\n",
        "print(f'The type of variable a is {type(a)}')\n",
        "print(f'The type of variable b is {type(b)}')\n",
        "print(f'The type of variable c is {type(c)}')"
      ],
      "metadata": {
        "colab": {
          "base_uri": "https://localhost:8080/"
        },
        "id": "X5KPGQNDETYT",
        "outputId": "70b6ecef-fec9-4462-ead9-7998bfcd9792"
      },
      "execution_count": 4,
      "outputs": [
        {
          "output_type": "stream",
          "name": "stdout",
          "text": [
            "The type of variable a is <class 'int'>\n",
            "The type of variable b is <class 'float'>\n",
            "The type of variable c is <class 'str'>\n"
          ]
        }
      ]
    },
    {
      "cell_type": "markdown",
      "source": [
        "# **Problem 4**"
      ],
      "metadata": {
        "id": "CkxePFYoFKbz"
      }
    },
    {
      "cell_type": "markdown",
      "source": [
        "Problem Statement:\n",
        " Write a Python program to calculate the area of a rectangle.\n",
        " - Assign values to `length` and `width` variables.\n",
        " - Calculate the area using the formula: `area = length * width`.\n",
        " - Print the result."
      ],
      "metadata": {
        "id": "pT2IevpdGewF"
      }
    },
    {
      "cell_type": "code",
      "source": [
        "\n",
        "length = 10\n",
        "width = 5\n",
        "\n",
        "area = length * width\n",
        "\n",
        "print(\"The area of the rectangle is:\", area)\n"
      ],
      "metadata": {
        "colab": {
          "base_uri": "https://localhost:8080/"
        },
        "id": "wsIcY7U-FBhG",
        "outputId": "7de507a6-d27e-4153-f9fe-d3994b86d791"
      },
      "execution_count": 5,
      "outputs": [
        {
          "output_type": "stream",
          "name": "stdout",
          "text": [
            "The area of the rectangle is: 50\n"
          ]
        }
      ]
    },
    {
      "cell_type": "markdown",
      "source": [
        "# **Problem 5**"
      ],
      "metadata": {
        "id": "ZX5DZOuuFM1W"
      }
    },
    {
      "cell_type": "markdown",
      "source": [
        "Problem Statement:\n",
        "Write a Python program to calculate the simple interest using the formula:\n",
        "Simple Interest = (P * R * T) / 100\n",
        " Where:\n",
        " - `P` is the principal amount.\n",
        " - `R` is the rate of interest.\n",
        " - `T` is the time in years.\n",
        "Take values for `P`, `R`, and `T` as input from the user and print the calculated\n",
        "simple interest."
      ],
      "metadata": {
        "id": "t9biEuJ7GlGx"
      }
    },
    {
      "cell_type": "code",
      "source": [
        "P = float(input(\"Enter the principal amount (P): \"))\n",
        "R = float(input(\"Enter the rate of interest (R): \"))\n",
        "T = float(input(\"Enter the time in years (T): \"))\n",
        "\n",
        "simple_interest = (P * R * T) / 100\n",
        "\n",
        "print(\"The Simple Interest is:\", simple_interest)\n"
      ],
      "metadata": {
        "colab": {
          "base_uri": "https://localhost:8080/"
        },
        "id": "VUgDPK84FSz9",
        "outputId": "6a12641e-dd0e-455c-c04d-d605ac00fd9d"
      },
      "execution_count": 6,
      "outputs": [
        {
          "output_type": "stream",
          "name": "stdout",
          "text": [
            "Enter the principal amount (P): 1000\n",
            "Enter the rate of interest (R): 5\n",
            "Enter the time in years (T): 2\n",
            "The Simple Interest is: 100.0\n"
          ]
        }
      ]
    }
  ]
}